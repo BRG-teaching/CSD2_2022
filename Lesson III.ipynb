{
 "cells": [
  {
   "cell_type": "markdown",
   "id": "d08a3547-e1ca-405e-ac25-a7456ff74301",
   "metadata": {},
   "source": [
    "# Computational Structural Design II\n",
    "\n",
    "### Learning Goal: \n",
    "- TEST: VIEWER"
   ]
  },
  {
   "cell_type": "code",
   "execution_count": 9,
   "id": "975e6345-d665-455e-a371-003d209f512a",
   "metadata": {},
   "outputs": [],
   "source": [
    "# ==============================================================================\n",
    "# Import\n",
    "# ==============================================================================\n",
    "import os\n",
    "from compas.datastructures import Mesh\n",
    "\n",
    "# ==============================================================================\n",
    "# Unserialization\n",
    "# ==============================================================================\n",
    "HERE = os.getcwd()\n",
    "FILE = os.path.join(HERE, 'data', 'cablenet.json')\n",
    "cablenet_mesh = Mesh.from_json(FILE)\n",
    "\n",
    "# ==============================================================================\n",
    "# Update Vertex Attribute\n",
    "# ==============================================================================\n",
    "for vkey in cablenet_mesh.vertices_where({'x': 10}):\n",
    "    if cablenet_mesh.is_vertex_on_boundary(vkey) is False:\n",
    "        cablenet_mesh.vertex_attribute(vkey, 'z', 10)"
   ]
  },
  {
   "cell_type": "code",
   "execution_count": 10,
   "id": "217ee3aa-3a69-459f-9bc9-71539389e751",
   "metadata": {},
   "outputs": [
    {
     "name": "stdout",
     "output_type": "stream",
     "text": [
      "<Mesh with 36 vertices, 25 faces, 60 edges>\n"
     ]
    }
   ],
   "source": [
    "print(cablenet_mesh)"
   ]
  },
  {
   "cell_type": "code",
   "execution_count": 11,
   "id": "63bd667d-5735-462c-913d-ade01c6cd8c9",
   "metadata": {},
   "outputs": [],
   "source": [
    "from compas_view2.app import App\n",
    "viewer = App()\n",
    "viewer.add(cablenet_mesh)\n",
    "viewer.run()"
   ]
  },
  {
   "cell_type": "code",
   "execution_count": null,
   "id": "e9dba67d-20cf-484f-8fed-a751d83d95c9",
   "metadata": {},
   "outputs": [],
   "source": []
  }
 ],
 "metadata": {
  "kernelspec": {
   "display_name": "Python 3 (ipykernel)",
   "language": "python",
   "name": "python3"
  },
  "language_info": {
   "codemirror_mode": {
    "name": "ipython",
    "version": 3
   },
   "file_extension": ".py",
   "mimetype": "text/x-python",
   "name": "python",
   "nbconvert_exporter": "python",
   "pygments_lexer": "ipython3",
   "version": "3.8.12"
  }
 },
 "nbformat": 4,
 "nbformat_minor": 5
}
