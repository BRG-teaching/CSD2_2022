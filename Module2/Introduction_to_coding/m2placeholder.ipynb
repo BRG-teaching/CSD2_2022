{
 "cells": [
  {
   "cell_type": "code",
   "execution_count": null,
   "metadata": {},
   "outputs": [],
   "source": [
    "t = 'test'\n",
    "print(t)"
   ]
  }
 ],
 "metadata": {
  "interpreter": {
   "hash": "767b8e31c1eec9ef327cc27a2a5d7df98b41c7cbc989a566ef8d39dcc483faec"
  },
  "kernelspec": {
   "display_name": "Python 3.9.9 64-bit ('csd2': conda)",
   "language": "python",
   "name": "python3"
  },
  "language_info": {
   "name": "python",
   "version": "3.9.9"
  },
  "orig_nbformat": 4
 },
 "nbformat": 4,
 "nbformat_minor": 2
}
