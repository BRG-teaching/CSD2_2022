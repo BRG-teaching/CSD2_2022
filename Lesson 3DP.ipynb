{
 "cells": [
  {
   "cell_type": "markdown",
   "id": "d08a3547-e1ca-405e-ac25-a7456ff74301",
   "metadata": {},
   "source": [
    "# Computational Structural Design II\n",
    "\n",
    "### Learning Goal: \n",
    "- "
   ]
  },
  {
   "cell_type": "markdown",
   "id": "92417dd8",
   "metadata": {},
   "source": [
    "## Statrius\n",
    "![statrius_1](img/statrius_1.jpeg) <br/>\n",
    "Stratius – Credit: blockresearchgroup and zhcode"
   ]
  },
  {
   "cell_type": "markdown",
   "id": "43d779bc",
   "metadata": {},
   "source": [
    "# A. Generating Blocks\n",
    "- [A. RV2 Pattern from Skeleton](#Step_A)\n",
    "- "
   ]
  },
  {
   "cell_type": "markdown",
   "id": "d5ea3491",
   "metadata": {},
   "source": [
    "## A0. RV2 Pattern from Skeleton\n",
    "<a id='Step_A'></a>\n",
    "Form finding in RV2, load mesh <br/>\n",
    "\n",
    "![000](img/3dp_000.png) ![001](img/3dp_001.png)"
   ]
  },
  {
   "cell_type": "markdown",
   "id": "62dfe6f0",
   "metadata": {},
   "source": [
    "## A1. Identity and Parts\n",
    "Seperate blocks\n",
    "\n",
    "![002](img/3dp_002.png) "
   ]
  },
  {
   "cell_type": "markdown",
   "id": "e273d604",
   "metadata": {},
   "source": [
    "## A2. Offsets\n",
    "![003](img/3dp_003.png)"
   ]
  },
  {
   "cell_type": "markdown",
   "id": "682e1d30",
   "metadata": {},
   "source": [
    "## A3. Planarization and smoothing"
   ]
  },
  {
   "cell_type": "markdown",
   "id": "8b1be972",
   "metadata": {},
   "source": [
    "## A4. Serialization Blocks"
   ]
  },
  {
   "cell_type": "markdown",
   "id": "7fab3324",
   "metadata": {},
   "source": [
    "# B. Preparing Printing Bed\n",
    "- "
   ]
  },
  {
   "cell_type": "markdown",
   "id": "8068e7c9",
   "metadata": {},
   "source": [
    "## B0. Load Block"
   ]
  },
  {
   "cell_type": "code",
   "execution_count": 19,
   "id": "2ad5079b",
   "metadata": {},
   "outputs": [
    {
     "name": "stdout",
     "output_type": "stream",
     "text": [
      "[1146, 1145, 1056, 1057]\n",
      "[1147, 1146, 1057, 1058]\n",
      "[1206, 1205, 1128, 1129]\n",
      "[1207, 1206, 1129, 1130]\n",
      "[1148, 1147, 1058, 1059]\n",
      "[1208, 1207, 1130, 1131]\n",
      "[1209, 1208, 1131, 1132]\n",
      "[1129, 1128, 1031, 1032]\n",
      "[1130, 1129, 1032, 1033]\n",
      "[1131, 1130, 1033, 1034]\n",
      "[1132, 1131, 1034, 1035]\n",
      "[1207, 1208, 1145, 1146]\n",
      "[1206, 1207, 1146, 1147]\n",
      "[1205, 1206, 1147, 1148]\n",
      "[1208, 1209, 1144, 1145]\n",
      "[1145, 1144, 1055, 1056]\n",
      "[2271, 2270, 2359, 2360]\n",
      "[2272, 2271, 2360, 2361]\n",
      "[2343, 2342, 2419, 2420]\n",
      "[2344, 2343, 2420, 2421]\n",
      "[2273, 2272, 2361, 2362]\n",
      "[2345, 2344, 2421, 2422]\n",
      "[2346, 2345, 2422, 2423]\n",
      "[2246, 2245, 2342, 2343]\n",
      "[2247, 2246, 2343, 2344]\n",
      "[2248, 2247, 2344, 2345]\n",
      "[2249, 2248, 2345, 2346]\n",
      "[2360, 2359, 2422, 2421]\n",
      "[2361, 2360, 2421, 2420]\n",
      "[2362, 2361, 2420, 2419]\n",
      "[2359, 2358, 2423, 2422]\n",
      "[2270, 2269, 2358, 2359]\n",
      "[1057, 1056, 2270, 2271]\n",
      "[1058, 1057, 2271, 2272]\n",
      "[1059, 1058, 2272, 2273]\n",
      "[1148, 1059, 2273, 2362]\n",
      "[1205, 1148, 2362, 2419]\n",
      "[1128, 1205, 2419, 2342]\n",
      "[1031, 1128, 2342, 2245]\n",
      "[1032, 1031, 2245, 2246]\n",
      "[1033, 1032, 2246, 2247]\n",
      "[1034, 1033, 2247, 2248]\n",
      "[1035, 1034, 2248, 2249]\n",
      "[1132, 1035, 2249, 2346]\n",
      "[1209, 1132, 2346, 2423]\n",
      "[1144, 1209, 2423, 2358]\n",
      "[1055, 1144, 2358, 2269]\n",
      "[1056, 1055, 2269, 2270]\n",
      "<Mesh with 50 vertices, 48 faces, 96 edges>\n",
      "block info: <Mesh with 50 vertices, 48 faces, 96 edges>\n"
     ]
    }
   ],
   "source": [
    "import os\n",
    "from compas.datastructures import Mesh\n",
    "from compas_view2.app import App\n",
    "\n",
    "# import\n",
    "HERE = os.getcwd()\n",
    "FILE = os.path.join(HERE, 'data', 'block_singularity.json')\n",
    "block = Mesh.from_json(FILE)\n",
    "\n",
    "# FILE_O = os.path.join(HERE, 'data', 'block_singularity_O.json')\n",
    "# dict_map = {}\n",
    "# for i, vkey in enumerate(block.vertices()):\n",
    "#     dict_map[vkey] = i\n",
    "# vertices = [block.vertex_coordinates(vkey) for vkcy in block.vertices()]\n",
    "# faces = []\n",
    "# for face in block.faces():\n",
    "#     f_vkeys = block.face_vertices(face)\n",
    "#     faces.append([dict_map[vkey] for vkey in f_vkeys])\n",
    "\n",
    "# new_mesh = Mesh.from_vertices_and_faces(vertices, faces)\n",
    "# new_mesh.to_json(FILE_O)\n",
    "# print(new_mesh)\n",
    "\n",
    "print(\"block info:\", block)\n",
    "\n",
    "# visualization\n",
    "viewer = App()\n",
    "viewer.add(block)\n",
    "viewer.run()"
   ]
  },
  {
   "cell_type": "markdown",
   "id": "4eefff76",
   "metadata": {},
   "source": [
    "## B1. Select Print Planes"
   ]
  },
  {
   "cell_type": "code",
   "execution_count": 20,
   "id": "9e109556",
   "metadata": {},
   "outputs": [
    {
     "name": "stdout",
     "output_type": "stream",
     "text": [
      "992\n",
      "993\n",
      "1058\n",
      "1059\n",
      "994\n",
      "1060\n",
      "1061\n",
      "971\n",
      "972\n",
      "973\n",
      "974\n",
      "1071\n",
      "1072\n",
      "1073\n",
      "1070\n",
      "991\n",
      "1074\n",
      "1075\n",
      "1076\n",
      "1077\n",
      "1078\n",
      "1079\n",
      "1080\n",
      "1081\n",
      "1082\n",
      "1083\n",
      "1084\n",
      "1085\n",
      "1086\n",
      "1087\n",
      "1088\n",
      "1089\n",
      "1090\n",
      "1091\n",
      "1092\n",
      "1093\n",
      "1094\n",
      "1095\n",
      "1096\n",
      "1097\n",
      "1098\n",
      "1099\n",
      "1100\n",
      "1101\n",
      "1102\n",
      "1103\n",
      "1104\n",
      "1105\n"
     ]
    }
   ],
   "source": [
    "# show texts\n",
    "from compas_view2.shapes import Text\n",
    "\n",
    "for face in block.faces():\n",
    "    print(face)\n",
    "\n",
    "# t = Text(\"a\", [0, 0, 0], height=50)\n",
    "\n",
    "# viewer.show()"
   ]
  },
  {
   "cell_type": "code",
   "execution_count": null,
   "id": "bc2ad9ce",
   "metadata": {},
   "outputs": [],
   "source": []
  }
 ],
 "metadata": {
  "kernelspec": {
   "display_name": "Python 3 (ipykernel)",
   "language": "python",
   "name": "python3"
  },
  "language_info": {
   "codemirror_mode": {
    "name": "ipython",
    "version": 3
   },
   "file_extension": ".py",
   "mimetype": "text/x-python",
   "name": "python",
   "nbconvert_exporter": "python",
   "pygments_lexer": "ipython3",
   "version": "3.8.12"
  }
 },
 "nbformat": 4,
 "nbformat_minor": 5
}
