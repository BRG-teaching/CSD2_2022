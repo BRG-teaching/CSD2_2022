{
 "cells": [
  {
   "cell_type": "markdown",
   "id": "edb9ef6c-9d3c-4f35-b107-d5e84524dff6",
   "metadata": {},
   "source": [
    "# Computational Structural Design II\n",
    "\n",
    "### Learning Goal: \n",
    "- TEST: VIEWER"
   ]
  },
  {
   "cell_type": "code",
   "execution_count": 1,
   "id": "3bfd724a-faf8-4db9-ac83-4ee0c6d5466e",
   "metadata": {},
   "outputs": [],
   "source": [
    "# ==============================================================================\n",
    "# Import\n",
    "# ==============================================================================\n",
    "import os\n",
    "from compas.datastructures import Mesh\n",
    "\n",
    "# ==============================================================================\n",
    "# Unserialization\n",
    "# ==============================================================================\n",
    "HERE = os.getcwd()\n",
    "FILE = os.path.join(HERE, 'data', 'barnet.json')\n",
    "barnet_mesh = Mesh.from_json(FILE)\n",
    "\n",
    "# ==============================================================================\n",
    "# Update Vertex Attribute\n",
    "# ==============================================================================\n",
    "for vkey in barnet_mesh.vertices_where({'x': 10}):\n",
    "    if barnet_mesh.is_vertex_on_boundary(vkey) is False:\n",
    "        barnet_mesh.vertex_attribute(vkey, 'z', 10)"
   ]
  },
  {
   "cell_type": "code",
   "execution_count": 2,
   "id": "12e1ad12-dabd-4f4a-b8ea-47babcc9d9a3",
   "metadata": {},
   "outputs": [
    {
     "name": "stdout",
     "output_type": "stream",
     "text": [
      "<Mesh with 36 vertices, 25 faces, 60 edges>\n"
     ]
    }
   ],
   "source": [
    "print(barnet_mesh)"
   ]
  },
  {
   "cell_type": "code",
   "execution_count": 3,
   "id": "ce427254-fec6-4426-ad17-63e559e1e3a5",
   "metadata": {},
   "outputs": [],
   "source": [
    "from compas_view2.app import App\n",
    "viewer = App()\n",
    "viewer.add(barnet_mesh)\n",
    "viewer.run()"
   ]
  },
  {
   "cell_type": "code",
   "execution_count": null,
   "id": "5d1d8756-11da-4450-9418-e887606fcbbe",
   "metadata": {},
   "outputs": [],
   "source": []
  }
 ],
 "metadata": {
  "kernelspec": {
   "display_name": "Python 3.8.12 64-bit ('brg': conda)",
   "language": "python",
   "name": "python3812jvsc74a57bd04660e017fe583de81ac72b41cd0367138abbb38b850ef3671e77c7ef0042ac47"
  },
  "language_info": {
   "codemirror_mode": {
    "name": "ipython",
    "version": 3
   },
   "file_extension": ".py",
   "mimetype": "text/x-python",
   "name": "python",
   "nbconvert_exporter": "python",
   "pygments_lexer": "ipython3",
   "version": "3.8.12"
  }
 },
 "nbformat": 4,
 "nbformat_minor": 5
}
