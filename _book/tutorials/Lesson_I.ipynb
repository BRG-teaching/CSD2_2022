{
 "cells": [
  {
   "cell_type": "markdown",
   "id": "666a918b",
   "metadata": {},
   "source": [
    "# Computational Structural Design II <br/> Intro to coding in Python and the Jupyter notebook I\n",
    "\n",
    "### Learning Goal: \n",
    "- how to draw a flowchart\n",
    "- how to translate a flowchart to pseudocode using **comments** in Python\n",
    "- how to write basic Python script, including variable, object type, `if` condition, `print`, list, `for` loop, `while` loop, mathematical operators\n",
    "\n",
    "### Content:\n",
    "- [Cablenet Cost I](#ex1)\n",
    "- [Voussoir Weight](#ex2)\n",
    "\n",
    "### Exercise:\n",
    "- [Cablenet Cost II](#tut1_ex)"
   ]
  },
  {
   "cell_type": "markdown",
   "id": "3cea469e",
   "metadata": {},
   "source": [
    "<a id='ex1'></a>\n",
    "# Cablenet Cost <br/>\n",
    "## Question:\n",
    "Suppose you have designed a cable-net made from steel cables. You are going to fabricate them and estimate the total cost. There are 2 different prices for cables longer than 3 meters and shorter than 3 meters, 5 Fr and 3 Fr correspondingly. Now you need to count how many cables are above 3 meters and how many are below, to calculate the cost. \n",
    "\n",
    "| Cable No. | Length (m) |\n",
    "| :---: | :---: |\n",
    "| 1 | 1.6 |\n",
    "| 2 | 3.6 |\n",
    "| 3 | 2.4 |\n",
    "| 4 | 3.4 |\n",
    "| 5 | 2.7 |\n",
    "| 6 | 2.8 |\n",
    "| 7 | 3.3 |\n",
    "| 8 | 3.1 |\n",
    "| 9 | 3.7 |\n",
    "| 10 | 1.8 |\n",
    "| 11 | 1.8 | \n",
    "| 12 | 2.6 | "
   ]
  },
  {
   "cell_type": "markdown",
   "id": "c1a6b01e",
   "metadata": {},
   "source": [
    "## Part A: Check Length of One Cable\n",
    "Let's first break this problem down into small steps. Firstly, you could pick one cable and check whether its length is larger than 3 m. Secondly, you could repeat the first step to check all the cables, and then multiply the number of cables with the cost."
   ]
  },
  {
   "cell_type": "markdown",
   "id": "7dc27f27",
   "metadata": {},
   "source": [
    "### A_1. Draw Flowchart\n",
    "Firstly, we can draw a [**flowchart**](https://app.gitbook.com/o/-M57B1lKy7REE1wfeNSt/s/-M730QpQnbAMvz44bqhc/learn-to-code/i.-my-first-python-script/cheat-sheet#flowchart). \n",
    "\n",
    "\n",
    "<img src=\"img/week1_ex1.png\" style=\"margin-left:auto; margin-right:auto\"/>\n",
    "\n",
    "<br/>"
   ]
  },
  {
   "cell_type": "markdown",
   "id": "f070d8fa",
   "metadata": {},
   "source": [
    "### A_2. Write pseudocode\n",
    "Firstly, we could convert our flowchart to [**pseudocode**](https://en.wikipedia.org/wiki/Pseudocode#:~:text=In%20computer%20science%2C%20pseudocode%20is,reading%20rather%20than%20machine%20reading.), a plain-English version of the flowchart. \n",
    "\n",
    "The pseudocode are written in Python [**comments**](https://www.w3schools.com/python/python_comments.asp), which starts with a `#` and will not be excuated when we run the code. Comments help us to organize the logic when we start to write code, as well as in the future to keep track of and to understand the code. You can type `#` in front of the line you want to comment out. If you want to comment several lines, you can select the lines that need to be commented out, and press `ctrl + /`. "
   ]
  },
  {
   "cell_type": "raw",
   "id": "e44b3ba2-e81e-4a91-8572-dd5a2a1aade9",
   "metadata": {},
   "source": [
    "# pick one cable\n",
    "# if length larger than 3?\n",
    "    # long cable \n",
    "# else\n",
    "#     short cable"
   ]
  },
  {
   "cell_type": "markdown",
   "id": "c4ceaafa",
   "metadata": {},
   "source": [
    "### A_3. Write your code\n",
    "We could turn the pseudocode line by line into code. "
   ]
  },
  {
   "cell_type": "code",
   "execution_count": 2,
   "id": "ac574e72",
   "metadata": {},
   "outputs": [
    {
     "name": "stdout",
     "output_type": "stream",
     "text": [
      "This is a short cable.\n"
     ]
    }
   ],
   "source": [
    "# pick one cable\n",
    "cable_length = 1.6\n",
    "# if length bigger than 3?\n",
    "if cable_length > 3:\n",
    "    # long cable \n",
    "    print(\"This is a long cable.\")\n",
    "# else\n",
    "else:\n",
    "    # short cable\n",
    "    print(\"This is a short cable.\")"
   ]
  },
  {
   "cell_type": "markdown",
   "id": "2c5f0902-08e1-4a01-a92c-53bd9b887398",
   "metadata": {},
   "source": [
    "## Part B: Check Length of All Cables\n",
    "\n",
    "Let's complete the program. You need to repeat the whole process of checking the cable length until you have classified all cables. You could use another condition in your flowchart for the repetition instructions. After you have checked all the cables in your cable-net, you could count the amount in two length types and calculate the total cost. "
   ]
  },
  {
   "cell_type": "markdown",
   "id": "4cf3c3c4-4fc6-437c-a766-29c66ed1b083",
   "metadata": {},
   "source": [
    "### B_1. Draw Flowchart\n",
    "\n",
    "<img src=\"img/week1_ex1_2.png\" style=\"margin-left:auto; margin-right:auto\"/>\n",
    "\n",
    "<br/>"
   ]
  },
  {
   "cell_type": "markdown",
   "id": "193a2a0e-27e9-45cb-b9df-4bf5136db305",
   "metadata": {},
   "source": [
    "### B_2. Write pseudocode"
   ]
  },
  {
   "cell_type": "raw",
   "id": "573cc73f-03ae-4da2-b296-47873732111a",
   "metadata": {},
   "source": [
    "# pick one cable in the cable-net\n",
    "#     if length larger than 3?\n",
    "#         long cable amount + 1\n",
    "#     else\n",
    "#         short cable amount + 1\n",
    "# repeat until the all the cables are checked\n",
    "# calculate total cost"
   ]
  },
  {
   "cell_type": "markdown",
   "id": "41c63a6c-30e5-40b7-9cf5-f1ec93eca056",
   "metadata": {},
   "source": [
    "### B_3. Write the code\n",
    "Here we need to input all the lengths of our cables. Instead of multiple length variables, we could store them in a collection - a [**list**](https://app.gitbook.com/o/-M57B1lKy7REE1wfeNSt/s/-M730QpQnbAMvz44bqhc/learn-to-code/i.-my-first-python-script/cheat-sheet#list). List items are ordered, or in other words, indexed, the first item has index ``0``, the second item has index ``1`` etc."
   ]
  },
  {
   "cell_type": "code",
   "execution_count": 3,
   "id": "0584e6e6-6690-426e-ae80-41567f8f5548",
   "metadata": {},
   "outputs": [
    {
     "name": "stdout",
     "output_type": "stream",
     "text": [
      "1.6\n",
      "3.6\n",
      "2.6\n"
     ]
    }
   ],
   "source": [
    "cablenet = [1.6, 3.6, 2.4, 3.4, 2.7, 2.8, 3.3, 3.1, 3.7, 1.8, 1.8, 2.6]\n",
    "print(cablenet[0])  # 1.6\n",
    "print(cablenet[1])  # 3.6\n",
    "print(cablenet[-1])  # 2.6"
   ]
  },
  {
   "cell_type": "markdown",
   "id": "adb7f6dc-e696-4475-9c9b-083d4ed5de59",
   "metadata": {},
   "source": [
    "To iterate over a list, we could use a [**``for``**](https://app.gitbook.com/o/-M57B1lKy7REE1wfeNSt/s/-M730QpQnbAMvz44bqhc/learn-to-code/i.-my-first-python-script/cheat-sheet#for-loop-and-while-loop) loop. "
   ]
  },
  {
   "cell_type": "code",
   "execution_count": 4,
   "id": "92235e96-9d19-410e-a1ef-56a29798496f",
   "metadata": {},
   "outputs": [
    {
     "name": "stdout",
     "output_type": "stream",
     "text": [
      "1.6\n",
      "3.6\n",
      "2.4\n",
      "3.4\n",
      "2.7\n",
      "2.8\n",
      "3.3\n",
      "3.1\n",
      "3.7\n",
      "1.8\n",
      "1.8\n",
      "1.8\n",
      "2.6\n"
     ]
    }
   ],
   "source": [
    "for cable in cablenet:\n",
    "    print(cable)"
   ]
  },
  {
   "cell_type": "markdown",
   "id": "d15dc3a2-5a8c-42a3-a0f2-7cb0a4e16b3e",
   "metadata": {},
   "source": [
    "Now we go through the list, check the cable length one by one, and count the number of the corresponding type. Thus, we need to initiate the counter of two types at the beginning of our code. Here, we create two new variables: ``long_cable_count``, ``short_cable_count``, and set their initial value to ``0``. "
   ]
  },
  {
   "cell_type": "code",
   "execution_count": 7,
   "id": "cf58ccf5-40b7-46b3-aecd-90364905e6ea",
   "metadata": {},
   "outputs": [
    {
     "name": "stdout",
     "output_type": "stream",
     "text": [
      "Total cost is 49 Fr.\n"
     ]
    }
   ],
   "source": [
    "# Input\n",
    "cablenet = [1.6, 3.6, 2.4, 3.4, 2.7, 2.8, 3.3, 3.1, 3.7, 1.8, 1.8, 2.6]\n",
    "long_cable_count = 0\n",
    "short_cable_count = 0\n",
    "long_cable_price = 5\n",
    "short_cable_price = 3\n",
    "\n",
    "# pick one cable in the cable-net, check its length\n",
    "# repeat until the all the cables are checked\n",
    "for cable in cablenet:\n",
    "    # if length bigger than 3?\n",
    "    if cable > 3:\n",
    "        # long cable amount + 1\n",
    "        long_cable_count += 1\n",
    "    # else\n",
    "    else:\n",
    "        # short cable amount + 1\n",
    "        short_cable_count += 1\n",
    "# calculate total cost\n",
    "total_cost = long_cable_count * long_cable_price + short_cable_count * short_cable_price\n",
    "\n",
    "# Output\n",
    "print(\"Total cost is\", total_cost, \"Fr.\")"
   ]
  },
  {
   "cell_type": "markdown",
   "id": "dd2cc282-4f40-48ac-9dd3-02efec64b404",
   "metadata": {},
   "source": [
    "## Part C: Modify Cable Length\n",
    "\n",
    "Oooops... You realize that you have calculated the length of a cable wrongly. Don't worry. The cable length list we use as input can be modified because list items are changeable. You could also modify a value in the ``cablenet`` list by referring to the item's **index**. Note that the index always starts from **``0``**! \n",
    "\n",
    "| Cable No. | Index | Length (m) |\n",
    "| :---: | :---: | :---: |\n",
    "| 1 | 0 | 1.6 |\n",
    "| 2 | 1 | 3.6 |\n",
    "| 3 | 2 | 2.4 |\n",
    "| 4 | 3 | 3.4 |\n",
    "| 5 | 4 | 2.7 |\n",
    "| 6 | 5 | 2.8 |\n",
    "| 7 | 6 | 3.3 |\n",
    "| 8 | 7 | 3.1 |\n",
    "| 9 | 8 | 3.7 |\n",
    "| 10 | 9 | 1.8 |\n",
    "| 11 | 10 | 1.8 | \n",
    "| 12 | 11 | 2.6 | \n",
    "\n",
    "For example, we find out the **3<sup>rd</sup>**  cable has the wrong length, whose corresponding index is ``2`` in the list. Find it, and change its value. "
   ]
  },
  {
   "cell_type": "code",
   "execution_count": 8,
   "id": "03c38bad-0e13-48ea-8ca1-93020c80de7f",
   "metadata": {},
   "outputs": [
    {
     "name": "stdout",
     "output_type": "stream",
     "text": [
      "[1.6, 3.6, 2.5, 3.4, 2.7, 2.8, 3.3, 3.1, 3.7, 1.8, 1.8, 1.8, 2.6]\n"
     ]
    }
   ],
   "source": [
    "cablenet[2] = 2.5\n",
    "print(cablenet)"
   ]
  },
  {
   "cell_type": "markdown",
   "id": "f4de7f41-313b-411a-82b2-4e482ee2f397",
   "metadata": {},
   "source": [
    "If we realize that we have omitted one cable that is 4 m, we could use ``append`` to add it at the end of our list. "
   ]
  },
  {
   "cell_type": "code",
   "execution_count": 14,
   "id": "20299974-77c2-48b9-81cb-f696d0420feb",
   "metadata": {},
   "outputs": [
    {
     "name": "stdout",
     "output_type": "stream",
     "text": [
      "We have 15 cables.\n",
      "[1.6, 3.6, 2.5, 3.4, 2.7, 2.8, 3.3, 3.1, 3.7, 1.8, 1.8, 1.8, 2.6, 4.0, 4.0]\n",
      "After adding the new cable, we have 16 cables.\n",
      "[1.6, 3.6, 2.5, 3.4, 2.7, 2.8, 3.3, 3.1, 3.7, 1.8, 1.8, 1.8, 2.6, 4.0, 4.0, 4.0]\n"
     ]
    }
   ],
   "source": [
    "print(\"We have\", len(cablenet), \"cables.\")\n",
    "print(cablenet)\n",
    "cablenet.append(4.0)\n",
    "print(\"After adding the new cable, we have\", len(cablenet), \"cables.\")\n",
    "print(cablenet)"
   ]
  },
  {
   "cell_type": "markdown",
   "id": "dea76f56-ff48-4b06-9400-59209e02c7c8",
   "metadata": {},
   "source": [
    "If you need to delete a cable you could either delete it by its index. For example, we want to delete the 4<sup>th</sup> cable in the list, whose index is ``3``. "
   ]
  },
  {
   "cell_type": "code",
   "execution_count": 16,
   "id": "6ea834fd-691b-4869-9478-ba61560a611f",
   "metadata": {},
   "outputs": [
    {
     "name": "stdout",
     "output_type": "stream",
     "text": [
      "[1.6, 3.6, 2.5, 2.8, 3.3, 3.1, 3.7, 1.8, 1.8, 1.8, 2.6, 4.0, 4.0, 4.0]\n"
     ]
    }
   ],
   "source": [
    "cablenet.pop(3)\n",
    "print(cablenet)"
   ]
  },
  {
   "cell_type": "markdown",
   "id": "81f5364e-7bd3-4625-97f6-e78c1e899b13",
   "metadata": {},
   "source": [
    "The cable can also be deleted by its value. If there are duplicated values, this method only removes the first matching element."
   ]
  },
  {
   "cell_type": "code",
   "execution_count": 22,
   "id": "94cf7638-9f81-48f6-87b0-b9dc294568d3",
   "metadata": {},
   "outputs": [
    {
     "name": "stdout",
     "output_type": "stream",
     "text": [
      "[1.6, 3.6, 2.5, 2.8, 3.7, 1.8, 1.8, 1.8, 2.6, 4.0, 4.0, 4.0]\n"
     ]
    }
   ],
   "source": [
    "cablenet.remove(3.1)\n",
    "print(cablenet)"
   ]
  },
  {
   "cell_type": "markdown",
   "id": "0085c0e6-9ffb-4152-89d4-5de30db3e453",
   "metadata": {},
   "source": [
    "<a id='tut1_ex'></a>\n",
    "## Exercise: Cables of 3 different Length \n",
    "Suppose there are three different prices for the cables: 2 Fr. for cables shorter than 2 m; 3 Fr. for cables between 2 m and 3 m; 5 Fr. for cables longer than 3 m. Could you modify your code and calculate the total cost?\n",
    "\n",
    "Hint: <br/>\n",
    "You need to classify 3 types of cables. When you run into a situation where you have several conditions, you can place as many elif conditions as necessary between the if condition and the else condition."
   ]
  },
  {
   "cell_type": "code",
   "execution_count": 27,
   "id": "6a26e91d-7bc2-487a-a37d-524e365e8d0c",
   "metadata": {},
   "outputs": [],
   "source": [
    "# Input\n",
    "# cable length of the cable-net\n",
    "cablenet = [1.6, 3.6, 2.4, 3.4, 2.7, 2.8, 3.3, 3.1, 3.7, 1.8, 1.8, 2.6]\n",
    "\n",
    "# please write down your answer here"
   ]
  },
  {
   "cell_type": "markdown",
   "id": "cf6184c6",
   "metadata": {},
   "source": [
    "---"
   ]
  },
  {
   "cell_type": "markdown",
   "id": "face9ed6",
   "metadata": {},
   "source": [
    "<a id='ex2'></a>\n",
    "# Check Voussoir Weight <br/>\n",
    "## Question A: \n",
    "You have designed a freeform masonry vault and all the stone pieces are unique. You want to assemble the vault manually. However, on the construction site, the manual handling weight limit is 25 kg. Thus, you have to find the pieces that are too heavy and export their index. \n",
    "\n",
    "| CabVoussoirle No. | Weight (kg) |\n",
    "| :---: | :---: |\n",
    "| 1 | 15|\n",
    "| 2 | 20 |\n",
    "| 3 | 54 |\n",
    "| 4 | 18 |\n",
    "| 5 | 26 |\n",
    "| 6 | 18 |\n",
    "\n",
    "</br>"
   ]
  },
  {
   "cell_type": "markdown",
   "id": "073fc34a",
   "metadata": {},
   "source": [
    "### A_1. Draw Flowchart\n",
    "\n",
    "<img src=\"img/week1_ex2.png\" style=\"margin-left:auto; margin-right:auto\"/>\n",
    "\n",
    "</br>"
   ]
  },
  {
   "cell_type": "markdown",
   "id": "c0f61380",
   "metadata": {},
   "source": [
    "### A_2. Write pseudocode"
   ]
  },
  {
   "cell_type": "raw",
   "id": "8156913b-7507-490b-9dcb-292ca544a5bb",
   "metadata": {},
   "source": [
    "# pick one voussoir in the vault\n",
    "#     if weight heavier than 25\n",
    "#         mark it as problematic voussoir\n",
    "# repeat until all the voussoirs are checked\n",
    "# output the problmatic voussoirs"
   ]
  },
  {
   "cell_type": "markdown",
   "id": "6b530be9",
   "metadata": {},
   "source": [
    "### A_3. Write your code\n",
    "Here, we will use the `enumerate` method of a list, which adds a counter when we iterate over the list.\n",
    "\n",
    "TODO: Explain the enumeration.... "
   ]
  },
  {
   "cell_type": "code",
   "execution_count": 2,
   "id": "018fc5be",
   "metadata": {},
   "outputs": [
    {
     "name": "stdout",
     "output_type": "stream",
     "text": [
      "index 0 value 15\n",
      "index 1 value 20\n",
      "index 2 value 34\n",
      "index 3 value 18\n",
      "index 4 value 26\n",
      "index 5 value 18\n"
     ]
    }
   ],
   "source": [
    "voussoir_weight_list = [15, 20, 34, 18, 26, 18]\n",
    "for i, voussoir in enumerate(voussoir_weight_list):\n",
    "    print(\"index\", i, \"value\", voussoir)"
   ]
  },
  {
   "cell_type": "markdown",
   "id": "8642d5e3",
   "metadata": {},
   "source": [
    "We can create an empty list and add the index of the problematic voussoir in the list during our iteration. In the end, we can export the list.  The `*` operator unpacks the list.  "
   ]
  },
  {
   "cell_type": "code",
   "execution_count": 28,
   "id": "f2dff2ac",
   "metadata": {},
   "outputs": [
    {
     "name": "stdout",
     "output_type": "stream",
     "text": [
      "Voussoir  2 4 are too heavy.\n"
     ]
    }
   ],
   "source": [
    "voussoir_weight_list = [15, 20, 34, 18, 26, 18]\n",
    "problem_index = []\n",
    "\n",
    "# enumerate voussoirs in the vault:\n",
    "for i, voussoir in enumerate(voussoir_weight_list):\n",
    "    # check whether the weight is bigger than 25 kg\n",
    "    if voussoir >= 25:\n",
    "        problem_index.append(i)\n",
    "\n",
    "print(\"Voussoir \", *problem_index, \"are too heavy.\")"
   ]
  },
  {
   "cell_type": "markdown",
   "id": "62e999fc-5561-4e0c-9d28-c4030548ec2f",
   "metadata": {},
   "source": [
    "## Question B: Optimize Voussoir Weight\n",
    "Now you would optimize all the voussoirs that are too heavy by cutting them into two pieces while keeping the sequence of the voussoirs. "
   ]
  },
  {
   "cell_type": "markdown",
   "id": "c5b77df8-8a86-4e45-bedc-64ceb2f2ed62",
   "metadata": {},
   "source": [
    "### B_1. Draw Flowchart\n",
    "We can continue from the last example. When the voussoir is too heavy, we need to first cut it in half, then check the weight of the half one. If the new weight is still too heavy, keep cutting. After cutting, we need to add the new cut stones back, so the sequence of the original voussoirs will not change. \n",
    "\n",
    "<img src=\"img/week1_ex2_2.png\" style=\"margin-left:auto; margin-right:auto\"/>\n",
    "\n",
    "</br>"
   ]
  },
  {
   "cell_type": "markdown",
   "id": "87f57952-6682-4195-88f5-b539639f87e5",
   "metadata": {},
   "source": [
    "### B_2. Write pseudocode"
   ]
  },
  {
   "cell_type": "raw",
   "id": "09f5e03d-153a-4e27-9416-d671f2eddb54",
   "metadata": {},
   "source": [
    "# pick one voussoir in the vault\n",
    "#     if weight heavier than 25\n",
    "#         cut it the voussoir in half until the weight is below 25\n",
    "#         replace the problematic voussoir with the new ones\n",
    "# repeat until all the voussoirs are checked\n",
    "# output the problmatic voussoirs"
   ]
  },
  {
   "cell_type": "markdown",
   "id": "8d3cd73c-05de-4884-8f74-d19150bda61e",
   "metadata": {},
   "source": [
    "### B_3. Write your code\n",
    "Here, we will use a **``while``** loop,  which keeps executing the code inside if the condition is True. The loop will stop when the condition is not fulfilled any more. For example, here we pick a voussoir that is 54 kg and the count is 1. The weight is too heavy. In the first iteration of the while loop, the voussoir will be cut in half, so the weight is divided by 2 and the count is multiplied by 2. Now, the while loop checks the new voussoir weight, which is 54 / 2 = 27. 27 is still bigger than 25, so the loop will keep running. The 27 kg voussoir is further cut in half and the count is multiplied by 2. Now the new weight is 27 / 2 = 13.5, which is smaller than 25. Thus, the while loop stops. \n",
    "Inside the while loop, we redeclare the value of the variable voussoir, variable count in every iteration. So, we can print the final value. "
   ]
  },
  {
   "cell_type": "code",
   "execution_count": 35,
   "id": "ba6f0818-d7c5-4055-8eb9-c4b0f8252372",
   "metadata": {},
   "outputs": [
    {
     "name": "stdout",
     "output_type": "stream",
     "text": [
      "Weight of the voussoir is 13.5 and the total number of voussoirs is 4\n"
     ]
    }
   ],
   "source": [
    "voussoir = 54\n",
    "count = 1\n",
    "while voussoir >= 25:\n",
    "    voussoir /= 2\n",
    "    count *= 2\n",
    "print(\"Weight of the voussoir is\", voussoir, \n",
    "      \"and the total number of voussoirs is\", count)"
   ]
  },
  {
   "cell_type": "markdown",
   "id": "0512d5e9-d230-494d-a6c0-c34023d4ab1e",
   "metadata": {},
   "source": [
    "Now let's solve the problem. To notice that, when we iterate over the list, the items of the list cannot be modified. Thus, we create a new empty list: ``new_voussoir_weights``. After checking each voussoir, we can add the original voussoir or the processed smaller ones to the list. "
   ]
  },
  {
   "cell_type": "code",
   "execution_count": 36,
   "id": "3d560407-c6be-4bd5-9ff6-d10a7b67403f",
   "metadata": {},
   "outputs": [
    {
     "name": "stdout",
     "output_type": "stream",
     "text": [
      "[15, 20, 13.5, 13.5, 13.5, 13.5, 18, 13.0, 13.0, 18]\n"
     ]
    }
   ],
   "source": [
    "# Input\n",
    "voussoir_weight_list = [15, 20, 54, 18, 26, 18]\n",
    "new_voussoir_weights = []\n",
    "\n",
    "# enumerate voussoirs in the vault:\n",
    "for i, voussoir in enumerate(voussoir_weight_list):\n",
    "    # check whether the weight is bigger than 25 kg\n",
    "    if voussoir >= 25:\n",
    "        count = 1\n",
    "        # cut the voussoir by half until it it less than 25 kg\n",
    "        while voussoir >= 25:\n",
    "            voussoir /= 2\n",
    "            count *= 2\n",
    "        new_voussoir_weights.extend([voussoir] * count)\n",
    "    else:\n",
    "        new_voussoir_weights.append(voussoir)\n",
    "\n",
    "# Output\n",
    "print(new_voussoir_weights)"
   ]
  },
  {
   "cell_type": "markdown",
   "id": "b3c6ee7c",
   "metadata": {},
   "source": [
    "---"
   ]
  },
  {
   "cell_type": "markdown",
   "id": "6b01f498-ab0f-471e-bdbd-750e0a918810",
   "metadata": {},
   "source": [
    "## Answer to Cable Cost Exercise:"
   ]
  },
  {
   "cell_type": "code",
   "execution_count": 23,
   "id": "adf394d4-41a6-46ae-aecb-9105fa1608e1",
   "metadata": {},
   "outputs": [
    {
     "name": "stdout",
     "output_type": "stream",
     "text": [
      "Total cost is 43 Fr.\n"
     ]
    }
   ],
   "source": [
    "# Input\n",
    "# cable length of the cable-net\n",
    "cablenet = [1.6, 3.6, 2.4, 3.4, 2.7, 2.8, 3.3, 3.1, 3.7, 1.8, 1.8, 2.6]\n",
    "\n",
    "\n",
    "# initiate the cable class amount\n",
    "long_cable_amount = 0\n",
    "mid_cable_amount = 0\n",
    "short_cable_amount = 0\n",
    "\n",
    "# price of cable\n",
    "short_cable_price = 2\n",
    "mid_cable_price = 3\n",
    "long_cable_price = 5\n",
    "\n",
    "\n",
    "# check length of the cable\n",
    "for cable in cablenet:\n",
    "    if cable < 2:\n",
    "        short_cable_amount += 1\n",
    "    elif 2 <= cable <= 3:\n",
    "        mid_cable_amount += 1\n",
    "    else:\n",
    "        long_cable_amount += 1\n",
    "\n",
    "# calculate total cost\n",
    "total_cost = long_cable_amount * long_cable_price + mid_cable_amount * mid_cable_price + short_cable_amount * short_cable_price\n",
    "\n",
    "# Output\n",
    "print(\"Total cost is\", total_cost, \"Fr.\")"
   ]
  }
 ],
 "metadata": {
  "kernelspec": {
   "display_name": "Python 3",
   "language": "python",
   "name": "python3"
  },
  "language_info": {
   "codemirror_mode": {
    "name": "ipython",
    "version": 3
   },
   "file_extension": ".py",
   "mimetype": "text/x-python",
   "name": "python",
   "nbconvert_exporter": "python",
   "pygments_lexer": "ipython3",
   "version": "3.8.8"
  }
 },
 "nbformat": 4,
 "nbformat_minor": 5
}
