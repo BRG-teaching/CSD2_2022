{
 "cells": [
  {
   "cell_type": "markdown",
   "id": "6950c146-631d-4f4f-8688-2682f6eee0fa",
   "metadata": {},
   "source": [
    "# Computational Structural Design II <br/> Intro to coding in Python and the Jupyter notebook II\n",
    "\n",
    "### Learning Goal: \n",
    "- how to write a function\n",
    "- \n",
    "\n",
    "### Content:\n",
    "- [Cablenet Length](#ex1)\n",
    "- [Manage Data](#ex2)\n",
    "- [Transportation Turns]()\n",
    "\n",
    "### Exercise:\n",
    "- [Cablenet Cost II](#tut1_ex)"
   ]
  },
  {
   "cell_type": "code",
   "execution_count": null,
   "id": "6430f9d1-540d-4f43-8110-bf3ab2e75e14",
   "metadata": {},
   "outputs": [],
   "source": []
  }
 ],
 "metadata": {
  "kernelspec": {
   "display_name": "Python 3.8.12 64-bit ('brg': conda)",
   "language": "python",
   "name": "python3812jvsc74a57bd04660e017fe583de81ac72b41cd0367138abbb38b850ef3671e77c7ef0042ac47"
  },
  "language_info": {
   "codemirror_mode": {
    "name": "ipython",
    "version": 3
   },
   "file_extension": ".py",
   "mimetype": "text/x-python",
   "name": "python",
   "nbconvert_exporter": "python",
   "pygments_lexer": "ipython3",
   "version": "3.8.12"
  }
 },
 "nbformat": 4,
 "nbformat_minor": 5
}
