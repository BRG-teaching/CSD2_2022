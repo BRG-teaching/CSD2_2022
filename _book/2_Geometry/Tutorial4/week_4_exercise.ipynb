{
 "cells": [
  {
   "cell_type": "markdown",
   "id": "1a888047-32cf-42fc-8d77-1a397b48164b",
   "metadata": {},
   "source": [
    "# Computational Structural Design II - Geometry, Data and Visualization\n",
    "# Exercise 2: Sketch geometries on Plotter\n",
    "\n",
    "Create COMPAS geometry objects and visualize them in the plotter. Please attach the code, the image and a short description, including what you are trying to achieve and what methods you use (intersection, transformation, color, etc.). "
   ]
  },
  {
   "cell_type": "code",
   "execution_count": null,
   "id": "5dd3b227-63f3-4cd4-a786-805a0f91f2bb",
   "metadata": {},
   "outputs": [],
   "source": []
  }
 ],
 "metadata": {
  "kernelspec": {
   "display_name": "Python 3.8.12 64-bit ('brg': conda)",
   "language": "python",
   "name": "python3812jvsc74a57bd04660e017fe583de81ac72b41cd0367138abbb38b850ef3671e77c7ef0042ac47"
  },
  "language_info": {
   "codemirror_mode": {
    "name": "ipython",
    "version": 3
   },
   "file_extension": ".py",
   "mimetype": "text/x-python",
   "name": "python",
   "nbconvert_exporter": "python",
   "pygments_lexer": "ipython3",
   "version": "3.8.12"
  }
 },
 "nbformat": 4,
 "nbformat_minor": 5
}
