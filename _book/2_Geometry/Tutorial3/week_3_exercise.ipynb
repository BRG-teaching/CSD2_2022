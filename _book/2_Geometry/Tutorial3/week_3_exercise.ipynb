{
 "cells": [
  {
   "cell_type": "markdown",
   "id": "dbfd9531",
   "metadata": {},
   "source": [
    "# Computational Structural Design II <br/> Assignment I: Transportation Turns"
   ]
  },
  {
   "cell_type": "markdown",
   "id": "651ee298",
   "metadata": {},
   "source": [
    "# Question: \n",
    "Now you have designed fabricated all your voussoir. You have a cargo van which could carry 900 kg in maximum and you would use it to transport all your pieces from the factory to the site. How many transportation turns would you need?"
   ]
  },
  {
   "cell_type": "markdown",
   "id": "3d7b64a4",
   "metadata": {},
   "source": [
    "# Hint:\n",
    "1. Let's break the question down by just checking the first turn. You want to put as many voussoirs as possible on the truck. ick one voussoir. If the truck's load capacity is not filled, you could put it there. Keep doing this until the truck is full or you have checked all the voussoirs and no one fits the truck anymore.\n",
    "2. You can create a function that cheaks how many voussoirs can be loaded in one turn. \n",
    "3. Now you can keep calling the function until all the voussoirs are on the truck. Note that, after every time we fill the truck, we need to update the remaining voussoir list. "
   ]
  },
  {
   "cell_type": "code",
   "execution_count": 4,
   "id": "7fb15dad",
   "metadata": {},
   "outputs": [
    {
     "name": "stdout",
     "output_type": "stream",
     "text": [
      "The voussoir list is:  [13.13, 15.58, 21.74, 15.27, 16.98, 22.27, 15.31, 19.18, 19.7, 15.4, 13.86, 15.78, 21.79, 22.69, 14.9, 14.08, 21.14, 21.52, 24.09, 19.38, 24.7, 23.6, 14.25, 22.0, 19.95, 20.6, 12.92, 24.29, 15.81, 14.19, 24.2, 21.78, 17.41, 24.12, 24.44, 23.26, 17.74, 23.53, 19.48, 18.8, 19.78, 13.52, 23.5, 21.95, 24.51, 19.61, 17.43, 16.15, 23.96, 12.65, 14.14, 13.38, 24.46, 21.05, 18.92, 23.41, 20.14, 24.35, 17.62, 16.37, 22.8, 12.98, 13.88, 18.78, 18.2, 21.41, 14.77, 23.62, 14.95, 23.95, 21.21, 14.3, 20.29, 20.71, 16.23, 21.13, 16.13, 23.23, 14.49, 20.6, 21.41, 19.99, 18.98, 22.67, 17.76, 19.42, 19.11, 23.29, 15.88, 14.37, 20.77, 22.48, 24.74, 16.66, 18.78, 22.15, 22.31, 23.91, 23.81, 21.15, 21.43, 13.87, 15.22, 13.69, 19.63, 21.92, 19.63, 14.93, 15.55, 13.8, 24.96, 19.47, 13.9, 24.12, 13.64, 19.55, 18.61, 24.72, 22.28, 18.86, 19.75, 20.0, 17.58, 20.07, 24.03, 23.65, 16.3, 24.4, 18.84, 20.9, 24.28, 20.44, 14.39, 23.12, 18.71, 20.84, 24.81, 18.39, 22.44, 24.32, 14.21, 20.04, 24.73, 24.6, 23.69, 13.08, 12.62, 18.65, 23.97, 14.2, 13.01, 17.17, 24.3, 18.29, 17.15, 20.12, 23.69, 22.76, 13.3, 14.79, 12.84, 18.27, 18.03, 15.5, 16.28, 24.11, 13.84, 18.01, 13.94, 15.33, 16.45, 17.89, 18.25, 24.38, 21.59, 23.4, 21.24, 21.35, 24.14, 15.64, 19.94, 17.65, 16.61, 19.66, 24.94, 16.72, 16.35, 13.9, 24.75, 24.45, 17.29, 22.1, 15.74, 18.31, 21.47, 13.23, 17.07, 16.52, 24.47, 19.49]\n"
     ]
    }
   ],
   "source": [
    "import random\n",
    "voussoirs = []\n",
    "for i in range(200):\n",
    "    voussoirs.append(round(random.uniform(12.5, 25), 2))\n",
    "print(\"The voussoir list is: \", voussoirs)"
   ]
  },
  {
   "cell_type": "code",
   "execution_count": 5,
   "id": "90f860f3",
   "metadata": {},
   "outputs": [],
   "source": [
    "# you can write your code here..."
   ]
  },
  {
   "cell_type": "code",
   "execution_count": null,
   "id": "141855ca",
   "metadata": {},
   "outputs": [],
   "source": []
  }
 ],
 "metadata": {
  "kernelspec": {
   "display_name": "Python 3.8.12 64-bit ('brg': conda)",
   "language": "python",
   "name": "python3812jvsc74a57bd04660e017fe583de81ac72b41cd0367138abbb38b850ef3671e77c7ef0042ac47"
  },
  "language_info": {
   "codemirror_mode": {
    "name": "ipython",
    "version": 3
   },
   "file_extension": ".py",
   "mimetype": "text/x-python",
   "name": "python",
   "nbconvert_exporter": "python",
   "pygments_lexer": "ipython3",
   "version": "3.8.12"
  }
 },
 "nbformat": 4,
 "nbformat_minor": 5
}
