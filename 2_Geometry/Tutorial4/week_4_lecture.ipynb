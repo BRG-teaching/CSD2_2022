{
 "cells": [
  {
   "cell_type": "markdown",
   "id": "dfa6ab74",
   "metadata": {
    "slideshow": {
     "slide_type": "slide"
    }
   },
   "source": [
    "# Computational Structural Design II \n",
    "# Tutorial 4: Geometry, Data, and Visualization\n",
    "\n",
    "### Learning Goal: \n",
    "- Geometry Data\n",
    "- Geometry Class\n",
    "- Visualization\n",
    "\n",
    "\n",
    "### Content:\n",
    "- A. Geometry Data\n",
    "- B. Geometry Class\n",
    "- C. Geometry and Visualization\n",
    "- D. Geometry Operations\n",
    "\n",
    "### Exercise:\n",
    "- Sketch Geometries\n",
    "---\n"
   ]
  },
  {
   "cell_type": "markdown",
   "id": "9ec631e5",
   "metadata": {},
   "source": [
    "Install Compas version 1.14.0 in Google Colab"
   ]
  },
  {
   "cell_type": "code",
   "execution_count": null,
   "id": "89a26d5e",
   "metadata": {},
   "outputs": [],
   "source": [
    "# %pip install compas==1.14.0"
   ]
  },
  {
   "cell_type": "markdown",
   "id": "95d49bad",
   "metadata": {
    "slideshow": {
     "slide_type": "slide"
    }
   },
   "source": [
    "<a id='GeometryData'></a>\n",
    "# A. Geometry Data\n",
    "\n",
    "## A1. Describe a point in Rhinoceros Grasshopper\n",
    "Inside a three-dimensional(3D) Cartesian coordinate system, a **point** is represented by 3 numbers, which represent the values along the X, Y and Z axis of the system. If you are familiar with Rhino and Grasshopper, a point can be created numerically by inputing 3 values. \n",
    "\n",
    "</br>\n",
    "<img src = \"img/geo_pt_gh.png\" width=\"500\" style=\"margin-left:auto; margin-right:auto\"/>\n",
    "<center>create a point in Rhinoceros Grasshopper 3D</center>\n",
    "</br>\n"
   ]
  },
  {
   "cell_type": "markdown",
   "id": "fcb7f188",
   "metadata": {
    "slideshow": {
     "slide_type": "slide"
    }
   },
   "source": [
    "## A2. Describe a Point by Python list\n",
    "Similarly, the point can be described through a list `[x, y, z]` in Python. The three numbers represent the **x , y , z** coordinates of the point. Since a point is described as a list, the value in the list can be retrieved, modified, and updated by accessing the corresponding index of the list. \n",
    "Here we create a point `x=0, y=1, z=1` and change the coordinate `y=5`. "
   ]
  },
  {
   "cell_type": "code",
   "execution_count": null,
   "id": "9b3fd05f-0131-4541-8055-c7442f784c59",
   "metadata": {},
   "outputs": [],
   "source": [
    "# xyz coordinates of the point\n",
    "\n",
    "\n",
    "print(\"y coordinate of my_point is\", my_point[1])\n",
    "\n",
    "# re-assign the y coordinates 5\n",
    "\n",
    "print(\"xyz coordinates of my_point are\", my_point)"
   ]
  },
  {
   "cell_type": "markdown",
   "id": "ddad704a-c432-4068-ba64-eb6cd9efe669",
   "metadata": {
    "slideshow": {
     "slide_type": "slide"
    }
   },
   "source": [
    "## A3. Geometry Data Summary\n",
    "Besides **point**, basic geometry types - such as vector, line, plane - can be described numerically in Python by **lists of values**. The length of the list corresponds with the number of dimensions of the space the geometry resides in. In 3D space, the list contains 3 elements. The following table illustrates the data used to describe 3D geometries numerically. \n",
    "\n",
    "\n",
    "<table style='float:center;'>\n",
    "    <tr>\n",
    "        <th style='text-align: center'>Geometry</th>\n",
    "        <th style='text-align: center'>Data</th>\n",
    "        <th style='text-align: center'>Description</th>\n",
    "    </tr>\n",
    "    <tr>\n",
    "        <td style='text-align: center'>point</td>\n",
    "        <td style='text-align: center'>[x, y, z]</td>\n",
    "        <td style='text-align: center'> </td>\n",
    "    </tr>\n",
    "    <tr>\n",
    "        <td style='text-align: center'>vector</td>\n",
    "        <td style='text-align: center'>[x, y, z]</td>\n",
    "        <td style='text-align: center'> </td>\n",
    "    </tr>\n",
    "    <tr>\n",
    "        <td style='text-align: center'>line</td>\n",
    "        <td style='text-align: center'>([x<sub>1</sub>, y<sub>1</sub>, z<sub>1</sub>], [x<sub>2</sub>, y<sub>2</sub>, z<sub>2</sub>])</td>\n",
    "        <td style='text-align: center'>(start point, end point)</td>\n",
    "    </tr>\n",
    "    <tr>\n",
    "        <td style='text-align: center'>plane</td>\n",
    "        <td style='text-align: center'>([x<sub>0</sub>, y<sub>0</sub>, z<sub>0</sub>], [x<sub>n</sub>, y<sub>n</sub>, z<sub>n</sub>])</td>\n",
    "        <td style='text-align: center'>(origin, normal)</td>\n",
    "    </tr>\n",
    "    <tr>\n",
    "        <td style='text-align: center'>circle</td>\n",
    "        <td style='text-align: center'>[([x<sub>0</sub>, y<sub>0</sub>, z<sub>0</sub>], [x<sub>n</sub>, y<sub>n</sub>, z<sub>n</sub>]), r]</td>\n",
    "        <td style='text-align: center'>[(origin, normal), radius]</td>\n",
    "    </tr>\n",
    "    <tr>\n",
    "        <td style='text-align: center'>polyline</td>\n",
    "        <td style='text-align: center'>([x<sub>1</sub>, y<sub>1</sub>, z<sub>1</sub>], [x<sub>2</sub>, y<sub>2</sub>, z<sub>2</sub>], [x<sub>3</sub>, y<sub>3</sub>, z<sub>3</sub>, ...])</td>\n",
    "         <td style='text-align: center'>collection of points</td>\n",
    "    </tr>\n",
    "    <tr>\n",
    "        <td style='text-align: center'>polygon</td>\n",
    "        <td style='text-align: center'>([x<sub>1</sub>, y<sub>1</sub>, z<sub>1</sub>], [x<sub>2</sub>, y<sub>2</sub>, z<sub>2</sub>], [x<sub>3</sub>, y<sub>3</sub>, z<sub>3</sub>, ...])</td>\n",
    "         <td style='text-align: center'>collection of points</td>\n",
    "    </tr>\n",
    "    <tr>\n",
    "        <td style='text-align: center'>frame</td>\n",
    "        <td style='text-align: center'>([x<sub>0</sub>, y<sub>0</sub>, z<sub>0</sub>], [x<sub>1</sub>, y<sub>1</sub>, z<sub>1</sub>], [x<sub>2</sub>, y<sub>2</sub>, z<sub>2</sub>])</td>\n",
    "         <td style='text-align: center'>[origin, vector, vector]</td>\n",
    "    </tr>\n",
    "</table> \n",
    "    \n",
    "</br>\n",
    "\n",
    "---"
   ]
  },
  {
   "cell_type": "markdown",
   "id": "07b15437",
   "metadata": {
    "slideshow": {
     "slide_type": "slide"
    }
   },
   "source": [
    "### Elements of argorithms - short recap \n",
    "\n",
    "<img src=\"https://github.com/BlockResearchGroup/CSD2_2022/blob/53513ad8ffd913fba9f70609b0700eab24291594/2_Geometry/Introduction/Files/Introduction/IntroToJupyterNB_Comp3.png?raw=true\" style=\"margin-left:auto; margin-right:auto\"/>"
   ]
  },
  {
   "cell_type": "markdown",
   "id": "dc2f590b-4e32-418e-a436-0935f61699d1",
   "metadata": {
    "slideshow": {
     "slide_type": "slide"
    }
   },
   "source": [
    "<a id='GeometryClass'></a>\n",
    "\n",
    "---\n",
    "\n",
    "# B. Geometry Class\n",
    "A geometry type can be described by data. We can use a **Class** as a constructor, a template, or a \"blueprint\" to create **Objects** of a certain geometry type. An **Object** is an instance of a **Class** and it shares all **attributes** and the **behavior** of the Class. Classes are used frequently in Python scripting. A class can not only store data, but also define **methods** (an object-oriented programming term for functions) alongside the data that they operate on and produce.\n",
    "\n",
    "<img src=\"https://github.com/BlockResearchGroup/CSD2_2022/blob/53513ad8ffd913fba9f70609b0700eab24291594/2_Geometry/Introduction/Files/Introduction/IntroToJupyterNB_Comp4.png?raw=true\" style=\"margin-left:auto; margin-right:auto\"/>\n",
    "\n",
    "In the following session, we will learn anout the Python Class by creating our own **Point class**. Then we will use the class to create a **Point object**, which represents the point `x=0, y=1, z=1`. \n"
   ]
  },
  {
   "cell_type": "markdown",
   "id": "be1ea732",
   "metadata": {
    "slideshow": {
     "slide_type": "slide"
    }
   },
   "source": [
    "## B1. Point Class\n",
    "### B1_a. Create a Class\n",
    "Class definition cannot be empty. Put the `pass` statement to avoid getting an error. "
   ]
  },
  {
   "cell_type": "code",
   "execution_count": null,
   "id": "0ea6ddce-7f42-4896-b794-69072c9e0e0b",
   "metadata": {},
   "outputs": [],
   "source": [
    "# create class Point\n",
    "\n",
    "# instantiate an object of Point\n",
    "# by default, print the name of the object’s class and the address of the object. "
   ]
  },
  {
   "cell_type": "markdown",
   "id": "b2e4dba2-7b5b-4db8-9866-123e0f9bc476",
   "metadata": {
    "slideshow": {
     "slide_type": "slide"
    }
   },
   "source": [
    "### B1_b. `__init__()` function\n",
    "All classes have a function called `__init__()`, which is always executed when the class is being initiated. We can pass some initial values to the class by calling the `__init__()` function. Before the parameters `x`, `y`, `z`, there is a `self`, which refers to the object itself. Then, we need to create new fields also called `x`, `y`, `z`. Notice `self.x` and `x` are two different variables even though they are both called `x`. You can view the dotted notation `self.x` as the attribute of your Point object, and the `x` as a local variable."
   ]
  },
  {
   "cell_type": "code",
   "execution_count": null,
   "id": "725eac23-6c64-4baa-8aa5-cb99cb9620de",
   "metadata": {},
   "outputs": [],
   "source": [
    "class Point:\n",
    "    \"\"\" Point class\"\"\"\n",
    "    \n",
    "    #write __init__() function\n",
    "    \n",
    "# create a point object\n",
    "\n",
    "#print(\"xyz coordinates are:\", pt.x, pt.y, pt.z)"
   ]
  },
  {
   "cell_type": "markdown",
   "id": "370ad928-e57a-4040-8411-e85432382c44",
   "metadata": {
    "slideshow": {
     "slide_type": "slide"
    }
   },
   "source": [
    "### B1_c. Object Method\n",
    "Now let's add a **method** to the Point class to translate the point. It modifies the object attribute `self.x`, `self.y`, `self.z` by adding the translation distance along the corresponding axis.  "
   ]
  },
  {
   "cell_type": "code",
   "execution_count": null,
   "id": "84165596-9eda-4921-afbd-db71990bdaac",
   "metadata": {},
   "outputs": [],
   "source": [
    "class Point:\n",
    "    \"\"\" Point class\"\"\"\n",
    "    \n",
    "    def __init__(self, x, y, z):\n",
    "        self.x = x\n",
    "        self.y = y\n",
    "        self.z = z\n",
    "    \n",
    "\n",
    "# create a point object\n",
    "print(\"xyz coordinates before translation are:\", pt.x, pt.y, pt.z) \n",
    "# translate the point\n",
    "print(\"xyz coordinates after translation are:\", pt.x, pt.y, pt.z) "
   ]
  },
  {
   "cell_type": "markdown",
   "id": "13a8488f-409b-40b3-a5c0-adcdaa103a03",
   "metadata": {
    "slideshow": {
     "slide_type": "slide"
    }
   },
   "source": [
    "### B1_d. Modify Object Properties\n",
    "Objects **properties** can be modified."
   ]
  },
  {
   "cell_type": "code",
   "execution_count": null,
   "id": "a895c7a4-d728-4037-82f5-bd40b657d90c",
   "metadata": {},
   "outputs": [],
   "source": [
    "# modify object properties\n",
    "print(\"xyz coordinates after modification are:\", pt.x, pt.y, pt.z) "
   ]
  },
  {
   "cell_type": "markdown",
   "id": "60012a8f",
   "metadata": {
    "slideshow": {
     "slide_type": "slide"
    }
   },
   "source": [
    "## B2 The COMPAS framework for Architecture, Engineering, Fabrication, and Construction\n",
    "\n",
    "Here is the [documentation](https://compas.dev/compas/latest/index.html) of the main library of COMPAS, an open source framework for research and collaboration in Architecture, Engineering, Fabrication, and Construction.\n",
    "\n",
    "<img src=\"https://github.com/BlockResearchGroup/CSD2_2022/blob/e0a81fec1442f53b6a35ec496ed168db9dcbae52/2_Geometry/Tutorial4/img/COMPAS.png?raw=true\" style=\"margin-left:auto; margin-right:auto\"/>\n",
    "\n",
    "### The Application Programming Interface(API) reference can be found [here](https://compas.dev/compas/latest/api.html).\n",
    "### The CSD2 Class will use this reference extensively, especially [COMPAS Geometry](https://compas.dev/compas/latest/api/compas.geometry.html) is relevant for this module."
   ]
  },
  {
   "cell_type": "markdown",
   "id": "8c80792e-eb4d-4a6c-a84c-1045190cd4ea",
   "metadata": {
    "slideshow": {
     "slide_type": "slide"
    }
   },
   "source": [
    "## B2.1 Use the Point Class from COMPAS\n",
    "COMPAS contains a [Point](https://compas.dev/compas/latest/api/generated/compas.geometry.Point.html?highlight=point#compas.geometry.Point) class which is similar to the one we have created. However, it contains more object methods which have already been developed. In a COMPAS Point class, a Point has three parameters, `x`, `y`, `z`. They could be accessed through indexing as well as through `.x`, `.y`, and `.z` attributes. \n",
    "\n",
    "\n",
    "<img src = \"https://files.gitbook.com/v0/b/gitbook-28427.appspot.com/o/assets%2F-M730QpQnbAMvz44bqhc%2F-MMzyUtFsDByqwGgOo8D%2F-MN-4caIa6sDF5e1YGok%2Fimage.png?alt=media&token=2c8d3140-e57b-49a2-8f16-d89ba351319c\" width=\"700\" style=\"margin-left:auto; margin-right:auto\"/>\n"
   ]
  },
  {
   "cell_type": "code",
   "execution_count": null,
   "id": "857d4822-e4ed-4585-9af5-2ed098d180a3",
   "metadata": {
    "slideshow": {
     "slide_type": "slide"
    }
   },
   "outputs": [],
   "source": [
    "import compas\n",
    "#print(compas.__version__) # to see the compas version installed\n",
    "from compas.geometry import Point\n",
    "\n",
    "my_point = Point(0, 1, 1)  # create a point object\n",
    "print(my_point.y)  # attribute y of point\n",
    "print(my_point[1] == my_point.y)\n",
    "\n",
    "my_point.y = 5  # reassign the attribute y\n",
    "print(my_point) # Point class contains a class function that prints the summary of the object"
   ]
  },
  {
   "cell_type": "markdown",
   "id": "cc7392d7-f79b-44b7-8dd3-8bac7d2920f7",
   "metadata": {
    "slideshow": {
     "slide_type": "slide"
    }
   },
   "source": [
    "## B3. Geometry Classes in COMPAS\n",
    "COMPAS provides a number of ready-to-use primitive objects. Available primitive objects include `Point`, `Vector`, `Line`, `Plane`, `Polyline`, `Polygon`, `Circle`, `Frame`, etc. All COMPAS primitives can be used interchangeably with native Python objects as input for geometry functions and object methods. \n",
    "For a complete overview, you can visit the [API Reference](https://compas.dev/compas/latest/api/compas.geometry.html). \n",
    "\n",
    "<br/>\n",
    "<table style='float:center;'>\n",
    "    <tr>\n",
    "        <th style='text-align: center'>Geometry Object</th>\n",
    "        <th style='text-align: center'>COMPAS Class</th>\n",
    "    </tr>\n",
    "    <tr>\n",
    "        <td style='text-align: center'>point</td>\n",
    "        <td style='text-align: center'>point = Point(x, y, z)</td>\n",
    "    </tr>\n",
    "    <tr>\n",
    "        <td style='text-align: center'>vector</td>\n",
    "        <td style='text-align: center'>vector = Vector(x, y, z)</td>\n",
    "    </tr>\n",
    "    <tr>\n",
    "        <td style='text-align: center'>line</td>\n",
    "        <td style='text-align: center'>line = Line(point, point)</td>\n",
    "    </tr>\n",
    "    <tr>\n",
    "        <td style='text-align: center'>plane</td>\n",
    "        <td style='text-align: center'>plane = Plane(point, vector)</td>\n",
    "    </tr>\n",
    "    <tr>\n",
    "        <td style='text-align: center'>circle</td>\n",
    "        <td style='text-align: center'>circle = Circle(plane, radius)</td>\n",
    "    </tr>\n",
    "    <tr>\n",
    "        <td style='text-align: center'>polyline</td>\n",
    "        <td style='text-align: center'>polyline = Polyline(points)</td>\n",
    "    </tr>\n",
    "    <tr>\n",
    "        <td style='text-align: center'>polygon</td>\n",
    "        <td style='text-align: center'>polygon = Polygon(points)</td>\n",
    "    </tr>\n",
    "    <tr>\n",
    "        <td style='text-align: center'>frame</td>\n",
    "        <td style='text-align: center'>frame = Frame(point, vector, vector)</td>\n",
    "    </tr>\n",
    "</table> \n",
    "<br/>"
   ]
  },
  {
   "cell_type": "code",
   "execution_count": null,
   "id": "0f5b322d-f97d-4c91-ac7d-53d547ab210d",
   "metadata": {
    "slideshow": {
     "slide_type": "slide"
    }
   },
   "outputs": [],
   "source": [
    "from compas.geometry import Point, Line\n",
    "\n",
    "# create line from Python points\n",
    "# create line from compas Point\n",
    "\n",
    "# verify that line_1 is identical to line_2"
   ]
  },
  {
   "cell_type": "markdown",
   "id": "6cc1baba",
   "metadata": {
    "slideshow": {
     "slide_type": "slide"
    }
   },
   "source": [
    "---\n",
    "\n",
    "<a id='visualization'></a>\n",
    "# C. Geometry and Visualization\n",
    "## C1. Visualize a Point\n",
    "The **point** we created in the last session is a virtual object, now we will visualize it. After we generate the geometry objects, we can use a visualization interface to translate the information into a visual context. Firstly, we need a \"drawing surface\" - a canvas in 2D, or a scene in 3D. A 2D canvas can contain a number of shapes, importantly, the **canvas** can display not only geometric data such as point coordinates, but also enhance this data with graphical elements such as color or line width. A **Graphics Context** contains computational objects that provide mechanisms for *displaying* the geometry, such as color, width of the curve, etc..\n",
    "\n",
    "A **Plotter** is such a graphics context. Let us use the [Compas Plotter](https://compas.dev/compas/latest/api/generated/compas_plotters.plotter.Plotter.html#compas_plotters.plotter.Plotter) ..."
   ]
  },
  {
   "cell_type": "code",
   "execution_count": null,
   "id": "45c57c0c-cd13-4d2d-9f45-840b4ab0607f",
   "metadata": {
    "slideshow": {
     "slide_type": "slide"
    }
   },
   "outputs": [],
   "source": [
    "# import the compas Point class\n",
    "# import the compas Plotter\n",
    "\n",
    "# create my_point\n",
    "\n"
   ]
  },
  {
   "cell_type": "markdown",
   "id": "79a8d52b-f6c0-42bd-80c0-1f28d0e2d5d2",
   "metadata": {
    "slideshow": {
     "slide_type": "slide"
    }
   },
   "source": [
    "## C2. Line\n",
    "\n",
    "For all information consult the COMPAS API reference for [Line](https://compas.dev/compas/latest/api/generated/compas.geometry.Line.html#compas.geometry.Line)."
   ]
  },
  {
   "cell_type": "code",
   "execution_count": null,
   "id": "7b1e51a8-139a-435d-ac3d-2a7160e34de7",
   "metadata": {},
   "outputs": [],
   "source": [
    "from compas.geometry import Line# import the compas Line class\n",
    "from compas_plotters import Plotter # import the compas Plotter class\n",
    "\n",
    "# create a line\n",
    "\n",
    "my_line = Line([0, 0, 0], [1, 1, 0]) # create my_line\n",
    "\n",
    "# visualize the line\n",
    "# create the Plotter\n",
    "# add my_line\n",
    "# zoom_extents\n",
    "\n",
    "# display my_point"
   ]
  },
  {
   "cell_type": "markdown",
   "id": "9efa6018-f999-4134-a5fc-58d9b4c6612c",
   "metadata": {
    "slideshow": {
     "slide_type": "slide"
    }
   },
   "source": [
    "## C3. Vector\n",
    "A vector is a geometric object that has magnitude and direction. In Python, it can be represented through a list of x, y, z components.\n",
    "\n",
    "For all information consult the COMPAS API reference for [Vector](https://compas.dev/compas/latest/api/generated/compas.geometry.Vector.html#compas.geometry.Vector).\n"
   ]
  },
  {
   "cell_type": "markdown",
   "id": "ba066f36",
   "metadata": {
    "slideshow": {
     "slide_type": "slide"
    }
   },
   "source": [
    "### C3_a. Vector Data"
   ]
  },
  {
   "cell_type": "code",
   "execution_count": null,
   "id": "dc7ef6da-3b53-4ca6-89a7-21af4dfe334d",
   "metadata": {},
   "outputs": [],
   "source": [
    "my_vector = [1, 2, 0]  # xyz coordinates of the vector"
   ]
  },
  {
   "cell_type": "markdown",
   "id": "3750b744-b8c9-4315-ac28-7cbe1ae81a27",
   "metadata": {
    "slideshow": {
     "slide_type": "slide"
    }
   },
   "source": [
    "A vector can be added, subtracted, multiplied by another vector. For example, here's the example to add two vectors in Python. "
   ]
  },
  {
   "cell_type": "code",
   "execution_count": null,
   "id": "fe9e54d3-41a9-4fd2-b3a0-b9cf89c77673",
   "metadata": {},
   "outputs": [],
   "source": [
    "vector1 = [1, 2, 0]\n",
    "vector2 = [0, 1, 0]\n",
    "\n",
    "vector3 = [] #add vector1 to vector2\n",
    "\n",
    "print(vector3)"
   ]
  },
  {
   "cell_type": "markdown",
   "id": "550153d8-eb4e-4879-b9c2-97826f839120",
   "metadata": {
    "slideshow": {
     "slide_type": "slide"
    }
   },
   "source": [
    "### C3_b. Geometric Operation Functions\n",
    "compas.geometry provides geometric operation functions to simplify the use of basic Python operations. These functions always return native Python objects. The last example can be realized by using `compas.geometry.add_vectors`."
   ]
  },
  {
   "cell_type": "code",
   "execution_count": null,
   "id": "479401db-0b19-443d-a69a-b22cee62c924",
   "metadata": {},
   "outputs": [],
   "source": [
    "from compas.geometry import add_vectors\n",
    "vector1 = [1, 2, 0]\n",
    "vector2 = [0, 1, 0]\n",
    "# add vector1 to vector2 by calling the add_vectors function\n",
    "print(vector3)"
   ]
  },
  {
   "cell_type": "markdown",
   "id": "4a7393d5-02a3-42b0-b066-b47f70531ff0",
   "metadata": {
    "slideshow": {
     "slide_type": "slide"
    }
   },
   "source": [
    "### C3_c. Vector Class\n",
    "COMPAS Vector class which contains useful geometric properties and methods. Now let's create a Vector object and check its length. In Vector class, `length` is an attribute of the vector `object`."
   ]
  },
  {
   "cell_type": "code",
   "execution_count": null,
   "id": "08597a90-c3ae-41ed-943b-a6be562b8159",
   "metadata": {},
   "outputs": [],
   "source": [
    "# import the Vector class\n",
    "\n",
    "print(my_vector)\n",
    "#measure my_vector length"
   ]
  },
  {
   "cell_type": "markdown",
   "id": "e6dcf388-3e47-447f-8f78-a2ba883e28a6",
   "metadata": {
    "slideshow": {
     "slide_type": "slide"
    }
   },
   "source": [
    "A vector can also be constructed from start and end points. COMPAS geometry types can be used interchangeably with native Python types. \n",
    "\n",
    "In other words, **Both a COMPAS Point object or a list composed of 3 components could be used as input**. "
   ]
  },
  {
   "cell_type": "code",
   "execution_count": 50,
   "id": "befdb662-5cde-42f2-8902-2a35d8e36b68",
   "metadata": {},
   "outputs": [
    {
     "name": "stdout",
     "output_type": "stream",
     "text": [
      "Vector(1.000, 2.000, 0.000) my_vector\n",
      "True\n"
     ]
    }
   ],
   "source": [
    "from compas.geometry import Point, Vector\n",
    "#my_vector = Vector.from_start_end(Point(0, 0, 0), Point(1, 2, 0))\n",
    "#my_vector = Vector.from_start_end([0, 0, 0], [1, 2, 0]\n",
    "print(my_vector, 'my_vector')\n",
    "print(my_vector == Vector(1, 2, 0))"
   ]
  },
  {
   "cell_type": "markdown",
   "id": "6c3bd3ec-38c1-4481-9cf8-76403d7a96be",
   "metadata": {
    "slideshow": {
     "slide_type": "slide"
    }
   },
   "source": [
    "Operators such as + or * involving COMPAS geometry objects always return a new COMPAS geometry object. For example, scaling my_vector by 2 can use the class method Vector.scale(n) as well as * 2. "
   ]
  },
  {
   "cell_type": "code",
   "execution_count": 55,
   "id": "79f1aa27-ed37-41e5-ad42-2446cd51454a",
   "metadata": {},
   "outputs": [
    {
     "name": "stdout",
     "output_type": "stream",
     "text": [
      "Vector(2.000, 4.000, 0.000)\n",
      "True\n",
      "True\n"
     ]
    }
   ],
   "source": [
    "from compas.geometry import Vector\n",
    "my_vector = Vector(1, 2, 0) #create a vector \n",
    "my_vector.scale(2) # scale the vector\n",
    "print(my_vector)# print the vector\n",
    "print(my_vector == Vector(2, 4, 0)) #verify 1\n",
    "print(my_vector == Vector(1, 2, 0) * 2) #verify 2"
   ]
  },
  {
   "cell_type": "markdown",
   "id": "8780c387-7fa4-4017-9f41-f1a9f544b186",
   "metadata": {
    "slideshow": {
     "slide_type": "slide"
    }
   },
   "source": [
    "### C3_d: Exercise: Draw Vectors\n",
    "Question: Given three points: pointA: [0, 0, 0], pointB: [0, 1, 0], pointC: [3, 2, 0]. You need to draw three vectors as shown in the following picture. \n",
    "\n",
    "<img src=\"img/vectors.jpg\" width=\"500\" style=\"margin-left:auto; margin-right:auto\"/>\n",
    "</br>"
   ]
  },
  {
   "cell_type": "code",
   "execution_count": null,
   "id": "252f4a07-b048-459b-8744-9e9aa0b99b7f",
   "metadata": {
    "slideshow": {
     "slide_type": "slide"
    }
   },
   "outputs": [],
   "source": [
    "from compas.geometry import Point\n",
    "from compas_plotters import Plotter\n",
    "\n",
    "# Point Geometry\n",
    "# create point 1\n",
    "# create point 2\n",
    "# create point 3\n",
    "\n",
    "# Plotter\n",
    "plotter = Plotter(show_axes=True)\n",
    "\n",
    "# add point 1\n",
    "# add point 2\n",
    "# add point 3\n",
    "\n",
    "plotter.zoom_extents()\n",
    "plotter.show()\n"
   ]
  },
  {
   "cell_type": "code",
   "execution_count": 56,
   "id": "14d049f2-8ce5-43b0-81c8-3297ed88bb65",
   "metadata": {
    "slideshow": {
     "slide_type": "slide"
    }
   },
   "outputs": [
    {
     "data": {
      "image/png": "[encoded data removed]",
      "text/plain": [
       "<Figure size 800x500 with 1 Axes>"
      ]
     },
     "metadata": {},
     "output_type": "display_data"
    }
   ],
   "source": [
    "from compas.geometry import Point\n",
    "from compas_plotters import Plotter\n",
    "\n",
    "# Point Geometry\n",
    "point1 = Point(0, 0, 0)\n",
    "point2 = Point(0, 1, 0)\n",
    "point3 = Point(3, 2, 0)\n",
    "\n",
    "# Vector Geometry\n",
    "\n",
    "# create vector 1\n",
    "# create vector 2\n",
    "# create vector 3\n",
    "\n",
    "# Plotter \n",
    "plotter = Plotter(show_axes=True)\n",
    "\n",
    "plotter.add(point1)\n",
    "plotter.add(point2)\n",
    "plotter.add(point3)\n",
    "\n",
    "# add vector 1\n",
    "# add vector 2\n",
    "# add vector 3\n",
    "\n",
    "plotter.zoom_extents()\n",
    "\n",
    "plotter.show()"
   ]
  },
  {
   "cell_type": "markdown",
   "id": "cb192774-9fea-4b7f-b25d-147568551061",
   "metadata": {
    "slideshow": {
     "slide_type": "slide"
    }
   },
   "source": [
    "## C4. Polygon\n",
    "A Polygon can be represented by an ordered collection of points in space connected by straight line segments forming a closed boundary around the interior space. Its closed boundary separates its interior from the exterior.\n",
    "\n",
    "For all information consult the COMPAS API reference for [Polygon](https://compas.dev/compas/latest/api/generated/compas.geometry.Polygon.html#compas.geometry.Polygon)."
   ]
  },
  {
   "cell_type": "code",
   "execution_count": 1,
   "id": "05026846-10aa-472b-a73c-f693acac8c8b",
   "metadata": {
    "slideshow": {
     "slide_type": "slide"
    }
   },
   "outputs": [
    {
     "ename": "TypeError",
     "evalue": "__init__() missing 1 required positional argument: 'points'",
     "output_type": "error",
     "traceback": [
      "\u001b[0;31m---------------------------------------------------------------------------\u001b[0m",
      "\u001b[0;31mTypeError\u001b[0m                                 Traceback (most recent call last)",
      "\u001b[0;32m<ipython-input-1-64788a87801e>\u001b[0m in \u001b[0;36m<module>\u001b[0;34m\u001b[0m\n\u001b[1;32m      3\u001b[0m \u001b[0;34m\u001b[0m\u001b[0m\n\u001b[1;32m      4\u001b[0m \u001b[0;31m# generate a polygon\u001b[0m\u001b[0;34m\u001b[0m\u001b[0;34m\u001b[0m\u001b[0m\n\u001b[0;32m----> 5\u001b[0;31m \u001b[0mmy_polygon\u001b[0m \u001b[0;34m=\u001b[0m \u001b[0mPolygon\u001b[0m\u001b[0;34m(\u001b[0m\u001b[0;34m)\u001b[0m\u001b[0;34m\u001b[0m\u001b[0;34m\u001b[0m\u001b[0m\n\u001b[0m\u001b[1;32m      6\u001b[0m \u001b[0;34m\u001b[0m\u001b[0m\n\u001b[1;32m      7\u001b[0m \u001b[0;31m# plotter\u001b[0m\u001b[0;34m\u001b[0m\u001b[0;34m\u001b[0m\u001b[0m\n",
      "\u001b[0;31mTypeError\u001b[0m: __init__() missing 1 required positional argument: 'points'"
     ]
    }
   ],
   "source": [
    "from compas.geometry import Polygon\n",
    "from compas_plotters import Plotter\n",
    "\n",
    "# generate a polygon\n",
    "my_polygon = Polygon()\n",
    "\n",
    "# plotter\n",
    "plotter = Plotter(show_axes=True)\n",
    "plotter.add(my_polygon, edgecolor=(0, 0, 1), facecolor=(1, 1, 0))\n",
    "plotter.zoom_extents()\n",
    "plotter.show()"
   ]
  },
  {
   "cell_type": "code",
   "execution_count": null,
   "id": "0d4e9234-56da-4df3-9bee-f8b644ad19eb",
   "metadata": {
    "slideshow": {
     "slide_type": "slide"
    }
   },
   "outputs": [],
   "source": [
    "from compas.geometry import Polygon\n",
    "from compas_plotters import Plotter\n",
    "\n",
    "# generate a polygon\n",
    "my_polygon = Polygon()\n",
    "\n",
    "# plotter\n",
    "plotter = Plotter(show_axes=True)\n",
    "plotter.add(my_polygon, edgecolor=(0, 0, 1), facecolor=(0.7, 0.7, 1.0))\n",
    "plotter.zoom_extents()\n",
    "plotter.show()"
   ]
  },
  {
   "cell_type": "markdown",
   "id": "ba6d789b-e273-4a27-b0e8-3ec09a7328d3",
   "metadata": {
    "slideshow": {
     "slide_type": "slide"
    }
   },
   "source": [
    "## C5. Polyline \n",
    "A Polyline is a sequence of points connected by line segments. In contrast to a Polygon, a Polyline **does not** have an interior and an exterior. \n",
    "\n",
    "For all information consult the COMPAS API reference for [Polyline](https://compas.dev/compas/latest/api/generated/compas.geometry.Polyline.html#compas.geometry.Polyline)."
   ]
  },
  {
   "cell_type": "code",
   "execution_count": null,
   "id": "14709c0f-a827-486c-a5bb-137c68aabb99",
   "metadata": {
    "slideshow": {
     "slide_type": "slide"
    }
   },
   "outputs": [],
   "source": [
    "from compas.geometry import Polyline\n",
    "from compas_plotters import Plotter\n",
    "\n",
    "# generate a polyline\n",
    "my_polyline = Polyline()\n",
    "\n",
    "# plotter\n",
    "plotter = Plotter(show_axes=True)\n",
    "plotter.add(my_polyline, color=(1, 0, 0), linewidth=3)\n",
    "plotter.zoom_extents()\n",
    "plotter.show()"
   ]
  },
  {
   "cell_type": "markdown",
   "id": "2ca0e7f2-013a-4622-9622-9b8ffa260ed8",
   "metadata": {
    "slideshow": {
     "slide_type": "slide"
    }
   },
   "source": [
    "## C6. Circle\n",
    "\n",
    "For all information consult the COMPAS API reference for [Circle](https://compas.dev/compas/latest/api/generated/compas.geometry.Circle.html#compas.geometry.Circle)."
   ]
  },
  {
   "cell_type": "code",
   "execution_count": null,
   "id": "169df8b4-2ab6-45cb-8288-5454247c31e0",
   "metadata": {
    "slideshow": {
     "slide_type": "slide"
    }
   },
   "outputs": [],
   "source": [
    "from compas.geometry import Circle\n",
    "from compas_plotters import Plotter\n",
    "\n",
    "# generate a circle\n",
    "my_circle = Circle()\n",
    "\n",
    "# plotter\n",
    "plotter = Plotter(show_axes=True)\n",
    "plotter.add(my_circle, edgecolor=(0, 0, 1), facecolor=(0, 1, 1), linewidth=3)\n",
    "plotter.zoom_extents()\n",
    "plotter.show()"
   ]
  },
  {
   "cell_type": "markdown",
   "id": "5b3594b7-75d9-407d-a899-425dfb2dbb9a",
   "metadata": {
    "slideshow": {
     "slide_type": "slide"
    }
   },
   "source": [
    "## C7. Pointcloud\n",
    "\n",
    "For all information consult the COMPAS API reference for [Pointcloud](https://compas.dev/compas/latest/api/generated/compas.geometry.Pointcloud.html#compas.geometry.Pointcloud)."
   ]
  },
  {
   "cell_type": "code",
   "execution_count": null,
   "id": "e4ea969c-0069-4e37-ba1b-95faf88d2311",
   "metadata": {
    "slideshow": {
     "slide_type": "slide"
    }
   },
   "outputs": [],
   "source": [
    "from compas.geometry import Pointcloud\n",
    "from compas_plotters import Plotter\n",
    "\n",
    "# generate a pointcloud\n",
    "pcl = Pointcloud()\n",
    "\n",
    "# Plotter\n",
    "plotter = Plotter(show_axes=True)\n",
    "# add points to the plotter\n",
    "\n",
    "plotter.zoom_extents()\n",
    "plotter.show()"
   ]
  },
  {
   "cell_type": "markdown",
   "id": "b12ccc80-c1d5-4827-9a72-f86944a65052",
   "metadata": {
    "slideshow": {
     "slide_type": "slide"
    }
   },
   "source": [
    "<a id='Operations'></a>\n",
    "\n",
    "---\n",
    "\n",
    "# D. Geometry Operations"
   ]
  },
  {
   "cell_type": "markdown",
   "id": "dfbba142-c37e-4d9a-8d51-6c8ae1805c09",
   "metadata": {},
   "source": [
    "## D1. Transformation\n",
    "Transformation means changes in geometric shape, which is represented by a 4x4 transformation matrix. Here we will learn 3 typical transformations in COMPAS: translation, rotation and scale. \n",
    "A COMPAS geometry object can be transformed by calling the method .transform() or .transformed(). The former modifies the object in place, whereas the latter returns a new object.\n",
    "\n",
    "For all information consult the COMPAS API reference for [Transformations](https://compas.dev/compas/latest/api/compas.geometry.html#transformations-1)."
   ]
  },
  {
   "cell_type": "markdown",
   "id": "fbca0f02-8d41-4e0b-81bf-09008b3242b7",
   "metadata": {
    "slideshow": {
     "slide_type": "slide"
    }
   },
   "source": [
    "### D1_a. Translation\n",
    "Translation is to move the geometry, one of the most basic transformation types. The shape, size and orientation of the geometry remain the same.\n",
    "\n",
    "For all information consult the COMPAS API reference for [Translation](https://compas.dev/compas/latest/api/generated/compas.geometry.Translation.html#compas.geometry.Translation)."
   ]
  },
  {
   "cell_type": "code",
   "execution_count": null,
   "id": "38af4e79-b673-4634-96a1-3c0d29c8ba20",
   "metadata": {},
   "outputs": [],
   "source": []
  },
  {
   "cell_type": "code",
   "execution_count": null,
   "id": "8ba2641d-6dc0-4b0f-a09b-22b4a4eb85ee",
   "metadata": {
    "slideshow": {
     "slide_type": "slide"
    }
   },
   "outputs": [],
   "source": [
    "from compas.geometry import Polygon\n",
    "from compas_plotters import Plotter\n",
    "\n",
    "# Construct a regular polygon from a number of sides and a radius.\n",
    "my_polygon = Polygon.from_sides_and_radius_xy(5, 2.0) \n",
    "# translate the polygon\n",
    "\n",
    "\n",
    "plotter = Plotter(show_axes=True)\n",
    "plotter.add(my_polygon, edgecolor=(0, 0, 1), facecolor=(0.7, 0.7, 1.0))\n",
    "plotter.zoom_extents()\n",
    "plotter.show()"
   ]
  },
  {
   "cell_type": "markdown",
   "id": "dc7c01ed-eae5-4ac1-a25b-1eedf68886fa",
   "metadata": {
    "slideshow": {
     "slide_type": "slide"
    }
   },
   "source": [
    "`.transformed()` creates a new polygon. "
   ]
  },
  {
   "cell_type": "code",
   "execution_count": null,
   "id": "67cd17d5-a8c2-4204-9610-58beec27d1ba",
   "metadata": {},
   "outputs": [],
   "source": [
    "from compas.geometry import Polygon, Translation\n",
    "from compas_plotters import Plotter\n",
    "\n",
    "# Construct a regular polygon from a number of sides and a radius.\n",
    "my_polygon = Polygon.from_sides_and_radius_xy(5, 2.0) \n",
    "\n",
    "# compare transform with transformed\n",
    "\n",
    "plotter = Plotter(show_axes=True)\n",
    "plotter.add(my_polygon, edgecolor=(0, 0, 1), facecolor=(0.7, 0.7, 1.0))\n",
    "\n",
    "plotter.zoom_extents()\n",
    "plotter.show()"
   ]
  },
  {
   "cell_type": "markdown",
   "id": "97205e39-8cbc-4eb7-abe4-9aaf07c42231",
   "metadata": {
    "slideshow": {
     "slide_type": "slide"
    }
   },
   "source": [
    "### D1_b. Rotation\n",
    "Rotation is to rotate the geometry by a certain amount in **degrees** or **radians**. \n",
    "\n",
    "For all information consult the COMPAS API reference for [Rotation](https://compas.dev/compas/latest/api/generated/compas.geometry.Rotation.html#compas.geometry.Rotation)."
   ]
  },
  {
   "cell_type": "code",
   "execution_count": null,
   "id": "a0c55a1c-e9e8-4b3f-8113-23146b9d0b4e",
   "metadata": {},
   "outputs": [],
   "source": [
    "import math as m\n",
    "from compas.geometry import Polygon, Rotation\n",
    "from compas_plotters import Plotter\n",
    "\n",
    "# Construct a regular polygon from a number of sides and a radius.\n",
    "my_polygon = Polygon.from_sides_and_radius_xy(5, 2.0) \n",
    "\n",
    "# Rotate the polygon\n",
    "\n",
    "\n",
    "plotter = Plotter(show_axes=True)\n",
    "plotter.add(my_polygon, edgecolor=(0, 0, 1), facecolor=(0.7, 0.7, 1.0))\n",
    "plotter.zoom_extents()\n",
    "plotter.show()"
   ]
  },
  {
   "cell_type": "markdown",
   "id": "0f4f47ff-8385-44db-ad5a-70833a94b2b0",
   "metadata": {
    "slideshow": {
     "slide_type": "slide"
    }
   },
   "source": [
    "### D1_c. Scaling\n",
    "Scaling is a **linear transformation** to **enlarge** or **shrink** objects by a **scale factor**. Scaling can either be **uniform**, by the same scale factor along all axes, or **non-uniform**, by different scale factors along the axes.\n",
    "\n",
    "For all information consult the COMPAS API reference for [Scaling](https://compas.dev/compas/latest/api/generated/compas.geometry.Scale.html#compas.geometry.Scale)."
   ]
  },
  {
   "cell_type": "code",
   "execution_count": null,
   "id": "6fe3a874-4e5d-4e2a-8a9b-56055ea16bf9",
   "metadata": {},
   "outputs": [],
   "source": [
    "from compas.geometry import Polygon, Scale\n",
    "from compas_plotters import Plotter\n",
    "\n",
    "# Construct a regular polygon from a number of sides and a radius.\n",
    "my_polygon = Polygon.from_sides_and_radius_xy(5, 2.0) \n",
    "\n",
    "# Scale the polygon\n",
    "\n",
    "\n",
    "plotter = Plotter(show_axes=True)\n",
    "plotter.add(my_polygon, edgecolor=(0, 0, 1), facecolor=(0.7, 0.7, 1.0))\n",
    "plotter.zoom_extents()\n",
    "plotter.show()"
   ]
  },
  {
   "cell_type": "markdown",
   "id": "8e76ff67-6912-4824-8a90-0f9b863f40c6",
   "metadata": {
    "slideshow": {
     "slide_type": "slide"
    }
   },
   "source": [
    "## D2 . Frame \n",
    "A **Frame** plays an important role in Transformation, especially in 3D. A frame defines a local coordinate system enabling transformation between different coordinate systems represented by frames. \n",
    "Note that **Frame** is different from a **Plane**. A frame is defined by an origin and two axes, while a plane is defined by an origin and a normal vector.\n",
    "\n",
    "For all information consult the COMPAS API reference for [Frame](https://compas.dev/compas/latest/api/generated/compas.geometry.Frame.html#compas.geometry.Frame)."
   ]
  },
  {
   "cell_type": "code",
   "execution_count": null,
   "id": "6440dcd8",
   "metadata": {
    "slideshow": {
     "slide_type": "slide"
    }
   },
   "outputs": [],
   "source": []
  },
  {
   "cell_type": "markdown",
   "id": "c981856d",
   "metadata": {
    "slideshow": {
     "slide_type": "slide"
    }
   },
   "source": [
    "## Exercise: Sketch Geometries\n",
    "\n",
    "Create COMPAS geometry objects and visualize them in the plotter. Here are some inspirations.\n",
    "![img_1](https://files.gitbook.com/v0/b/gitbook-legacy-files/o/assets%2F-M730QpQnbAMvz44bqhc%2F-MO7Q1q2R-giVBFO0U-B%2F-MO7QAS5ACOKZsPa4Usf%2Fimage.png?alt=media&token=cd9b02e0-252e-4e99-8f77-75923ca42c11)\n",
    "![img_2](https://files.gitbook.com/v0/b/gitbook-legacy-files/o/assets%2F-M730QpQnbAMvz44bqhc%2F-MNPA4gHx-OruJA0U3Ht%2F-MNPBkK-9c2blYWyw6hh%2Fimage.png?alt=media&token=56d6bd22-8efc-4c22-9011-f0fff609836b)"
   ]
  },
  {
   "cell_type": "code",
   "execution_count": null,
   "id": "30b94f46-0b84-4ef6-8cc0-5f59d4c57475",
   "metadata": {
    "slideshow": {
     "slide_type": "slide"
    }
   },
   "outputs": [],
   "source": []
  },
  {
   "cell_type": "code",
   "execution_count": null,
   "id": "1f53153b",
   "metadata": {},
   "outputs": [],
   "source": []
  }
 ],
 "metadata": {
  "celltoolbar": "Slideshow",
  "interpreter": {
   "hash": "5e897d0e4e978ef05e1a63d69df614a45a680d18e8ec0fd527b8776f3a2cd736"
  },
  "kernelspec": {
   "display_name": "Python 3",
   "language": "python",
   "name": "python3"
  },
  "language_info": {
   "codemirror_mode": {
    "name": "ipython",
    "version": 3
   },
   "file_extension": ".py",
   "mimetype": "text/x-python",
   "name": "python",
   "nbconvert_exporter": "python",
   "pygments_lexer": "ipython3",
   "version": "3.9.10"
  }
 },
 "nbformat": 4,
 "nbformat_minor": 5
}
