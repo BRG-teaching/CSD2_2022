{
 "cells": [
  {
   "cell_type": "markdown",
   "id": "dfa6ab74",
   "metadata": {},
   "source": [
    "# Computational Structural Design II - Geometry, Data and Visualization\n",
    "\n",
    "### Learning Goal: \n",
    "- Geometries\n",
    "- data\n",
    "- visualization\n",
    "\n",
    "### Content:\n",
    "- [A. Geometry Data](#GeometryData)\n",
    "- [B. Geometry Class](#GeometryClass)\n",
    "- [C. Geometry and Visualization](#visualization)\n",
    "- [D. Geometry Operations](#Operations)\n",
    "---\n"
   ]
  },
  {
   "cell_type": "markdown",
   "id": "95d49bad",
   "metadata": {},
   "source": [
    "<a id='GeometryData'></a>\n",
    "# A. Geometry Data\n",
    "\n",
    "## A1. Describe a point in Rhinoceros Grasshopper\n",
    "A point in 3D Cartesian coordinate system is represented by 3 numbers, which represents values along x, y and z axis. If you are familiar with Rhino and Grasshopper, a point can be created numerically by inputing 3 values. \n",
    "\n",
    "</br>\n",
    "<img src = \"img/geo_pt_gh.png\" width=\"500\" style=\"margin-left:auto; margin-right:auto\"/>\n",
    "<center>create a point in Rhinoceros Grasshopper 3D</center>\n",
    "</br>\n",
    "\n",
    "## A2. Describe a Point by Python list\n",
    "Similarly the point can be referred to as a list `[x, y, z]` in Python. The three numbers represent the xyz coordinates of the point. Since a point is described as a list, the value in the list can be retrieved, modified, and updated by accessing the corresponding index of the list. \n",
    "Here we create a point `x=0, y=1, z=1` and change the coordinate `y=5`. \n"
   ]
  },
  {
   "cell_type": "code",
   "execution_count": 44,
   "id": "9b3fd05f-0131-4541-8055-c7442f784c59",
   "metadata": {},
   "outputs": [
    {
     "name": "stdout",
     "output_type": "stream",
     "text": [
      "y coordinate of my_point is 5\n",
      "xyz coordinates of my_point are [0, 5, 2]\n"
     ]
    }
   ],
   "source": [
    "# xyz coordinates of the point\n",
    "my_point = [0, 5, 2]  \n",
    "print(\"y coordinate of my_point is\", my_point[1])\n",
    "\n",
    "# re-assign the y coordinates 5\n",
    "my_point[1] = 5  \n",
    "print(\"xyz coordinates of my_point are\", my_point)"
   ]
  },
  {
   "cell_type": "markdown",
   "id": "ddad704a-c432-4068-ba64-eb6cd9efe669",
   "metadata": {},
   "source": [
    "## A3. Geometry Data Summary\n",
    "Besides point, basic geometry types - such as vector, line, plane - can be described numerically in Python by **lists of values**. The length of the list corresponds with the number of dimensions of the space the geometry resides in. In 3D space, the list contains 3 elements. The following table demonstrates the data used to describe 3D geometries numerically. \n",
    "\n",
    "\n",
    "<table style='float:center;'>\n",
    "    <tr>\n",
    "        <th style='text-align: center'>Geometry</th>\n",
    "        <th style='text-align: center'>Data</th>\n",
    "        <th style='text-align: center'>Description</th>\n",
    "    </tr>\n",
    "    <tr>\n",
    "        <td style='text-align: center'>point</td>\n",
    "        <td style='text-align: center'>[x, y, z]</td>\n",
    "        <td style='text-align: center'> </td>\n",
    "    </tr>\n",
    "    <tr>\n",
    "        <td style='text-align: center'>vector</td>\n",
    "        <td style='text-align: center'>[x, y, z]</td>\n",
    "        <td style='text-align: center'> </td>\n",
    "    </tr>\n",
    "    <tr>\n",
    "        <td style='text-align: center'>line</td>\n",
    "        <td style='text-align: center'>([x<sub>1</sub>, y<sub>1</sub>, z<sub>1</sub>], [x<sub>2</sub>, y<sub>2</sub>, z<sub>2</sub>])</td>\n",
    "        <td style='text-align: center'>(start point, end point)</td>\n",
    "    </tr>\n",
    "    <tr>\n",
    "        <td style='text-align: center'>plane</td>\n",
    "        <td style='text-align: center'>([x<sub>0</sub>, y<sub>0</sub>, z<sub>0</sub>], [x<sub>n</sub>, y<sub>n</sub>, z<sub>n</sub>])</td>\n",
    "        <td style='text-align: center'>(origin, normal)</td>\n",
    "    </tr>\n",
    "    <tr>\n",
    "        <td style='text-align: center'>circle</td>\n",
    "        <td style='text-align: center'>[([x<sub>0</sub>, y<sub>0</sub>, z<sub>0</sub>], [x<sub>n</sub>, y<sub>n</sub>, z<sub>n</sub>]), r]</td>\n",
    "        <td style='text-align: center'>[(origin, normal), radius]</td>\n",
    "    </tr>\n",
    "    <tr>\n",
    "        <td style='text-align: center'>polyline</td>\n",
    "        <td style='text-align: center'>([x<sub>1</sub>, y<sub>1</sub>, z<sub>1</sub>], [x<sub>2</sub>, y<sub>2</sub>, z<sub>2</sub>], [x<sub>3</sub>, y<sub>3</sub>, z<sub>3</sub>, ...])</td>\n",
    "         <td style='text-align: center'>collection of points</td>\n",
    "    </tr>\n",
    "    <tr>\n",
    "        <td style='text-align: center'>polygon</td>\n",
    "        <td style='text-align: center'>([x<sub>1</sub>, y<sub>1</sub>, z<sub>1</sub>], [x<sub>2</sub>, y<sub>2</sub>, z<sub>2</sub>], [x<sub>3</sub>, y<sub>3</sub>, z<sub>3</sub>, ...])</td>\n",
    "         <td style='text-align: center'>collection of points</td>\n",
    "    </tr>\n",
    "    <tr>\n",
    "        <td style='text-align: center'>frame</td>\n",
    "        <td style='text-align: center'>([x<sub>0</sub>, y<sub>0</sub>, z<sub>0</sub>], [x<sub>1</sub>, y<sub>1</sub>, z<sub>1</sub>], [x<sub>2</sub>, y<sub>2</sub>, z<sub>2</sub>])</td>\n",
    "         <td style='text-align: center'>[origin, vector, vector]</td>\n",
    "    </tr>\n",
    "</table> \n",
    "    \n",
    "</br>\n",
    "\n",
    "---"
   ]
  },
  {
   "cell_type": "markdown",
   "id": "dc2f590b-4e32-418e-a436-0935f61699d1",
   "metadata": {},
   "source": [
    "<a id='GeometryClass'></a>\n",
    "# B. Geometry Class\n",
    "A geometry type can be described by data. We can use a **Class** as a constructor, a template, or a \"blueprint\" to create **Objects** of a certain geometry type. An **Object** is an instance of a **Class** and it shares all attributes and the behavior of the Class. Classes are used frequently in Python scripting. A class can not only store data, but also define methods (a object-oriented programming term for functions) alongside the data that they operate on and produce. \n",
    "\n",
    "In the following session, we will learn Python Class by creating our own **Point class**. Then we will use the class to create a **Point object**, which represents the point `x=0, y=1, z=1`. \n",
    "\n",
    "## B1. Point Class\n",
    "### B1_a. Create a Class\n",
    "Class definition cannot be empty. Put the `pass` statement to avoid getting an error. "
   ]
  },
  {
   "cell_type": "code",
   "execution_count": 27,
   "id": "0ea6ddce-7f42-4896-b794-69072c9e0e0b",
   "metadata": {},
   "outputs": [
    {
     "name": "stdout",
     "output_type": "stream",
     "text": [
      "<__main__.Point object at 0x7fb6c808a0a0>\n"
     ]
    }
   ],
   "source": [
    "class Point:\n",
    "    \"\"\" Point class\"\"\"\n",
    "    pass\n",
    "\n",
    "pt = Point()  # instantiate an object of Point\n",
    "print(pt) # by default, print the name of the object’s class and the address of the object. "
   ]
  },
  {
   "cell_type": "markdown",
   "id": "b2e4dba2-7b5b-4db8-9866-123e0f9bc476",
   "metadata": {},
   "source": [
    "### B1_b. `__init__()` function\n",
    "All classes have a function called `__init__()`, which is always executed when the class is being initiated. We can pass some initial values to the class by calling the `__init__()` function. Before the parameters `x`, `y`, `z`, there is a `self`, which refers to the object itself. Then, we need to create new fields also called `x`, `y`, `z`. Notice `self.x` and `x` are two different variables even though they are both called `x`. You can view the dotted notation `self.x` as the attribute of your Point object, and the other x is a local variable. "
   ]
  },
  {
   "cell_type": "code",
   "execution_count": 31,
   "id": "725eac23-6c64-4baa-8aa5-cb99cb9620de",
   "metadata": {},
   "outputs": [
    {
     "name": "stdout",
     "output_type": "stream",
     "text": [
      "xyz coordinates are: 1 1 0\n"
     ]
    }
   ],
   "source": [
    "class Point:\n",
    "    \"\"\" Point class\"\"\"\n",
    "    \n",
    "    def __init__(self, x, y, z):\n",
    "        self.x = x\n",
    "        self.y = y\n",
    "        self.z = z\n",
    "\n",
    "pt = Point(1, 1, 0) # create a point object\n",
    "print(\"xyz coordinates are:\", pt.x, pt.y, pt.z)"
   ]
  },
  {
   "cell_type": "markdown",
   "id": "370ad928-e57a-4040-8411-e85432382c44",
   "metadata": {},
   "source": [
    "### B1_c. Object Method\n",
    "Now let's add a method to Point class to translate the point. It modifies the object attribute `self.x`, `self.y`, `self.z` by adding the translation distance along the corresponding axis.  "
   ]
  },
  {
   "cell_type": "code",
   "execution_count": 35,
   "id": "84165596-9eda-4921-afbd-db71990bdaac",
   "metadata": {},
   "outputs": [
    {
     "name": "stdout",
     "output_type": "stream",
     "text": [
      "xyz coordinates before translation are: 1 1 0\n",
      "xyz coordinates after translation are: 2 4 1\n"
     ]
    }
   ],
   "source": [
    "class Point:\n",
    "    \"\"\" Point class\"\"\"\n",
    "    \n",
    "    def __init__(self, x, y, z):\n",
    "        self.x = x\n",
    "        self.y = y\n",
    "        self.z = z\n",
    "    \n",
    "    def translate(self, vec_x, vec_y, vec_z):\n",
    "        \"\"\"Translate this point along a 3d vector\"\"\"\n",
    "        self.x += vec_x\n",
    "        self.y += vec_y\n",
    "        self.z += vec_z\n",
    "\n",
    "pt = Point(1, 1, 0) # create a point object\n",
    "print(\"xyz coordinates before translation are:\", pt.x, pt.y, pt.z) \n",
    "pt.translate(1,3,1) \n",
    "print(\"xyz coordinates after translation are:\", pt.x, pt.y, pt.z) "
   ]
  },
  {
   "cell_type": "markdown",
   "id": "13a8488f-409b-40b3-a5c0-adcdaa103a03",
   "metadata": {},
   "source": [
    "### B1_d. Modify Object Properties\n",
    "Properties on objects can be modified."
   ]
  },
  {
   "cell_type": "code",
   "execution_count": 36,
   "id": "a895c7a4-d728-4037-82f5-bd40b657d90c",
   "metadata": {},
   "outputs": [
    {
     "name": "stdout",
     "output_type": "stream",
     "text": [
      "xyz coordinates after modification are: 3 4 1\n"
     ]
    }
   ],
   "source": [
    "pt.x = 3\n",
    "print(\"xyz coordinates after modification are:\", pt.x, pt.y, pt.z) "
   ]
  },
  {
   "cell_type": "markdown",
   "id": "8c80792e-eb4d-4a6c-a84c-1045190cd4ea",
   "metadata": {},
   "source": [
    "## B2. Use the Point Class from COMPAS\n",
    "COMPAS contains a [Point](https://compas.dev/compas/latest/api/generated/compas.geometry.Point.html?highlight=point#compas.geometry.Point) class which is similar to the one we have created. However, it contains more object methods which have already been developed. In a COMPAS Point class, a Point has three parameters, `x`, `y`, `z`. They could be accessed through indexing as well as through `.x`, `.y`, and `.z` attributes. \n",
    "\n",
    "\n",
    "<img src = \"https://files.gitbook.com/v0/b/gitbook-28427.appspot.com/o/assets%2F-M730QpQnbAMvz44bqhc%2F-MMzyUtFsDByqwGgOo8D%2F-MN-4caIa6sDF5e1YGok%2Fimage.png?alt=media&token=2c8d3140-e57b-49a2-8f16-d89ba351319c\" width=\"700\" style=\"margin-left:auto; margin-right:auto\"/>\n"
   ]
  },
  {
   "cell_type": "code",
   "execution_count": 41,
   "id": "857d4822-e4ed-4585-9af5-2ed098d180a3",
   "metadata": {},
   "outputs": [
    {
     "name": "stdout",
     "output_type": "stream",
     "text": [
      "1.0\n",
      "True\n",
      "Point(0.000, 5.000, 1.000)\n"
     ]
    }
   ],
   "source": [
    "from compas.geometry import Point\n",
    "\n",
    "my_point = Point(0, 1, 1)  # create a point object\n",
    "print(my_point.y)  # attribute y of point\n",
    "print(my_point[1] == my_point.y)\n",
    "\n",
    "my_point.y = 5  # reassign the attribute y\n",
    "print(my_point) # Point class contains a class function that prints the summary of the object"
   ]
  },
  {
   "cell_type": "markdown",
   "id": "cc7392d7-f79b-44b7-8dd3-8bac7d2920f7",
   "metadata": {},
   "source": [
    "## B3. Geometry Classes in COMPAS\n",
    "COMPAS provides a number of ready-to-use primitive objects. Available primitive objects include `Point`, `Vector`, `Line`, `Plane`, `Polyline`, `Polygon`, `Circle`, `Frame`, etc. All COMPAS primitives can be used interchangeably with native Python objects as input for geometry functions and object methods. \n",
    "For a complete overview, you can visit the [API Reference](https://compas.dev/compas/latest/api/compas.geometry.html). \n",
    "\n",
    "<br/>\n",
    "<table style='float:center;'>\n",
    "    <tr>\n",
    "        <th style='text-align: center'>Geometry Object</th>\n",
    "        <th style='text-align: center'>COMPAS Class</th>\n",
    "    </tr>\n",
    "    <tr>\n",
    "        <td style='text-align: center'>point</td>\n",
    "        <td style='text-align: center'>point = Point(x, y, z)</td>\n",
    "    </tr>\n",
    "    <tr>\n",
    "        <td style='text-align: center'>vector</td>\n",
    "        <td style='text-align: center'>vector = Vector(x, y, z)</td>\n",
    "    </tr>\n",
    "    <tr>\n",
    "        <td style='text-align: center'>line</td>\n",
    "        <td style='text-align: center'>line = Line(point, point)</td>\n",
    "    </tr>\n",
    "    <tr>\n",
    "        <td style='text-align: center'>plane</td>\n",
    "        <td style='text-align: center'>plane = Plane(point, vector)</td>\n",
    "    </tr>\n",
    "    <tr>\n",
    "        <td style='text-align: center'>circle</td>\n",
    "        <td style='text-align: center'>circle = Circle(plane, radius)</td>\n",
    "    </tr>\n",
    "    <tr>\n",
    "        <td style='text-align: center'>polyline</td>\n",
    "        <td style='text-align: center'>polyline = Polyline(points)</td>\n",
    "    </tr>\n",
    "    <tr>\n",
    "        <td style='text-align: center'>polygon</td>\n",
    "        <td style='text-align: center'>polygon = Polygon(points)</td>\n",
    "    </tr>\n",
    "    <tr>\n",
    "        <td style='text-align: center'>frame</td>\n",
    "        <td style='text-align: center'>frame = Frame(point, vector, vector)</td>\n",
    "    </tr>\n",
    "</table> \n",
    "<br/>"
   ]
  },
  {
   "cell_type": "code",
   "execution_count": 3,
   "id": "0f5b322d-f97d-4c91-ac7d-53d547ab210d",
   "metadata": {},
   "outputs": [
    {
     "name": "stdout",
     "output_type": "stream",
     "text": [
      "True\n"
     ]
    }
   ],
   "source": [
    "from compas.geometry import Point, Line\n",
    "\n",
    "line_1 = Line([0, 0, 0], [2, 0, 0])\n",
    "line_2 = Line(Point(0, 0, 0), Point(2, 0, 0))\n",
    "\n",
    "print(line_1 == line_2)"
   ]
  },
  {
   "cell_type": "markdown",
   "id": "6cc1baba",
   "metadata": {},
   "source": [
    "---\n",
    "\n",
    "<a id='visualization'></a>\n",
    "# C. Geometry and Visualization\n",
    "## C1. Visualize a Point\n",
    "The point we have created in the last session is a virtual object, now we will visualize it"
   ]
  },
  {
   "cell_type": "code",
   "execution_count": 19,
   "id": "45c57c0c-cd13-4d2d-9f45-840b4ab0607f",
   "metadata": {},
   "outputs": [
    {
     "data": {
      "image/png": "[encoded data removed]",
      "text/plain": [
       "<Figure size 800x500 with 1 Axes>"
      ]
     },
     "metadata": {},
     "output_type": "display_data"
    }
   ],
   "source": [
    "from compas.geometry import Point\n",
    "from compas_plotters import Plotter\n",
    "\n",
    "my_point = Point(1, 1, 0)\n",
    "\n",
    "# visualize the Point\n",
    "plotter = Plotter(show_axes=True)\n",
    "plotter.add(my_point)\n",
    "plotter.show()"
   ]
  },
  {
   "cell_type": "code",
   "execution_count": 20,
   "id": "0506217b-ba2a-401d-92c4-82027c910001",
   "metadata": {},
   "outputs": [
    {
     "ename": "DataArtistNotRegistered",
     "evalue": "No artist is registered for this data type: <class 'compas.geometry.primitives.point.Point'> in this context: None",
     "output_type": "error",
     "traceback": [
      "\u001b[0;31m---------------------------------------------------------------------------\u001b[0m",
      "\u001b[0;31mDataArtistNotRegistered\u001b[0m                   Traceback (most recent call last)",
      "Input \u001b[0;32mIn [20]\u001b[0m, in \u001b[0;36m<module>\u001b[0;34m\u001b[0m\n\u001b[1;32m      3\u001b[0m \u001b[38;5;28;01mfrom\u001b[39;00m \u001b[38;5;21;01mcompas_plotters\u001b[39;00m\u001b[38;5;21;01m.\u001b[39;00m\u001b[38;5;21;01martists\u001b[39;00m \u001b[38;5;28;01mimport\u001b[39;00m PointArtist\n\u001b[1;32m      5\u001b[0m my_point \u001b[38;5;241m=\u001b[39m Point(\u001b[38;5;241m1\u001b[39m, \u001b[38;5;241m1\u001b[39m, \u001b[38;5;241m0\u001b[39m)\n\u001b[0;32m----> 6\u001b[0m pointartist \u001b[38;5;241m=\u001b[39m \u001b[43mPointArtist\u001b[49m\u001b[43m(\u001b[49m\u001b[43mmy_point\u001b[49m\u001b[43m)\u001b[49m\n\u001b[1;32m      8\u001b[0m \u001b[38;5;66;03m# visualize the Point\u001b[39;00m\n\u001b[1;32m      9\u001b[0m plotter \u001b[38;5;241m=\u001b[39m Plotter(show_axes\u001b[38;5;241m=\u001b[39m\u001b[38;5;28;01mTrue\u001b[39;00m)\n",
      "File \u001b[0;32m~/opt/anaconda3/envs/brg/lib/python3.8/site-packages/compas/artists/artist.py:88\u001b[0m, in \u001b[0;36mArtist.__new__\u001b[0;34m(cls, *args, **kwargs)\u001b[0m\n\u001b[1;32m     86\u001b[0m     register_artists()\n\u001b[1;32m     87\u001b[0m     Artist\u001b[38;5;241m.\u001b[39m__ARTISTS_REGISTERED \u001b[38;5;241m=\u001b[39m \u001b[38;5;28;01mTrue\u001b[39;00m\n\u001b[0;32m---> 88\u001b[0m \u001b[38;5;28mcls\u001b[39m \u001b[38;5;241m=\u001b[39m \u001b[43m_get_artist_cls\u001b[49m\u001b[43m(\u001b[49m\u001b[43margs\u001b[49m\u001b[43m[\u001b[49m\u001b[38;5;241;43m0\u001b[39;49m\u001b[43m]\u001b[49m\u001b[43m,\u001b[49m\u001b[43m \u001b[49m\u001b[38;5;241;43m*\u001b[39;49m\u001b[38;5;241;43m*\u001b[39;49m\u001b[43mkwargs\u001b[49m\u001b[43m)\u001b[49m\n\u001b[1;32m     89\u001b[0m PluginValidator\u001b[38;5;241m.\u001b[39mensure_implementations(\u001b[38;5;28mcls\u001b[39m)\n\u001b[1;32m     90\u001b[0m \u001b[38;5;28;01mreturn\u001b[39;00m \u001b[38;5;28msuper\u001b[39m(Artist, \u001b[38;5;28mcls\u001b[39m)\u001b[38;5;241m.\u001b[39m\u001b[38;5;21m__new__\u001b[39m(\u001b[38;5;28mcls\u001b[39m)\n",
      "File \u001b[0;32m~/opt/anaconda3/envs/brg/lib/python3.8/site-packages/compas/artists/artist.py:59\u001b[0m, in \u001b[0;36m_get_artist_cls\u001b[0;34m(data, **kwargs)\u001b[0m\n\u001b[1;32m     56\u001b[0m             \u001b[38;5;28;01mbreak\u001b[39;00m\n\u001b[1;32m     58\u001b[0m \u001b[38;5;28;01mif\u001b[39;00m \u001b[38;5;28mcls\u001b[39m \u001b[38;5;129;01mis\u001b[39;00m \u001b[38;5;28;01mNone\u001b[39;00m:\n\u001b[0;32m---> 59\u001b[0m     \u001b[38;5;28;01mraise\u001b[39;00m DataArtistNotRegistered(\u001b[38;5;124m'\u001b[39m\u001b[38;5;124mNo artist is registered for this data type: \u001b[39m\u001b[38;5;132;01m{}\u001b[39;00m\u001b[38;5;124m in this context: \u001b[39m\u001b[38;5;132;01m{}\u001b[39;00m\u001b[38;5;124m'\u001b[39m\u001b[38;5;241m.\u001b[39mformat(dtype, Artist\u001b[38;5;241m.\u001b[39mCONTEXT))\n\u001b[1;32m     61\u001b[0m \u001b[38;5;28;01mreturn\u001b[39;00m \u001b[38;5;28mcls\u001b[39m\n",
      "\u001b[0;31mDataArtistNotRegistered\u001b[0m: No artist is registered for this data type: <class 'compas.geometry.primitives.point.Point'> in this context: None"
     ]
    }
   ],
   "source": [
    "from compas.geometry import Point\n",
    "from compas_plotters import Plotter\n",
    "from compas_plotters.artists import PointArtist\n",
    "\n",
    "my_point = Point(1, 1, 0)\n",
    "pointartist = PointArtist(my_point)\n",
    "\n",
    "# visualize the Point\n",
    "plotter = Plotter(show_axes=True)\n",
    "plotter.add(my_point, pointartist)\n",
    "plotter.show()"
   ]
  },
  {
   "cell_type": "markdown",
   "id": "270c5f95-33ca-44d7-89f7-2e53ca8d1af6",
   "metadata": {},
   "source": [
    "After we generate the geometry objects, we can use a visualization interface to translate the information into a visual context. Firstly, We need a \"drawing surface\" - a canvas in 2D, or a scene in 3D. A 2D canvas can contain a number of shapes, which contains not only the geometric data - such as the coordinates, but also graphics context. Graphics context means objects that provide mechanisms for displaying the geometry, such as color, width of the curve. \n",
    "\n",
    "### TODO: add diagram about data, artist, plotter...\n",
    "\n"
   ]
  },
  {
   "cell_type": "code",
   "execution_count": 22,
   "id": "7be138df-0808-45e9-964e-a959c820a1dd",
   "metadata": {},
   "outputs": [],
   "source": [
    "# from IPython.display import display\n",
    "# fig = plotter.figure\n",
    "# display(fig)"
   ]
  },
  {
   "cell_type": "markdown",
   "id": "79a8d52b-f6c0-42bd-80c0-1f28d0e2d5d2",
   "metadata": {},
   "source": [
    "## C2. Line"
   ]
  },
  {
   "cell_type": "code",
   "execution_count": 24,
   "id": "7b1e51a8-139a-435d-ac3d-2a7160e34de7",
   "metadata": {},
   "outputs": [
    {
     "data": {
      "image/png": "[encoded data removed]",
      "text/plain": [
       "<Figure size 800x500 with 1 Axes>"
      ]
     },
     "metadata": {},
     "output_type": "display_data"
    }
   ],
   "source": [
    "from compas.geometry import Line\n",
    "from compas_plotters import Plotter\n",
    "\n",
    "# create a line\n",
    "my_line = Line([0, 0, 0], [1, 1, 0])\n",
    "\n",
    "# visualize the line\n",
    "plotter = Plotter(show_axes=True)\n",
    "plotter.add(my_line, draw_points=False, draw_as_segment=True)\n",
    "plotter.zoom_extents()\n",
    "plotter.show()"
   ]
  },
  {
   "cell_type": "markdown",
   "id": "9efa6018-f999-4134-a5fc-58d9b4c6612c",
   "metadata": {},
   "source": [
    "## C3. Vector\n",
    "A vector is a geometric object that has magnitude and direction. In Python, it could be represented through a list of XYZ components. \n",
    "### C3_a. Vector Data"
   ]
  },
  {
   "cell_type": "code",
   "execution_count": 26,
   "id": "dc7ef6da-3b53-4ca6-89a7-21af4dfe334d",
   "metadata": {},
   "outputs": [],
   "source": [
    "my_vector = [1, 2, 0]  # xyz coordinates of the vector"
   ]
  },
  {
   "cell_type": "markdown",
   "id": "3750b744-b8c9-4315-ac28-7cbe1ae81a27",
   "metadata": {},
   "source": [
    "A vector can be added, subtracted, multiplied by another vector. For example, here's the example to add two vectors in Python. "
   ]
  },
  {
   "cell_type": "code",
   "execution_count": 28,
   "id": "fe9e54d3-41a9-4fd2-b3a0-b9cf89c77673",
   "metadata": {},
   "outputs": [
    {
     "name": "stdout",
     "output_type": "stream",
     "text": [
      "[1, 3, 0]\n"
     ]
    }
   ],
   "source": [
    "vector1 = [1, 2, 0]\n",
    "vector2 = [0, 1, 0]\n",
    "vector3 = [vector1[i] + vector2[i] for i in range(3)]\n",
    "print(vector3)"
   ]
  },
  {
   "cell_type": "markdown",
   "id": "550153d8-eb4e-4879-b9c2-97826f839120",
   "metadata": {},
   "source": [
    "### C3_b. Geometric Operation Functions\n",
    "compas.geometry provides geometric operation functions to simplify the use of basic Python operations. These functions always return native Python objects. The last example can be realized by using `compas.geometry.add_vectors`."
   ]
  },
  {
   "cell_type": "markdown",
   "id": "0b8ec951-30f2-48a3-8545-6cb0646a6376",
   "metadata": {},
   "source": [
    "## TODO: add cross product"
   ]
  },
  {
   "cell_type": "code",
   "execution_count": 29,
   "id": "479401db-0b19-443d-a69a-b22cee62c924",
   "metadata": {},
   "outputs": [
    {
     "name": "stdout",
     "output_type": "stream",
     "text": [
      "[1, 3, 0]\n"
     ]
    }
   ],
   "source": [
    "from compas.geometry import add_vectors\n",
    "vector1 = [1, 2, 0]\n",
    "vector2 = [0, 1, 0]\n",
    "vector3 = add_vectors(vector1, vector2)\n",
    "print(vector3)"
   ]
  },
  {
   "cell_type": "markdown",
   "id": "4a7393d5-02a3-42b0-b066-b47f70531ff0",
   "metadata": {},
   "source": [
    "### C3_c. Vector Class\n",
    "COMPAS Vector class which contains useful geometric properties and methods. Now let's create a Vector object and check its length. In Vector class, length is the attribute of the object."
   ]
  },
  {
   "cell_type": "code",
   "execution_count": 31,
   "id": "08597a90-c3ae-41ed-943b-a6be562b8159",
   "metadata": {},
   "outputs": [
    {
     "name": "stdout",
     "output_type": "stream",
     "text": [
      "Vector(1.000, 2.000, 0.000)\n",
      "2.23606797749979\n"
     ]
    }
   ],
   "source": [
    "from compas.geometry import Vector\n",
    "my_vector = Vector(1, 2, 0)\n",
    "print(my_vector)\n",
    "print(my_vector.length)"
   ]
  },
  {
   "cell_type": "markdown",
   "id": "e6dcf388-3e47-447f-8f78-a2ba883e28a6",
   "metadata": {},
   "source": [
    "A vector could also be constructed from start and end points. COMPAS geometry types could be used interchangeably with native Python types. Both a COMPAS Point object or a list composed of 3 components could be used as input. "
   ]
  },
  {
   "cell_type": "code",
   "execution_count": 32,
   "id": "befdb662-5cde-42f2-8902-2a35d8e36b68",
   "metadata": {},
   "outputs": [
    {
     "name": "stdout",
     "output_type": "stream",
     "text": [
      "Vector(1.000, 2.000, 0.000)\n",
      "True\n"
     ]
    }
   ],
   "source": [
    "from compas.geometry import Point, Vector\n",
    "my_vector = Vector.from_start_end(Point(0, 0, 0), Point(1, 2, 0))\n",
    "# my_vector = Vector.from_start_end([0, 0, 0], [1, 2, 0]\n",
    "print(my_vector)\n",
    "print(my_vector == Vector(1, 2, 0))"
   ]
  },
  {
   "cell_type": "markdown",
   "id": "6c3bd3ec-38c1-4481-9cf8-76403d7a96be",
   "metadata": {},
   "source": [
    "Operators such as + or * involving COMPAS geometry objects always return a new COMPAS geometry object. For example, scaling my_vector by 2 can use the class method Vector.scale(n) as well as * 2. "
   ]
  },
  {
   "cell_type": "code",
   "execution_count": 33,
   "id": "79f1aa27-ed37-41e5-ad42-2446cd51454a",
   "metadata": {},
   "outputs": [
    {
     "name": "stdout",
     "output_type": "stream",
     "text": [
      "Vector(2.000, 4.000, 0.000)\n",
      "True\n",
      "True\n"
     ]
    }
   ],
   "source": [
    "from compas.geometry import Vector\n",
    "my_vector = Vector(1, 2, 0)\n",
    "my_vector.scale(2)\n",
    "print(my_vector)\n",
    "print(my_vector == Vector(2, 4, 0))\n",
    "print(my_vector == Vector(1, 2, 0) * 2)"
   ]
  },
  {
   "cell_type": "markdown",
   "id": "8780c387-7fa4-4017-9f41-f1a9f544b186",
   "metadata": {},
   "source": [
    "### C3_d: Exercise: Draw Vectors\n",
    "Question: Given three points: pointA: [0, 0, 0], pointB: [0, 1, 0], pointC: [3, 2, 0]. You need to draw three vectors as shown in the following picture. \n",
    "\n",
    "<img src=\"img/vectors.jpg\" width=\"500\" style=\"margin-left:auto; margin-right:auto\"/>\n",
    "</br>"
   ]
  },
  {
   "cell_type": "code",
   "execution_count": 35,
   "id": "252f4a07-b048-459b-8744-9e9aa0b99b7f",
   "metadata": {},
   "outputs": [
    {
     "data": {
      "image/png": "[encoded data removed]",
      "text/plain": [
       "<Figure size 800x500 with 1 Axes>"
      ]
     },
     "metadata": {},
     "output_type": "display_data"
    }
   ],
   "source": [
    "from compas.geometry import Point\n",
    "from compas_plotters import Plotter\n",
    "\n",
    "# Point Geometry\n",
    "point1 = Point(0, 0, 0)\n",
    "point2 = Point(0, 1, 0)\n",
    "point3 = Point(3, 2, 0)\n",
    "\n",
    "# Plottor\n",
    "plotter = Plotter(show_axes=True)\n",
    "\n",
    "plotter.add(point1)\n",
    "plotter.add(point2)\n",
    "plotter.add(point3)\n",
    "\n",
    "plotter.zoom_extents()\n",
    "plotter.show()\n"
   ]
  },
  {
   "cell_type": "code",
   "execution_count": 44,
   "id": "14d049f2-8ce5-43b0-81c8-3297ed88bb65",
   "metadata": {},
   "outputs": [
    {
     "data": {
      "image/png": "[encoded data removed]",
      "text/plain": [
       "<Figure size 800x500 with 1 Axes>"
      ]
     },
     "metadata": {},
     "output_type": "display_data"
    }
   ],
   "source": [
    "from compas.geometry import Point\n",
    "from compas_plotters import Plotter\n",
    "\n",
    "# Point Geometry\n",
    "point1 = Point(0, 0, 0)\n",
    "point2 = Point(0, 1, 0)\n",
    "point3 = Point(3, 2, 0)\n",
    "\n",
    "vector1 = point2 - point1\n",
    "vector2 = point3 - point2\n",
    "vector3 = point3 - point1\n",
    "\n",
    "# Plottor \n",
    "plotter = Plotter(show_axes=True)\n",
    "\n",
    "plotter.add(point1)\n",
    "plotter.add(point2)\n",
    "plotter.add(point3)\n",
    "\n",
    "plotter.add(vector1, point=point1, color=(1, 0, 0))\n",
    "plotter.add(vector2, point=point2, color=(0, 1, 0))\n",
    "plotter.add(vector3, point=point1, color=(0, 0, 1))\n",
    "\n",
    "plotter.zoom_extents()\n",
    "\n",
    "# # save image\n",
    "# import os\n",
    "# HERE = os.getcwd()\n",
    "# path = os.path.join(HERE, 'img/vectors.jpg')\n",
    "# plotter.save(path) # call save before plotter.show; after plotter.show() is called, a new figure is created. \n",
    "\n",
    "plotter.show()"
   ]
  },
  {
   "cell_type": "markdown",
   "id": "cb192774-9fea-4b7f-b25d-147568551061",
   "metadata": {},
   "source": [
    "## C4. Polygon\n",
    "A Polygon represents an ordered collection of points in space connected by straight line segments forming a closed boundary around the interior space. It has a closed boundary that separates its interior from the exterior. "
   ]
  },
  {
   "cell_type": "code",
   "execution_count": 47,
   "id": "05026846-10aa-472b-a73c-f693acac8c8b",
   "metadata": {},
   "outputs": [
    {
     "data": {
      "image/png": "[encoded data removed]",
      "text/plain": [
       "<Figure size 800x500 with 1 Axes>"
      ]
     },
     "metadata": {},
     "output_type": "display_data"
    }
   ],
   "source": [
    "from compas.geometry import Polygon\n",
    "from compas_plotters import Plotter\n",
    "\n",
    "my_polygon = Polygon([[0, 0, 0], [1, 1, 0], [2, 1, 0], [1, -1, 0]])\n",
    "\n",
    "plotter = Plotter(show_axes=True)\n",
    "plotter.add(my_polygon, edgecolor=(0, 0, 1), facecolor=(1, 1, 0))\n",
    "plotter.zoom_extents()\n",
    "plotter.show()"
   ]
  },
  {
   "cell_type": "code",
   "execution_count": 55,
   "id": "0d4e9234-56da-4df3-9bee-f8b644ad19eb",
   "metadata": {},
   "outputs": [
    {
     "data": {
      "image/png": "[encoded data removed]",
      "text/plain": [
       "<Figure size 800x500 with 1 Axes>"
      ]
     },
     "metadata": {},
     "output_type": "display_data"
    }
   ],
   "source": [
    "from compas.geometry import Polygon\n",
    "from compas_plotters import Plotter\n",
    "\n",
    "# Construct a regular polygon from a number of sides and a radius.\n",
    "my_polygon = Polygon.from_sides_and_radius_xy(5, 2.0) \n",
    "\n",
    "plotter = Plotter(show_axes=True)\n",
    "plotter.add(my_polygon, edgecolor=(0, 0, 1), facecolor=(0.7, 0.7, 1.0))\n",
    "plotter.zoom_extents()\n",
    "plotter.show()"
   ]
  },
  {
   "cell_type": "markdown",
   "id": "ba6d789b-e273-4a27-b0e8-3ec09a7328d3",
   "metadata": {},
   "source": [
    "## C5. Polyline \n",
    "A Polyline is a sequence of points connected by line segments. Different from a Polygon, a Polyline doesn't have an interior and an exterior. "
   ]
  },
  {
   "cell_type": "code",
   "execution_count": 50,
   "id": "14709c0f-a827-486c-a5bb-137c68aabb99",
   "metadata": {},
   "outputs": [
    {
     "data": {
      "image/png": "[encoded data removed]",
      "text/plain": [
       "<Figure size 800x500 with 1 Axes>"
      ]
     },
     "metadata": {},
     "output_type": "display_data"
    }
   ],
   "source": [
    "from compas.geometry import Polyline\n",
    "from compas_plotters import Plotter\n",
    "\n",
    "my_polyline = Polyline([[0, 0, 0], [1, 1, 0], [2, 1, 0], [1, -1, 0]])\n",
    "\n",
    "plotter = Plotter(show_axes=True)\n",
    "plotter.add(my_polyline, color=(1, 0, 0), linewidth=3)\n",
    "plotter.zoom_extents()\n",
    "plotter.show()"
   ]
  },
  {
   "cell_type": "markdown",
   "id": "2ca0e7f2-013a-4622-9622-9b8ffa260ed8",
   "metadata": {},
   "source": [
    "## C6. Circle"
   ]
  },
  {
   "cell_type": "code",
   "execution_count": 52,
   "id": "169df8b4-2ab6-45cb-8288-5454247c31e0",
   "metadata": {},
   "outputs": [
    {
     "data": {
      "image/png": "[encoded data removed]",
      "text/plain": [
       "<Figure size 800x500 with 1 Axes>"
      ]
     },
     "metadata": {},
     "output_type": "display_data"
    }
   ],
   "source": [
    "from compas.geometry import Plane, Circle\n",
    "from compas_plotters import Plotter\n",
    "\n",
    "my_plane = Plane([2, 1, 0], [0, 0, 1])  # center and normal\n",
    "my_circle = Circle(my_plane, 2)\n",
    "\n",
    "plotter = Plotter(show_axes=True)\n",
    "plotter.add(my_circle, edgecolor=(0, 0, 1), facecolor=(0, 1, 1), linewidth=3)\n",
    "\n",
    "plotter.zoom_extents()\n",
    "plotter.show()"
   ]
  },
  {
   "cell_type": "markdown",
   "id": "5b3594b7-75d9-407d-a899-425dfb2dbb9a",
   "metadata": {},
   "source": [
    "## C7. PointCloud"
   ]
  },
  {
   "cell_type": "code",
   "execution_count": 53,
   "id": "e4ea969c-0069-4e37-ba1b-95faf88d2311",
   "metadata": {},
   "outputs": [
    {
     "data": {
      "image/png": "[encoded data removed]",
      "text/plain": [
       "<Figure size 800x500 with 1 Axes>"
      ]
     },
     "metadata": {},
     "output_type": "display_data"
    }
   ],
   "source": [
    "from random import random\n",
    "\n",
    "from compas.geometry import Pointcloud\n",
    "from compas.utilities import i_to_rgb\n",
    "from compas_plotters import Plotter\n",
    "\n",
    "# Pointcloud Geometry\n",
    "pcl = Pointcloud.from_bounds(10, 5, 0, 100)\n",
    "\n",
    "# Plotter\n",
    "plotter = Plotter(show_axes=True)\n",
    "\n",
    "for point in pcl.points:\n",
    "    plotter.add(point, facecolor=i_to_rgb(random(), normalize=True))\n",
    "\n",
    "plotter.zoom_extents()\n",
    "plotter.show()"
   ]
  },
  {
   "cell_type": "markdown",
   "id": "b12ccc80-c1d5-4827-9a72-f86944a65052",
   "metadata": {},
   "source": [
    "<a id='Operations'></a>\n",
    "---\n",
    "\n",
    "# D. Geometry Operations"
   ]
  },
  {
   "cell_type": "markdown",
   "id": "dfbba142-c37e-4d9a-8d51-6c8ae1805c09",
   "metadata": {},
   "source": [
    "## D1. Transformation\n",
    "Transformation means changes in geometric shape, which is represented by a 4x4 transformation matrix. Here we will learn 3 typical transformations in COMPAS: translation, rotation and scale. \n",
    "A COMPAS geometry object can be transformed by calling the method .transform() or .transformed(). The former modifies the object in place, whereas the latter returns a new object."
   ]
  },
  {
   "cell_type": "markdown",
   "id": "fbca0f02-8d41-4e0b-81bf-09008b3242b7",
   "metadata": {},
   "source": [
    "### D1_a. Translation\n",
    "Translation is to move the geometry, one of the most basic transformation types. The shape, size and orientation of the geometry remain the same."
   ]
  },
  {
   "cell_type": "code",
   "execution_count": 62,
   "id": "38af4e79-b673-4634-96a1-3c0d29c8ba20",
   "metadata": {},
   "outputs": [
    {
     "name": "stdout",
     "output_type": "stream",
     "text": [
      "[[    1.0000,    0.0000,    0.0000,    1.0000],\n",
      " [    0.0000,    1.0000,    0.0000,    2.0000],\n",
      " [    0.0000,    0.0000,    1.0000,    3.0000],\n",
      " [    0.0000,    0.0000,    0.0000,    1.0000]]\n",
      "\n"
     ]
    }
   ],
   "source": [
    "from compas.geometry import Translation\n",
    "T = Translation.from_vector([1, 2, 3])\n",
    "print(T)"
   ]
  },
  {
   "cell_type": "code",
   "execution_count": 63,
   "id": "8ba2641d-6dc0-4b0f-a09b-22b4a4eb85ee",
   "metadata": {},
   "outputs": [
    {
     "data": {
      "image/png": "[encoded data removed]",
      "text/plain": [
       "<Figure size 800x500 with 1 Axes>"
      ]
     },
     "metadata": {},
     "output_type": "display_data"
    }
   ],
   "source": [
    "from compas.geometry import Polygon, Translation\n",
    "from compas_plotters import Plotter\n",
    "\n",
    "# Construct a regular polygon from a number of sides and a radius.\n",
    "my_polygon = Polygon.from_sides_and_radius_xy(5, 2.0) \n",
    "my_polygon.transform(T)\n",
    "\n",
    "plotter = Plotter(show_axes=True)\n",
    "plotter.add(my_polygon, edgecolor=(0, 0, 1), facecolor=(0.7, 0.7, 1.0))\n",
    "plotter.zoom_extents()\n",
    "plotter.show()"
   ]
  },
  {
   "cell_type": "markdown",
   "id": "dc7c01ed-eae5-4ac1-a25b-1eedf68886fa",
   "metadata": {},
   "source": [
    ".transformed() creates a new polygon. "
   ]
  },
  {
   "cell_type": "code",
   "execution_count": 64,
   "id": "67cd17d5-a8c2-4204-9610-58beec27d1ba",
   "metadata": {},
   "outputs": [
    {
     "data": {
      "image/png": "[encoded data removed]",
      "text/plain": [
       "<Figure size 800x500 with 1 Axes>"
      ]
     },
     "metadata": {},
     "output_type": "display_data"
    }
   ],
   "source": [
    "from compas.geometry import Polygon, Translation\n",
    "from compas_plotters import Plotter\n",
    "\n",
    "# Construct a regular polygon from a number of sides and a radius.\n",
    "my_polygon = Polygon.from_sides_and_radius_xy(5, 2.0) \n",
    "my_polygon.transform(T)\n",
    "\n",
    "my_polygon = Polygon.from_sides_and_radius_xy(5, 2.0)\n",
    "T1 = Translation.from_vector([1, 2, 0])\n",
    "T2 = Translation.from_vector([2, 1, 0])\n",
    "my_polygon.transform(T1)\n",
    "my_polygon2 = my_polygon.transformed(T2)\n",
    "\n",
    "plotter = Plotter(show_axes=True)\n",
    "plotter.add(my_polygon, edgecolor=(0, 0, 1), facecolor=(0.7, 0.7, 1.0))\n",
    "plotter.add(my_polygon2, edgecolor=(0, 0, 1), facecolor=(1.0, 0.7, 1.0))\n",
    "\n",
    "plotter.zoom_extents()\n",
    "plotter.show()"
   ]
  },
  {
   "cell_type": "markdown",
   "id": "97205e39-8cbc-4eb7-abe4-9aaf07c42231",
   "metadata": {},
   "source": [
    "### D1_b. Rotation\n",
    "Rotation is to rotate the geometry by a certain degree. "
   ]
  },
  {
   "cell_type": "code",
   "execution_count": 66,
   "id": "a0c55a1c-e9e8-4b3f-8113-23146b9d0b4e",
   "metadata": {},
   "outputs": [
    {
     "data": {
      "image/png": "[encoded data removed]",
      "text/plain": [
       "<Figure size 800x500 with 1 Axes>"
      ]
     },
     "metadata": {},
     "output_type": "display_data"
    }
   ],
   "source": [
    "import math as m\n",
    "from compas.geometry import Polygon, Rotation\n",
    "from compas_plotters import Plotter\n",
    "\n",
    "# Construct a regular polygon from a number of sides and a radius.\n",
    "my_polygon = Polygon.from_sides_and_radius_xy(5, 2.0) \n",
    "my_polygon.transform(T)\n",
    "\n",
    "R = Rotation.from_axis_and_angle([0, 0, 1], m.radians(15))\n",
    "my_polygon.transform(R)\n",
    "\n",
    "plotter = Plotter(show_axes=True)\n",
    "plotter.add(my_polygon, edgecolor=(0, 0, 1), facecolor=(0.7, 0.7, 1.0))\n",
    "plotter.zoom_extents()\n",
    "plotter.show()"
   ]
  },
  {
   "cell_type": "markdown",
   "id": "0f4f47ff-8385-44db-ad5a-70833a94b2b0",
   "metadata": {},
   "source": [
    "### D1_c. Scale\n",
    "Scale is to enlarge or shrink the geometry by a scale factor."
   ]
  },
  {
   "cell_type": "code",
   "execution_count": 67,
   "id": "6fe3a874-4e5d-4e2a-8a9b-56055ea16bf9",
   "metadata": {},
   "outputs": [
    {
     "data": {
      "image/png": "[encoded data removed]",
      "text/plain": [
       "<Figure size 800x500 with 1 Axes>"
      ]
     },
     "metadata": {},
     "output_type": "display_data"
    }
   ],
   "source": [
    "from compas.geometry import Polygon, Scale\n",
    "from compas_plotters import Plotter\n",
    "\n",
    "# Construct a regular polygon from a number of sides and a radius.\n",
    "my_polygon = Polygon.from_sides_and_radius_xy(5, 2.0) \n",
    "my_polygon.transform(T)\n",
    "\n",
    "S = Scale.from_factors([0.5, 1, 1])  # scale factors along X, Y, Z\n",
    "my_polygon.transform(S)\n",
    "\n",
    "plotter = Plotter(show_axes=True)\n",
    "plotter.add(my_polygon, edgecolor=(0, 0, 1), facecolor=(0.7, 0.7, 1.0))\n",
    "plotter.zoom_extents()\n",
    "plotter.show()"
   ]
  },
  {
   "cell_type": "markdown",
   "id": "8e76ff67-6912-4824-8a90-0f9b863f40c6",
   "metadata": {},
   "source": [
    "### D1_d. Frame \n",
    "Frame plays an important role in transformation, especially in 3D. A frame defines a local coordinate system and transformation can be created between different coordinate systems represented by frames. \n",
    "Note that Frame is different from a Plane. A frame is defined by an origin and two axes, while a plane is defined by an origin and a normal vector.  "
   ]
  },
  {
   "cell_type": "code",
   "execution_count": 68,
   "id": "71a30292-f834-460d-a7a1-ae6cac599ce5",
   "metadata": {},
   "outputs": [
    {
     "name": "stdout",
     "output_type": "stream",
     "text": [
      "[[    0.6808,   -0.6688,   -0.2988,    1.0000],\n",
      " [    0.6808,    0.7282,   -0.0788,    1.0000],\n",
      " [    0.2703,   -0.1498,    0.9511,    1.0000],\n",
      " [    0.0000,    0.0000,    0.0000,    1.0000]]\n",
      "\n"
     ]
    }
   ],
   "source": [
    "from compas.geometry import Frame, Transformation\n",
    "f1 = Frame([1, 1, 1], [0.68, 0.68, 0.27], [-0.67, 0.73, -0.15])\n",
    "T = Transformation.from_frame(f1)\n",
    "print(T)"
   ]
  },
  {
   "cell_type": "code",
   "execution_count": 69,
   "id": "30b94f46-0b84-4ef6-8cc0-5f59d4c57475",
   "metadata": {},
   "outputs": [
    {
     "name": "stdout",
     "output_type": "stream",
     "text": [
      "True\n"
     ]
    }
   ],
   "source": [
    "f2 = Frame([1, 1, 1], [0.68, 0.68, 0.27], [-0.67, 0.73, -0.15])\n",
    "T = Transformation.from_frame_to_frame(f1, f2)\n",
    "f1.transform(T)\n",
    "print(f1 == f2)"
   ]
  },
  {
   "cell_type": "markdown",
   "id": "ff4e9efd-622b-41ba-a82b-3aebf2a0bf7d",
   "metadata": {},
   "source": [
    "## D2. Intersections\n",
    "To compute intersections between primitives and/or shapes, use the intersection functions."
   ]
  },
  {
   "cell_type": "code",
   "execution_count": 71,
   "id": "e3c8a8a2-0c87-45fd-83ed-f6696c1a6b2e",
   "metadata": {},
   "outputs": [
    {
     "data": {
      "text/plain": [
       "[1.0, 1.0, 0.0]"
      ]
     },
     "execution_count": 71,
     "metadata": {},
     "output_type": "execute_result"
    }
   ],
   "source": [
    "from compas.geometry import intersection_line_plane\n",
    "line = [1, 1, 0], [1, 1, 1]\n",
    "plane = [0, 0, 0], [0, 0, 1]\n",
    "intersection_line_plane(line, plane)"
   ]
  },
  {
   "cell_type": "code",
   "execution_count": 72,
   "id": "3b033bfa-1186-455e-9dc1-6666a5192a86",
   "metadata": {},
   "outputs": [
    {
     "data": {
      "text/plain": [
       "[1.0, 1.0, 0.0]"
      ]
     },
     "execution_count": 72,
     "metadata": {},
     "output_type": "execute_result"
    }
   ],
   "source": [
    "from compas.geometry import Plane, intersection_line_plane\n",
    "line = [1, 1, 0], [1, 1, 1]\n",
    "plane = Plane.worldXY()\n",
    "intersection_line_plane(line, plane)"
   ]
  },
  {
   "cell_type": "markdown",
   "id": "d698a1a3-2a35-42bd-934c-9d8bbb94a9cd",
   "metadata": {},
   "source": [
    "## D3. Cross Product"
   ]
  },
  {
   "cell_type": "code",
   "execution_count": null,
   "id": "a39b7ce7-30c8-41e0-ae3b-fa9bb24c26ce",
   "metadata": {},
   "outputs": [],
   "source": []
  },
  {
   "cell_type": "code",
   "execution_count": null,
   "id": "8b1b270b-62d2-4593-b612-08898a29a8b6",
   "metadata": {},
   "outputs": [],
   "source": []
  },
  {
   "cell_type": "code",
   "execution_count": null,
   "id": "74eaf300",
   "metadata": {},
   "outputs": [],
   "source": []
  },
  {
   "cell_type": "code",
   "execution_count": null,
   "id": "a9259be7",
   "metadata": {},
   "outputs": [],
   "source": []
  },
  {
   "cell_type": "code",
   "execution_count": null,
   "id": "90b802e8",
   "metadata": {},
   "outputs": [],
   "source": []
  },
  {
   "cell_type": "code",
   "execution_count": null,
   "id": "e5047db9",
   "metadata": {},
   "outputs": [],
   "source": []
  },
  {
   "cell_type": "code",
   "execution_count": null,
   "id": "e728be38",
   "metadata": {},
   "outputs": [],
   "source": []
  },
  {
   "cell_type": "code",
   "execution_count": 74,
   "id": "45d55a49",
   "metadata": {
    "tags": []
   },
   "outputs": [
    {
     "data": {
      "image/png": "[encoded data removed]",
      "text/plain": [
       "<Figure size 800x500 with 1 Axes>"
      ]
     },
     "metadata": {},
     "output_type": "display_data"
    }
   ],
   "source": [
    "\n",
    "\n",
    "# plotter.zoom_extents()\n",
    "from IPython.display import display\n",
    "fig = plotter.figure\n",
    "display(fig)"
   ]
  },
  {
   "cell_type": "code",
   "execution_count": null,
   "id": "17c9a6c0-315c-44e7-8c3a-02f75d9ac9cc",
   "metadata": {},
   "outputs": [],
   "source": []
  },
  {
   "cell_type": "code",
   "execution_count": null,
   "id": "7d6bd949-c4f3-48e7-8650-65d1e6c08b19",
   "metadata": {},
   "outputs": [],
   "source": []
  },
  {
   "cell_type": "code",
   "execution_count": null,
   "id": "ccedd0c8-56e3-46d7-bf16-205982da6cf0",
   "metadata": {},
   "outputs": [],
   "source": []
  },
  {
   "cell_type": "code",
   "execution_count": null,
   "id": "bf9b91f5-e37a-4bbb-9217-f0e664d01f54",
   "metadata": {},
   "outputs": [],
   "source": []
  },
  {
   "cell_type": "code",
   "execution_count": null,
   "id": "3fb7075a-795b-4ed7-b470-1ab2410d34be",
   "metadata": {},
   "outputs": [],
   "source": []
  }
 ],
 "metadata": {
  "interpreter": {
   "hash": "5e897d0e4e978ef05e1a63d69df614a45a680d18e8ec0fd527b8776f3a2cd736"
  },
  "kernelspec": {
   "display_name": "Python 3",
   "language": "python",
   "name": "python3"
  },
  "language_info": {
   "codemirror_mode": {
    "name": "ipython",
    "version": 3
   },
   "file_extension": ".py",
   "mimetype": "text/x-python",
   "name": "python",
   "nbconvert_exporter": "python",
   "pygments_lexer": "ipython3",
   "version": "3.9.9"
  }
 },
 "nbformat": 4,
 "nbformat_minor": 5
}
