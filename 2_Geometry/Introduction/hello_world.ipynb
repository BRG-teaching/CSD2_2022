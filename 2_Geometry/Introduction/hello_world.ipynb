{
 "cells": [
  {
   "cell_type": "code",
   "execution_count": 4,
   "id": "af06b734-dea7-47b8-9721-c70cb7d8e9b0",
   "metadata": {
    "tags": []
   },
   "outputs": [
    {
     "name": "stdout",
     "output_type": "stream",
     "text": [
      "Hello CSD2!!\n"
     ]
    }
   ],
   "source": [
    "print('Hello CSD2!!')"
   ]
  },
  {
   "cell_type": "code",
   "execution_count": null,
   "id": "cf385375-0fdb-4f49-9927-db9ac550fbed",
   "metadata": {},
   "outputs": [],
   "source": []
  }
 ],
 "metadata": {
  "kernelspec": {
   "display_name": "Python 3.9.9 64-bit ('csd2': conda)",
   "language": "python",
   "name": "python399jvsc74a57bd0767b8e31c1eec9ef327cc27a2a5d7df98b41c7cbc989a566ef8d39dcc483faec"
  },
  "language_info": {
   "codemirror_mode": {
    "name": "ipython",
    "version": 3
   },
   "file_extension": ".py",
   "mimetype": "text/x-python",
   "name": "python",
   "nbconvert_exporter": "python",
   "pygments_lexer": "ipython3",
   "version": "3.9.9"
  }
 },
 "nbformat": 4,
 "nbformat_minor": 5
}
