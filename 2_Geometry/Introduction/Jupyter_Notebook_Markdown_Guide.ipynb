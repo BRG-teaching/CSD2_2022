{
 "cells": [
  {
   "cell_type": "code",
   "execution_count": 2,
   "id": "af06b734-dea7-47b8-9721-c70cb7d8e9b0",
   "metadata": {
    "tags": []
   },
   "outputs": [
    {
     "name": "stdout",
     "output_type": "stream",
     "text": [
      "Hello CSD2-2022!!\n"
     ]
    }
   ],
   "source": [
    "print('Hello CSD2-2022!!')"
   ]
  },
  {
   "cell_type": "markdown",
   "id": "f12bfd8e",
   "metadata": {},
   "source": [
    "## This is a Markdown cell (Header level 1)\n",
    "# header level 2\n",
    "\n",
    "You can use *italic* text\n",
    "You can use **bold** text\n",
    "\n",
    "Or bullet points:\n",
    "\n",
    "* bullet 1\n",
    "* bullet 1"
   ]
  }
 ],
 "metadata": {
  "interpreter": {
   "hash": "767b8e31c1eec9ef327cc27a2a5d7df98b41c7cbc989a566ef8d39dcc483faec"
  },
  "kernelspec": {
   "display_name": "Python 3.9.9 64-bit ('csd2': conda)",
   "language": "python",
   "name": "python3"
  },
  "language_info": {
   "codemirror_mode": {
    "name": "ipython",
    "version": 3
   },
   "file_extension": ".py",
   "mimetype": "text/x-python",
   "name": "python",
   "nbconvert_exporter": "python",
   "pygments_lexer": "ipython3",
   "version": "3.9.9"
  }
 },
 "nbformat": 4,
 "nbformat_minor": 5
}
