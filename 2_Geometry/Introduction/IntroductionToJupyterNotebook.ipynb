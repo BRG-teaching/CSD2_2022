{
 "cells": [
  {
   "cell_type": "markdown",
   "metadata": {},
   "source": [
    "# Introduction to Jupyter Notebook"
   ]
  },
  {
   "cell_type": "markdown",
   "metadata": {},
   "source": [
    "Some of you might be familiar with using an IPython shell to run the code line by line or creating custom Python Scripts in CAD applications. This is great, but for more elaborate use of coding in Architecture, and especially, for learning and sharing your coding knowlege we will introduce another tool: The Jupyter Notebook. \n",
    "\n",
    "The Jupyter Notebook is an open source web application that you can use to create and share documents that contain live code, equations, visualizations, and text. The name itself comes from the core supported programming languages: Julia, Python, and R.\n",
    "\n",
    "For more information on the project itself, visit [Project Jupyter](https://jupyter.org)."
   ]
  },
  {
   "cell_type": "markdown",
   "metadata": {},
   "source": [
    "## Jupyter in CSD2"
   ]
  },
  {
   "cell_type": "markdown",
   "metadata": {},
   "source": [
    "Throughout the CSD2 course, Jupyter notebooks will be used to in all the next sessions, for teaching and coding together. \n",
    "\n",
    "The notebook is the perfect tool because it is built as an interactive web application that allows us to develop and run our code block by block and immediatily see results without worrying on instally additional software packages."
   ]
  },
  {
   "cell_type": "markdown",
   "metadata": {},
   "source": [
    "Before this class you have received a weblink to a Jupyter notebook that the CSD2 team has created and is running using your browser, it could just as well run locally on your computer as a local server or remotely on a server. The reason it is called notebook is because it can contain live code, rich text elements such as equations, links, images, tables, and so on.\n",
    "\n"
   ]
  },
  {
   "cell_type": "markdown",
   "metadata": {},
   "source": [
    "### Create a Jupyter Notebook"
   ]
  },
  {
   "cell_type": "markdown",
   "metadata": {},
   "source": [
    "When you navigate to the link you received, you will see a dashboard. In this dashboard, you can see some important features that are labeled in red: you can see all the files in the current folder, show all the running notebooks, and create a new notebook or others such as text file, folder and a terminal. \n",
    "Now let us create a new Python notebook by selecting the Python 3, usually this is called Python kernel. We will use the Python kernel, therefore, choose Python 3 kernel."
   ]
  },
  {
   "cell_type": "markdown",
   "metadata": {},
   "source": [
    "<img src=\"files/introduction/220206-jupyter_dashboard-01_ISB.png\" style=\"margin-left:auto; margin-right:auto\"/>\n",
    "\n",
    "Alternatively, use the \"Launcher\" to create the file, as shown below:\n",
    "\n",
    "<img src=\"files/introduction/220206-jupyter_dashboard-02_ISB.png\" style=\"margin-left:auto; margin-right:auto\"/>\n"
   ]
  },
  {
   "cell_type": "markdown",
   "metadata": {
    "jp-MarkdownHeadingCollapsed": true,
    "tags": []
   },
   "source": [
    "#### Create a new notebook and give it the name \"hello_world.ipynb\"\n",
    "\n",
    "And open the new notebook.\n",
    "\n",
    "<img src=\"files/introduction/220206-jupyter_dashboard-04_ISB.png\" style=\"margin-left:auto; margin-right:auto\"/>\n"
   ]
  },
  {
   "cell_type": "markdown",
   "metadata": {},
   "source": [
    "### Use a Jupyter Notebook for interactive coding in Python"
   ]
  },
  {
   "cell_type": "markdown",
   "metadata": {},
   "source": [
    "After you create a new Jupyter Notebook, it will look like the following figure. The toolbar and menu is self-explanatory and you can explore that on your own. We will cover only basic information here, to get you started. \n",
    "\n",
    "<img src=\"files/introduction/220206-jupyter_dashboard-03_ISB.png\" style=\"margin-left:auto; margin-right:auto\"/>\n",
    "\n",
    "See this [Markdownguide](https://www.markdownguide.org/basic-syntax/#links)  for an indepth look at styling your Jupyter Notebook content \n",
    "\n",
    "Hovering your cursor to the toolbar shows you the function of the tool and if you press the menu, it will show you the drop down list. The most important things to know is that Jupyter notebook uses *cells* and the different types. \n",
    "The *cell* is a place where you can write your code or text. Cells can be run one at a time. You will be pacticing this way of running and testing your code throughout the course. Two important cell types are *code* and *markdown*. \n",
    "The *code cell* is where we type or paste our code and can run the code in it. \n",
    "The *markdown cell* is a place you can type descriptions such as *pseudocode*(we will get to that later) in rich text format, see the following figure as an example. \n",
    "You can search for *‘Markdown cheatsheet’* to get a quick start with markdown. \n",
    "\n",
    "#### To run the code or renter the markdown in the notebook is simple, just press Shift + Enter.\n",
    "\n",
    "Now create a *code cell* and type the following code:\n"
   ]
  },
  {
   "cell_type": "code",
   "execution_count": 5,
   "metadata": {},
   "outputs": [
    {
     "name": "stdout",
     "output_type": "stream",
     "text": [
      "Hello CSD2!!\n"
     ]
    }
   ],
   "source": [
    "print ('Hello CSD2!!')"
   ]
  },
  {
   "cell_type": "markdown",
   "metadata": {},
   "source": [
    "Run the code by pressing the play sign left of the code cell.\n",
    "Doing this will create the following result:\n",
    "\n",
    "<img src=\"files/introduction/220206-jupyter_dashboard-05_ISB.png\" style=\"margin-left:auto; margin-right:auto\"/>\n"
   ]
  },
  {
   "cell_type": "markdown",
   "metadata": {},
   "source": [
    "### Saving your changes\n",
    "\n",
    "To save the changes you have made click the floppy icon on the Jupyter Notebook menu. The current notebook will be changes locally."
   ]
  },
  {
   "cell_type": "markdown",
   "metadata": {},
   "source": [
    "### Sharing with others\n",
    "\n",
    "## Method: Through the menu\n",
    "\n",
    "You can export your currently running Notebook by going to the File menu and choosing the Download as option.\n",
    "\n",
    "This option allows you to download in all the formats that nbconvert supports. This quick method allows you to convert the running notebook directly. However, for converting multiple notebooks at once please use the \"nbconvert\" method described in the \"How to Use nbconvert\" section of [this tutorial](https://realpython.com/jupyter-notebook-introduction/#exporting-notebooks)."
   ]
  },
  {
   "cell_type": "markdown",
   "metadata": {
    "tags": []
   },
   "source": [
    "### Shut down the Jupyter notebook\n",
    "\n",
    "Closing the browser will not close the Jupyter notebook, since the server is still running. You can reopen the previous address in a browser. To completely shut down it, we need to close the associated terminal that you launch the Jupyter noteobok."
   ]
  },
  {
   "cell_type": "markdown",
   "metadata": {},
   "source": [
    "### Close a notebook\n",
    "\n",
    "If you close the notebook browser tab, the notebook actually is not closed, it is still running in the background. To close the notebook completely, go to the dashboard, and check the box before the notebook, and you can see a shutdown option in the toolbar above, this is the correct way you close a notebook completely.\n",
    "\n",
    "Ok, now you have the basic knowledge to launch and run a Jupyter notebook, and it is time to continue to learn Python."
   ]
  },
  {
   "cell_type": "markdown",
   "metadata": {},
   "source": [
    "### Jupyter Notebook Documentation\n",
    "\n",
    "[PythonNumericalMethods](https://pythonnumericalmethods.berkeley.edu/notebooks/chapter01.05-Logial-Expressions-and-Operators.html)\n",
    "\n",
    "[RealPython](https://realpython.com/jupyter-notebook-introduction/#adding-rich-content)"
   ]
  },
  {
   "cell_type": "code",
   "execution_count": null,
   "metadata": {},
   "outputs": [],
   "source": []
  }
 ],
 "metadata": {
  "interpreter": {
   "hash": "767b8e31c1eec9ef327cc27a2a5d7df98b41c7cbc989a566ef8d39dcc483faec"
  },
  "kernelspec": {
   "display_name": "Python 3 (ipykernel)",
   "language": "python",
   "name": "python3"
  },
  "language_info": {
   "codemirror_mode": {
    "name": "ipython",
    "version": 3
   },
   "file_extension": ".py",
   "mimetype": "text/x-python",
   "name": "python",
   "nbconvert_exporter": "python",
   "pygments_lexer": "ipython3",
   "version": "3.9.9"
  }
 },
 "nbformat": 4,
 "nbformat_minor": 4
}
