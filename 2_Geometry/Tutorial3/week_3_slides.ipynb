{
 "cells": [
  {
   "cell_type": "markdown",
   "id": "c28d9a16",
   "metadata": {
    "slideshow": {
     "slide_type": "slide"
    }
   },
   "source": [
    "# Computational Structural Design II <br/> Intro to coding in Python and the Jupyter notebook II\n",
    "\n",
    "### Learning Goal: \n",
    "- understand how to write a function\n",
    "- understand how to use built-in functions in Python\n",
    "- understand `dictionary`"
   ]
  },
  {
   "cell_type": "markdown",
   "id": "58ef9cae",
   "metadata": {
    "slideshow": {
     "slide_type": "slide"
    }
   },
   "source": [
    "## A1. Find the Longest bar\n",
    "### Question: \n",
    "You are still working on your shell structure. You want to find the longest bar in your grid shell. How can you find it?\n",
    "\n",
    "`bars = [1.6, 3.6, 2.4, 3.4, 2.7, 2.8, 3.3, 3.1, 3.7, 1.8, 1.8, 1.8, 2.6]`"
   ]
  },
  {
   "cell_type": "markdown",
   "id": "3ce5cbc0",
   "metadata": {
    "slideshow": {
     "slide_type": "slide"
    }
   },
   "source": [
    "### A1_a. Flowchart"
   ]
  },
  {
   "cell_type": "markdown",
   "id": "09f57190",
   "metadata": {
    "slideshow": {
     "slide_type": "slide"
    }
   },
   "source": [
    "### A1_b. Code"
   ]
  },
  {
   "cell_type": "code",
   "execution_count": 3,
   "id": "aca4d3d9",
   "metadata": {},
   "outputs": [
    {
     "name": "stdout",
     "output_type": "stream",
     "text": [
      "[1.6, 3.6, 2.4, 3.4, 2.7, 2.8, 3.3, 3.1, 3.7, 1.8, 1.8, 1.8, 2.6]\n"
     ]
    }
   ],
   "source": [
    "# Input\n",
    "# length of the sorted_bars\n",
    "bars = [1.6, 3.6, 2.4, 3.4, 2.7, 2.8, 3.3, 3.1, 3.7, 1.8, 1.8, 1.8, 2.6]\n",
    "\n",
    "# initiate longest bar, suppose the first bar is the longest\n",
    "\n",
    "# Compare bar Length\n",
    "# if the bar is longer than the longest bar\n",
    "# assign the longest bar the new bar length\n",
    "\n",
    "# Output\n",
    "print(bars)"
   ]
  },
  {
   "cell_type": "markdown",
   "id": "83c58278",
   "metadata": {
    "slideshow": {
     "slide_type": "slide"
    }
   },
   "source": [
    "## A2. Sort the bars\n",
    "### Question:\n",
    "Now you want to sort the bars from the longest to the shortest. How can you do it?\n",
    "\n",
    "`bars = [1.6, 3.6, 2.4, 3.4, 2.7, 2.8, 3.3, 3.1, 3.7, 1.8, 1.8, 1.8, 2.6]`"
   ]
  },
  {
   "cell_type": "markdown",
   "id": "37f14d98",
   "metadata": {
    "slideshow": {
     "slide_type": "slide"
    }
   },
   "source": [
    "### A2_a. Flowchart"
   ]
  },
  {
   "cell_type": "markdown",
   "id": "3e4b387b",
   "metadata": {
    "slideshow": {
     "slide_type": "slide"
    }
   },
   "source": [
    "### 2_b. Write the Function"
   ]
  },
  {
   "cell_type": "code",
   "execution_count": 11,
   "id": "6d42bc79",
   "metadata": {
    "slideshow": {
     "slide_type": "-"
    }
   },
   "outputs": [
    {
     "name": "stdout",
     "output_type": "stream",
     "text": [
      "The longest bar is bar 9 and its length is 3.7 m.\n"
     ]
    }
   ],
   "source": [
    "# Input\n",
    "# length of the sorted_bars\n",
    "bars = [1.6, 3.6, 2.4, 3.4, 2.7, 2.8, 3.3, 3.1, 3.7, 1.8, 1.8, 1.8, 2.6]\n",
    "\n",
    "# initiate longest bar, suppose the first bar is the longest\n",
    "longest = bars[0]  \n",
    "index = 0  \n",
    "\n",
    "# Compare bar Length\n",
    "# if the bar is longer than the longest bar\n",
    "# assign the longest bar the new bar length\n",
    "for i, bar in enumerate(bars):\n",
    "    if bar >= longest:\n",
    "        longest = bar\n",
    "        index = i\n",
    "\n",
    "# Output\n",
    "print(\"The longest bar is bar\", index + 1, \"and its length is\", longest, \"m.\")"
   ]
  },
  {
   "cell_type": "code",
   "execution_count": null,
   "id": "dfe9d6fb",
   "metadata": {},
   "outputs": [],
   "source": []
  },
  {
   "cell_type": "markdown",
   "id": "59025006",
   "metadata": {
    "slideshow": {
     "slide_type": "slide"
    }
   },
   "source": [
    "### A2_c. Call the Function"
   ]
  },
  {
   "cell_type": "code",
   "execution_count": 9,
   "id": "15feae78",
   "metadata": {},
   "outputs": [
    {
     "name": "stdout",
     "output_type": "stream",
     "text": [
      "The sorted bar list is []\n"
     ]
    }
   ],
   "source": [
    "# Input\n",
    "# length of the sorted_bars\n",
    "bars = [1.6, 3.6, 2.4, 3.4, 2.7, 2.8, 3.3, 3.1, 3.7, 1.8, 1.8, 1.8, 2.6]\n",
    "# create empty bar list\n",
    "sorted_bars = []\n",
    "\n",
    "# Program\n",
    "\n",
    "# Output\n",
    "print(\"The sorted bar list is\", sorted_bars)"
   ]
  },
  {
   "cell_type": "markdown",
   "id": "51849bcd",
   "metadata": {
    "slideshow": {
     "slide_type": "slide"
    }
   },
   "source": [
    "### A2_d. Turn Sorting into a Function"
   ]
  },
  {
   "cell_type": "code",
   "execution_count": 12,
   "id": "b0f162bf",
   "metadata": {},
   "outputs": [],
   "source": [
    "def sort_bar_length(bars):\n",
    "    \"\"\"\n",
    "    sort the bars in descending order\n",
    "\n",
    "    Parameters\n",
    "    ----------\n",
    "    bars: list\n",
    "        A list containing the bar length of the bar-net\n",
    "\n",
    "    Returns\n",
    "    -------\n",
    "    sorted_bars: list\n",
    "        A list containing the bar length of the bar-net in descending order\n",
    "    \n",
    "    \"\"\"\n",
    "    # create empty bar list\n",
    "    sorted_bars = []\n",
    "\n",
    "    while bars != []:\n",
    "        # find the longest bar in the remaining of the bar list\n",
    "        i, longest = find_longest_bar(bars)\n",
    "        # remove the longest item from the bar list\n",
    "        bars.pop(i)\n",
    "        # add the longest item to the sorted bar list\n",
    "        sorted_bars.append(longest)\n",
    "\n",
    "    return sorted_bars"
   ]
  },
  {
   "cell_type": "markdown",
   "id": "7d19a5ba",
   "metadata": {
    "slideshow": {
     "slide_type": "slide"
    }
   },
   "source": [
    "### A2_d. Python List Functions\n"
   ]
  },
  {
   "cell_type": "code",
   "execution_count": null,
   "id": "685c9039",
   "metadata": {},
   "outputs": [],
   "source": [
    "# length of the sorted_bars\n",
    "bars = [1.6, 3.6, 2.4, 3.4, 2.7, 2.8, 3.3, 3.1, 3.7, 1.8, 1.8, 1.8, 2.6]\n",
    "\n",
    "print()"
   ]
  }
 ],
 "metadata": {
  "celltoolbar": "Slideshow",
  "kernelspec": {
   "display_name": "Python 3.9.9 64-bit ('csd2': conda)",
   "language": "python",
   "name": "python399jvsc74a57bd0767b8e31c1eec9ef327cc27a2a5d7df98b41c7cbc989a566ef8d39dcc483faec"
  },
  "language_info": {
   "codemirror_mode": {
    "name": "ipython",
    "version": 3
   },
   "file_extension": ".py",
   "mimetype": "text/x-python",
   "name": "python",
   "nbconvert_exporter": "python",
   "pygments_lexer": "ipython3",
   "version": "3.9.9"
  }
 },
 "nbformat": 4,
 "nbformat_minor": 5
}
