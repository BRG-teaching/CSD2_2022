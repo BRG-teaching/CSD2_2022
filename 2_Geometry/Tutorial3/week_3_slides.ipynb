{
 "cells": [
  {
   "cell_type": "markdown",
   "id": "39f34c14",
   "metadata": {
    "slideshow": {
     "slide_type": "slide"
    }
   },
   "source": [
    "# Computational Structural Design II <br/> Intro to coding in Python and the Jupyter notebook II\n",
    "\n",
    "### Learning Goal: \n",
    "- understand how to write a function\n",
    "- understand how to use built-in functions in Python\n",
    "- understand `dictionary`"
   ]
  },
  {
   "cell_type": "markdown",
   "id": "4e765f9f",
   "metadata": {
    "slideshow": {
     "slide_type": "slide"
    }
   },
   "source": [
    "## A1. Find the Longest Strut\n",
    "### Question: \n",
    "You are still working on your shell. You want to find the longest strut in your grid shell. How can you find it?"
   ]
  },
  {
   "cell_type": "markdown",
   "id": "31311871",
   "metadata": {
    "slideshow": {
     "slide_type": "slide"
    }
   },
   "source": [
    "### A1_a. Flowchart"
   ]
  },
  {
   "cell_type": "markdown",
   "id": "2ae7b981",
   "metadata": {
    "slideshow": {
     "slide_type": "slide"
    }
   },
   "source": [
    "### A1_b. Code"
   ]
  },
  {
   "cell_type": "code",
   "execution_count": 3,
   "id": "cd029762",
   "metadata": {},
   "outputs": [
    {
     "name": "stdout",
     "output_type": "stream",
     "text": [
      "[1.6, 3.6, 2.4, 3.4, 2.7, 2.8, 3.3, 3.1, 3.7, 1.8, 1.8, 1.8, 2.6]\n"
     ]
    }
   ],
   "source": [
    "# Input\n",
    "# cable length of the struts\n",
    "struts = [1.6, 3.6, 2.4, 3.4, 2.7, 2.8, 3.3, 3.1, 3.7, 1.8, 1.8, 1.8, 2.6]\n",
    "\n",
    "# initiate longest cable, suppose the first cable is the longest\n",
    "\n",
    "# Compare Cable Length\n",
    "# if the cable is longer than the longest cable\n",
    "# assign the longest cable the new cable length\n",
    "\n",
    "# Output\n",
    "print(struts)"
   ]
  },
  {
   "cell_type": "markdown",
   "id": "751764ca",
   "metadata": {
    "slideshow": {
     "slide_type": "slide"
    }
   },
   "source": [
    "## A2. Sort the cables\n",
    "### Question:\n",
    "Now you want to sort the cables from the longest to the shortest. How can you do it?"
   ]
  },
  {
   "cell_type": "code",
   "execution_count": null,
   "id": "bc30e175",
   "metadata": {
    "slideshow": {
     "slide_type": "slide"
    }
   },
   "outputs": [],
   "source": []
  },
  {
   "cell_type": "code",
   "execution_count": null,
   "id": "a7295ea1",
   "metadata": {},
   "outputs": [],
   "source": []
  },
  {
   "cell_type": "code",
   "execution_count": null,
   "id": "c085544b",
   "metadata": {},
   "outputs": [],
   "source": []
  }
 ],
 "metadata": {
  "celltoolbar": "Slideshow",
  "kernelspec": {
   "display_name": "Python 3.9.9 64-bit ('csd2': conda)",
   "language": "python",
   "name": "python399jvsc74a57bd05e897d0e4e978ef05e1a63d69df614a45a680d18e8ec0fd527b8776f3a2cd736"
  },
  "language_info": {
   "codemirror_mode": {
    "name": "ipython",
    "version": 3
   },
   "file_extension": ".py",
   "mimetype": "text/x-python",
   "name": "python",
   "nbconvert_exporter": "python",
   "pygments_lexer": "ipython3",
   "version": "3.9.9"
  }
 },
 "nbformat": 4,
 "nbformat_minor": 5
}
