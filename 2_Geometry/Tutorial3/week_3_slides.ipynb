{
 "cells": [
  {
   "cell_type": "markdown",
   "id": "c28d9a16",
   "metadata": {
    "slideshow": {
     "slide_type": "slide"
    }
   },
   "source": [
    "# Computational Structural Design II <br/> Intro to coding in Python and the Jupyter notebook II\n",
    "\n",
    "### Learning Goal: \n",
    "- understand how to write a function\n",
    "- understand how to use built-in functions in Python\n",
    "- understand `dictionary`"
   ]
  },
  {
   "cell_type": "markdown",
   "id": "58ef9cae",
   "metadata": {
    "slideshow": {
     "slide_type": "slide"
    }
   },
   "source": [
    "## A1. Find the Longest bar\n",
    "### Question: \n",
    "You are still working on your shell structure. You want to find the longest bar in your grid shell. How can you find it?\n",
    "\n",
    "`bars = [1.6, 3.6, 2.4, 3.4, 2.7, 2.8, 3.3, 3.1, 3.7, 1.8, 1.8, 1.8, 2.6]`"
   ]
  },
  {
   "cell_type": "markdown",
   "id": "3ce5cbc0",
   "metadata": {
    "slideshow": {
     "slide_type": "slide"
    }
   },
   "source": [
    "### A1_a. Flowchart"
   ]
  },
  {
   "cell_type": "markdown",
   "id": "09f57190",
   "metadata": {
    "slideshow": {
     "slide_type": "slide"
    }
   },
   "source": [
    "### A1_b. Code"
   ]
  },
  {
   "cell_type": "code",
   "execution_count": 4,
   "id": "aca4d3d9",
   "metadata": {},
   "outputs": [
    {
     "name": "stdout",
     "output_type": "stream",
     "text": [
      "bars list [1.6, 3.6, 2.4, 3.4, 2.7, 2.8, 3.3, 3.1, 3.7, 1.8, 1.8, 1.8, 2.6]\n",
      "longest bar 3.7 longest index 8\n"
     ]
    }
   ],
   "source": [
    "# Input\n",
    "# length of the sorted_bars\n",
    "bars = [1.6, 3.6, 2.4, 3.4, 2.7, 2.8, 3.3, 3.1, 3.7, 1.8, 1.8, 1.8, 2.6]\n",
    "\n",
    "# initiate longest bar, suppose the first bar is the longest\n",
    "\n",
    "# Compare Cable Length\n",
    "# if the cable is longer than the longest cable\n",
    "# assign the longest cable the new cable length\n",
    "\n",
    "# Output\n",
    "print(struts)"
   ]
  },
  {
   "cell_type": "markdown",
   "id": "83c58278",
   "metadata": {
    "slideshow": {
     "slide_type": "slide"
    }
   },
   "source": [
    "## A2. Sort the bars\n",
    "### Question:\n",
    "Now you want to sort the bars from the longest to the shortest. How can you do it?\n",
    "\n",
    "`bars = [1.6, 3.6, 2.4, 3.4, 2.7, 2.8, 3.3, 3.1, 3.7, 1.8, 1.8, 1.8, 2.6]`"
   ]
  },
  {
   "cell_type": "markdown",
   "id": "37f14d98",
   "metadata": {
    "slideshow": {
     "slide_type": "slide"
    }
   },
   "source": [
    "### A2_a. Flowchart"
   ]
  },
  {
   "cell_type": "markdown",
   "id": "3e4b387b",
   "metadata": {
    "slideshow": {
     "slide_type": "slide"
    }
   },
   "source": [
    "### 2_b. Write the Function"
   ]
  },
  {
   "cell_type": "code",
   "execution_count": 5,
   "id": "6d42bc79",
   "metadata": {
    "slideshow": {
     "slide_type": "-"
    }
   },
   "outputs": [],
   "source": [
    "def find_longest_bar(input_bars):\n",
    "    \"\"\"\n",
    "    find the longest bars in the input bar list\n",
    "    input_bars: list, floats\n",
    "    returns: longest: longest bar, float\n",
    "            index: index of the longest bar\n",
    "    \"\"\"\n",
    "    \n",
    "    # initiate longest cable, suppose the first cable is the longest\n",
    "    longest = input_bars[0]  \n",
    "    index = 0  \n",
    "\n",
    "    # Compare Cable Length\n",
    "    # if the cable is longer than the longest cable\n",
    "    # assign the longest cable the new cable length\n",
    "    for i, bar in enumerate(input_bars):\n",
    "        if bar >= longest:\n",
    "            longest = bar\n",
    "            index = i\n",
    "    \n",
    "    return longest, index"
   ]
  },
  {
   "cell_type": "code",
   "execution_count": 9,
   "id": "dfe9d6fb",
   "metadata": {},
   "outputs": [
    {
     "name": "stdout",
     "output_type": "stream",
     "text": [
      "The longest strut is cable 9 and its length is 3.7 m.\n"
     ]
    }
   ],
   "source": [
    "# Input\n",
    "# length of the sorted_struts\n",
    "struts = [1.6, 3.6, 2.4, 3.4, 2.7, 2.8, 3.3, 3.1, 3.7, 1.8, 1.8, 1.8, 2.6]\n",
    "\n",
    "# initiate longest cable, suppose the first cable is the longest\n",
    "longest = struts[0]  \n",
    "index = 0  \n",
    "\n",
    "# Compare Cable Length\n",
    "# if the cable is longer than the longest cable\n",
    "# assign the longest cable the new cable length\n",
    "for i, strut in enumerate(struts):\n",
    "    if strut >= longest:\n",
    "        longest = strut\n",
    "        index = i\n",
    "\n",
    "# Output\n",
    "print(\"The longest strut is cable\", index + 1, \"and its length is\", longest, \"m.\")"
   ]
  },
  {
   "cell_type": "markdown",
   "id": "59025006",
   "metadata": {
    "slideshow": {
     "slide_type": "slide"
    }
   },
   "source": [
    "### A2_c. Call the Function"
   ]
  },
  {
   "cell_type": "code",
   "execution_count": 14,
   "id": "15feae78",
   "metadata": {},
   "outputs": [
    {
     "name": "stdout",
     "output_type": "stream",
     "text": [
      "The sorted cable list is []\n"
     ]
    }
   ],
   "source": [
    "# Input\n",
    "# length of the sorted_struts\n",
    "struts = [1.6, 3.6, 2.4, 3.4, 2.7, 2.8, 3.3, 3.1, 3.7, 1.8, 1.8, 1.8, 2.6]\n",
    "# create empty cable list\n",
    "sorted_struts = []\n",
    "\n",
    "# Program\n",
    "while bars != []:\n",
    "    longest, index = find_longest_bar(bars)\n",
    "    bars.pop(index) # delete the item whose index is i from the list\n",
    "    sorted_bars.append(longest) # add the current longest bar to the end of the sorted_bars list\n",
    "\n",
    "# Output\n",
    "print(\"The sorted cable list is\", sorted_struts)"
   ]
  },
  {
   "cell_type": "code",
   "execution_count": null,
   "id": "4bcf4170",
   "metadata": {},
   "outputs": [],
   "source": []
  },
  {
   "cell_type": "markdown",
   "id": "51849bcd",
   "metadata": {
    "slideshow": {
     "slide_type": "slide"
    }
   },
   "source": [
    "### A2_d. Turn Sorting into a Function"
   ]
  },
  {
   "cell_type": "code",
   "execution_count": 12,
   "id": "b0f162bf",
   "metadata": {},
   "outputs": [],
   "source": [
    "def sort_bar_length(bars):\n",
    "    \"\"\"\n",
    "    sort the bars in descending order\n",
    "\n",
    "    Parameters\n",
    "    ----------\n",
    "    bars: list\n",
    "        A list containing the bar length of the bar-net\n",
    "\n",
    "    Returns\n",
    "    -------\n",
    "    sorted_bars: list\n",
    "        A list containing the bar length of the bar-net in descending order\n",
    "    \n",
    "    \"\"\"\n",
    "    # create empty bar list\n",
    "    sorted_bars = []\n",
    "\n",
    "    while bars != []:\n",
    "        # find the longest bar in the remaining of the bar list\n",
    "        i, longest = find_longest_bar(bars)\n",
    "        # remove the longest item from the bar list\n",
    "        bars.pop(i)\n",
    "        # add the longest item to the sorted bar list\n",
    "        sorted_bars.append(longest)\n",
    "\n",
    "    return sorted_bars"
   ]
  },
  {
   "cell_type": "markdown",
   "id": "7d19a5ba",
   "metadata": {
    "slideshow": {
     "slide_type": "slide"
    }
   },
   "source": [
    "### A2_d. Python List Functions\n"
   ]
  },
  {
   "cell_type": "code",
   "execution_count": null,
   "id": "685c9039",
   "metadata": {},
   "outputs": [],
   "source": [
    "# length of the sorted_bars\n",
    "bars = [1.6, 3.6, 2.4, 3.4, 2.7, 2.8, 3.3, 3.1, 3.7, 1.8, 1.8, 1.8, 2.6]\n",
    "\n",
    "print()"
   ]
  }
 ],
 "metadata": {
  "kernelspec": {
   "display_name": "Python 3.9.9 64-bit ('csd2': conda)",
   "language": "python",
   "name": "python399jvsc74a57bd0767b8e31c1eec9ef327cc27a2a5d7df98b41c7cbc989a566ef8d39dcc483faec"
  },
  "language_info": {
   "codemirror_mode": {
    "name": "ipython",
    "version": 3
   },
   "file_extension": ".py",
   "mimetype": "text/x-python",
   "name": "python",
   "nbconvert_exporter": "python",
   "pygments_lexer": "ipython3",
   "version": "3.9.9"
  }
 },
 "nbformat": 4,
 "nbformat_minor": 5
}
