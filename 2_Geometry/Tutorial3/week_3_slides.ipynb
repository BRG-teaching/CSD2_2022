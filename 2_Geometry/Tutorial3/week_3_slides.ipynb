{
 "cells": [
  {
   "cell_type": "markdown",
   "id": "db6150c5-2d16-4a64-a1a7-fbbe07de77d2",
   "metadata": {
    "slideshow": {
     "slide_type": "slide"
    }
   },
   "source": [
    "# Computational Structural Design II <br/> Intro to coding in Python and the Jupyter notebook II\n",
    "\n",
    "### Learning Goal: \n",
    "- understand how to write a function\n",
    "- understand how to use built-in functions in Python\n",
    "- understand `dictionary`"
   ]
  },
  {
   "cell_type": "markdown",
   "id": "58ef9cae",
   "metadata": {
    "slideshow": {
     "slide_type": "slide"
    }
   },
   "source": [
    "## A1. Find the Longest bar\n",
    "### Question: \n",
    "You are still working on your shell structure. You want to find the longest bar in your grid-shell. How can you find it?\n",
    "\n",
    "`gridshell = [1.6, 3.6, 2.4, 3.4, 2.7, 2.8, 3.3, 3.1, 3.7, 1.8, 1.8, 1.8, 2.6]`"
   ]
  },
  {
   "cell_type": "markdown",
   "id": "3ce5cbc0",
   "metadata": {
    "slideshow": {
     "slide_type": "slide"
    }
   },
   "source": [
    "### A1_a. Flowchart"
   ]
  },
  {
   "cell_type": "markdown",
   "id": "09f57190",
   "metadata": {
    "slideshow": {
     "slide_type": "slide"
    }
   },
   "source": [
    "### A1_b. Code"
   ]
  },
  {
   "cell_type": "code",
   "execution_count": 6,
   "id": "aca4d3d9",
   "metadata": {},
   "outputs": [
    {
     "name": "stdout",
     "output_type": "stream",
     "text": [
      "\n"
     ]
    }
   ],
   "source": [
    "# Input\n",
    "# length of the bars\n",
    "gridshell = [1.6, 3.6, 2.4, 3.4, 2.7, 2.8, 3.3, 3.1, 3.7, 1.8, 1.8, 1.8, 2.6]\n",
    "\n",
    "# initiate longest bar, suppose the first bar is the longest\n",
    "\n",
    "# Compare Cable Length\n",
    "# if the cable is longer than the longest cable\n",
    "# assign the longest cable the new cable length\n",
    "\n",
    "# Output\n",
    "print()"
   ]
  },
  {
   "cell_type": "markdown",
   "id": "83c58278",
   "metadata": {
    "slideshow": {
     "slide_type": "slide"
    }
   },
   "source": [
    "## A2. Sort the bars\n",
    "### Question:\n",
    "Now you want to sort the bars from the longest to the shortest. How can you do it?\n",
    "\n",
    "`gridshell = [1.6, 3.6, 2.4, 3.4, 2.7, 2.8, 3.3, 3.1, 3.7, 1.8, 1.8, 1.8, 2.6]`"
   ]
  },
  {
   "cell_type": "markdown",
   "id": "37f14d98",
   "metadata": {
    "slideshow": {
     "slide_type": "slide"
    }
   },
   "source": [
    "### A2_a. Flowchart"
   ]
  },
  {
   "cell_type": "markdown",
   "id": "3e4b387b",
   "metadata": {
    "slideshow": {
     "slide_type": "slide"
    }
   },
   "source": [
    "### 2_b. Write the Function"
   ]
  },
  {
   "cell_type": "code",
   "execution_count": 8,
   "id": "dfe9d6fb",
   "metadata": {},
   "outputs": [
    {
     "name": "stdout",
     "output_type": "stream",
     "text": [
      "The longest bar is bar 9 and its length is 3.7 m.\n"
     ]
    }
   ],
   "source": [
    "# Input\n",
    "# bar length of the grids-shell\n",
    "gridshell = [1.6, 3.6, 2.4, 3.4, 2.7, 2.8, 3.3, 3.1, 3.7, 1.8, 1.8, 1.8, 2.6]\n",
    "\n",
    "# initiate longest bar, suppose the first bar is the longest\n",
    "longest = gridshell[0]  \n",
    "index = 0  \n",
    "\n",
    "# Compare Bar Length\n",
    "# if the bar is longer than the longest bar\n",
    "# assign the longest bar the new bar length\n",
    "for i, bar in enumerate(gridshell):\n",
    "    if bar >= longest:\n",
    "        longest = bar\n",
    "        index = i\n",
    "\n",
    "# Output\n",
    "print(\"The longest bar is bar\", index + 1, \"and its length is\", longest, \"m.\")"
   ]
  },
  {
   "cell_type": "markdown",
   "id": "59025006",
   "metadata": {
    "slideshow": {
     "slide_type": "slide"
    }
   },
   "source": [
    "### A2_c. Call the Function"
   ]
  },
  {
   "cell_type": "code",
   "execution_count": 9,
   "id": "15feae78",
   "metadata": {},
   "outputs": [
    {
     "name": "stdout",
     "output_type": "stream",
     "text": [
      "The sorted bar list is []\n"
     ]
    }
   ],
   "source": [
    "# Input\n",
    "# bar length of the bar-net\n",
    "gridshell = [1.6, 3.6, 2.4, 3.4, 2.7, 2.8, 3.3, 3.1, 3.7, 1.8, 1.8, 1.8, 2.6]\n",
    "# create empty bar list\n",
    "sorted_bars = []\n",
    "\n",
    "# Program\n",
    "\n",
    "# Output\n",
    "print(\"The sorted bar list is\", sorted_bars)"
   ]
  },
  {
   "cell_type": "markdown",
   "id": "51849bcd",
   "metadata": {
    "slideshow": {
     "slide_type": "slide"
    }
   },
   "source": [
    "### A2_d. Turn Sorting into a Function"
   ]
  },
  {
   "cell_type": "code",
   "execution_count": 10,
   "id": "b0f162bf",
   "metadata": {},
   "outputs": [],
   "source": [
    "def sort_bar_length(bars):\n",
    "    pass"
   ]
  },
  {
   "cell_type": "markdown",
   "id": "7d19a5ba",
   "metadata": {
    "slideshow": {
     "slide_type": "slide"
    }
   },
   "source": [
    "### A2_d. Python List Functions\n"
   ]
  },
  {
   "cell_type": "code",
   "execution_count": 11,
   "id": "685c9039",
   "metadata": {},
   "outputs": [
    {
     "name": "stdout",
     "output_type": "stream",
     "text": [
      "Longest bar is\n",
      "Shortest bar is\n",
      "bars in ascending order:\n",
      "bars in descending order:\n",
      "Total bar length is\n"
     ]
    }
   ],
   "source": [
    "# length of the sorted_bars\n",
    "bars = [1.6, 3.6, 2.4, 3.4, 2.7, 2.8, 3.3, 3.1, 3.7, 1.8, 1.8, 1.8, 2.6]\n",
    "\n",
    "print(\"Longest bar is\")\n",
    "print(\"Shortest bar is\")\n",
    "print(\"bars in ascending order:\")\n",
    "print(\"bars in descending order:\")\n",
    "print(\"Total bar length is\")"
   ]
  },
  {
   "cell_type": "markdown",
   "id": "85171761-6ae8-4067-88fe-742828b63581",
   "metadata": {},
   "source": [
    "## B1. Gridshell Data\n",
    "\n",
    "| bar No. | Length (m) | Dimension (mm) | Stress (N/mm<sup>2</sup>) |\n",
    "| :---: | :---: | :---: | :---: |\n",
    "| 1 | 1.6 | 2 | 275 |\n",
    "| 2 | 3.6 | 2 | 185 |\n",
    "| 3 | 2.4 | 2 | 105 |\n",
    "| 4 | 3.4 | 2 | 134 |\n",
    "| 5 | 2.7 | 2 | 155 |\n",
    "| 6 | 2.8 | 2 | 265 |\n",
    "| 7 | 3.3 | 2 | 150 |\n",
    "| 8 | 3.1 | 2 | 185 |\n",
    "| 9 | 3.7 | 2 | 124 |\n",
    "| 10 | 1.8 | 2 | 234 |\n",
    "| 11 | 1.8 | 2 | 259 |\n",
    "| 12 | 2.6 | 2 | 201 |"
   ]
  },
  {
   "cell_type": "markdown",
   "id": "4df20c30-0a15-480b-bcd6-e2372b19225b",
   "metadata": {},
   "source": [
    "### B1_a. Create a Dictionary"
   ]
  },
  {
   "cell_type": "code",
   "execution_count": 13,
   "id": "272e7adb-5b8a-436d-a413-680fcbdba739",
   "metadata": {},
   "outputs": [],
   "source": [
    "bar_length_list = [1.6, 3.6, 2.4, 3.4, 2.7, 2.8, 3.3, 3.1, 3.7, 1.8, 1.8, 2.6]\n",
    "\n",
    "# create an empty dictionary"
   ]
  },
  {
   "cell_type": "markdown",
   "id": "e5d19ac3-f427-4178-bcda-7a58d7268db0",
   "metadata": {},
   "source": [
    "### B1_b. Add Values to Dictionary"
   ]
  },
  {
   "cell_type": "code",
   "execution_count": 15,
   "id": "14a07d05-8eab-45bd-9836-78809868e3d6",
   "metadata": {},
   "outputs": [
    {
     "name": "stdout",
     "output_type": "stream",
     "text": [
      "{0: 1.6, 1: 3.6, 2: 2.4, 3: 3.4, 4: 2.7, 5: 2.8, 6: 3.3, 7: 3.1, 8: 3.7, 9: 1.8, 10: 1.8, 11: 2.6}\n"
     ]
    }
   ],
   "source": [
    "bar_length_list = [1.6, 3.6, 2.4, 3.4, 2.7, 2.8, 3.3, 3.1, 3.7, 1.8, 1.8, 2.6]\n",
    "bar_stress_list = [275, 185, 105, 134, 155, 265, 150, 185, 124, 234, 259, 201]\n",
    "\n",
    "# create an empty dictionary\n",
    "gridshell_dict = {}\n",
    "\n",
    "for i in range(len(bar_length_list)):\n",
    "    gridshell_dict[i] = bar_length_list[i]\n",
    "    \n",
    "print(gridshell_dict)"
   ]
  },
  {
   "cell_type": "markdown",
   "id": "dd89c4c0-c50b-4d13-a4fc-578c3429532a",
   "metadata": {},
   "source": [
    "### B1_c. Access a Dictionary"
   ]
  },
  {
   "cell_type": "code",
   "execution_count": null,
   "id": "03a6c7ab-65f9-40f3-8bc6-3462af64da48",
   "metadata": {},
   "outputs": [],
   "source": []
  },
  {
   "cell_type": "markdown",
   "id": "895ed66f-30e9-410d-85d4-1fbda284413f",
   "metadata": {},
   "source": [
    "### B1_d. Modify a Dictionary"
   ]
  },
  {
   "cell_type": "code",
   "execution_count": null,
   "id": "0c27f191-0414-4151-b14f-b188f88d1a50",
   "metadata": {},
   "outputs": [],
   "source": []
  },
  {
   "cell_type": "markdown",
   "id": "52b6c1eb-6f73-4b3e-8633-0a1299b7e9c6",
   "metadata": {},
   "source": [
    "## B2. Calculate Voussoir Volume\n",
    "### Question: \n",
    "You have a dictionary containing the surface area and thickness of the voussoir. Now you want to calculate the volume of each piece, and add the number to the dictionary. \n",
    "\n",
    "$$\n",
    "volume = area * thickness\n",
    "$$\n"
   ]
  },
  {
   "cell_type": "code",
   "execution_count": 16,
   "id": "57e93ee4-2eb9-4cb3-9d7a-6f533c1bd03b",
   "metadata": {},
   "outputs": [],
   "source": [
    "# vault dictionary\n",
    "vault = {\n",
    "    0: {\"area\": 2590, \"thickness\": 51},\n",
    "    1: {\"area\": 3420, \"thickness\": 46},\n",
    "    2: {\"area\": 2940, \"thickness\": 48},\n",
    "    3: {\"area\": 4210, \"thickness\": 38},\n",
    "    4: {\"area\": 3890, \"thickness\": 58},\n",
    "    5: {\"area\": 4000, \"thickness\": 60}\n",
    "}"
   ]
  },
  {
   "cell_type": "code",
   "execution_count": 17,
   "id": "5451e742-cbce-45ae-95cf-efc47a7c7e84",
   "metadata": {},
   "outputs": [],
   "source": [
    "# iterate through the dictionary\n"
   ]
  },
  {
   "cell_type": "markdown",
   "id": "b2fddda5-b4e6-4c90-8312-b1554704fb12",
   "metadata": {},
   "source": [
    "### Exercise: Calculate Voussoir Weight\n",
    "Now you decide the voussoir would be cut from limestone, and its density is 2160 kg/m<sup>3</sup>, could you calculate the weight of each piece and add it to the dictionary?\n",
    "$$\n",
    "weight = volume * thickness\n",
    "$$"
   ]
  },
  {
   "cell_type": "code",
   "execution_count": 18,
   "id": "d79df68e-3743-4166-8103-c5b3e1703ceb",
   "metadata": {},
   "outputs": [
    {
     "ename": "IndentationError",
     "evalue": "expected an indented block (<ipython-input-18-6b21b12d97f5>, line 5)",
     "output_type": "error",
     "traceback": [
      "\u001b[0;36m  File \u001b[0;32m\"<ipython-input-18-6b21b12d97f5>\"\u001b[0;36m, line \u001b[0;32m5\u001b[0m\n\u001b[0;31m    # please write down your answer here\u001b[0m\n\u001b[0m                                        ^\u001b[0m\n\u001b[0;31mIndentationError\u001b[0m\u001b[0;31m:\u001b[0m expected an indented block\n"
     ]
    }
   ],
   "source": [
    "density = 2160  # kg/m3\n",
    "\n",
    "# iterate through the dictionary\n",
    "for key in vault.keys():\n",
    "    # please write down your answer here"
   ]
  },
  {
   "cell_type": "code",
   "execution_count": null,
   "id": "15ad19bf-3856-4935-93ba-d2740e8649be",
   "metadata": {},
   "outputs": [],
   "source": []
  }
 ],
 "metadata": {
  "kernelspec": {
   "display_name": "Python 3.9.9 64-bit ('csd2': conda)",
   "language": "python",
   "name": "python399jvsc74a57bd05e897d0e4e978ef05e1a63d69df614a45a680d18e8ec0fd527b8776f3a2cd736"
  },
  "language_info": {
   "codemirror_mode": {
    "name": "ipython",
    "version": 3
   },
   "file_extension": ".py",
   "mimetype": "text/x-python",
   "name": "python",
   "nbconvert_exporter": "python",
   "pygments_lexer": "ipython3",
   "version": "3.9.9"
  }
 },
 "nbformat": 4,
 "nbformat_minor": 5
}
