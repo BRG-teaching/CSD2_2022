{
 "cells": [
  {
   "cell_type": "markdown",
   "id": "9e4d6880",
   "metadata": {
    "slideshow": {
     "slide_type": "slide"
    }
   },
   "source": [
    "# Computational Structural Design II <br/> Intro to coding in Python and the Jupyter notebook II\n",
    "\n",
    "### Learning Goal: \n",
    "- understand how to write a function\n",
    "- understand how to use built-in functions in Python\n",
    "- understand `dictionary`"
   ]
  },
  {
   "cell_type": "markdown",
   "id": "baa25690",
   "metadata": {
    "slideshow": {
     "slide_type": "slide"
    }
   },
   "source": [
    "## A1. Find the Longest Strut\n",
    "### Question: \n",
    "You are still working on your shell structure. You want to find the longest strut in your grid shell. How can you find it?\n",
    "\n",
    "`struts = [1.6, 3.6, 2.4, 3.4, 2.7, 2.8, 3.3, 3.1, 3.7, 1.8, 1.8, 1.8, 2.6]`"
   ]
  },
  {
   "cell_type": "markdown",
   "id": "5f900d72",
   "metadata": {
    "slideshow": {
     "slide_type": "slide"
    }
   },
   "source": [
    "### A1_a. Flowchart"
   ]
  },
  {
   "cell_type": "markdown",
   "id": "2f17571a",
   "metadata": {
    "slideshow": {
     "slide_type": "slide"
    }
   },
   "source": [
    "### A1_b. Code"
   ]
  },
  {
   "cell_type": "code",
   "execution_count": 3,
   "id": "c7bf38f0",
   "metadata": {},
   "outputs": [
    {
     "name": "stdout",
     "output_type": "stream",
     "text": [
      "[1.6, 3.6, 2.4, 3.4, 2.7, 2.8, 3.3, 3.1, 3.7, 1.8, 1.8, 1.8, 2.6]\n"
     ]
    }
   ],
   "source": [
    "# Input\n",
    "# length of the sorted_struts\n",
    "struts = [1.6, 3.6, 2.4, 3.4, 2.7, 2.8, 3.3, 3.1, 3.7, 1.8, 1.8, 1.8, 2.6]\n",
    "\n",
    "# initiate longest cable, suppose the first cable is the longest\n",
    "\n",
    "# Compare Cable Length\n",
    "# if the cable is longer than the longest cable\n",
    "# assign the longest cable the new cable length\n",
    "\n",
    "# Output\n",
    "print(struts)"
   ]
  },
  {
   "cell_type": "markdown",
   "id": "ef6f5d25",
   "metadata": {
    "slideshow": {
     "slide_type": "slide"
    }
   },
   "source": [
    "## A2. Sort the cables\n",
    "### Question:\n",
    "Now you want to sort the cables from the longest to the shortest. How can you do it?\n",
    "\n",
    "`struts = [1.6, 3.6, 2.4, 3.4, 2.7, 2.8, 3.3, 3.1, 3.7, 1.8, 1.8, 1.8, 2.6]`"
   ]
  },
  {
   "cell_type": "markdown",
   "id": "4799f49b",
   "metadata": {
    "slideshow": {
     "slide_type": "slide"
    }
   },
   "source": [
    "### A2_a. Flowchart"
   ]
  },
  {
   "cell_type": "markdown",
   "id": "58ec5cba",
   "metadata": {
    "slideshow": {
     "slide_type": "slide"
    }
   },
   "source": [
    "### 2_b. Write the Function"
   ]
  },
  {
   "cell_type": "code",
   "execution_count": 11,
   "id": "33050386",
   "metadata": {
    "slideshow": {
     "slide_type": "-"
    }
   },
   "outputs": [
    {
     "name": "stdout",
     "output_type": "stream",
     "text": [
      "The longest strut is cable 9 and its length is 3.7 m.\n"
     ]
    }
   ],
   "source": [
    "# Input\n",
    "# length of the sorted_struts\n",
    "struts = [1.6, 3.6, 2.4, 3.4, 2.7, 2.8, 3.3, 3.1, 3.7, 1.8, 1.8, 1.8, 2.6]\n",
    "\n",
    "# initiate longest cable, suppose the first cable is the longest\n",
    "longest = struts[0]  \n",
    "index = 0  \n",
    "\n",
    "# Compare Cable Length\n",
    "# if the cable is longer than the longest cable\n",
    "# assign the longest cable the new cable length\n",
    "for i, strut in enumerate(struts):\n",
    "    if strut >= longest:\n",
    "        longest = strut\n",
    "        index = i\n",
    "\n",
    "# Output\n",
    "print(\"The longest strut is cable\", index + 1, \"and its length is\", longest, \"m.\")"
   ]
  },
  {
   "cell_type": "markdown",
   "id": "d503cf00",
   "metadata": {
    "slideshow": {
     "slide_type": "slide"
    }
   },
   "source": [
    "### A2_c. Call the Function"
   ]
  },
  {
   "cell_type": "code",
   "execution_count": 9,
   "id": "8b611152",
   "metadata": {},
   "outputs": [
    {
     "name": "stdout",
     "output_type": "stream",
     "text": [
      "The sorted cable list is []\n"
     ]
    }
   ],
   "source": [
    "# Input\n",
    "# length of the sorted_struts\n",
    "struts = [1.6, 3.6, 2.4, 3.4, 2.7, 2.8, 3.3, 3.1, 3.7, 1.8, 1.8, 1.8, 2.6]\n",
    "# create empty cable list\n",
    "sorted_struts = []\n",
    "\n",
    "# Program\n",
    "\n",
    "# Output\n",
    "print(\"The sorted cable list is\", sorted_struts)"
   ]
  },
  {
   "cell_type": "markdown",
   "id": "457c87e5",
   "metadata": {
    "slideshow": {
     "slide_type": "slide"
    }
   },
   "source": [
    "### A2_d. Turn Sorting into a Function"
   ]
  },
  {
   "cell_type": "code",
   "execution_count": 12,
   "id": "276e352a",
   "metadata": {},
   "outputs": [],
   "source": [
    "def sort_strut_length(struts):\n",
    "    \"\"\"\n",
    "    sort the cables in descending order\n",
    "\n",
    "    Parameters\n",
    "    ----------\n",
    "    cables: list\n",
    "        A list containing the cable length of the cable-net\n",
    "\n",
    "    Returns\n",
    "    -------\n",
    "    sorted_cables: list\n",
    "        A list containing the cable length of the cable-net in descending order\n",
    "    \n",
    "    \"\"\"\n",
    "    # create empty strut list\n",
    "    sorted_struts = []\n",
    "\n",
    "    while struts != []:\n",
    "        # find the longest strut in the remaining of the strut list\n",
    "        i, longest = find_longest_strut(struts)\n",
    "        # remove the longest item from the strut list\n",
    "        struts.pop(i)\n",
    "        # add the longest item to the sorted strut list\n",
    "        sorted_struts.append(longest)\n",
    "\n",
    "    return sorted_cables"
   ]
  },
  {
   "cell_type": "markdown",
   "id": "916db187",
   "metadata": {
    "slideshow": {
     "slide_type": "slide"
    }
   },
   "source": [
    "### A2_d. Python List Functions\n"
   ]
  },
  {
   "cell_type": "code",
   "execution_count": null,
   "id": "e0bc735c",
   "metadata": {},
   "outputs": [],
   "source": [
    "# length of the sorted_struts\n",
    "struts = [1.6, 3.6, 2.4, 3.4, 2.7, 2.8, 3.3, 3.1, 3.7, 1.8, 1.8, 1.8, 2.6]\n",
    "\n",
    "print()"
   ]
  }
 ],
 "metadata": {
  "celltoolbar": "Slideshow",
  "kernelspec": {
   "display_name": "Python 3.9.9 64-bit ('csd2': conda)",
   "language": "python",
   "name": "python399jvsc74a57bd05e897d0e4e978ef05e1a63d69df614a45a680d18e8ec0fd527b8776f3a2cd736"
  },
  "language_info": {
   "codemirror_mode": {
    "name": "ipython",
    "version": 3
   },
   "file_extension": ".py",
   "mimetype": "text/x-python",
   "name": "python",
   "nbconvert_exporter": "python",
   "pygments_lexer": "ipython3",
   "version": "3.9.9"
  }
 },
 "nbformat": 4,
 "nbformat_minor": 5
}
