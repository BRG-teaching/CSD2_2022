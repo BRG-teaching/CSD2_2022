{
 "cells": [
  {
   "cell_type": "markdown",
   "id": "dbfd9531",
   "metadata": {},
   "source": [
    "# Computational Structural Design II <br/> Assignment I: Transportation Turns"
   ]
  },
  {
   "cell_type": "markdown",
   "id": "651ee298",
   "metadata": {},
   "source": [
    "# Question: \n",
    "Now you have designed fabricated all your voussoir. You have a cargo van which could carry 900 kg in maximum and you would use it to transport all your pieces from the factory to the site. How many transportation turns would you need?"
   ]
  },
  {
   "cell_type": "markdown",
   "id": "3d7b64a4",
   "metadata": {},
   "source": [
    "# Hint:\n",
    "1. Let's break the question down by just checking the first turn. You want to put as many voussoirs as possible on the truck. ick one voussoir. If the truck's load capacity is not filled, you could put it there. Keep doing this until the truck is full or you have checked all the voussoirs and no one fits the truck anymore.\n",
    "2. You can create a function that cheaks how many voussoirs can be loaded in one turn. \n",
    "3. Now you can keep calling the function until all the voussoirs are on the truck. Note that, after every time we fill the truck, we need to update the remaining voussoir list. "
   ]
  },
  {
   "cell_type": "code",
   "execution_count": 4,
   "id": "0ca76ad2",
   "metadata": {},
   "outputs": [
    {
     "name": "stdout",
     "output_type": "stream",
     "text": [
      "33\n"
     ]
    }
   ],
   "source": [
    "name = \"juney lee\"\n",
    "n = []\n",
    "for x in name:\n",
    "   n.append(ord(x) - 96)\n",
    "seed = sum(n)\n",
    "print(seed)"
   ]
  },
  {
   "cell_type": "code",
   "execution_count": 12,
   "id": "7fb15dad",
   "metadata": {},
   "outputs": [
    {
     "name": "stdout",
     "output_type": "stream",
     "text": [
      "The voussoir list is:  [19.63, 20.4, 22.71, 15.97, 20.65, 23.64, 23.86, 14.83, 20.65, 20.21, 18.79, 24.58, 19.1, 18.07, 24.29, 20.45, 16.27, 16.37, 18.7, 13.16, 20.09, 21.7, 17.83, 23.08, 24.1, 19.45, 21.02, 13.97, 13.2, 24.75, 16.06, 15.17, 23.71, 21.87, 14.04, 16.52, 15.53, 15.91, 12.58, 19.06, 16.3, 17.43, 14.82, 13.88, 12.91, 23.41, 21.84, 19.5, 14.05, 14.36, 14.0, 16.46, 13.22, 15.94, 15.04, 14.91, 20.67, 18.22, 18.42, 16.98, 19.24, 22.31, 16.35, 13.38, 18.51, 17.24, 22.26, 13.89, 23.41, 12.69, 19.28, 18.04, 16.44, 23.61, 21.28, 14.54, 18.69, 20.15, 12.92, 13.59, 20.02, 21.62, 18.28, 17.78, 18.84, 15.76, 23.46, 24.52, 18.52, 12.76, 17.46, 22.54, 16.56, 13.82, 14.82, 21.4, 20.28, 16.08, 20.29, 22.01, 24.58, 22.89, 17.92, 22.62, 24.07, 23.36, 21.88, 19.83, 18.89, 23.13, 20.31, 21.52, 15.35, 13.65, 15.88, 19.79, 19.66, 14.98, 14.86, 24.38, 13.39, 24.08, 22.15, 19.67, 24.94, 21.0, 12.58, 24.24, 17.67, 23.96, 22.67, 14.23, 13.0, 12.76, 22.26, 22.39, 15.35, 13.91, 17.08, 22.49, 21.76, 23.34, 24.6, 21.93, 22.95, 12.7, 12.58, 23.28, 20.23, 16.59, 14.1, 16.66, 16.74, 18.7, 18.12, 15.03, 13.53, 15.04, 14.1, 13.75, 17.68, 14.13, 22.5, 19.31, 18.25, 20.49, 15.44, 12.79, 13.48, 16.71, 17.02, 15.66, 16.33, 22.92, 12.61, 18.11, 17.29, 16.03, 21.56, 15.31, 13.03, 14.49, 24.73, 16.82, 13.96, 24.64, 20.56, 24.46, 16.64, 22.62, 13.02, 15.47, 22.43, 18.95, 22.37, 17.32, 23.45, 13.47, 20.29, 14.86]\n"
     ]
    }
   ],
   "source": [
    "import random\n",
    "voussoirs = []\n",
    "random.seed(seed)\n",
    "for i in range(200):\n",
    "    voussoirs.append(round(random.uniform(12.5, 25), 2))\n",
    "print(\"The voussoir list is: \", voussoirs)"
   ]
  },
  {
   "cell_type": "code",
   "execution_count": 5,
   "id": "90f860f3",
   "metadata": {},
   "outputs": [],
   "source": [
    "# you can write your code here..."
   ]
  },
  {
   "cell_type": "code",
   "execution_count": null,
   "id": "141855ca",
   "metadata": {},
   "outputs": [],
   "source": []
  }
 ],
 "metadata": {
  "kernelspec": {
   "display_name": "Python 3.8.12 64-bit ('brg': conda)",
   "language": "python",
   "name": "python3812jvsc74a57bd04660e017fe583de81ac72b41cd0367138abbb38b850ef3671e77c7ef0042ac47"
  },
  "language_info": {
   "codemirror_mode": {
    "name": "ipython",
    "version": 3
   },
   "file_extension": ".py",
   "mimetype": "text/x-python",
   "name": "python",
   "nbconvert_exporter": "python",
   "pygments_lexer": "ipython3",
   "version": "3.8.12"
  }
 },
 "nbformat": 4,
 "nbformat_minor": 5
}
