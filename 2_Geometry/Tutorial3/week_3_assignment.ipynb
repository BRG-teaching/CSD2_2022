{
 "cells": [
  {
   "cell_type": "markdown",
   "id": "dbfd9531",
   "metadata": {},
   "source": [
    "# Computational Structural Design II <br/> Assignment I: Transportation Turns"
   ]
  },
  {
   "cell_type": "markdown",
   "id": "651ee298",
   "metadata": {},
   "source": [
    "# Question: \n",
    "Now you have fabricated all your voussoirs. You have a cargo van which can carry a maximum of 900 kg in one turn. It is your task to transport all your pieces from the factory to the site. How many transportation turns do you need?"
   ]
  },
  {
   "cell_type": "markdown",
   "id": "3d7b64a4",
   "metadata": {},
   "source": [
    "# Steps:\n",
    "1. Let's break the question down by initially checking the first turn. You want to put as many voussoirs as possible on the truck, for maximum efficiency. Pick one voussoir. If the truck's load capacity is not filled, the voussoir can be placed in the truck. You can repeat the process until the truck is full **or** you have checked all the voussoirs and no one fits the truck anymore.\n",
    "2. You can create a function that cheaks how many voussoirs can be loaded in one turn.\n",
    "3. Now you can keep calling the function until all the voussoirs are on the truck. Note: every time we reach the truck's capacity, we need to update the remaining voussoir list. "
   ]
  },
  {
   "cell_type": "markdown",
   "id": "0864169c",
   "metadata": {},
   "source": [
    "## A. Generate Voussoir List\n",
    "Please replace the value of variable `name` with your name.  "
   ]
  },
  {
   "cell_type": "code",
   "execution_count": 1,
   "id": "0ca76ad2",
   "metadata": {},
   "outputs": [
    {
     "name": "stdout",
     "output_type": "stream",
     "text": [
      "The voussoir list is:  [16.53, 13.91, 14.27, 21.02, 15.42, 22.27, 13.03, 17.2, 22.73, 19.89, 16.33, 23.93, 20.44, 19.29, 12.56, 13.63, 23.6, 24.15, 13.4, 20.33, 12.76, 14.41, 13.81, 22.4, 24.99, 21.76, 15.53, 14.12, 21.51, 17.96, 24.71, 24.5, 13.46, 15.06, 24.91, 15.61, 24.3, 22.37, 21.89, 14.73, 15.97, 19.96, 14.63, 24.79, 14.12, 24.3, 16.08, 24.18, 19.46, 13.95, 17.11, 24.78, 17.46, 13.03, 22.28, 15.08, 21.84, 15.65, 15.31, 21.09, 20.21, 13.68, 21.58, 17.4, 17.41, 23.66, 16.46, 17.26, 14.1, 15.51, 18.79, 12.98, 17.42, 18.86, 14.08, 16.4, 16.81, 19.2, 18.15, 17.33, 23.05, 12.56, 16.15, 16.55, 23.75, 23.08, 18.46, 24.27, 13.22, 21.73, 15.66, 24.92, 13.09, 20.61, 17.78, 20.82, 15.42, 23.79, 24.13, 17.95, 13.4, 24.53, 19.71, 13.51, 13.43, 15.06, 23.51, 13.1, 15.16, 19.33, 23.44, 20.76, 12.76, 18.94, 15.54, 18.33, 17.22, 17.24, 14.47, 13.71, 20.21, 13.86, 21.83, 13.73, 21.31, 20.01, 13.33, 24.97, 18.42, 15.13, 16.96, 12.91, 14.86, 16.86, 14.36, 18.81, 17.38, 16.61, 14.89, 20.03, 24.48, 24.18, 21.25, 23.99, 19.33, 24.99, 13.7, 14.3, 20.5, 16.0, 16.95, 23.74, 19.1, 23.84, 13.6, 20.32, 24.49, 16.65, 20.01, 21.58, 20.98, 22.04, 16.78, 20.76, 14.84, 19.6, 19.65, 15.53, 22.38, 13.62, 12.91, 19.19, 16.05, 18.61, 24.18, 18.81, 13.67, 18.12, 22.78, 21.34, 15.21, 14.78, 15.53, 21.97, 24.35, 22.66, 13.96, 14.02, 17.37, 15.86, 23.13, 19.1, 15.57, 21.27, 20.77, 18.49, 23.07, 20.86, 18.3, 16.35]\n"
     ]
    }
   ],
   "source": [
    "import random\n",
    "\n",
    "name = \"CSD2-2022 Student X\"  # please replace here with your name\n",
    "n = []\n",
    "for x in name:\n",
    "   n.append(ord(x) - 96)\n",
    "seed = sum(n)\n",
    "\n",
    "voussoirs = []\n",
    "random.seed(seed)\n",
    "for i in range(200):\n",
    "    voussoirs.append(round(random.uniform(12.5, 25), 2))\n",
    "print(\"The voussoir list is: \", voussoirs)"
   ]
  },
  {
   "cell_type": "markdown",
   "id": "509da057",
   "metadata": {},
   "source": [
    "## B. Check the First Turn"
   ]
  },
  {
   "cell_type": "code",
   "execution_count": 2,
   "id": "7fb15dad",
   "metadata": {},
   "outputs": [],
   "source": [
    "# your code here..."
   ]
  },
  {
   "cell_type": "markdown",
   "id": "bdd3d537",
   "metadata": {},
   "source": [
    "## C. `check_left_voussoirs` Function"
   ]
  },
  {
   "cell_type": "code",
   "execution_count": 5,
   "id": "90f860f3",
   "metadata": {},
   "outputs": [],
   "source": [
    "def check_left_voussoirs(voussoirs, max_load=900):\n",
    "    \"\"\"\n",
    "    Given the voussoirs and max load of the truck,\n",
    "    Check the remaining voussoirs after the truck is fully loaded.\n",
    "\n",
    "    Parameters\n",
    "    ----------\n",
    "    voussoirs: list\n",
    "        A list containing the weight of voussoirs\n",
    "    max_load: int (optional)\n",
    "        default: 900\n",
    "        The maximum load capacity of the truck\n",
    "\n",
    "    Returns\n",
    "    -------\n",
    "    voussoirs: list\n",
    "        A list containing the weight of remaining voussoirs.\n",
    "\n",
    "    \"\"\"\n",
    "    \n",
    "    # your code here...\n",
    "    return voussoirs"
   ]
  },
  {
   "cell_type": "markdown",
   "id": "6e3663c0",
   "metadata": {},
   "source": [
    "## D. Call the Function to Calculate Transportation Turns"
   ]
  },
  {
   "cell_type": "code",
   "execution_count": null,
   "id": "141855ca",
   "metadata": {},
   "outputs": [],
   "source": [
    "# your code here..."
   ]
  }
 ],
 "metadata": {
  "interpreter": {
   "hash": "767b8e31c1eec9ef327cc27a2a5d7df98b41c7cbc989a566ef8d39dcc483faec"
  },
  "kernelspec": {
   "display_name": "Python 3.8.12 64-bit ('brg': conda)",
   "language": "python",
   "name": "python3"
  },
  "language_info": {
   "codemirror_mode": {
    "name": "ipython",
    "version": 3
   },
   "file_extension": ".py",
   "mimetype": "text/x-python",
   "name": "python",
   "nbconvert_exporter": "python",
   "pygments_lexer": "ipython3",
   "version": "3.8.12"
  }
 },
 "nbformat": 4,
 "nbformat_minor": 5
}
