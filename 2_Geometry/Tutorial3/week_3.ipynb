{
 "cells": [
  {
   "cell_type": "markdown",
   "id": "6950c146-631d-4f4f-8688-2682f6eee0fa",
   "metadata": {},
   "source": [
    "# Computational Structural Design II <br/> Intro to coding in Python and the Jupyter notebook II\n",
    "\n",
    "### Learning Goal: \n",
    "- understand how to write a function\n",
    "- understand how to use built-in functions in Python\n",
    "- understand `dictionary`\n",
    "\n",
    "### Content:\n",
    "- A. bar Length\n",
    "    - A1. [Find the Longest Bar](#A1)\n",
    "    - A2. [Sort the Bars](#A2)\n",
    "- B. Data Management\n",
    "    - B1. [Gridshell Data](#B1)\n",
    "    - B2. [Calculate Voussoir Volume](#B2)\n",
    "\n",
    "### Exercise:\n",
    "- [Calculate Voussoir Weight](#exB2)\n",
    "\n",
    "### Assignment:\n",
    "- Calculate Transportation Turns"
   ]
  },
  {
   "cell_type": "markdown",
   "id": "02a6406a-52b8-40d0-87e4-0b18bb3ce090",
   "metadata": {},
   "source": [
    "<a id='A1'></a>\n",
    "\n",
    "# A. bar Length <br/>\n",
    "## A1. Find the Longest Bar\n",
    "### Question: \n",
    "You are still working on your grid-shell. You want to find the longest bar in your grid-shell. How can you find i"
   ]
  },
  {
   "cell_type": "markdown",
   "id": "380debfa-c597-4747-ae00-09275d9bd204",
   "metadata": {},
   "source": [
    "### Answer:\n",
    "You can pick one bar, and suppose it is the longest bar. Then, pick the second one. If it is longer than the first one, then the longest one is the second one. Keep repeating this process until you have compared all the bars. Then you will find the longest bar. "
   ]
  },
  {
   "cell_type": "markdown",
   "id": "71ddc93a-ad63-4602-a1ed-debcde0ee395",
   "metadata": {},
   "source": [
    "### A1_a. Flowchart\n",
    "\n",
    "<img src=\"img/A1_a.png\" style=\"margin-left:auto; margin-right:auto\" width=\"300\"/>\n"
   ]
  },
  {
   "cell_type": "markdown",
   "id": "69a1e7fc-3cd1-4bc1-b914-54a8d54873bc",
   "metadata": {},
   "source": [
    "### A1_b. Code"
   ]
  },
  {
   "cell_type": "code",
   "execution_count": 1,
   "id": "d3c8459e-cfd5-424f-b875-b33003129618",
   "metadata": {},
   "outputs": [
    {
     "name": "stdout",
     "output_type": "stream",
     "text": [
      "The longest bar is bar 9 and its length is 3.7 m.\n"
     ]
    }
   ],
   "source": [
    "# Input\n",
    "# bar length of the grids-shell\n",
    "gridshell = [1.6, 3.6, 2.4, 3.4, 2.7, 2.8, 3.3, 3.1, 3.7, 1.8, 1.8, 1.8, 2.6]\n",
    "\n",
    "# initiate longest bar, suppose the first bar is the longest\n",
    "longest = gridshell[0]  \n",
    "index = 0  \n",
    "\n",
    "# Compare Bar Length\n",
    "# if the bar is longer than the longest bar\n",
    "# assign the longest bar the new bar length\n",
    "for i, bar in enumerate(gridshell):\n",
    "    if bar >= longest:\n",
    "        longest = bar\n",
    "        index = i\n",
    "\n",
    "# Output\n",
    "print(\"The longest bar is bar\", index + 1, \"and its length is\", longest, \"m.\")"
   ]
  },
  {
   "cell_type": "markdown",
   "id": "63586470-e2ad-486b-9e60-7c38c9c9b1b3",
   "metadata": {},
   "source": [
    "---"
   ]
  },
  {
   "cell_type": "markdown",
   "id": "245b1a2c-a58d-4b63-bc18-8a06521f6833",
   "metadata": {},
   "source": [
    "<a id='A2'></a>\n",
    "## A2. Sort the bars\n",
    "### Question:\n",
    "Now you want to sort the bars from the longest to the shortest. How can you do it?"
   ]
  },
  {
   "cell_type": "markdown",
   "id": "876008e2-2048-4010-b35d-5608c31d6e0d",
   "metadata": {},
   "source": [
    "### Answer:\n",
    "One way to solve this problem is to go through all the bars, and find the longest one. Add the longest one to a new list. \n",
    "\n",
    "| Sorted bars | Length (m) |\n",
    "| :---: | :---: |\n",
    "| 1 | 3.7 |\n",
    "\n",
    "Then do it again and find the next-longest bar. \n",
    "\n",
    "| Sorted bars | Length (m) |\n",
    "| :---: | :---: |\n",
    "| 1 | 3.7 |\n",
    "| 2 | 3.6 |\n",
    "\n",
    "Keep doing and you would get the sorted bars from longest to shortest."
   ]
  },
  {
   "cell_type": "markdown",
   "id": "c179df3f-3351-434b-82d5-247d367f14fe",
   "metadata": {},
   "source": [
    "### A2_a. Flowchart\n",
    "<img src=\"img/A1_b.png\" style=\"margin-left:auto; margin-right:auto\" width=\"500\"/>\n"
   ]
  },
  {
   "cell_type": "markdown",
   "id": "83d59b17-0694-4d00-9776-c102e6e66005",
   "metadata": {},
   "source": [
    "### A2_b. Write the Function\n",
    "To find one element in the sorted bar list, we need to find the longest bar in the remaining bar list. We could turn this part of the statements into a [function](https://docs.python.org/3/tutorial/controlflow.html#defining-functions), which we could reuse when needed. A function always start with a keyword `def`, followed by the function name and the parameters. When we write a function, it's suggested to write a short doc describing the function."
   ]
  },
  {
   "cell_type": "code",
   "execution_count": 3,
   "id": "8b6dc6b7-4875-4f2f-8da5-9e906aff7f9c",
   "metadata": {},
   "outputs": [],
   "source": [
    "def find_longest_bar(bars):\n",
    "    \"\"\"\n",
    "    to find the longest bar in the gridshell\n",
    "    Parameters\n",
    "    ----------\n",
    "    bars : list\n",
    "        A list containing the bar length of the gridshell\n",
    "\n",
    "    Returns\n",
    "    -------\n",
    "    index: int\n",
    "        Index of the longest bar in the bar list\n",
    "    longest: float\n",
    "        Length of the longest bar in the bar list\n",
    "    \"\"\"\n",
    "\n",
    "    # check the list is not empty\n",
    "    if bars == []:\n",
    "        return\n",
    "\n",
    "    # initiate longest bar, suppose the first bar is the longest\n",
    "    longest = bars[0]  \n",
    "    index = 0  \n",
    "\n",
    "    # compare every bar with the longest bar\n",
    "    for i, bar in enumerate(bars):\n",
    "        if bar >= longest:\n",
    "            longest = bar\n",
    "            index = i\n",
    "\n",
    "    return index, longest"
   ]
  },
  {
   "cell_type": "markdown",
   "id": "36b6018c-f05a-4c8d-be5b-97ac230ce79a",
   "metadata": {},
   "source": [
    "### A2_c. Call the Function\n",
    "Now we could use `find_longest_bar` function to sort our bars from longest to shortest. Every time we find the longest bar, we will delete it from the gridshell list and add it to the sorted_bars list. "
   ]
  },
  {
   "cell_type": "code",
   "execution_count": 7,
   "id": "a0c0969e-f236-48ae-94ef-ed8b9a2e1faa",
   "metadata": {},
   "outputs": [
    {
     "name": "stdout",
     "output_type": "stream",
     "text": [
      "The sorted bar list is [3.7, 3.6, 3.4, 3.3, 3.1, 2.8, 2.7, 2.6, 2.4, 1.8, 1.8, 1.8, 1.6]\n"
     ]
    }
   ],
   "source": [
    "# Input\n",
    "# bar length of the bar-net\n",
    "gridshell = [1.6, 3.6, 2.4, 3.4, 2.7, 2.8, 3.3, 3.1, 3.7, 1.8, 1.8, 1.8, 2.6]\n",
    "# create empty bar list\n",
    "sorted_bars = []\n",
    "\n",
    "# Program\n",
    "while gridshell != []:\n",
    "    # find the longest bar in the remaining of the bar list\n",
    "    i, longest = find_longest_bar(gridshell)\n",
    "    # remove the longest item from the bar list\n",
    "    gridshell.pop(i)\n",
    "    # add the longest item to the sorted bar list\n",
    "    sorted_bars.append(longest)\n",
    "\n",
    "# Output\n",
    "print(\"The sorted bar list is\", sorted_bars)"
   ]
  },
  {
   "cell_type": "markdown",
   "id": "23e6efdc-ded0-4c81-8840-fb817720e2fb",
   "metadata": {},
   "source": [
    "### A2_d. Turn Sorting into a Function\n",
    "We could also turn the sorting into a function `sort_bar_length`, which means the `sort_bar_length` function will include the `find_longest_bar` function. It is allowed in Python. This sorting method is also called [`selecting sorting` algorithm](https://en.wikipedia.org/wiki/Selection_sort).  "
   ]
  },
  {
   "cell_type": "code",
   "execution_count": 8,
   "id": "7eac78da-66f6-4886-8613-39e16965d06a",
   "metadata": {},
   "outputs": [],
   "source": [
    "def sort_bar_length(bars):\n",
    "    \"\"\"\n",
    "    sort the bars in descending order\n",
    "\n",
    "    Parameters\n",
    "    ----------\n",
    "    bars: list\n",
    "        A list containing the bar length of the gridshell\n",
    "\n",
    "    Returns\n",
    "    -------\n",
    "    sorted_bars: list\n",
    "        A list containing the bar length of the gridshell in descending order\n",
    "    \n",
    "    \"\"\"\n",
    "    # create empty bar list\n",
    "    sorted_bars = []\n",
    "\n",
    "    while bars != []:\n",
    "        # find the longest bar in the remaining of the bar list\n",
    "        i, longest = find_longest_bar(bars)\n",
    "        # remove the longest item from the bar list\n",
    "        bars.pop(i)\n",
    "        # add the longest item to the sorted bar list\n",
    "        sorted_bars.append(longest)\n",
    "\n",
    "    return sorted_bars"
   ]
  },
  {
   "cell_type": "markdown",
   "id": "0267f48f-5e12-48d9-bfd5-f2485757358d",
   "metadata": {},
   "source": [
    "### A2_d. Python List Functions\n",
    "\n",
    "Python has built-in method `sorted()` that could sort a list easily. `max()` and `min()` would find the largest and smallest item in the list. "
   ]
  },
  {
   "cell_type": "code",
   "execution_count": 9,
   "id": "db5dd4a8-639d-4751-8cea-6d3323588881",
   "metadata": {},
   "outputs": [
    {
     "name": "stdout",
     "output_type": "stream",
     "text": [
      "Longest bar is 3.7 m.\n",
      "Shortest bar is 1.6 m.\n",
      "bars in ascending order: [1.6, 1.8, 1.8, 1.8, 2.4, 2.6, 2.7, 2.8, 3.1, 3.3, 3.4, 3.6, 3.7]\n",
      "bars in descending order: [3.7, 3.6, 3.4, 3.3, 3.1, 2.8, 2.7, 2.6, 2.4, 1.8, 1.8, 1.8, 1.6]\n",
      "Total bar length is 34.6 m.\n"
     ]
    }
   ],
   "source": [
    "barnet = [1.6, 3.6, 2.4, 3.4, 2.7, 2.8, 3.3, 3.1, 3.7, 1.8, 1.8, 1.8, 2.6]\n",
    "\n",
    "print(\"Longest bar is\", max(barnet), \"m.\")\n",
    "print(\"Shortest bar is\", min(barnet), \"m.\")\n",
    "print(\"bars in ascending order:\", sorted(barnet))\n",
    "print(\"bars in descending order:\", sorted(barnet, reverse=True))\n",
    "print(\"Total bar length is\", sum(barnet), \"m.\")"
   ]
  },
  {
   "cell_type": "markdown",
   "id": "12eb5c1c-d092-421d-a411-7150ced77052",
   "metadata": {},
   "source": [
    "---"
   ]
  },
  {
   "cell_type": "markdown",
   "id": "4786f07d-0fc2-49ed-8a9a-bc73a40ffc7a",
   "metadata": {},
   "source": [
    "<a id='B1'></a>\n",
    "\n",
    "# B. Data Management <br/>\n",
    "## B1. Gridshell Data\n",
    "### Question: \n",
    "While digging deep into the design and fabrication, you start to accumulating information about the bars, including the length, dimension, bar stress, etc. How would you hold your information?\n",
    "\n",
    "| bar No. | Length (m) | Dimension (mm) | Stress (N/mm<sup>2</sup>) |\n",
    "| :---: | :---: | :---: | :---: |\n",
    "| 1 | 1.6 | 2 | 275 |\n",
    "| 2 | 3.6 | 2 | 185 |\n",
    "| 3 | 2.4 | 2 | 105 |\n",
    "| 4 | 3.4 | 2 | 134 |\n",
    "| 5 | 2.7 | 2 | 155 |\n",
    "| 6 | 2.8 | 2 | 265 |\n",
    "| 7 | 3.3 | 2 | 150 |\n",
    "| 8 | 3.1 | 2 | 185 |\n",
    "| 9 | 3.7 | 2 | 124 |\n",
    "| 10 | 1.8 | 2 | 234 |\n",
    "| 11 | 1.8 | 2 | 259 |\n",
    "| 12 | 2.6 | 2 | 201 |"
   ]
  },
  {
   "cell_type": "markdown",
   "id": "c22038dc-4486-48e6-ade0-31f722dbc7b2",
   "metadata": {},
   "source": [
    "### Answer:\n",
    "In this case, we can create three lists, containing information of length, dimension, and stress respectively. However, this solution is not efficient nor clear, especially when our data set is big. Here we would introduce a new collection type - [dictionary](https://docs.python.org/3/tutorial/datastructures.html#dictionaries). \n",
    "\n",
    "### B1_a. Create a Dictionary\n",
    "First, let's create a dictionary to save all the lengths of the bars. The key is the index of the bar, and the item is the length."
   ]
  },
  {
   "cell_type": "code",
   "execution_count": 11,
   "id": "c512afc1-8f58-4d99-b5c7-154c46c8ab00",
   "metadata": {},
   "outputs": [
    {
     "name": "stdout",
     "output_type": "stream",
     "text": [
      "{0: 1.6, 1: 3.6, 2: 2.4, 3: 3.4, 4: 2.7, 5: 2.8, 6: 3.3, 7: 3.1, 8: 3.7, 9: 1.8, 10: 1.8, 11: 2.6}\n"
     ]
    }
   ],
   "source": [
    "bar_length_list = [1.6, 3.6, 2.4, 3.4, 2.7, 2.8, 3.3, 3.1, 3.7, 1.8, 1.8, 2.6]\n",
    "\n",
    "# create an empty dictionary\n",
    "gridshell_dict = {}\n",
    "\n",
    "for i in range(len(bar_length_list)):\n",
    "    gridshell_dict[i] = bar_length_list[i]\n",
    "    \n",
    "print(gridshell_dict)"
   ]
  },
  {
   "cell_type": "markdown",
   "id": "72392032-b9a4-4f1e-a25b-e61d9fd86a09",
   "metadata": {},
   "source": [
    "Note that dictionaries are indexed by keys, which can be not only numbers, but also other immutable type, such as strings. "
   ]
  },
  {
   "cell_type": "code",
   "execution_count": 12,
   "id": "faf6d6ee-3fab-41a4-a0d9-ef844172d71d",
   "metadata": {},
   "outputs": [
    {
     "name": "stdout",
     "output_type": "stream",
     "text": [
      "{'bar_0': 1.6, 'bar_1': 3.6, 'bar_2': 2.4, 'bar_3': 3.4, 'bar_4': 2.7, 'bar_5': 2.8, 'bar_6': 3.3, 'bar_7': 3.1, 'bar_8': 3.7, 'bar_9': 1.8, 'bar_10': 1.8, 'bar_11': 2.6}\n"
     ]
    }
   ],
   "source": [
    "bar_length_list = [1.6, 3.6, 2.4, 3.4, 2.7, 2.8, 3.3, 3.1, 3.7, 1.8, 1.8, 2.6]\n",
    "\n",
    "# create an empty dictionary\n",
    "gridshell_dict = {}\n",
    "\n",
    "for i in range(len(bar_length_list)):\n",
    "    key = \"bar_{}\".format(i)\n",
    "    gridshell_dict[key] = bar_length_list[i]\n",
    "    \n",
    "print(gridshell_dict)"
   ]
  },
  {
   "cell_type": "markdown",
   "id": "c09917b9-dbca-4603-9271-ccaa0027b976",
   "metadata": {},
   "source": [
    "### B1_b. Add Values to Dictionary\n",
    "Now let's save more information."
   ]
  },
  {
   "cell_type": "code",
   "execution_count": 13,
   "id": "aeb07412-c897-45ad-9694-5f04e15180e7",
   "metadata": {},
   "outputs": [
    {
     "name": "stdout",
     "output_type": "stream",
     "text": [
      "{0: {'length': 1.6, 'dimension': 2, 'stress': 275}, 1: {'length': 3.6, 'dimension': 2, 'stress': 185}, 2: {'length': 2.4, 'dimension': 2, 'stress': 105}, 3: {'length': 3.4, 'dimension': 2, 'stress': 134}, 4: {'length': 2.7, 'dimension': 2, 'stress': 155}, 5: {'length': 2.8, 'dimension': 2, 'stress': 265}, 6: {'length': 3.3, 'dimension': 2, 'stress': 150}, 7: {'length': 3.1, 'dimension': 2, 'stress': 185}, 8: {'length': 3.7, 'dimension': 2, 'stress': 124}, 9: {'length': 1.8, 'dimension': 2, 'stress': 234}, 10: {'length': 1.8, 'dimension': 2, 'stress': 259}, 11: {'length': 2.6, 'dimension': 2, 'stress': 201}}\n"
     ]
    }
   ],
   "source": [
    "bar_length_list = [1.6, 3.6, 2.4, 3.4, 2.7, 2.8, 3.3, 3.1, 3.7, 1.8, 1.8, 2.6]\n",
    "bar_stress_list = [275, 185, 105, 134, 155, 265, 150, 185, 124, 234, 259, 201]\n",
    "\n",
    "# create an empty dictionary\n",
    "# key is index of the bar, item is infomation of the bar\n",
    "gridshell_dict = {}\n",
    "\n",
    "for i in range(len(bar_length_list)):\n",
    "    # for each bar, we create another dictionary\n",
    "    # key: category, item: value of the category\n",
    "    gridshell_dict[i] = {}\n",
    "    gridshell_dict[i][\"length\"] = bar_length_list[i]\n",
    "    gridshell_dict[i][\"dimension\"] = 2\n",
    "    gridshell_dict[i][\"stress\"] = bar_stress_list[i]\n",
    "\n",
    "print(gridshell_dict)"
   ]
  },
  {
   "cell_type": "markdown",
   "id": "1fbccdaa-f2c4-403c-9237-1efb9fdc4436",
   "metadata": {},
   "source": [
    "### B1_c. Access a Dictionary\n",
    "We could easily find the information on a specific bar. For example, let's find the information on bar `3`."
   ]
  },
  {
   "cell_type": "code",
   "execution_count": 14,
   "id": "747ebfe0-725c-4074-a135-ded7578a4df7",
   "metadata": {},
   "outputs": [
    {
     "name": "stdout",
     "output_type": "stream",
     "text": [
      "bar 3 information {'length': 3.4, 'dimension': 2, 'stress': 134}\n"
     ]
    }
   ],
   "source": [
    "index = 3\n",
    "print(\"bar\", index, \"information\", gridshell_dict[index])"
   ]
  },
  {
   "cell_type": "markdown",
   "id": "577b2d3d-35fb-4a6f-841e-96d608148b32",
   "metadata": {},
   "source": [
    "### B1_d. Modify a Dictionary\n",
    "Similar to the list, we can modify information in the dictionary. If we find the stress of bar 3 is incorrect, we could modify it."
   ]
  },
  {
   "cell_type": "code",
   "execution_count": 20,
   "id": "37de4eba-647a-42ea-b53e-42e0162e7567",
   "metadata": {},
   "outputs": [
    {
     "name": "stdout",
     "output_type": "stream",
     "text": [
      "bar 3 information {'length': 3.4, 'dimension': 2, 'stress': 154}\n"
     ]
    }
   ],
   "source": [
    "gridshell_dict[index][\"stress\"] = 154\n",
    "print(\"bar\", index, \"information\", gridshell_dict[index])"
   ]
  },
  {
   "cell_type": "markdown",
   "id": "59b18bc4-ba34-4e8f-b79a-2f6a62a28c38",
   "metadata": {},
   "source": [
    "---"
   ]
  },
  {
   "cell_type": "markdown",
   "id": "a6694168-27de-4b77-a0fd-2a9930d4412f",
   "metadata": {},
   "source": [
    "<a id='B2'></a>\n",
    "\n",
    "## B2. Calculate Voussoir Volume\n",
    "### Question: \n",
    "You have a dictionary containing the surface area and thickness of the voussoir. Now you want to calculate the volume of each piece, and add the number to the dictionary. \n",
    "\n",
    "$$\n",
    "volume = area * thickness\n",
    "$$\n"
   ]
  },
  {
   "cell_type": "code",
   "execution_count": 16,
   "id": "6a91441a-5a86-4f73-bdc7-684c5bb268a8",
   "metadata": {},
   "outputs": [],
   "source": [
    "# vault dictionary\n",
    "vault = {\n",
    "    0: {\"area\": 2590, \"thickness\": 51},\n",
    "    1: {\"area\": 3420, \"thickness\": 46},\n",
    "    2: {\"area\": 2940, \"thickness\": 48},\n",
    "    3: {\"area\": 4210, \"thickness\": 38},\n",
    "    4: {\"area\": 3890, \"thickness\": 58},\n",
    "    5: {\"area\": 4000, \"thickness\": 60}\n",
    "}"
   ]
  },
  {
   "cell_type": "markdown",
   "id": "688145f0-2c47-41ed-a130-69cb0026dde0",
   "metadata": {},
   "source": [
    "### Answer:\n"
   ]
  },
  {
   "cell_type": "code",
   "execution_count": 17,
   "id": "cf30158b-e339-46c9-a099-ea29cf3aa504",
   "metadata": {},
   "outputs": [
    {
     "name": "stdout",
     "output_type": "stream",
     "text": [
      "Voussior 0 volume: 132090\n",
      "Voussior 1 volume: 157320\n",
      "Voussior 2 volume: 141120\n",
      "Voussior 3 volume: 159980\n",
      "Voussior 4 volume: 225620\n",
      "Voussior 5 volume: 240000\n"
     ]
    }
   ],
   "source": [
    "# iterate through the dictionary\n",
    "for key in vault.keys():\n",
    "    # get the area and thickness of the voussoir\n",
    "    v_area = vault[key][\"area\"]\n",
    "    v_thickness = vault[key][\"thickness\"]\n",
    "    # calculate the volume\n",
    "    v_volume = round(v_area * v_thickness, 2)\n",
    "    print(\"Voussior\", key, \"volume:\", v_volume)\n",
    "    # add the volume to the dictionary\n",
    "    vault[key][\"volume\"] = v_volume"
   ]
  },
  {
   "cell_type": "markdown",
   "id": "abba1b72-2214-4a9f-87eb-8754d87f3edd",
   "metadata": {},
   "source": [
    "<a id='exB2'></a>\n",
    "\n",
    "### Exercise: Calculate Voussoir Weight\n",
    "Now you decide the voussoir would be cut from limestone, and its density is 2160 kg/m<sup>3</sup>, could you calculate the weight of each piece and add it to the dictionary?\n",
    "$$\n",
    "weight = volume * thickness\n",
    "$$"
   ]
  },
  {
   "cell_type": "code",
   "execution_count": 18,
   "id": "e5f4310b-89ce-46dc-af4f-ebb090c30d68",
   "metadata": {},
   "outputs": [
    {
     "ename": "SyntaxError",
     "evalue": "unexpected EOF while parsing (4146933496.py, line 5)",
     "output_type": "error",
     "traceback": [
      "\u001b[0;36m  Input \u001b[0;32mIn [18]\u001b[0;36m\u001b[0m\n\u001b[0;31m    # please write down your answer here\u001b[0m\n\u001b[0m                                        ^\u001b[0m\n\u001b[0;31mSyntaxError\u001b[0m\u001b[0;31m:\u001b[0m unexpected EOF while parsing\n"
     ]
    }
   ],
   "source": [
    "density = 2160  # kg/m3\n",
    "\n",
    "# iterate through the dictionary\n",
    "for key in vault.keys():\n",
    "    # please write down your answer here"
   ]
  },
  {
   "cell_type": "markdown",
   "id": "8ec8bf49-bace-4149-badd-cdd3dc5ac549",
   "metadata": {},
   "source": [
    "---\n",
    "### Answer:"
   ]
  },
  {
   "cell_type": "code",
   "execution_count": 19,
   "id": "6efaae8b-b9f8-4cf8-a173-06993544d0c1",
   "metadata": {},
   "outputs": [
    {
     "name": "stdout",
     "output_type": "stream",
     "text": [
      "Voussior 0 volume: 132090 weight: 0.29\n",
      "Voussior 1 volume: 157320 weight: 0.34\n",
      "Voussior 2 volume: 141120 weight: 0.3\n",
      "Voussior 3 volume: 159980 weight: 0.35\n",
      "Voussior 4 volume: 225620 weight: 0.49\n",
      "Voussior 5 volume: 240000 weight: 0.52\n"
     ]
    }
   ],
   "source": [
    "density = 2160  # kg/m3\n",
    "\n",
    "# iterate through the dictionary\n",
    "for key in vault.keys():\n",
    "    # get the area and thickness of the voussoir\n",
    "    v_area = vault[key][\"area\"]\n",
    "    v_thickness = vault[key][\"thickness\"]\n",
    "    # calculate the volume and weight\n",
    "    v_volume = v_area * v_thickness\n",
    "    v_weight = v_volume * density / 1000 ** 3\n",
    "    v_weight = round(v_weight, 2)  # limit the number to 2 decimals\n",
    "    print(\"Voussior\", key, \"volume:\", v_volume, \"weight:\", v_weight)\n",
    "    # add the volume to the dictionary\n",
    "    vault[key][\"volume\"] = v_volume\n",
    "    vault[key][\"weight\"] = v_weight"
   ]
  },
  {
   "cell_type": "code",
   "execution_count": null,
   "id": "73e8f630-0e33-4df4-9f9f-13e916fdc8ed",
   "metadata": {},
   "outputs": [],
   "source": []
  }
 ],
 "metadata": {
  "kernelspec": {
   "display_name": "Python 3.8.12 64-bit ('brg': conda)",
   "language": "python",
   "name": "python3812jvsc74a57bd04660e017fe583de81ac72b41cd0367138abbb38b850ef3671e77c7ef0042ac47"
  },
  "language_info": {
   "codemirror_mode": {
    "name": "ipython",
    "version": 3
   },
   "file_extension": ".py",
   "mimetype": "text/x-python",
   "name": "python",
   "nbconvert_exporter": "python",
   "pygments_lexer": "ipython3",
   "version": "3.8.12"
  }
 },
 "nbformat": 4,
 "nbformat_minor": 5
}
