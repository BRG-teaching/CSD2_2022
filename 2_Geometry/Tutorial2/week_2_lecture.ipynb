{
 "cells": [
  {
   "cell_type": "markdown",
   "id": "666a918b",
   "metadata": {
    "slideshow": {
     "slide_type": "slide"
    }
   },
   "source": [
    "# Computational Structural Design II <br/> Intro to coding in Python and the Jupyter notebook I\n",
    "\n",
    "### Learning Goal: \n",
    "- develop your procedural thinking\n",
    "- draw a logic diagram or flowchart\n",
    "- translate the flowchart to pseudocode using comments in Python\n",
    "- write basic Python script including: variables, object types, conditionals,for loops, while loops, lists,  mathematical operators, print statements\n",
    "\n",
    "### Content:\n",
    "- [Gridshell Cost I](#ex1)\n",
    "- [Voussoir Weight](#ex2)\n",
    "\n",
    "### Exercise:\n",
    "- [Gridshell Cost II](#tut1_ex)\n",
    "</br>\n",
    "</br>\n",
    "---"
   ]
  },
  {
   "cell_type": "markdown",
   "id": "3cea469e",
   "metadata": {
    "slideshow": {
     "slide_type": "slide"
    }
   },
   "source": [
    "<a id='ex1'></a>\n",
    "# gridshell Cost <br/>\n",
    "## Question:\n",
    "Suppose you have designed a gridshell made from steel bars. You are going to fabricate them and estimate the total cost. There are 2 different prices for bars longer than 3 meters and shorter than 3 meters, 5 Fr and 3 Fr correspondingly. Now you need to count how many bars are above 3 meters and how many are below, to calculate the cost. \n",
    "\n",
    "<img src=\"https://github.com/BlockResearchGroup/CSD2_2022/blob/c6f4099930d5936262cb131b4a0dd21c19d2d073/2_Geometry/Tutorial2/img/T2_diagram_bars.png?raw=true\" style=\"margin-left:auto; margin-right:auto\"/>\n",
    "\n",
    "\n",
    "| Bar No. | Length (m) |\n",
    "| :---: | :---: |\n",
    "| 1 | 1.6 |\n",
    "| 2 | 3.6 |\n",
    "| 3 | 2.4 |\n",
    "| 4 | 3.4 |\n",
    "| 5 | 2.7 |\n",
    "| 6 | 2.8 |\n",
    "| 7 | 3.3 |\n",
    "| 8 | 3.1 |\n",
    "| 9 | 3.7 |\n",
    "| 10 | 1.8 |\n",
    "| 11 | 1.8 | \n",
    "| 12 | 2.6 | "
   ]
  },
  {
   "cell_type": "markdown",
   "id": "c1a6b01e",
   "metadata": {
    "slideshow": {
     "slide_type": "slide"
    }
   },
   "source": [
    "## Part A: Check Length of One Bar\n",
    "Let's first break this problem down into small steps. Firstly, you could pick one bar and check whether its length is larger than 3 m. Secondly, you could repeat the first step to check all the bars, and then multiply the number of bars with the cost."
   ]
  },
  {
   "cell_type": "markdown",
   "id": "7dc27f27",
   "metadata": {
    "slideshow": {
     "slide_type": "slide"
    }
   },
   "source": [
    "### A_1. Draw Flowchart\n",
    "Firstly, we can draw a [**flowchart**](https://app.gitbook.com/o/-M57B1lKy7REE1wfeNSt/s/-M730QpQnbAMvz44bqhc/learn-to-code/i.-my-first-python-script/cheat-sheet#flowchart). \n",
    "\n",
    "\n",
    "<img src=\"https://github.com/BlockResearchGroup/CSD2_2022/blob/5319ae679b8e41fbf62b45afee4b4c2794c35233/2_Geometry/Tutorial2/img/week1_ex1.png?raw=true\" style=\"margin-left:auto; margin-right:auto\"/>\n"
   ]
  },
  {
   "cell_type": "markdown",
   "id": "f070d8fa",
   "metadata": {
    "slideshow": {
     "slide_type": "slide"
    }
   },
   "source": [
    "### A_2. Write pseudocode\n",
    "Firstly, we could convert our flowchart to [**pseudocode**](https://en.wikipedia.org/wiki/Pseudocode#:~:text=In%20computer%20science%2C%20pseudocode%20is,reading%20rather%20than%20machine%20reading.), a plain-English version of the flowchart. \n",
    "\n",
    "The pseudocode are written in Python [**comments**](https://www.w3schools.com/python/python_comments.asp), which starts with a `#` and will not be executed when we run the code. Comments help us to organize the logic when we start to write code, as well as in the future to keep track of and to understand the code. You can type `#` in front of the line you want to comment out. If you want to comment several lines, you can select the lines that need to be commented out, and press `ctrl + /`. "
   ]
  },
  {
   "cell_type": "raw",
   "id": "e44b3ba2-e81e-4a91-8572-dd5a2a1aade9",
   "metadata": {
    "slideshow": {
     "slide_type": "slide"
    }
   },
   "source": [
    "# pick one bar\n",
    "# if length larger than 3?\n",
    "    # long bar \n",
    "# else\n",
    "#     short bar"
   ]
  },
  {
   "cell_type": "markdown",
   "id": "c4ceaafa",
   "metadata": {
    "slideshow": {
     "slide_type": "slide"
    }
   },
   "source": [
    "### A_3. Write your code\n",
    "We could turn the pseudocode line by line into code. "
   ]
  },
  {
   "cell_type": "code",
   "execution_count": 52,
   "id": "ac574e72",
   "metadata": {
    "slideshow": {
     "slide_type": "slide"
    }
   },
   "outputs": [
    {
     "name": "stdout",
     "output_type": "stream",
     "text": [
      "This is a short bar\n"
     ]
    }
   ],
   "source": [
    "# pick one bar\n",
    "bar_length = 1.6\n",
    "\n",
    "# if length bigger than 3?\n",
    "if bar_length > 3 :\n",
    "    # long bar \n",
    "    print(\"This is a long bar\")\n",
    "# else\n",
    "else:\n",
    "    print(\"This is a short bar\")\n",
    "    # short bar\n"
   ]
  },
  {
   "cell_type": "markdown",
   "id": "2c5f0902-08e1-4a01-a92c-53bd9b887398",
   "metadata": {
    "slideshow": {
     "slide_type": "slide"
    }
   },
   "source": [
    "## Part B: Check Length of All Bars\n",
    "\n",
    "Let's complete the program. You need to repeat the whole process of checking the bar length until you have classified all the bars. You could use another condition in your flowchart for the repetition instructions. After you have checked all the bar in your gridshell, you could count the amount in two length types and calculate the total cost. "
   ]
  },
  {
   "cell_type": "markdown",
   "id": "4cf3c3c4-4fc6-437c-a766-29c66ed1b083",
   "metadata": {},
   "source": [
    "### B_1. Draw Flowchart\n",
    "\n",
    "<img src=\"https://github.com/BlockResearchGroup/CSD2_2022/blob/75a96a6722bcc51b90424947811f8bd725eb24b7/2_Geometry/Tutorial2/img/week1_ex1_2.jpg?raw=true\" style=\"margin-left:auto; margin-right:auto\"/>\n",
    "\n",
    "<br/>"
   ]
  },
  {
   "cell_type": "markdown",
   "id": "193a2a0e-27e9-45cb-b9df-4bf5136db305",
   "metadata": {
    "slideshow": {
     "slide_type": "slide"
    }
   },
   "source": [
    "### B_2. Write pseudocode"
   ]
  },
  {
   "cell_type": "raw",
   "id": "573cc73f-03ae-4da2-b296-47873732111a",
   "metadata": {
    "slideshow": {
     "slide_type": "slide"
    }
   },
   "source": [
    "# pick one bar in the gridshell\n",
    "#     if length larger than 3?\n",
    "#         long bar amount + 1\n",
    "#     else\n",
    "#         short bar amount + 1\n",
    "# repeat until the all the bars are checked\n",
    "# calculate total cost"
   ]
  },
  {
   "cell_type": "markdown",
   "id": "41c63a6c-30e5-40b7-9cf5-f1ec93eca056",
   "metadata": {
    "slideshow": {
     "slide_type": "slide"
    }
   },
   "source": [
    "### B_3. Write the code\n",
    "Here we need to input all the lengths of our bars. Instead of multiple length variables, we could store them in a collection - a [**list**](https://app.gitbook.com/o/-M57B1lKy7REE1wfeNSt/s/-M730QpQnbAMvz44bqhc/learn-to-code/i.-my-first-python-script/cheat-sheet#list). List items are ordered, or in other words, indexed, the first item has index ``0``, the second item has index ``1`` etc."
   ]
  },
  {
   "cell_type": "code",
   "execution_count": 56,
   "id": "0584e6e6-6690-426e-ae80-41567f8f5548",
   "metadata": {
    "scrolled": true,
    "slideshow": {
     "slide_type": "slide"
    }
   },
   "outputs": [
    {
     "name": "stdout",
     "output_type": "stream",
     "text": [
      "3.6\n"
     ]
    }
   ],
   "source": [
    "gridshell = [1.6, 3.6, 2.4, 3.4, 2.7, 2.8, 3.3, 3.1, 3.7, 1.8, 1.8, 2.6]\n",
    "print(gridshell[1])  # 1.6"
   ]
  },
  {
   "cell_type": "markdown",
   "id": "adb7f6dc-e696-4475-9c9b-083d4ed5de59",
   "metadata": {
    "slideshow": {
     "slide_type": "slide"
    }
   },
   "source": [
    "To iterate over a list, we could use a [**``for``**](https://app.gitbook.com/o/-M57B1lKy7REE1wfeNSt/s/-M730QpQnbAMvz44bqhc/learn-to-code/i.-my-first-python-script/cheat-sheet#for-loop-and-while-loop) loop. "
   ]
  },
  {
   "cell_type": "code",
   "execution_count": 57,
   "id": "92235e96-9d19-410e-a1ef-56a29798496f",
   "metadata": {
    "slideshow": {
     "slide_type": "slide"
    }
   },
   "outputs": [
    {
     "name": "stdout",
     "output_type": "stream",
     "text": [
      "1.6\n",
      "3.6\n",
      "2.4\n",
      "3.4\n",
      "2.7\n",
      "2.8\n",
      "3.3\n",
      "3.1\n",
      "3.7\n",
      "1.8\n",
      "1.8\n",
      "2.6\n"
     ]
    }
   ],
   "source": [
    "#iterate over the gridshell list\n",
    "for bar in gridshell:\n",
    "    print(bar)\n",
    "#using a for loop"
   ]
  },
  {
   "cell_type": "markdown",
   "id": "d15dc3a2-5a8c-42a3-a0f2-7cb0a4e16b3e",
   "metadata": {
    "slideshow": {
     "slide_type": "slide"
    }
   },
   "source": [
    "Now we go through the list, check the bar length one by one, and count the number of the corresponding type. Thus, we need to initiate the counter of two types at the beginning of our code. Here, we create two new variables: ``long_bar_count``, ``short_bar_count``, and set their initial value to ``0``. "
   ]
  },
  {
   "cell_type": "code",
   "execution_count": 58,
   "id": "cf58ccf5-40b7-46b3-aecd-90364905e6ea",
   "metadata": {
    "slideshow": {
     "slide_type": "slide"
    }
   },
   "outputs": [
    {
     "name": "stdout",
     "output_type": "stream",
     "text": [
      "The total cost is 46 CHF\n"
     ]
    }
   ],
   "source": [
    "# Input\n",
    "gridshell = [1.6, 3.6, 2.4, 3.4, 2.7, 2.8, 3.3, 3.1, 3.7, 1.8, 1.8, 2.6]\n",
    "\n",
    "long_bar_count = 0\n",
    "short_bar_count = 0\n",
    "\n",
    "short_bar_price = 3\n",
    "long_bar_price = 5\n",
    "\n",
    "# pick one bar in the gridshell, check its length\n",
    "# repeat until the all the bars are checked\n",
    "for bar in gridshell:\n",
    "\n",
    "    # if length bigger than 3?\n",
    "    if bar > 3 :\n",
    "\n",
    "        # long bar amount + 1\n",
    "        long_bar_count += 1\n",
    "\n",
    "    # else\n",
    "    else:\n",
    "        short_bar_count += 1\n",
    "\n",
    "        # short bar amount + 1\n",
    "\n",
    "# calculate total cost\n",
    "total_cost = long_bar_count * long_bar_price + short_bar_count * short_bar_price\n",
    "\n",
    "\n",
    "# Output\n",
    "print(\"The total cost is\", total_cost, \"CHF\" )\n"
   ]
  },
  {
   "cell_type": "markdown",
   "id": "dd2cc282-4f40-48ac-9dd3-02efec64b404",
   "metadata": {
    "slideshow": {
     "slide_type": "slide"
    }
   },
   "source": [
    "## Part C: Modify Bar Length\n",
    "\n",
    "Oh, No!... You realize that you have measured the length of a bars wrongly. Don't worry. The cabarble length list we use as input can be modified because list items are changeable. You could also modify a value in the ``gridshell`` list by referring to the item's **index**. Note that the index always starts from **``0``**! \n",
    "\n",
    "| Bar No. | Index | Length (m) |\n",
    "| :---: | :---: | :---: |\n",
    "| 1 | 0 | 1.6 |\n",
    "| 2 | 1 | 3.6 |\n",
    "| 3 | 2 | 2.4 |\n",
    "| 4 | 3 | 3.4 |\n",
    "| 5 | 4 | 2.7 |\n",
    "| 6 | 5 | 2.8 |\n",
    "| 7 | 6 | 3.3 |\n",
    "| 8 | 7 | 3.1 |\n",
    "| 9 | 8 | 3.7 |\n",
    "| 10 | 9 | 1.8 |\n",
    "| 11 | 10 | 1.8 | \n",
    "| 12 | 11 | 2.6 | \n",
    "\n",
    "For example, we find out the **3<sup>rd</sup>**  bar has the wrong length, whose corresponding index is ``2`` in the list. Find it, and change its value. "
   ]
  },
  {
   "cell_type": "code",
   "execution_count": 8,
   "id": "03c38bad-0e13-48ea-8ca1-93020c80de7f",
   "metadata": {
    "slideshow": {
     "slide_type": "slide"
    }
   },
   "outputs": [
    {
     "name": "stdout",
     "output_type": "stream",
     "text": [
      "[1.6, 3.6, 2.5, 3.4, 2.7, 2.8, 3.3, 3.1, 3.7, 1.8, 1.8, 2.6]\n"
     ]
    }
   ],
   "source": [
    "gridshell[2] = 2.5\n",
    "print(gridshell)"
   ]
  },
  {
   "cell_type": "markdown",
   "id": "f4de7f41-313b-411a-82b2-4e482ee2f397",
   "metadata": {
    "slideshow": {
     "slide_type": "slide"
    }
   },
   "source": [
    "If we realize that we have omitted one bar that is 4 m, we could use ``append`` to add it at the end of our list. "
   ]
  },
  {
   "cell_type": "code",
   "execution_count": 9,
   "id": "20299974-77c2-48b9-81cb-f696d0420feb",
   "metadata": {
    "slideshow": {
     "slide_type": "slide"
    }
   },
   "outputs": [
    {
     "name": "stdout",
     "output_type": "stream",
     "text": [
      "We have 12 bars.\n",
      "[1.6, 3.6, 2.5, 3.4, 2.7, 2.8, 3.3, 3.1, 3.7, 1.8, 1.8, 2.6]\n",
      "After adding the new bar, we have 13 bars.\n",
      "[1.6, 3.6, 2.5, 3.4, 2.7, 2.8, 3.3, 3.1, 3.7, 1.8, 1.8, 2.6, 4.0]\n"
     ]
    }
   ],
   "source": [
    "print(\"We have\", len(gridshell), \"bars.\")\n",
    "print(gridshell)\n",
    "gridshell.append(4.0)\n",
    "print(\"After adding the new bar, we have\", len(gridshell), \"bars.\")\n",
    "print(gridshell)"
   ]
  },
  {
   "cell_type": "markdown",
   "id": "dea76f56-ff48-4b06-9400-59209e02c7c8",
   "metadata": {
    "slideshow": {
     "slide_type": "slide"
    }
   },
   "source": [
    "If you need to delete a bar you could either delete it by its index. For example, we want to delete the 4<sup>th</sup> bar in the list, whose index is ``3``. "
   ]
  },
  {
   "cell_type": "code",
   "execution_count": 20,
   "id": "6ea834fd-691b-4869-9478-ba61560a611f",
   "metadata": {
    "slideshow": {
     "slide_type": "slide"
    }
   },
   "outputs": [
    {
     "name": "stdout",
     "output_type": "stream",
     "text": [
      "[1.6, 2.4, 3.4, 2.7, 2.8, 3.3, 3.1, 3.7, 1.8, 1.8, 2.6]\n"
     ]
    }
   ],
   "source": [
    "# .pop(index)\n",
    "print(gridshell)"
   ]
  },
  {
   "cell_type": "markdown",
   "id": "81f5364e-7bd3-4625-97f6-e78c1e899b13",
   "metadata": {
    "slideshow": {
     "slide_type": "slide"
    }
   },
   "source": [
    "The bar can also be deleted by its value. If there are duplicated values, this method only removes the first matching element."
   ]
  },
  {
   "cell_type": "code",
   "execution_count": 19,
   "id": "94cf7638-9f81-48f6-87b0-b9dc294568d3",
   "metadata": {
    "slideshow": {
     "slide_type": "slide"
    }
   },
   "outputs": [
    {
     "name": "stdout",
     "output_type": "stream",
     "text": [
      "[1.6, 3.6, 2.4, 3.4, 2.7, 2.8, 3.3, 3.1, 3.7, 1.8, 1.8, 2.6]\n"
     ]
    }
   ],
   "source": [
    "# .remove(value)\n",
    "\n",
    "print(gridshell)"
   ]
  },
  {
   "cell_type": "markdown",
   "id": "cf6184c6",
   "metadata": {
    "slideshow": {
     "slide_type": "slide"
    }
   },
   "source": [
    "---"
   ]
  },
  {
   "cell_type": "markdown",
   "id": "face9ed6",
   "metadata": {
    "slideshow": {
     "slide_type": "slide"
    }
   },
   "source": [
    "<a id='ex2'></a>\n",
    "# Check Voussoir Weight <br/>\n",
    "## Question A: \n",
    "You have designed a freeform masonry vault and all the stone pieces are unique. You want to assemble the vault manually. However, on the construction site, the manual handling weight limit is 25 kg. Thus, you have to find the pieces that are too heavy and export their index. \n",
    "\n",
    "| CabVoussoirle No. | Weight (kg) |\n",
    "| :---: | :---: |\n",
    "| 1 | 15|\n",
    "| 2 | 20 |\n",
    "| 3 | 54 |\n",
    "| 4 | 18 |\n",
    "| 5 | 26 |\n",
    "| 6 | 18 |\n",
    "\n",
    "</br>"
   ]
  },
  {
   "cell_type": "markdown",
   "id": "073fc34a",
   "metadata": {
    "slideshow": {
     "slide_type": "slide"
    }
   },
   "source": [
    "### A_1. Draw Flowchart\n",
    "\n",
    "<img src=\"https://github.com/BlockResearchGroup/CSD2_2022/blob/75a96a6722bcc51b90424947811f8bd725eb24b7/2_Geometry/Tutorial2/img/week1_ex2.png?raw=true\" style=\"margin-left:auto; margin-right:auto\"/>\n",
    "\n",
    "</br>"
   ]
  },
  {
   "cell_type": "markdown",
   "id": "c0f61380",
   "metadata": {
    "slideshow": {
     "slide_type": "slide"
    }
   },
   "source": [
    "### A_2. Write pseudocode"
   ]
  },
  {
   "cell_type": "raw",
   "id": "8156913b-7507-490b-9dcb-292ca544a5bb",
   "metadata": {
    "slideshow": {
     "slide_type": "slide"
    }
   },
   "source": [
    "#pick one voussoir from the vault list\n",
    "#if weight larger than 25 kg\n",
    "    #mark as problematic voussoir\n",
    "#repeat untill all voussoirs are checked\n",
    "#output the problematic voussoirs"
   ]
  },
  {
   "cell_type": "markdown",
   "id": "6b530be9",
   "metadata": {
    "slideshow": {
     "slide_type": "slide"
    }
   },
   "source": [
    "### A_3. Write your code\n",
    "Here, we will use the `enumerate` method of a list, which adds a counter when we iterate over the list."
   ]
  },
  {
   "cell_type": "code",
   "execution_count": 2,
   "id": "018fc5be",
   "metadata": {
    "slideshow": {
     "slide_type": "slide"
    }
   },
   "outputs": [
    {
     "name": "stdout",
     "output_type": "stream",
     "text": [
      "index 0 weighs 15\n",
      "index 1 weighs 20\n",
      "index 2 weighs 34\n",
      "index 3 weighs 18\n",
      "index 4 weighs 26\n",
      "index 5 weighs 18\n"
     ]
    }
   ],
   "source": [
    "voussoir_weight_list = [15, 20, 34, 18, 26, 18]\n",
    "for i, voussoir in enumerate(voussoir_weight_list):\n",
    "    print('index', i, 'weighs', voussoir)\n"
   ]
  },
  {
   "cell_type": "markdown",
   "id": "8642d5e3",
   "metadata": {
    "slideshow": {
     "slide_type": "slide"
    }
   },
   "source": [
    "We can create an empty list and add the index of the problematic voussoir in the list during our iteration. In the end, we can export the list.  The `*` operator unpacks the list.  "
   ]
  },
  {
   "cell_type": "code",
   "execution_count": 8,
   "id": "f2dff2ac",
   "metadata": {
    "slideshow": {
     "slide_type": "slide"
    }
   },
   "outputs": [
    {
     "name": "stdout",
     "output_type": "stream",
     "text": [
      "Voussoirs 2 4 are too heavy\n"
     ]
    }
   ],
   "source": [
    "voussoir_weight_list = [15, 20, 34, 18, 25, 18]\n",
    "problem_index = []\n",
    "\n",
    "# enumerate voussoirs in the vault:\n",
    "for i, voussoir in enumerate(voussoir_weight_list):\n",
    "    #print('index', i, 'weighs', voussoir)\n",
    "    # check whether the weight is bigger than 25 kg\n",
    "    if voussoir >= 25:\n",
    "        problem_index.append(i)\n",
    "print('Voussoirs', *problem_index, \"are too heavy\")        \n"
   ]
  },
  {
   "cell_type": "markdown",
   "id": "62e999fc-5561-4e0c-9d28-c4030548ec2f",
   "metadata": {
    "slideshow": {
     "slide_type": "slide"
    }
   },
   "source": [
    "## Question B: Optimize Voussoir Weight\n",
    "Now you would optimize all the voussoirs that are too heavy by cutting them into two pieces while keeping the sequence of the voussoirs. "
   ]
  },
  {
   "cell_type": "markdown",
   "id": "c5b77df8-8a86-4e45-bedc-64ceb2f2ed62",
   "metadata": {
    "slideshow": {
     "slide_type": "slide"
    }
   },
   "source": [
    "### B_1. Draw Flowchart\n",
    "We can continue from the last example. When the voussoir is too heavy, we need to first cut it in half, then check the weight of the half one. If the new weight is still too heavy, keep cutting. After cutting, we need to add the new cut stones back, so the sequence of the original voussoirs will not change. \n",
    "\n",
    "<img src=\"https://github.com/BlockResearchGroup/CSD2_2022/blob/75a96a6722bcc51b90424947811f8bd725eb24b7/2_Geometry/Tutorial2/img/week1_ex2_2.png?raw=true\" style=\"margin-left:auto; margin-right:auto\"/>\n",
    "\n",
    "</br>"
   ]
  },
  {
   "cell_type": "markdown",
   "id": "87f57952-6682-4195-88f5-b539639f87e5",
   "metadata": {
    "slideshow": {
     "slide_type": "slide"
    }
   },
   "source": [
    "### B_2. Write pseudocode"
   ]
  },
  {
   "cell_type": "raw",
   "id": "09f5e03d-153a-4e27-9416-d671f2eddb54",
   "metadata": {
    "slideshow": {
     "slide_type": "slide"
    }
   },
   "source": [
    "# pick one voussoir in the vault\n",
    "#     while weight heavier than 25\n",
    "#         cut the voussoir in half until the weight is below 25\n",
    "#         replace the problematic voussoir with the new ones\n",
    "# repeat until all the voussoirs are checked\n",
    "# output the problmatic voussoirs"
   ]
  },
  {
   "cell_type": "markdown",
   "id": "8d3cd73c-05de-4884-8f74-d19150bda61e",
   "metadata": {
    "slideshow": {
     "slide_type": "slide"
    }
   },
   "source": [
    "### B_3. Write your code\n",
    "Here, we will use a **``while``** loop,  which keeps executing the code inside if the condition is True. The loop will stop when the condition is not fulfilled any more. For example, here we pick a voussoir that is 54 kg and the count is 1. The weight is too heavy. In the first iteration of the while loop, the voussoir will be cut in half, so the weight is divided by 2 and the count is multiplied by 2. Now, the while loop checks the new voussoir weight, which is 54 / 2 = 27. 27 is still bigger than 25, so the loop will keep running. The 27 kg voussoir is further cut in half and the count is multiplied by 2. Now the new weight is 27 / 2 = 13.5, which is smaller than 25. Thus, the while loop stops. \n",
    "Inside the while loop, we redeclare the value of the variable voussoir, variable count in every iteration. So, we can print the final value. "
   ]
  },
  {
   "cell_type": "code",
   "execution_count": 9,
   "id": "ba6f0818-d7c5-4055-8eb9-c4b0f8252372",
   "metadata": {
    "slideshow": {
     "slide_type": "slide"
    }
   },
   "outputs": [
    {
     "name": "stdout",
     "output_type": "stream",
     "text": [
      "weight of the voussoir is 13.5 and the total number of stones/voussoirs is 4\n"
     ]
    }
   ],
   "source": [
    "voussoir = 54\n",
    "count = 1\n",
    "\n",
    "while voussoir >= 25:\n",
    "    voussoir /= 2\n",
    "    count *= 2\n",
    "    \n",
    "print(\"weight of the voussoir is\", voussoir, \"and the total number of stones/voussoirs is\", count)\n"
   ]
  },
  {
   "cell_type": "markdown",
   "id": "0512d5e9-d230-494d-a6c0-c34023d4ab1e",
   "metadata": {
    "slideshow": {
     "slide_type": "slide"
    }
   },
   "source": [
    "Now let's solve the problem. To notice that, when we iterate over the list, the items of the list cannot be modified. Thus, we create a new empty list: ``new_voussoir_weights``. After checking each voussoir, we can add the original voussoir or the processed smaller ones to the list. "
   ]
  },
  {
   "cell_type": "code",
   "execution_count": 11,
   "id": "3d560407-c6be-4bd5-9ff6-d10a7b67403f",
   "metadata": {
    "slideshow": {
     "slide_type": "slide"
    }
   },
   "outputs": [
    {
     "name": "stdout",
     "output_type": "stream",
     "text": [
      "[15, 20, 13.5, 13.5, 13.5, 13.5, 18, 13.0, 13.0, 18]\n",
      "6\n",
      "10\n"
     ]
    }
   ],
   "source": [
    "# Input\n",
    "voussoir_weight_list = [15, 20, 54, 18, 26, 18]\n",
    "new_voussoir_weights = []\n",
    "\n",
    "# enumerate voussoirs in the vault:\n",
    "for i, voussoir in enumerate(voussoir_weight_list):\n",
    "    \n",
    "\n",
    "    # check whether the weight is bigger than 25 kg\n",
    "    if voussoir >= 25:\n",
    "        count = 1\n",
    "        # cut the voussoir by half until it it less than 25 kg\n",
    "        while voussoir >= 25:\n",
    "            voussoir /= 2\n",
    "            count *= 2\n",
    "        new_voussoir_weights.extend([voussoir] * count)\n",
    "    else:\n",
    "        new_voussoir_weights.append(voussoir)\n",
    "\n",
    "# Output\n",
    "print(new_voussoir_weights)\n",
    "print(len(voussoir_weight_list))\n",
    "print(len(new_voussoir_weights))"
   ]
  },
  {
   "cell_type": "markdown",
   "id": "c359b491",
   "metadata": {
    "slideshow": {
     "slide_type": "slide"
    }
   },
   "source": [
    "### Working with Functions\n",
    "\n",
    "In computer programming, a function is a named section of a code that performs a specific task. This typically involves taking some input, manipulating the input and returning an output. Next, we will define a simple python function and use it to extract some information from our fabrication data on the gridshell. "
   ]
  },
  {
   "cell_type": "code",
   "execution_count": 25,
   "id": "be7a5bc8",
   "metadata": {
    "slideshow": {
     "slide_type": "slide"
    }
   },
   "outputs": [
    {
     "name": "stdout",
     "output_type": "stream",
     "text": [
      "[15, 20, 54, 18, 26, 18] information on the fabrication data\n"
     ]
    }
   ],
   "source": [
    "def visualize_cable_lengths(bars):\n",
    "    \"\"\"\n",
    "    visulalizes the list of bars\n",
    "\n",
    "    Parameters\n",
    "    ----------\n",
    "    bars: list\n",
    "        A list containing the bar length of the gridshell\n",
    "\n",
    "    Returns\n",
    "    -------\n",
    "    prints the contents of the list: print output\n",
    "       A human-readable rendition of the contents of the list\n",
    "    \n",
    "    \"\"\"\n",
    "    # print the gridshell bars list\n",
    "\n",
    "    print(bars, 'information on the fabrication data')\n",
    "    #return bars\n",
    "\n",
    "# call the function\n",
    "\n",
    "gridshell = [1.6, 3.6, 2.4, 3.4, 2.7, 2.8, 3.3, 3.1, 3.7, 1.8, 1.8, 2.6]\n",
    "voussoir_weight_list = [15, 20, 54, 18, 26, 18]\n",
    "\n",
    "visualization = visualize_cable_lengths(voussoir_weight_list)"
   ]
  },
  {
   "cell_type": "markdown",
   "id": "b3c6ee7c",
   "metadata": {},
   "source": [
    "---"
   ]
  },
  {
   "cell_type": "markdown",
   "id": "0085c0e6-9ffb-4152-89d4-5de30db3e453",
   "metadata": {
    "slideshow": {
     "slide_type": "skip"
    }
   },
   "source": [
    "<a id='tut1_ex'></a>\n",
    "## Exercise: Bars of 3 different Lengths \n",
    "Suppose there are three different prices for the bars: 2 Fr. for bars shorter than 2 m; 3 Fr. for bars between 2 m and 3 m; 5 Fr. for bars longer than 3 m. Could you modify your code and calculate the total cost?\n",
    "\n",
    "Hint: <br/>\n",
    "You need to classify 3 types of bars. When you run into a situation where you have several conditions, you can place as many elif conditions as necessary between the if condition and the else condition."
   ]
  },
  {
   "cell_type": "code",
   "execution_count": null,
   "id": "6a26e91d-7bc2-487a-a37d-524e365e8d0c",
   "metadata": {
    "slideshow": {
     "slide_type": "skip"
    }
   },
   "outputs": [],
   "source": [
    "# Input\n",
    "# bar length of the gridshell\n",
    "gridshell = [1.6, 3.6, 2.4, 3.4, 2.7, 2.8, 3.3, 3.1, 3.7, 1.8, 1.8, 2.6]\n",
    "\n",
    "# please write down your answer here"
   ]
  },
  {
   "cell_type": "markdown",
   "id": "6b01f498-ab0f-471e-bdbd-750e0a918810",
   "metadata": {
    "slideshow": {
     "slide_type": "skip"
    }
   },
   "source": [
    "## Answer to Bar Cost Exercise:"
   ]
  },
  {
   "cell_type": "code",
   "execution_count": 21,
   "id": "791071c4",
   "metadata": {
    "slideshow": {
     "slide_type": "skip"
    }
   },
   "outputs": [],
   "source": [
    "# Input\n",
    "# bar length of the gridshell\n",
    "gridshell = [1.6, 3.6, 2.4, 3.4, 2.7, 2.8, 3.3, 3.1, 3.7, 1.8, 1.8, 2.6]\n",
    "\n",
    "# initiate the bar amount\n",
    "\n",
    "# price of bar\n",
    "\n",
    "\n",
    "# check length of the bar\n",
    "\n",
    "# calculate total cost\n",
    "\n",
    "# Output\n"
   ]
  },
  {
   "cell_type": "code",
   "execution_count": 18,
   "id": "adf394d4-41a6-46ae-aecb-9105fa1608e1",
   "metadata": {
    "slideshow": {
     "slide_type": "skip"
    }
   },
   "outputs": [
    {
     "name": "stdout",
     "output_type": "stream",
     "text": [
      "Total cost of the gridshell is 43 CHF\n"
     ]
    }
   ],
   "source": [
    "# Input\n",
    "# bar length of the gridshell\n",
    "gridshell = [1.6, 3.6, 2.4, 3.4, 2.7, 2.8, 3.3, 3.1, 3.7, 1.8, 1.8, 2.6]\n",
    "\n",
    "\n",
    "# initiate the bar amount\n",
    "long_bar_amount = 0\n",
    "mid_bar_amount = 0\n",
    "short_bar_amount = 0\n",
    "\n",
    "# price of bar\n",
    "short_bar_price = 2\n",
    "mid_bar_price = 3\n",
    "long_bar_price = 5\n",
    "\n",
    "\n",
    "# check length of the bar\n",
    "for bar in gridshell:\n",
    "    if bar < 2:\n",
    "        short_bar_amount += 1\n",
    "    elif 2 <= bar <= 3:\n",
    "        mid_bar_amount += 1\n",
    "    else:\n",
    "        long_bar_amount += 1\n",
    "\n",
    "# calculate total cost\n",
    "total_cost = long_bar_amount * long_bar_price + mid_bar_amount * mid_bar_price + short_bar_amount * short_bar_price\n",
    "\n",
    "# Output\n",
    "print(\"Total cost of the gridshell is\", total_cost, \"CHF\")"
   ]
  }
 ],
 "metadata": {
  "celltoolbar": "Slideshow",
  "kernelspec": {
   "display_name": "Python 3 (ipykernel)",
   "language": "python",
   "name": "python3"
  },
  "language_info": {
   "codemirror_mode": {
    "name": "ipython",
    "version": 3
   },
   "file_extension": ".py",
   "mimetype": "text/x-python",
   "name": "python",
   "nbconvert_exporter": "python",
   "pygments_lexer": "ipython3",
   "version": "3.9.9"
  }
 },
 "nbformat": 4,
 "nbformat_minor": 5
}
