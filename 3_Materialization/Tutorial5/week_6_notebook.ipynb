{
 "cells": [
  {
   "cell_type": "markdown",
   "metadata": {
    "slideshow": {
     "slide_type": "slide"
    }
   },
   "source": [
    "# Computational Structural Design II - Geometry, Data and Visualization\n",
    "\n",
    "### Learning Goal: \n",
    "- Understand Mesh Datastructure\n",
    "- How to Construct a Mesh\n",
    "- Mehs Vertices, Faces, Edges\n",
    "\n",
    "### Content:\n",
    "- [A. Mesh Introduction](#MeshIntro)\n",
    "- [B. Mesh Vertex, Edge, Face](#MeshB)\n",
    "- [C. Mesh Normals](#MeshC)\n",
    "- [D. Exercise: Geodesic Dome](#MeshD)\n",
    "---\n"
   ]
  },
  {
   "cell_type": "code",
   "execution_count": null,
   "metadata": {
    "slideshow": {
     "slide_type": "slide"
    }
   },
   "outputs": [],
   "source": [
    "# ! pip install compas_notebook"
   ]
  },
  {
   "cell_type": "markdown",
   "metadata": {
    "slideshow": {
     "slide_type": "slide"
    }
   },
   "source": [
    "<a id='MeshIntro'></a>\n",
    "# A. Mesh\n",
    "## A1. Mesh in Form Finding\n",
    "Form finding a cable-net or generating a compression-only vault usually starts with a **2D mesh**, which represents the horizontal projection of the eventual structure. The line segments of this mesh is called **Pattern**. The following picture shows you an existing structure and its corresponding pattern. The form-found **Thrust** is also a mesh, but in 3D space. \n",
    "\n",
    "![img](https://files.gitbook.com/v0/b/gitbook-legacy-files/o/assets%2F-M730QpQnbAMvz44bqhc%2F-MOff3g181Ib3KNlmKgc%2F-MOfhAWYJRaSfNZucLzL%2Fimage.png?alt=media&token=839252d4-a77e-42cb-81cf-4b6071a5c598)\n",
    "<center>Nave Vault of the Sherborne Abbey, Dorset, UK (photo by Lawrence Lew)</center>\n",
    "</br>\n",
    "\n"
   ]
  },
  {
   "cell_type": "markdown",
   "metadata": {
    "slideshow": {
     "slide_type": "slide"
    }
   },
   "source": [
    "## A2. Generate Polygon - Geometry and Topology\n",
    "Firstly, let's create 4 polygons using `compas.geometry.Polygon` and visualize them in different colors. Make sure that the winding order (point order) of the polygons are either all clockwise or all counter-clockwise. \n",
    "\n",
    "<img src=\"img/week5_1.png\" width=\"500\" style=\"margin-left:auto; margin-right:auto\"/>\n",
    "</br>\n",
    "\n",
    "### A2_a. Generate Polygon from Points"
   ]
  },
  {
   "cell_type": "code",
   "execution_count": null,
   "metadata": {},
   "outputs": [],
   "source": [
    "from compas.geometry import Polygon\n",
    "from compas_plotters import Plotter\n",
    "\n",
    "polygon_1 = Polygon([[0, 0, 0], [2.5, 0, 0], [1.5, 2, 0], [0, 2, 0]])\n",
    "polygon_2 = Polygon([[2.5, 0, 0], [4, 0, 0], [4, 2, 0], [1.5, 2, 0]])\n",
    "polygon_3 = Polygon([[0, 2, 0], [1.5, 2, 0], [2.5, 4, 0], [0, 4, 0]])\n",
    "polygon_4 = Polygon([[1.5, 2, 0], [4, 2, 0], [4, 4, 0], [2.5, 4, 0]])\n",
    "\n",
    "# visualize the Point\n",
    "plotter = Plotter(show_axes=True)\n",
    "plotter.add(polygon_1, facecolor=(1, 0, 0))\n",
    "plotter.add(polygon_2, facecolor=(0, 0, 1))\n",
    "plotter.add(polygon_3, facecolor=(0, 1, 0))\n",
    "plotter.add(polygon_4, facecolor=(1, 1, 0))\n",
    "plotter.zoom_extents()\n",
    "plotter.show()"
   ]
  },
  {
   "cell_type": "markdown",
   "metadata": {},
   "source": [
    "### A2_b. Generate Polygon Using Connectivity\n",
    "If we change the xyz coordinates of one point in the polygon, the three other polygons will not be influenced. This is because no topological information between the polygons is stored. Another way to construct the polygons is to create a `list` collection contains points information. We can refer to this list to generate the polygons. In this way, we know which points are connected and which are not. \n",
    "\n",
    "| Point Index | xyz |\n",
    "| :---: | :---: |\n",
    "| 0 | (0, 0, 0) |\n",
    "| 1 | (2.5, 0, 0) |\n",
    "| 2 | (4, 0, 0) |\n",
    "| 3 | (0, 2, 0) |\n",
    "| 4 | (1.5, 2, 0) |\n",
    "| 5 | (4, 2, 0) |\n",
    "| 6 | (0, 4, 0) |\n",
    "| 7 | (2.5, 4, 0) |\n",
    "| 8 | (4, 4, 0) |\n",
    "\n",
    "<img src=\"img/week5_2.png\" width=\"500\" style=\"margin-left:auto; margin-right:auto\"/>\n",
    "</br>"
   ]
  },
  {
   "cell_type": "code",
   "execution_count": null,
   "metadata": {},
   "outputs": [],
   "source": [
    "from compas.geometry import Polygon\n",
    "from compas_plotters import Plotter\n",
    "\n",
    "points = [[0, 0, 0], [2.5, 0, 0], [4, 0, 0],\n",
    "         [0, 2, 0], [1.5, 2, 0], [4, 2, 0],\n",
    "         [0, 4, 0], [2.5, 4, 0], [4, 4, 0]]\n",
    "polygon_1 = Polygon([points[0], points[1], points[4], points[3]])\n",
    "polygon_2 = Polygon([points[1], points[2], points[5], points[4]])\n",
    "polygon_3 = Polygon([points[3], points[4], points[7], points[6]])\n",
    "polygon_4 = Polygon([points[4], points[5], points[8], points[7]])\n",
    "\n",
    "# visualize the Point\n",
    "plotter = Plotter(show_axes=True)\n",
    "plotter.add(polygon_1, facecolor=(1, 0, 0))\n",
    "plotter.add(polygon_2, facecolor=(0, 0, 1))\n",
    "plotter.add(polygon_3, facecolor=(0, 1, 0))\n",
    "plotter.add(polygon_4, facecolor=(1, 1, 0))\n",
    "plotter.zoom_extents()\n",
    "plotter.show()"
   ]
  },
  {
   "cell_type": "markdown",
   "metadata": {},
   "source": [
    "## A3. Mesh and COMPAS Mesh\n",
    "A mesh is a collection of polygons arranged in a way that it can not only conserve geometric information but also topological information. Here is the API reference of COMPAS mesh: https://compas.dev/compas/latest/api/generated/compas.datastructures.Mesh.html#compas.datastructures.Mesh\n",
    "\n",
    "There are different ways to construct a mesh.\n",
    "\n",
    "### A3_a. COMPAS Mesh\n",
    "\n",
    "\n"
   ]
  },
  {
   "cell_type": "code",
   "execution_count": 2,
   "metadata": {},
   "outputs": [
    {
     "name": "stdout",
     "output_type": "stream",
     "text": [
      "<Mesh with 0 vertices, 0 faces, 0 edges>\n"
     ]
    }
   ],
   "source": [
    "from compas.datastructures import Mesh\n",
    "mesh = Mesh()\n",
    "print(mesh)"
   ]
  },
  {
   "cell_type": "markdown",
   "metadata": {},
   "source": [
    "### A3_b. Build a COMPAS Mesh\n",
    "Meshes can be built from scratch by adding vertices and faces."
   ]
  },
  {
   "cell_type": "code",
   "execution_count": 9,
   "metadata": {},
   "outputs": [
    {
     "data": {
      "image/png": "[encoded data removed]",
      "text/plain": [
       "<Figure size 800x500 with 1 Axes>"
      ]
     },
     "metadata": {},
     "output_type": "display_data"
    }
   ],
   "source": [
    "from compas.datastructures import Mesh\n",
    "from compas_plotters import Plotter\n",
    "\n",
    "mesh = Mesh()\n",
    "\n",
    "# add vertices\n",
    "v_0 = mesh.add_vertex(x=0, y=0, z=0)\n",
    "v_1 = mesh.add_vertex(x=2.5, y=0, z=0)\n",
    "v_2 = mesh.add_vertex(x=4, y=0, z=0)\n",
    "v_3 = mesh.add_vertex(x=0, y=2, z=0)\n",
    "v_4 = mesh.add_vertex(x=1.5, y=2, z=0)\n",
    "v_5 = mesh.add_vertex(x=4, y=2, z=0)\n",
    "v_6 = mesh.add_vertex(x=0, y=4, z=0)\n",
    "v_7 = mesh.add_vertex(x=2.5, y=4, z=0)\n",
    "v_8 = mesh.add_vertex(x=4, y=4, z=0)\n",
    "\n",
    "# add faces\n",
    "\n",
    "mesh.add_face([v_0, v_1, v_4, v_3])\n",
    "mesh.add_face([v_1, v_2, v_5, v_4])\n",
    "mesh.add_face([v_3, v_4, v_7, v_6])\n",
    "mesh.add_face([v_4, v_5, v_8, v_7])\n",
    "\n",
    "# visualize the mesh\n",
    "plotter = Plotter(show_axes=True)\n",
    "plotter.add(mesh, sizepolicy='absolute')\n",
    "plotter.zoom_extents()\n",
    "plotter.show()"
   ]
  },
  {
   "cell_type": "markdown",
   "metadata": {},
   "source": [
    "### A3_c. `Mesh.from_vertices_and_faces`\n",
    "`Mesh.from_vertices_and_faces` construct a mesh object from a list of vertices and faces. </br>\n",
    "API reference: https://compas.dev/compas/1.5.0/api/generated/compas.datastructures.Mesh.from_vertices_and_faces.html#compas.datastructures.Mesh.from_vertices_and_faces</br>\n",
    "Source code: https://github.com/compas-dev/compas/blob/81606f4580b5d4139e56b592f05354f965954388/src/compas/datastructures/mesh/mesh.py#L440"
   ]
  },
  {
   "cell_type": "code",
   "execution_count": null,
   "metadata": {},
   "outputs": [],
   "source": [
    "from compas.datastructures import Mesh\n",
    "from compas_plotters import Plotter\n",
    "\n",
    "vertices = [[0, 0, 0], [2.5, 0, 0], [4, 0, 0],\n",
    "         [0, 2, 0], [1.5, 2, 0], [4, 2, 0],\n",
    "         [0, 4, 0], [2.5, 4, 0], [4, 4, 0]]\n",
    "\n",
    "faces = [[0, 1, 4, 3], [1, 2, 5, 4], [3, 4, 7, 6], [4, 5, 8, 7]]\n",
    "\n",
    "mesh = Mesh.from_vertices_and_faces(vertices, faces)\n",
    "\n",
    "plotter = Plotter(show_axes=True)\n",
    "plotter.add(mesh, sizepolicy='absolute')\n",
    "plotter.zoom_extents()\n",
    "plotter.show()\n"
   ]
  },
  {
   "cell_type": "markdown",
   "metadata": {},
   "source": [
    "### A3_d. `Mesh.from_polygons`\n",
    "`Mesh.from_polygons` converts a series of polygons to a mesh. </br>\n",
    "API reference: https://compas.dev/compas/1.5.0/api/generated/compas.datastructures.Mesh.from_polygons.html</br>\n",
    "Github source code: https://github.com/compas-dev/compas/blob/main/src/compas/datastructures/mesh/mesh.py"
   ]
  },
  {
   "cell_type": "code",
   "execution_count": null,
   "metadata": {},
   "outputs": [],
   "source": [
    "from compas.datastructures import Mesh\n",
    "from compas.geometry import Polygon\n",
    "from compas_plotters import Plotter\n",
    "\n",
    "polygon_1 = Polygon([[0, 0, 0], [2.5, 0, 0], [1.5, 2, 0], [0, 2, 0]])\n",
    "polygon_2 = Polygon([[2.5, 0, 0], [4, 0, 0], [4, 2, 0], [1.5, 2, 0]])\n",
    "polygon_3 = Polygon([[0, 2, 0], [1.5, 2, 0], [2.5, 4, 0], [0, 4, 0]])\n",
    "polygon_4 = Polygon([[1.5, 2, 0], [4, 2, 0], [4, 4, 0], [2.5, 4, 0]])\n",
    "\n",
    "polygons = [polygon_1, polygon_2, polygon_3, polygon_4]\n",
    "\n",
    "mesh = Mesh.from_polygons(polygons)\n",
    "\n",
    "# visualize the mesh\n",
    "plotter = Plotter(show_axes=True)\n",
    "plotter.add(mesh, sizepolicy='absolute')\n",
    "plotter.zoom_extents()\n",
    "plotter.show()"
   ]
  },
  {
   "cell_type": "markdown",
   "metadata": {},
   "source": [
    "## A4. Visualize Mesh in 3D Viewer\n",
    "Mesh is often used to represent 3D objects. We can use the 3D viewer to visualize the mesh. The following example visualize a thrust diagram that is exported from RhinoVault2."
   ]
  },
  {
   "cell_type": "code",
   "execution_count": null,
   "metadata": {},
   "outputs": [],
   "source": [
    "from compas.datastructures import Mesh\n",
    "from compas_notebook.app import App\n",
    "\n",
    "mesh = Mesh.from_json(\"https://raw.githubusercontent.com/BlockResearchGroup/CSD2_2022/main/3_Materialization/Tutorial5/data/simple_dome.json\")\n",
    "\n",
    "viewer = App()\n",
    "viewer.add(mesh)\n",
    "viewer.show()"
   ]
  },
  {
   "cell_type": "markdown",
   "metadata": {},
   "source": [
    "Let's pick up a random vertex in the mesh and move it 1 unit up along the z axis. "
   ]
  },
  {
   "cell_type": "code",
   "execution_count": null,
   "metadata": {},
   "outputs": [],
   "source": [
    "from compas.datastructures import Mesh\n",
    "from compas_notebook.app import App\n",
    "\n",
    "mesh = Mesh.from_json(\"https://raw.githubusercontent.com/BlockResearchGroup/CSD2_2022/main/3_Materialization/Tutorial5/data/simple_dome.json\")\n",
    "\n",
    "vkey = mesh.get_any_vertex()\n",
    "xyz = mesh.vertex_coordinates(vkey)\n",
    "mesh.vertex_attribute(vkey, \"z\", xyz[2] + 1)\n",
    "\n",
    "viewer = App()\n",
    "viewer.add(mesh)\n",
    "viewer.show()"
   ]
  },
  {
   "cell_type": "markdown",
   "metadata": {},
   "source": [
    "---\n",
    "<a id='MeshB'></a>\n",
    "# B. Mesh Vertex, Edge, Face\n",
    "\n",
    "Mesh has three main components: **Vertex**, **edge** and **face**.\n",
    "\n",
    "<img src=\"img/week5_3.png\" width=\"1000\" style=\"margin-left:auto; margin-right:auto\"/>\n",
    "</br>\n",
    "\n",
    "A vertex is a point in 3D space, represented by the [x, y, z] coordinate. \n",
    "\n",
    "| Vertex Key | Coordinates |\n",
    "| :---: | :---: |\n",
    "| 0 | (0, 0, 0) |\n",
    "| 1 | (2, 0, 0) |\n",
    "| 2 | (2, 2, 0) |\n",
    "| 3 | (0, 2, 0) |\n",
    "| 4 | (1, 1, 2) |\n",
    "\n",
    "An edge connects two vertices together. \n",
    "\n",
    "| Edge Key | (u, v) |\n",
    "| :---: | :---: |\n",
    "| 0 | (0, 1) |\n",
    "| 1 | (1, 2) |\n",
    "| 2 | (2, 3) |\n",
    "| 3 | (0, 3) |\n",
    "| 4 | (1, 4) |\n",
    "| 5 | (2, 4) |\n",
    "| 6 | (3, 4) |\n",
    "| 7 | (0, 4) |\n",
    "\n",
    "A face is constructed by connecting the edges together. A 3D geometry can be constructed by connecting faces together. \n",
    "\n",
    "| Face Key | Face Vertices |\n",
    "| :---: | :---: |\n",
    "| 0 | (0, 1, 4) |\n",
    "| 1 | (1, 2, 4) |\n",
    "| 2 | (2, 3, 4) |\n",
    "| 3 | (0, 3, 4) |\n"
   ]
  },
  {
   "cell_type": "markdown",
   "metadata": {},
   "source": [
    "## B1. Access Mesh Vertices, Faces and Edges\n",
    "`mesh.vertices()`, `mesh.edges(`), `mesh.faces()` access the vertices, edges and faces of the mesh data structure. Note that these methods return generator objects that have to be consumed by iteration."
   ]
  },
  {
   "cell_type": "code",
   "execution_count": null,
   "metadata": {},
   "outputs": [],
   "source": [
    "# generator objects\n",
    "vertices = [[0, 0, 0], [2, 0, 0], [2, 2, 0],\n",
    "         [0, 2, 0], [1, 1, 2]]\n",
    "\n",
    "faces = [[0, 1, 4], [1, 2, 4], [2, 3, 4], [0, 3, 4]]\n",
    "\n",
    "mesh = Mesh.from_vertices_and_faces(vertices, faces)\n",
    "\n",
    "print(mesh.vertices())\n",
    "print(mesh.edges())\n",
    "print(mesh.faces())"
   ]
  },
  {
   "cell_type": "code",
   "execution_count": null,
   "metadata": {},
   "outputs": [],
   "source": [
    "print(\"Vertices\")\n",
    "for vertex in mesh.vertices():\n",
    "     print(vertex, end=\" \")\n",
    "\n",
    "print(\"\\nEdges\")\n",
    "for edge in mesh.edges():\n",
    "     print(edge, end=\" \")\n",
    "        \n",
    "print(\"\\nFaces\")\n",
    "for face in mesh.faces():\n",
    "     print(face, end=\" \")        "
   ]
  },
  {
   "cell_type": "code",
   "execution_count": null,
   "metadata": {},
   "outputs": [],
   "source": [
    "vertices = list(mesh.vertices())\n",
    "print(vertices)\n",
    "\n",
    "edges = list(mesh.edges())\n",
    "print(edges)\n",
    "\n",
    "faces = list(mesh.faces())\n",
    "print(faces)"
   ]
  },
  {
   "cell_type": "markdown",
   "metadata": {},
   "source": [
    "## B2. Visualize the Points"
   ]
  },
  {
   "cell_type": "code",
   "execution_count": null,
   "metadata": {},
   "outputs": [],
   "source": [
    "from compas.datastructures import Mesh\n",
    "from compas.geometry import Sphere, Point\n",
    "from compas_notebook.app import App\n",
    "\n",
    "mesh = Mesh.from_json(\"https://raw.githubusercontent.com/BlockResearchGroup/CSD2_2022/main/3_Materialization/Tutorial5/data/simple_dome.json\")\n",
    "\n",
    "viewer = App()\n",
    "\n",
    "for vkey in mesh.vertices():\n",
    "    xyz = mesh.vertex_coordinates(vkey)\n",
    "    viewer.add(Sphere(xyz, 0.05), facecolor=(0.7, 0., 0.7))\n",
    "\n",
    "# # only visualize Vertex 4\n",
    "# vkey = 4\n",
    "# xyz = mesh.vertex_coordinates(vkey)\n",
    "# viewer.add(Sphere(xyz, 0.05), facecolor=(0.7, 0., 0.7))\n",
    "\n",
    "viewer.add(mesh)\n",
    "viewer.show()"
   ]
  },
  {
   "cell_type": "markdown",
   "metadata": {},
   "source": [
    "## B3. Visualize the Lines\n"
   ]
  },
  {
   "cell_type": "code",
   "execution_count": null,
   "metadata": {},
   "outputs": [],
   "source": [
    "from compas.datastructures import Mesh\n",
    "from compas.geometry import Line\n",
    "from compas_notebook.app import App\n",
    "\n",
    "mesh = Mesh.from_json(\"https://raw.githubusercontent.com/BlockResearchGroup/CSD2_2022/main/3_Materialization/Tutorial5/data/simple_dome.json\")\n",
    "\n",
    "viewer = App()\n",
    "\n",
    "for edge in mesh.edges():\n",
    "    a, b = mesh.edge_coordinates(*edge)\n",
    "    line = Line(a, b)\n",
    "    viewer.add(line, linecolor=(0, 0, 1))\n",
    "\n",
    "# viewer.add(mesh)\n",
    "viewer.show()"
   ]
  },
  {
   "cell_type": "markdown",
   "metadata": {},
   "source": [
    "## B4. Visualize the Faces"
   ]
  },
  {
   "cell_type": "code",
   "execution_count": null,
   "metadata": {},
   "outputs": [],
   "source": [
    "from compas.datastructures import Mesh\n",
    "from compas.geometry import Polygon\n",
    "from compas_notebook.app import App\n",
    "\n",
    "mesh = Mesh.from_json(\"https://raw.githubusercontent.com/BlockResearchGroup/CSD2_2022/main/3_Materialization/Tutorial5/data/simple_dome.json\")\n",
    "\n",
    "viewer = App()\n",
    "\n",
    "for fkey in mesh.faces():\n",
    "    points = mesh.face_coordinates(fkey)\n",
    "    polygon = Polygon(points)\n",
    "    viewer.add(polygon)\n",
    "\n",
    "# viewer.add(mesh)\n",
    "viewer.show()"
   ]
  },
  {
   "cell_type": "markdown",
   "metadata": {},
   "source": [
    "---\n",
    "<a id='MeshC'></a>\n",
    "# C. Mesh Normals\n",
    "There are two kinds of normals that. Face normals are orthongal vectors to the faces of the mesh. Whereas vertex normals are orthongal to the vertices.\n",
    "\n",
    "<img src=\"img/week5_4.png\" width=\"800\" style=\"margin-left:auto; margin-right:auto\"/>\n",
    "</br>"
   ]
  },
  {
   "cell_type": "markdown",
   "metadata": {},
   "source": [
    "## C1. Face Normals\n",
    "The face normal is a vector that describes the direction that the face polygon is facing. The winding of the vertices determines the direction of the face normal."
   ]
  },
  {
   "cell_type": "code",
   "execution_count": null,
   "metadata": {},
   "outputs": [],
   "source": [
    "from compas.datastructures import Mesh\n",
    "from compas.geometry import Polygon, add_vectors, scale_vector\n",
    "from compas_notebook.app import App\n",
    "\n",
    "mesh = Mesh.from_json(\"https://raw.githubusercontent.com/BlockResearchGroup/CSD2_2022/main/3_Materialization/Tutorial5/data/simple_dome.json\")\n",
    "\n",
    "viewer = App()\n",
    "\n",
    "scale_factor = 0.5 \n",
    "for fkey in mesh.faces():\n",
    "    f_normal = mesh.face_normal(fkey)\n",
    "    f_centorid = mesh.face_centroid(fkey)\n",
    "    line = Line(f_centorid, add_vectors(f_centorid, scale_vector(f_normal, scale_factor)))\n",
    "    viewer.add(line, linecolor=(1.0, 0, 0))\n",
    "\n",
    "viewer.add(mesh)\n",
    "viewer.show()"
   ]
  },
  {
   "cell_type": "markdown",
   "metadata": {},
   "source": [
    "## C2. Vertex Normals\n",
    "The vertex normal is the weighted average of the normals of the neighboring faces."
   ]
  },
  {
   "cell_type": "code",
   "execution_count": null,
   "metadata": {},
   "outputs": [],
   "source": [
    "from compas.datastructures import Mesh\n",
    "from compas.geometry import Polygon, add_vectors, scale_vector\n",
    "from compas_notebook.app import App\n",
    "\n",
    "mesh = Mesh.from_json(\"https://raw.githubusercontent.com/BlockResearchGroup/CSD2_2022/main/3_Materialization/Tutorial5/data/simple_dome.json\")\n",
    "\n",
    "viewer = App()\n",
    "\n",
    "scale_factor = 0.5 \n",
    "for vkey in mesh.vertices():\n",
    "    v_normal = mesh.vertex_normal(vkey)\n",
    "    xyz = mesh.vertex_coordinates(vkey)\n",
    "    line = Line(xyz, add_vectors(xyz, scale_vector(v_normal, scale_factor)))\n",
    "    viewer.add(line, linecolor=(1.0, 0, 0))\n",
    "\n",
    "viewer.add(mesh)\n",
    "viewer.show()"
   ]
  },
  {
   "cell_type": "markdown",
   "metadata": {},
   "source": [
    "---\n",
    "\n",
    "<a id='MeshD'></a>\n",
    "# D. Exercise: Geodesic Dome\n",
    "## D1. Load Mesh\n",
    "In the following example, we will try to materialize a geodesic dome. We will use spheres/cylinders, cylinders, polygons to represent joints, bars and facades.  \n",
    "\n",
    "<img src=\"https://i.pinimg.com/originals/0e/ce/2f/0ece2f10e2f7ef68e8603fc07d786bd6.jpg\" width=\"400\" style=\"margin-left:auto; margin-right:auto\"/>\n",
    "</br>"
   ]
  },
  {
   "cell_type": "code",
   "execution_count": null,
   "metadata": {},
   "outputs": [],
   "source": [
    "from compas.datastructures import Mesh\n",
    "from compas.geometry import Polygon, add_vectors, scale_vector\n",
    "from compas_notebook.app import App\n",
    "\n",
    "mesh = Mesh.from_json(\"https://raw.githubusercontent.com/BlockResearchGroup/CSD2_2022/main/3_Materialization/Tutorial5/data/geodome.json\")\n",
    "\n",
    "viewer = App()\n",
    "viewer.add(mesh)\n",
    "viewer.show()"
   ]
  },
  {
   "cell_type": "markdown",
   "metadata": {},
   "source": [
    "## D2. Draw Joints"
   ]
  },
  {
   "cell_type": "code",
   "execution_count": null,
   "metadata": {},
   "outputs": [],
   "source": [
    "from compas.geometry import Sphere\n",
    "\n",
    "viewer = App()\n",
    "\n",
    "for vkey in mesh.vertices():\n",
    "    viewer.add(Sphere(mesh.vertex_coordinates(vkey), 0.1), color=(1.0, 0, 0))\n",
    "\n",
    "# viewer.add(mesh)\n",
    "viewer.show()"
   ]
  },
  {
   "cell_type": "code",
   "execution_count": null,
   "metadata": {},
   "outputs": [],
   "source": [
    "from compas.geometry import Cylinder, Plane, Circle\n",
    "\n",
    "viewer = App()\n",
    "\n",
    "for vkey in mesh.vertices():\n",
    "    xyz = mesh.vertex_coordinates(vkey)\n",
    "    normal = mesh.vertex_normal(vkey)\n",
    "    \n",
    "    plane = Plane(xyz, normal) # center, normal\n",
    "    circle = Circle(plane, 0.1)\n",
    "    \n",
    "    cylinder = Cylinder(circle, 0.1)\n",
    "    viewer.add(cylinder, color=(1, 0, 0))\n",
    "\n",
    "# viewer.add(mesh)\n",
    "viewer.show()"
   ]
  },
  {
   "cell_type": "markdown",
   "metadata": {},
   "source": [
    "## D3. Draw Bars"
   ]
  },
  {
   "cell_type": "code",
   "execution_count": null,
   "metadata": {},
   "outputs": [],
   "source": [
    "from compas.geometry import Plane, Vector, Circle, Cylinder\n",
    "from compas_notebook.app import App\n",
    "\n",
    "viewer = App()\n",
    "# viewer.add(mesh)\n",
    "\n",
    "for vkey in mesh.vertices():\n",
    "    xyz = mesh.vertex_coordinates(vkey)\n",
    "    normal = mesh.vertex_normal(vkey)\n",
    "    \n",
    "    plane = Plane(xyz, normal) # center, normal\n",
    "    circle = Circle(plane, 0.1)\n",
    "    \n",
    "    cylinder = Cylinder(circle, 0.1)\n",
    "    viewer.add(cylinder, color=(1, 0, 0))\n",
    "    \n",
    "    \n",
    "for (u, v) in mesh.edges():\n",
    "    u_xyz = mesh.vertex_coordinates(u)\n",
    "    v_xyz = mesh.vertex_coordinates(v)\n",
    "\n",
    "# pipe:   circle ([plane, radius] | Circle) – The circle of the cylinder.\n",
    "#         height (float) – The height of the cylinder.\n",
    "    center = [0.5 * (a + b) for a, b in zip(u_xyz, v_xyz)]\n",
    "    normal = Vector.from_start_end(v_xyz, u_xyz)\n",
    "    plane = Plane(center, normal) # center, normal\n",
    "    circle = Circle(plane, 0.03)\n",
    "    \n",
    "    cylinder = Cylinder(circle, normal.length - 0.1)\n",
    "    viewer.add(cylinder)\n",
    "\n",
    "viewer.show()"
   ]
  },
  {
   "cell_type": "markdown",
   "metadata": {},
   "source": [
    "## D4. Draw Facades"
   ]
  },
  {
   "cell_type": "code",
   "execution_count": null,
   "metadata": {},
   "outputs": [],
   "source": [
    "from compas.geometry import Polygon, Translation, scale_vector\n",
    "from compas_notebook.app import App\n",
    "viewer = App()\n",
    "\n",
    "for vkey in mesh.vertices():\n",
    "    xyz = mesh.vertex_coordinates(vkey)\n",
    "    normal = mesh.vertex_normal(vkey)\n",
    "    \n",
    "    plane = Plane(xyz, normal) # center, normal\n",
    "    circle = Circle(plane, 0.1)\n",
    "    \n",
    "    cylinder = Cylinder(circle, 0.1)\n",
    "    viewer.add(cylinder, color=(1, 0, 0))\n",
    "    \n",
    "    \n",
    "for (u, v) in mesh.edges():\n",
    "    u_xyz = mesh.vertex_coordinates(u)\n",
    "    v_xyz = mesh.vertex_coordinates(v)\n",
    "\n",
    "# pipe:   circle ([plane, radius] | Circle) – The circle of the cylinder.\n",
    "#         height (float) – The height of the cylinder.\n",
    "    center = [0.5 * (a + b) for a, b in zip(u_xyz, v_xyz)]\n",
    "    normal = Vector.from_start_end(v_xyz, u_xyz)\n",
    "    plane = Plane(center, normal) # center, normal\n",
    "    circle = Circle(plane, 0.03)\n",
    "    \n",
    "    cylinder = Cylinder(circle, normal.length - 0.1)\n",
    "    viewer.add(cylinder)\n",
    "    \n",
    "dis = 0.05\n",
    "for fkey in mesh.faces():\n",
    "    points = mesh.face_coordinates(fkey)\n",
    "    polygon = Polygon(points)\n",
    "    \n",
    "    f_normal = mesh.face_normal(fkey)\n",
    "    T = Translation.from_vector(scale_vector(f_normal, dis))\n",
    "    polygon.transform(T)\n",
    "    \n",
    "    viewer.add(polygon, facecolor=(0, 0, 0.7))\n",
    "        \n",
    "viewer.show()"
   ]
  },
  {
   "cell_type": "code",
   "execution_count": null,
   "metadata": {},
   "outputs": [],
   "source": [
    "from compas.geometry import Polygon, Translation, scale_vector, Scale, Frame\n",
    "from compas_notebook.app import App\n",
    "\n",
    "viewer = App()\n",
    "\n",
    "for vkey in mesh.vertices():\n",
    "    xyz = mesh.vertex_coordinates(vkey)\n",
    "    normal = mesh.vertex_normal(vkey)\n",
    "    \n",
    "    plane = Plane(xyz, normal) # center, normal\n",
    "    circle = Circle(plane, 0.1)\n",
    "    \n",
    "    cylinder = Cylinder(circle, 0.1)\n",
    "    viewer.add(cylinder, color=(1, 0, 0))\n",
    "    \n",
    "    \n",
    "for (u, v) in mesh.edges():\n",
    "    u_xyz = mesh.vertex_coordinates(u)\n",
    "    v_xyz = mesh.vertex_coordinates(v)\n",
    "\n",
    "# pipe:   circle ([plane, radius] | Circle) – The circle of the cylinder.\n",
    "#         height (float) – The height of the cylinder.\n",
    "    center = [0.5 * (a + b) for a, b in zip(u_xyz, v_xyz)]\n",
    "    normal = Vector.from_start_end(v_xyz, u_xyz)\n",
    "    plane = Plane(center, normal) # center, normal\n",
    "    circle = Circle(plane, 0.03)\n",
    "    \n",
    "    cylinder = Cylinder(circle, normal.length - 0.1)\n",
    "    viewer.add(cylinder)\n",
    "    \n",
    "dis = 0.05\n",
    "for fkey in mesh.faces():\n",
    "    points = mesh.face_coordinates(fkey)\n",
    "    polygon = Polygon(points)\n",
    "    \n",
    "    f_normal = mesh.face_normal(fkey)\n",
    "    T = Translation.from_vector(scale_vector(f_normal, dis))\n",
    "    polygon.transform(T)\n",
    "    \n",
    "    f_centroid = mesh.face_centroid(fkey)\n",
    "    plane = Plane(f_centroid, f_normal)\n",
    "    frame = Frame.from_plane(plane)\n",
    "    S = Scale.from_factors([0.93] * 3, frame)\n",
    "    polygon.transform(S)\n",
    "    \n",
    "    viewer.add(polygon, facecolor=(0, 0, 0.7))\n",
    "        \n",
    "viewer.show()"
   ]
  },
  {
   "cell_type": "code",
   "execution_count": null,
   "metadata": {},
   "outputs": [],
   "source": []
  },
  {
   "cell_type": "code",
   "execution_count": null,
   "metadata": {},
   "outputs": [],
   "source": []
  },
  {
   "cell_type": "code",
   "execution_count": null,
   "metadata": {},
   "outputs": [],
   "source": []
  },
  {
   "cell_type": "code",
   "execution_count": null,
   "metadata": {},
   "outputs": [],
   "source": []
  },
  {
   "cell_type": "code",
   "execution_count": null,
   "metadata": {},
   "outputs": [],
   "source": []
  },
  {
   "cell_type": "code",
   "execution_count": null,
   "metadata": {},
   "outputs": [],
   "source": []
  },
  {
   "cell_type": "code",
   "execution_count": null,
   "metadata": {},
   "outputs": [],
   "source": []
  },
  {
   "cell_type": "code",
   "execution_count": null,
   "metadata": {},
   "outputs": [],
   "source": []
  },
  {
   "cell_type": "code",
   "execution_count": null,
   "metadata": {},
   "outputs": [],
   "source": []
  },
  {
   "cell_type": "code",
   "execution_count": null,
   "metadata": {},
   "outputs": [],
   "source": []
  },
  {
   "cell_type": "code",
   "execution_count": null,
   "metadata": {},
   "outputs": [],
   "source": []
  }
 ],
 "metadata": {
  "interpreter": {
   "hash": "767b8e31c1eec9ef327cc27a2a5d7df98b41c7cbc989a566ef8d39dcc483faec"
  },
  "kernelspec": {
   "display_name": "Python 3.8.12 64-bit ('brg': conda)",
   "language": "python",
   "name": "python3812jvsc74a57bd04660e017fe583de81ac72b41cd0367138abbb38b850ef3671e77c7ef0042ac47"
  },
  "language_info": {
   "codemirror_mode": {
    "name": "ipython",
    "version": 3
   },
   "file_extension": ".py",
   "mimetype": "text/x-python",
   "name": "python",
   "nbconvert_exporter": "python",
   "pygments_lexer": "ipython3",
   "version": "3.8.12"
  }
 },
 "nbformat": 4,
 "nbformat_minor": 4
}
