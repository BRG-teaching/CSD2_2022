{
 "cells": [
  {
   "cell_type": "markdown",
   "metadata": {},
   "source": [
    "# Computational Structural Design II - Geometry, Data and Visualization\n",
    "\n",
    "### Learning Goal: \n",
    "- Mesh Datastructure\n",
    "\n",
    "### Content:\n",
    "- [A. Mesh Introduction](#MeshIntro)\n",
    "- \n",
    "---\n"
   ]
  },
  {
   "cell_type": "markdown",
   "metadata": {},
   "source": [
    "<a id='MeshIntro'></a>\n",
    "# A. Mesh Introduction\n",
    "\n",
    "Mesh is a way to represent the 3D object. Mesh has three main components: vertex, edge, face. \n",
    "\n",
    "## A1. Vertex, Edge, Face\n",
    "A vertex is a point in 3D space, represented by the [x, y, z] coordinate. \n",
    "\n",
    "PICTURE TO BE INSERTED\n",
    "\n",
    "An edge connects two vertices together. \n",
    "\n",
    "PICTURE TO BE INSERTED\n",
    "\n",
    "A face is constructed by connecting the edges together. A 3D geometry can be constructed by connecting faces together. \n",
    "\n",
    "PICTURE TO BE INSERTED\n",
    "\n",
    "Mesh talks how the points are connected. It's about connectivity instead of the geometry. "
   ]
  },
  {
   "cell_type": "markdown",
   "metadata": {},
   "source": [
    "## A2. COMPAS Mesh\n",
    "A thrust object we created in RV2 is also a mesh. Let's try to find the vertices, edges, faces on a mesh. "
   ]
  },
  {
   "cell_type": "markdown",
   "metadata": {},
   "source": [
    "topological problem. "
   ]
  }
 ],
 "metadata": {
  "interpreter": {
   "hash": "767b8e31c1eec9ef327cc27a2a5d7df98b41c7cbc989a566ef8d39dcc483faec"
  },
  "kernelspec": {
   "display_name": "Python 3.9.9 64-bit ('csd2': conda)",
   "language": "python",
   "name": "python3"
  },
  "language_info": {
   "codemirror_mode": {
    "name": "ipython",
    "version": 3
   },
   "file_extension": ".py",
   "mimetype": "text/x-python",
   "name": "python",
   "nbconvert_exporter": "python",
   "pygments_lexer": "ipython3",
   "version": "3.9.9"
  },
  "orig_nbformat": 4
 },
 "nbformat": 4,
 "nbformat_minor": 2
}
