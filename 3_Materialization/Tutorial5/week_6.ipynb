{
 "cells": [
  {
   "cell_type": "markdown",
   "metadata": {},
   "source": [
    "# Computational Structural Design II - Geometry, Data and Visualization\n",
    "\n",
    "### Learning Goal: \n",
    "- Mesh Datastructure\n",
    "\n",
    "### Content:\n",
    "- [A. Mesh Introduction](#MeshIntro)\n",
    "- \n",
    "---\n"
   ]
  },
  {
   "cell_type": "markdown",
   "metadata": {},
   "source": [
    "<a id='MeshIntro'></a>\n",
    "# A. Mesh Introduction\n",
    "\n",
    "Mesh is a way to represent the 3D object. Mesh has three main components: vertex, edge, face. \n",
    "\n",
    "## A1. Vertex, Edge, Face\n",
    "A vertex is a point in 3D space, represented by the [x, y, z] coordinate. \n",
    "\n",
    "PICTURE TO BE INSERTED\n",
    "\n",
    "An edge connects two vertices together. \n",
    "\n",
    "PICTURE TO BE INSERTED\n",
    "\n",
    "A face is constructed by connecting the edges together. A 3D geometry can be constructed by connecting faces together. \n",
    "\n",
    "PICTURE TO BE INSERTED\n",
    "\n",
    "Mesh talks how the points are connected. It's about connectivity instead of the geometry. "
   ]
  },
  {
   "cell_type": "markdown",
   "metadata": {},
   "source": [
    "## A2. COMPAS Mesh\n",
    "A thrust object we created in RV2 is also a mesh. Let's try to find the vertices, edges, faces on a mesh. "
   ]
  },
  {
   "cell_type": "code",
   "execution_count": 25,
   "metadata": {},
   "outputs": [],
   "source": [
    "import os\n",
    "from compas.datastructures import Mesh\n",
    "\n",
    "HERE = os.getcwd()\n",
    "DATA = os.path.abspath(os.path.join(HERE, 'data'))\n",
    "FILE_I = os.path.join(DATA, 'simple_dome.json')\n",
    "\n",
    "thrust = Mesh.from_json(FILE_I)\n"
   ]
  },
  {
   "cell_type": "code",
   "execution_count": 37,
   "metadata": {},
   "outputs": [],
   "source": [
    "from compas_plotters.plotter import Plotter\n",
    "\n",
    "plotter = Plotter()\n",
    "plotter.add(thrust)\n",
    "plotter.show()"
   ]
  },
  {
   "cell_type": "code",
   "execution_count": 26,
   "metadata": {},
   "outputs": [
    {
     "name": "stdout",
     "output_type": "stream",
     "text": [
      "BufferGeometry(attributes={'position': <BufferAttribute shape=(400, 3), dtype=float32>})\n"
     ]
    }
   ],
   "source": [
    "from pythreejs import *\n",
    "import numpy as np\n",
    "from IPython.display import display\n",
    "\n",
    "mesh = thrust.copy()\n",
    "\n",
    "vertices = []\n",
    "for face in mesh.faces():\n",
    "    for v in mesh.face_vertices(face):\n",
    "        xyz = mesh.vertex_attributes(v, \"xyz\")\n",
    "        vertices.append(xyz)\n",
    "\n",
    "# print(vertices)\n",
    "vertices = BufferAttribute(\n",
    "    array = np.array(vertices,dtype=np.float32),\n",
    "    normalized = False)\n",
    "\n",
    "# print(vertices)\n",
    "geometry = BufferGeometry(attributes={'position': vertices})\n",
    "\n",
    "print(geometry)\n",
    "geometry.exec_three_obj_method('computeVertexNormals')\n",
    "\n",
    "mesh_3j = Mesh(geometry=geometry,\n",
    "           material=MeshLambertMaterial(color='red'),\n",
    "           position=[0,0,0])\n",
    "\n",
    "c = PerspectiveCamera(position=[0, 5, 5], up=[0, 1, 0],\n",
    "                      children=[DirectionalLight(color='white', position=[3, 5, 1], intensity=0.5)])\n",
    "\n",
    "scene=Scene(children=[mesh_3j, c, AmbientLight(color='#777777')])\n",
    "\n",
    "\n",
    "renderer = Renderer(camera=c, \n",
    "                    scene=scene,\n",
    "                    width=800,\n",
    "                    height=800,\n",
    "                    controls=[OrbitControls(controlling=c)])"
   ]
  },
  {
   "cell_type": "markdown",
   "metadata": {},
   "source": [
    "topological problem. "
   ]
  },
  {
   "cell_type": "code",
   "execution_count": 27,
   "metadata": {},
   "outputs": [
    {
     "data": {
      "application/vnd.jupyter.widget-view+json": {
       "model_id": "873e1c52441941efa922be70858c116a",
       "version_major": 2,
       "version_minor": 0
      },
      "text/plain": [
       "Renderer(camera=PerspectiveCamera(children=(DirectionalLight(color='white', intensity=0.5, matrixWorldNeedsUpd…"
      ]
     },
     "metadata": {},
     "output_type": "display_data"
    }
   ],
   "source": [
    "display(renderer)"
   ]
  },
  {
   "cell_type": "code",
   "execution_count": null,
   "metadata": {},
   "outputs": [],
   "source": []
  }
 ],
 "metadata": {
  "interpreter": {
   "hash": "767b8e31c1eec9ef327cc27a2a5d7df98b41c7cbc989a566ef8d39dcc483faec"
  },
  "kernelspec": {
   "display_name": "Python 3",
   "language": "python",
   "name": "python3"
  },
  "language_info": {
   "codemirror_mode": {
    "name": "ipython",
    "version": 3
   },
   "file_extension": ".py",
   "mimetype": "text/x-python",
   "name": "python",
   "nbconvert_exporter": "python",
   "pygments_lexer": "ipython3",
   "version": "3.9.9"
  }
 },
 "nbformat": 4,
 "nbformat_minor": 4
}
