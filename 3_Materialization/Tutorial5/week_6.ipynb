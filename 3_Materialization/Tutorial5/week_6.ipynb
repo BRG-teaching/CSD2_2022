{
 "cells": [
  {
   "cell_type": "markdown",
   "metadata": {},
   "source": [
    "# Computational Structural Design II - Geometry, Data and Visualization\n",
    "\n",
    "### Learning Goal: \n",
    "- Mesh Datastructure\n",
    "\n",
    "### Content:\n",
    "- [A. Mesh Introduction](#MeshIntro)\n",
    "- \n",
    "---\n"
   ]
  },
  {
   "cell_type": "markdown",
   "metadata": {},
   "source": [
    "<a id='MeshIntro'></a>\n",
    "# A. Mesh Introduction\n",
    "\n",
    "Form finding a cable-net or generating a compression-only vault usually starts with a **2D mesh**, which represents the horizontal projection of the eventual structure. The line segments of this mesh is called **Pattern**. The following picture shows you an existing structure and its corresponding pattern. The form-found **Thrust** is also a mesh, but in 3D space. \n",
    "\n",
    "![img](https://files.gitbook.com/v0/b/gitbook-legacy-files/o/assets%2F-M730QpQnbAMvz44bqhc%2F-MOff3g181Ib3KNlmKgc%2F-MOfhAWYJRaSfNZucLzL%2Fimage.png?alt=media&token=839252d4-a77e-42cb-81cf-4b6071a5c598)\n",
    "<center>Nave Vault of the Sherborne Abbey, Dorset, UK (photo by Lawrence Lew)</center>\n",
    "</br>\n",
    "\n"
   ]
  },
  {
   "cell_type": "markdown",
   "metadata": {},
   "source": [
    "# B. From Polygon to Polygon Mesh"
   ]
  },
  {
   "cell_type": "code",
   "execution_count": 102,
   "metadata": {},
   "outputs": [
    {
     "data": {
      "image/png": "[encoded data removed]",
      "text/plain": [
       "<Figure size 800x500 with 1 Axes>"
      ]
     },
     "metadata": {},
     "output_type": "display_data"
    }
   ],
   "source": [
    "from compas.geometry import Polygon\n",
    "from compas_plotters import Plotter\n",
    "\n",
    "polygon_1 = Polygon([[0, 0], [2.5, 0], [1.5, 2], [0, 2]])\n",
    "polygon_2 = Polygon([[2.5, 0], [4, 0], [4, 2], [1.5, 2]])\n",
    "polygon_3 = Polygon([[0, 2], [1.5, 2], [2.5, 4], [0, 4]])\n",
    "\n",
    "# visualize the Point\n",
    "plotter = Plotter(show_axes=True)\n",
    "plotter.add(polygon_1, facecolor=(1, 0, 0))\n",
    "plotter.add(polygon_2, facecolor=(0, 0, 1))\n",
    "plotter.zoom_extents()\n",
    "plotter.show()\n",
    "\n",
    "\n"
   ]
  },
  {
   "cell_type": "markdown",
   "metadata": {},
   "source": [
    "## B. Mesh Vertex, Edge, Face\n",
    "\n",
    "Mesh has three main components: vertex, edge, face. \n",
    "\n",
    "A vertex is a point in 3D space, represented by the [x, y, z] coordinate. \n",
    "\n",
    "PICTURE TO BE INSERTED\n",
    "\n",
    "An edge connects two vertices together. \n",
    "\n",
    "PICTURE TO BE INSERTED\n",
    "\n",
    "A face is constructed by connecting the edges together. A 3D geometry can be constructed by connecting faces together. \n",
    "\n",
    "PICTURE TO BE INSERTED\n",
    "\n",
    "Mesh talks how the points are connected. It's about connectivity instead of the geometry. "
   ]
  },
  {
   "cell_type": "code",
   "execution_count": 93,
   "metadata": {},
   "outputs": [
    {
     "data": {
      "image/png": "[encoded data removed]",
      "text/plain": [
       "<Figure size 500x500 with 1 Axes>"
      ]
     },
     "metadata": {},
     "output_type": "display_data"
    }
   ],
   "source": [
    "from compas.datastructures import Mesh\n",
    "from compas_plotters import Plotter\n",
    "\n",
    "plotter = Plotter(figsize=(5, 5))\n",
    "\n",
    "mesh = Mesh.from_meshgrid(dx=2, nx=2)\n",
    "plotter.add(mesh, sizepolicy='absolute')\n",
    "plotter.zoom_extents()\n",
    "plotter.show()"
   ]
  },
  {
   "cell_type": "markdown",
   "metadata": {},
   "source": [
    "## A2. COMPAS Mesh\n",
    "A thrust object we created in RV2 is also a mesh. Let's try to find the vertices, edges, faces on a mesh. "
   ]
  },
  {
   "cell_type": "code",
   "execution_count": 3,
   "metadata": {},
   "outputs": [],
   "source": [
    "import os\n",
    "from compas.datastructures import Mesh\n",
    "\n",
    "HERE = os.getcwd()\n",
    "DATA = os.path.abspath(os.path.join(HERE, 'data'))\n",
    "FILE_I = os.path.join(DATA, 'simple_dome.json')\n",
    "\n",
    "thrust = Mesh.from_json(FILE_I)\n"
   ]
  },
  {
   "cell_type": "code",
   "execution_count": 5,
   "metadata": {},
   "outputs": [],
   "source": [
    "from compas_view2.app import App\n",
    "viewer = App()\n",
    "viewer.add(thrust)\n",
    "viewer.run()\n"
   ]
  },
  {
   "cell_type": "code",
   "execution_count": 6,
   "metadata": {},
   "outputs": [],
   "source": [
    "mesh = Mesh.from_json(FILE_I)\n",
    "vertices = list(mesh.vertices())\n",
    "edges = list(mesh.edges())\n",
    "faces = list(mesh.faces())\n",
    "# print(vertices, edges, faces)"
   ]
  },
  {
   "cell_type": "markdown",
   "metadata": {},
   "source": [
    "## Add Vertices"
   ]
  },
  {
   "cell_type": "code",
   "execution_count": 14,
   "metadata": {},
   "outputs": [],
   "source": [
    "from compas.geometry import Sphere\n",
    "viewer = App()\n",
    "viewer.add(mesh)\n",
    "for vkey in mesh.vertices():\n",
    "    viewer.add(Sphere(mesh.vertex_coordinates(vkey), 0.05), color=(1, 0, 0))\n",
    "\n",
    "viewer.run()"
   ]
  },
  {
   "cell_type": "markdown",
   "metadata": {},
   "source": [
    "## Add Edges"
   ]
  },
  {
   "cell_type": "code",
   "execution_count": 13,
   "metadata": {},
   "outputs": [],
   "source": [
    "from compas.geometry import Plane, Vector, Circle, Cylinder\n",
    "from compas_view2.app import App\n",
    "\n",
    "viewer = App()\n",
    "# viewer.add(mesh)\n",
    "for (u, v) in mesh.edges():\n",
    "    u_xyz = mesh.vertex_coordinates(u)\n",
    "    v_xyz = mesh.vertex_coordinates(v)\n",
    "\n",
    "# pipe:   circle ([plane, radius] | Circle) – The circle of the cylinder.\n",
    "#         height (float) – The height of the cylinder.\n",
    "    center = [0.5 * (a + b) for a, b in zip(u_xyz, v_xyz)]\n",
    "    normal = Vector.from_start_end(v_xyz, u_xyz)\n",
    "    plane = Plane(center, normal) # center, normal\n",
    "    circle = Circle(plane, 0.05)\n",
    "    \n",
    "    cylinder = Cylinder(circle, normal.length - 0.1)\n",
    "    viewer.add(cylinder)\n",
    "    \n",
    "\n",
    "\n",
    "viewer.run()"
   ]
  },
  {
   "cell_type": "markdown",
   "metadata": {},
   "source": [
    "## Add Faces"
   ]
  },
  {
   "cell_type": "code",
   "execution_count": 85,
   "metadata": {},
   "outputs": [],
   "source": [
    "from compas.geometry import Polygon, offset_polygon, normal_polygon, offset_line, intersection_line_line, centroid_points\n",
    "from compas_view2.app import App\n",
    "from compas.utilities import is_item_iterable, iterable_like, pairwise\n",
    "\n",
    "viewer = App()\n",
    "\n",
    "distance = 0.1 \n",
    "tol = 1e-3\n",
    "\n",
    "def intersect_lines(l1, l2, tol):\n",
    "    x1, x2 = intersection_line_line(l1, l2, tol)\n",
    "    if x1 and x2:\n",
    "        return centroid_points([x1, x2])\n",
    "    \n",
    "def offset_segments(point_list, distances, normal):\n",
    "    segments = []\n",
    "    for line, distance in zip(pairwise(point_list), distances):\n",
    "        segments.append(offset_line(line, distance, normal))\n",
    "    return segments\n",
    "\n",
    "def intersect(l1, l2, tol):\n",
    "    supported_funcs = [intersect_lines, intersect_lines_colinear]\n",
    "    for func in supported_funcs:\n",
    "        point = func(l1, l2, tol)\n",
    "        if point:\n",
    "            return point\n",
    "    msg = \"Intersection not found for line: {}, and line: {}\".format(l1, l2)\n",
    "    raise ValueError(msg)\n",
    "\n",
    "def intersect_lines_colinear(l1, l2, tol):\n",
    "    def are_segments_colinear(l1, l2, tol):\n",
    "        a, b = l1\n",
    "        d, c = l2\n",
    "        return is_colinear(a, b, c, tol)\n",
    "    if are_segments_colinear(l1, l2, tol):\n",
    "        return centroid_points([l1[1], l2[0]])\n",
    "    \n",
    "for fkey in mesh.faces():\n",
    "    vkeys = mesh.face_vertices(fkey)\n",
    "    v_xyzs = [mesh.vertex_coordinates(vkey) for vkey in vkeys]\n",
    "    polygon = Polygon(v_xyzs)\n",
    "    \n",
    "    normal = normal_polygon(polygon)\n",
    "\n",
    "    if not is_item_iterable(distance):\n",
    "        distance = [distance]\n",
    "    distances = iterable_like(polygon, distance, distance[-1])\n",
    "\n",
    "    polygon = polygon.points + polygon[:1]\n",
    "    segments = offset_segments(polygon, distances, normal)\n",
    "\n",
    "    offset = []\n",
    "    for s1, s2 in pairwise(segments[-1:] + segments):\n",
    "        point = intersect(s1, s2, tol)\n",
    "        offset.append(point)\n",
    "    \n",
    "#     offset_polygon = offset_polygon(v_xyzs, -0.1, 0.5)\n",
    "#     print(offset_polygon)\n",
    "    viewer.add(Polygon(offset))\n",
    "        \n",
    "viewer.run()"
   ]
  },
  {
   "cell_type": "code",
   "execution_count": 88,
   "metadata": {},
   "outputs": [
    {
     "name": "stdout",
     "output_type": "stream",
     "text": [
      "[[-0.45773186718607506, 10.157731867186074, -0.06245222870480714], [-0.25376065592553043, 8.94893620131229, 0.23361034012814977], [0.883250474867052, 8.816749525132948, 1.0179290079921222], [0.7510637986877111, 9.95376065592553, 0.23361034012814996]]\n"
     ]
    },
    {
     "ename": "TypeError",
     "evalue": "'list' object is not callable",
     "output_type": "error",
     "traceback": [
      "\u001b[0;31m---------------------------------------------------------------------------\u001b[0m",
      "\u001b[0;31mTypeError\u001b[0m                                 Traceback (most recent call last)",
      "\u001b[0;32m<ipython-input-88-90cf0f55496c>\u001b[0m in \u001b[0;36m<module>\u001b[0;34m\u001b[0m\n\u001b[1;32m     55\u001b[0m \u001b[0;31m#         offset.append(point)\u001b[0m\u001b[0;34m\u001b[0m\u001b[0;34m\u001b[0m\u001b[0m\n\u001b[1;32m     56\u001b[0m \u001b[0;34m\u001b[0m\u001b[0m\n\u001b[0;32m---> 57\u001b[0;31m     \u001b[0moffset_polygon\u001b[0m \u001b[0;34m=\u001b[0m \u001b[0moffset_polygon\u001b[0m\u001b[0;34m(\u001b[0m\u001b[0mv_xyzs\u001b[0m\u001b[0;34m,\u001b[0m \u001b[0;34m-\u001b[0m\u001b[0;36m0.1\u001b[0m\u001b[0;34m,\u001b[0m \u001b[0mtol\u001b[0m\u001b[0;34m)\u001b[0m\u001b[0;34m\u001b[0m\u001b[0;34m\u001b[0m\u001b[0m\n\u001b[0m\u001b[1;32m     58\u001b[0m     \u001b[0mprint\u001b[0m\u001b[0;34m(\u001b[0m\u001b[0moffset_polygon\u001b[0m\u001b[0;34m)\u001b[0m\u001b[0;34m\u001b[0m\u001b[0;34m\u001b[0m\u001b[0m\n\u001b[1;32m     59\u001b[0m     \u001b[0mviewer\u001b[0m\u001b[0;34m.\u001b[0m\u001b[0madd\u001b[0m\u001b[0;34m(\u001b[0m\u001b[0mPolygon\u001b[0m\u001b[0;34m(\u001b[0m\u001b[0moffset\u001b[0m\u001b[0;34m)\u001b[0m\u001b[0;34m)\u001b[0m\u001b[0;34m\u001b[0m\u001b[0;34m\u001b[0m\u001b[0m\n",
      "\u001b[0;31mTypeError\u001b[0m: 'list' object is not callable"
     ]
    }
   ],
   "source": [
    "from compas.geometry import Polygon, offset_polygon, normal_polygon, offset_line, intersection_line_line, centroid_points\n",
    "from compas_view2.app import App\n",
    "from compas.utilities import is_item_iterable, iterable_like, pairwise\n",
    "\n",
    "viewer = App()\n",
    "\n",
    "distance = 0.1 \n",
    "tol = 1e-3\n",
    "\n",
    "def intersect_lines(l1, l2, tol):\n",
    "    x1, x2 = intersection_line_line(l1, l2, tol)\n",
    "    if x1 and x2:\n",
    "        return centroid_points([x1, x2])\n",
    "    \n",
    "def offset_segments(point_list, distances, normal):\n",
    "    segments = []\n",
    "    for line, distance in zip(pairwise(point_list), distances):\n",
    "        segments.append(offset_line(line, distance, normal))\n",
    "    return segments\n",
    "\n",
    "def intersect(l1, l2, tol):\n",
    "    supported_funcs = [intersect_lines, intersect_lines_colinear]\n",
    "    for func in supported_funcs:\n",
    "        point = func(l1, l2, tol)\n",
    "        if point:\n",
    "            return point\n",
    "    msg = \"Intersection not found for line: {}, and line: {}\".format(l1, l2)\n",
    "    raise ValueError(msg)\n",
    "\n",
    "def intersect_lines_colinear(l1, l2, tol):\n",
    "    def are_segments_colinear(l1, l2, tol):\n",
    "        a, b = l1\n",
    "        d, c = l2\n",
    "        return is_colinear(a, b, c, tol)\n",
    "    if are_segments_colinear(l1, l2, tol):\n",
    "        return centroid_points([l1[1], l2[0]])\n",
    "    \n",
    "for fkey in mesh.faces():\n",
    "    vkeys = mesh.face_vertices(fkey)\n",
    "    v_xyzs = [mesh.vertex_coordinates(vkey) for vkey in vkeys]\n",
    "    polygon = Polygon(v_xyzs)\n",
    "    \n",
    "#     normal = normal_polygon(polygon)\n",
    "\n",
    "#     if not is_item_iterable(distance):\n",
    "#         distance = [distance]\n",
    "#     distances = iterable_like(polygon, distance, distance[-1])\n",
    "\n",
    "#     polygon = polygon.points + polygon[:1]\n",
    "#     segments = offset_segments(polygon, distances, normal)\n",
    "\n",
    "#     offset = []\n",
    "#     for s1, s2 in pairwise(segments[-1:] + segments):\n",
    "#         point = intersect(s1, s2, tol)\n",
    "#         offset.append(point)\n",
    "    \n",
    "    offset_polygon = offset_polygon(v_xyzs, -0.1, tol)\n",
    "    print(offset_polygon)\n",
    "    viewer.add(Polygon(offset))\n",
    "        \n",
    "viewer.run()"
   ]
  },
  {
   "cell_type": "code",
   "execution_count": null,
   "metadata": {},
   "outputs": [],
   "source": []
  },
  {
   "cell_type": "code",
   "execution_count": null,
   "metadata": {},
   "outputs": [],
   "source": []
  }
 ],
 "metadata": {
  "interpreter": {
   "hash": "767b8e31c1eec9ef327cc27a2a5d7df98b41c7cbc989a566ef8d39dcc483faec"
  },
  "kernelspec": {
   "display_name": "Python 3.9.9 64-bit ('csd2': conda)",
   "language": "python",
   "name": "python399jvsc74a57bd05e897d0e4e978ef05e1a63d69df614a45a680d18e8ec0fd527b8776f3a2cd736"
  },
  "language_info": {
   "codemirror_mode": {
    "name": "ipython",
    "version": 3
   },
   "file_extension": ".py",
   "mimetype": "text/x-python",
   "name": "python",
   "nbconvert_exporter": "python",
   "pygments_lexer": "ipython3",
   "version": "3.9.10"
  }
 },
 "nbformat": 4,
 "nbformat_minor": 4
}
