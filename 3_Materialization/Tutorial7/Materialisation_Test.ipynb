{
 "cells": [
  {
   "cell_type": "code",
   "execution_count": 54,
   "metadata": {},
   "outputs": [
    {
     "name": "stdout",
     "output_type": "stream",
     "text": [
      "Materialisation Data Test\n"
     ]
    }
   ],
   "source": [
    "print('Materialisation Data Test')"
   ]
  },
  {
   "cell_type": "code",
   "execution_count": 55,
   "metadata": {},
   "outputs": [],
   "source": [
    "import os\n",
    "import compas\n",
    "from compas.datastructures import Mesh, mesh_bounding_box_xy\n",
    "from compas.geometry import Vector, Frame, Scale\n",
    "\n",
    "HERE = os.getcwd()\n",
    "\n",
    "FILE_I = os.path.join(HERE, 'blocks and ribs_RHINO', 'sessions', 'bm_vertical_equilibrium', 'simple_tripod.rv2')\n",
    "FILE_O1 = os.path.join(HERE, 'blocks and ribs_RHINO', 'data', 'form.json')\n",
    "FILE_O2 = os.path.join(HERE, 'blocks and ribs_RHINO', 'data', 'scaled_form.json')\n",
    "\n",
    "session = compas.json_load(FILE_I)\n",
    "\n",
    "mesh = Mesh.from_data(session['data']['form'])\n",
    "loader_mesh = Mesh.from_data(session['data']['form'])"
   ]
  },
  {
   "cell_type": "markdown",
   "metadata": {},
   "source": [
    "### to delete extra faces(more than 4 edges) if subdivided with catmulclark or other weird subdivision that connects the mesh with the ground"
   ]
  },
  {
   "cell_type": "code",
   "execution_count": 56,
   "metadata": {},
   "outputs": [],
   "source": [
    "delete_faces =[]\n",
    "\n",
    "for fkey in mesh.faces():\n",
    "    if len(mesh.face_vertices(fkey)) > 4:\n",
    "        delete_faces.append(fkey)\n",
    "\n",
    "for fkey in delete_faces:       \n",
    "    mesh.delete_face(fkey)\n",
    "    mesh.remove_unused_vertices()"
   ]
  },
  {
   "cell_type": "markdown",
   "metadata": {},
   "source": [
    "### scale up the form if needed"
   ]
  },
  {
   "cell_type": "code",
   "execution_count": 57,
   "metadata": {},
   "outputs": [],
   "source": [
    "scaled_mesh = mesh.copy()\n",
    "\n",
    "box_points = mesh_bounding_box_xy(scaled_mesh)\n",
    "base_mesh = scaled_mesh.from_points(box_points)\n",
    "centroid = base_mesh.centroid()\n",
    "#print (centroid)\n",
    "frame = Frame(centroid,Vector(1,0,0),Vector(0,1,0))\n",
    "\n",
    "S = Scale.from_factors([100, 100, 100], frame)\n",
    "scaled_mesh.transform(S)"
   ]
  },
  {
   "cell_type": "markdown",
   "metadata": {},
   "source": [
    "### Visualise and export Initial Mesh"
   ]
  },
  {
   "cell_type": "code",
   "execution_count": 58,
   "metadata": {},
   "outputs": [
    {
     "name": "stdout",
     "output_type": "stream",
     "text": [
      "<Mesh with 37 vertices, 24 faces, 60 edges>\n"
     ]
    }
   ],
   "source": [
    "mesh.to_json(FILE_O1)\n",
    "scaled_mesh.to_json(FILE_O2)\n",
    "\n",
    "print(mesh)"
   ]
  },
  {
   "cell_type": "code",
   "execution_count": 59,
   "metadata": {},
   "outputs": [],
   "source": [
    "from pythreejs import *\n",
    "import numpy as np\n",
    "from IPython.display import display\n",
    "\n",
    "mesh = scaled_mesh.copy()\n",
    "\n",
    "vertices = []\n",
    "for face in mesh.faces():\n",
    "    for v in mesh.face_vertices(face):\n",
    "        xyz = mesh.vertex_attributes(v, \"xyz\")\n",
    "        vertices.append(xyz)\n",
    "\n",
    "# print(vertices)"
   ]
  },
  {
   "cell_type": "code",
   "execution_count": 60,
   "metadata": {},
   "outputs": [],
   "source": [
    "vertices = BufferAttribute(\n",
    "    array = np.array(vertices,dtype=np.float32),\n",
    "    normalized = False)\n",
    "\n",
    "# print(vertices)\n"
   ]
  },
  {
   "cell_type": "code",
   "execution_count": 63,
   "metadata": {},
   "outputs": [
    {
     "name": "stdout",
     "output_type": "stream",
     "text": [
      "BufferGeometry(attributes={'position': <BufferAttribute shape=(96, 3), dtype=float32>})\n"
     ]
    }
   ],
   "source": [
    "geometry = BufferGeometry(\n",
    "    attributes={'position': vertices})\n",
    "\n",
    "print(geometry)"
   ]
  },
  {
   "cell_type": "code",
   "execution_count": 64,
   "metadata": {},
   "outputs": [],
   "source": [
    "geometry.exec_three_obj_method('computeVertexNormals')\n",
    "\n",
    "mesh_3j = Mesh(geometry=geometry,\n",
    "           material=MeshLambertMaterial(color='red'),\n",
    "           position=[0,0,0])"
   ]
  },
  {
   "cell_type": "code",
   "execution_count": 65,
   "metadata": {},
   "outputs": [
    {
     "name": "stdout",
     "output_type": "stream",
     "text": [
      "BufferGeometry(attributes={'position': <BufferAttribute shape=(96, 3), dtype=float32>})\n"
     ]
    }
   ],
   "source": [
    "print(geometry)"
   ]
  },
  {
   "cell_type": "code",
   "execution_count": 66,
   "metadata": {},
   "outputs": [
    {
     "name": "stdout",
     "output_type": "stream",
     "text": [
      "<class 'pythreejs.objects.Mesh_autogen.Mesh'>\n"
     ]
    }
   ],
   "source": [
    "print(type(mesh_3j))"
   ]
  },
  {
   "cell_type": "code",
   "execution_count": 67,
   "metadata": {},
   "outputs": [
    {
     "name": "stderr",
     "output_type": "stream",
     "text": [
      "/opt/miniconda3/envs/csd2/lib/python3.9/site-packages/jupyter_client/session.py:716: UserWarning: Message serialization failed with:\n",
      "Out of range float values are not JSON compliant\n",
      "Supporting this message is deprecated in jupyter-client 7, please make sure your message is JSON-compliant\n",
      "  content = self.pack(content)\n"
     ]
    }
   ],
   "source": [
    "c = PerspectiveCamera(position=[0, 5, 5], up=[0, 1, 0],\n",
    "                      children=[DirectionalLight(color='white', position=[3, 5, 1], intensity=0.5)])\n",
    "\n",
    "scene=Scene(children=[mesh_3j,c, AmbientLight(color='#777777')])\n",
    "\n",
    "\n",
    "renderer = Renderer(camera=c, \n",
    "                    scene=scene,\n",
    "                    width=800,\n",
    "                    height=800,\n",
    "                    controls=[OrbitControls(controlling=c)])"
   ]
  },
  {
   "cell_type": "code",
   "execution_count": 68,
   "metadata": {},
   "outputs": [
    {
     "data": {
      "application/vnd.jupyter.widget-view+json": {
       "model_id": "pythree_example_model_102",
       "version_major": 2,
       "version_minor": 0
      },
      "text/plain": [
       "Renderer(camera=PerspectiveCamera(children=(DirectionalLight(color='white', intensity=0.5, matrixWorldNeedsUpd…"
      ]
     },
     "metadata": {},
     "output_type": "display_data"
    }
   ],
   "source": [
    "display(renderer)"
   ]
  }
 ],
 "metadata": {
  "interpreter": {
   "hash": "63fd85dfb4936940784d2f65806e398c40e310594de4f1d16dcf9dc75bad7692"
  },
  "kernelspec": {
   "display_name": "Python 3",
   "language": "python",
   "name": "python3"
  },
  "language_info": {
   "codemirror_mode": {
    "name": "ipython",
    "version": 3
   },
   "file_extension": ".py",
   "mimetype": "text/x-python",
   "name": "python",
   "nbconvert_exporter": "python",
   "pygments_lexer": "ipython3",
   "version": "3.9.9"
  }
 },
 "nbformat": 4,
 "nbformat_minor": 4
}
