{
 "cells": [
  {
   "cell_type": "code",
   "execution_count": 23,
   "metadata": {},
   "outputs": [
    {
     "name": "stdout",
     "output_type": "stream",
     "text": [
      "Materialisation Data Test\n"
     ]
    }
   ],
   "source": [
    "print('Materialisation Data Test')"
   ]
  },
  {
   "cell_type": "code",
   "execution_count": 25,
   "metadata": {},
   "outputs": [],
   "source": [
    "import os\n",
    "import compas\n",
    "from compas.datastructures import Mesh, mesh_bounding_box_xy\n",
    "from compas.geometry import Vector, Frame, Scale\n",
    "\n",
    "HERE = os.getcwd()\n",
    "\n",
    "FILE_I = os.path.join(HERE, 'blocks and ribs_RHINO', 'sessions', 'bm_vertical_equilibrium', 'simple_tripod.rv2')\n",
    "FILE_O1 = os.path.join(HERE, 'blocks and ribs_RHINO', 'data', 'form.json')\n",
    "FILE_O2 = os.path.join(HERE, 'blocks and ribs_RHINO', 'data', 'scaled_form.json')\n",
    "\n",
    "session = compas.json_load(FILE_I)\n",
    "\n",
    "mesh = Mesh.from_data(session['data']['form'])"
   ]
  },
  {
   "cell_type": "markdown",
   "metadata": {},
   "source": [
    "### to delete extra faces(more than 4 edges) if subdivided with catmulclark or other weird subdivision that connects the mesh with the ground"
   ]
  },
  {
   "cell_type": "code",
   "execution_count": 18,
   "metadata": {},
   "outputs": [],
   "source": [
    "delete_faces =[]\n",
    "\n",
    "for fkey in mesh.faces():\n",
    "    if len(mesh.face_vertices(fkey)) > 4:\n",
    "        delete_faces.append(fkey)\n",
    "\n",
    "for fkey in delete_faces:       \n",
    "    mesh.delete_face(fkey)\n",
    "    mesh.remove_unused_vertices()"
   ]
  },
  {
   "cell_type": "markdown",
   "metadata": {},
   "source": [
    "### scale up the form if needed"
   ]
  },
  {
   "cell_type": "code",
   "execution_count": 19,
   "metadata": {},
   "outputs": [],
   "source": [
    "scaled_mesh = mesh.copy()\n",
    "\n",
    "box_points = mesh_bounding_box_xy(scaled_mesh)\n",
    "base_mesh = scaled_mesh.from_points(box_points)\n",
    "centroid = base_mesh.centroid()\n",
    "#print (centroid)\n",
    "frame = Frame(centroid,Vector(1,0,0),Vector(0,1,0))\n",
    "\n",
    "S = Scale.from_factors([100, 100, 100], frame)\n",
    "scaled_mesh.transform(S)"
   ]
  },
  {
   "cell_type": "markdown",
   "metadata": {},
   "source": [
    "### Visualise and export Initial Mesh"
   ]
  },
  {
   "cell_type": "code",
   "execution_count": 24,
   "metadata": {},
   "outputs": [
    {
     "ename": "ModuleNotFoundError",
     "evalue": "No module named 'compas_view2'",
     "output_type": "error",
     "traceback": [
      "\u001b[1;31m---------------------------------------------------------------------------\u001b[0m",
      "\u001b[1;31mModuleNotFoundError\u001b[0m                       Traceback (most recent call last)",
      "Input \u001b[1;32mIn [24]\u001b[0m, in \u001b[0;36m<module>\u001b[1;34m\u001b[0m\n\u001b[0;32m      1\u001b[0m mesh\u001b[38;5;241m.\u001b[39mto_json(FILE_O1)\n\u001b[0;32m      2\u001b[0m scaled_mesh\u001b[38;5;241m.\u001b[39mto_json(FILE_O2)\n\u001b[1;32m----> 4\u001b[0m \u001b[38;5;28;01mfrom\u001b[39;00m \u001b[38;5;21;01mcompas_view2\u001b[39;00m\u001b[38;5;21;01m.\u001b[39;00m\u001b[38;5;21;01mapp\u001b[39;00m \u001b[38;5;28;01mimport\u001b[39;00m App\n\u001b[0;32m      5\u001b[0m viewer \u001b[38;5;241m=\u001b[39m App()\n\u001b[0;32m      6\u001b[0m viewer\u001b[38;5;241m.\u001b[39madd(cablenet_mesh)\n",
      "\u001b[1;31mModuleNotFoundError\u001b[0m: No module named 'compas_view2'"
     ]
    }
   ],
   "source": [
    "mesh.to_json(FILE_O1)\n",
    "scaled_mesh.to_json(FILE_O2)\n",
    "\n",
    "from compas_view2.app import App\n",
    "viewer = App()\n",
    "viewer.add(cablenet_mesh)\n",
    "viewer.run()"
   ]
  }
 ],
 "metadata": {
  "interpreter": {
   "hash": "767b8e31c1eec9ef327cc27a2a5d7df98b41c7cbc989a566ef8d39dcc483faec"
  },
  "kernelspec": {
   "display_name": "Python 3 (ipykernel)",
   "language": "python",
   "name": "python3"
  },
  "language_info": {
   "codemirror_mode": {
    "name": "ipython",
    "version": 3
   },
   "file_extension": ".py",
   "mimetype": "text/x-python",
   "name": "python",
   "nbconvert_exporter": "python",
   "pygments_lexer": "ipython3",
   "version": "3.10.2"
  }
 },
 "nbformat": 4,
 "nbformat_minor": 2
}
