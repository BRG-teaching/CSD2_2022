{
 "cells": [
  {
   "cell_type": "code",
   "execution_count": 1,
   "metadata": {},
   "outputs": [
    {
     "name": "stdout",
     "output_type": "stream",
     "text": [
      "Materialisation Data Test\n"
     ]
    }
   ],
   "source": [
    "print('Materialisation Data Test')"
   ]
  },
  {
   "cell_type": "code",
   "execution_count": 2,
   "metadata": {},
   "outputs": [],
   "source": [
    "import os\n",
    "import compas\n",
    "from compas.datastructures import Mesh, mesh_bounding_box_xy\n",
    "from compas.geometry import Vector, Frame, Scale\n",
    "\n",
    "HERE = os.getcwd()\n",
    "\n",
    "FILE_I = os.path.join(HERE, 'blocks and ribs_RHINO', 'sessions', 'bm_vertical_equilibrium', 'simple_tripod.rv2')\n",
    "FILE_O1 = os.path.join(HERE, 'blocks and ribs_RHINO', 'data', 'form.json')\n",
    "FILE_O2 = os.path.join(HERE, 'blocks and ribs_RHINO', 'data', 'scaled_form.json')\n",
    "\n",
    "session = compas.json_load(FILE_I)\n",
    "\n",
    "mesh = Mesh.from_data(session['data']['form'])"
   ]
  },
  {
   "cell_type": "markdown",
   "metadata": {},
   "source": [
    "### to delete extra faces(more than 4 edges) if subdivided with catmulclark or other weird subdivision that connects the mesh with the ground"
   ]
  },
  {
   "cell_type": "code",
   "execution_count": 3,
   "metadata": {},
   "outputs": [],
   "source": [
    "delete_faces =[]\n",
    "\n",
    "for fkey in mesh.faces():\n",
    "    if len(mesh.face_vertices(fkey)) > 4:\n",
    "        delete_faces.append(fkey)\n",
    "\n",
    "for fkey in delete_faces:       \n",
    "    mesh.delete_face(fkey)\n",
    "    mesh.remove_unused_vertices()"
   ]
  },
  {
   "cell_type": "markdown",
   "metadata": {},
   "source": [
    "### scale up the form if needed"
   ]
  },
  {
   "cell_type": "code",
   "execution_count": 4,
   "metadata": {},
   "outputs": [],
   "source": [
    "scaled_mesh = mesh.copy()\n",
    "\n",
    "box_points = mesh_bounding_box_xy(scaled_mesh)\n",
    "base_mesh = scaled_mesh.from_points(box_points)\n",
    "centroid = base_mesh.centroid()\n",
    "#print (centroid)\n",
    "frame = Frame(centroid,Vector(1,0,0),Vector(0,1,0))\n",
    "\n",
    "S = Scale.from_factors([100, 100, 100], frame)\n",
    "scaled_mesh.transform(S)"
   ]
  },
  {
   "cell_type": "markdown",
   "metadata": {},
   "source": [
    "### Visualise and export Initial Mesh"
   ]
  },
  {
   "cell_type": "code",
   "execution_count": 5,
   "metadata": {},
   "outputs": [
    {
     "name": "stdout",
     "output_type": "stream",
     "text": [
      "<Mesh with 37 vertices, 24 faces, 60 edges>\n"
     ]
    }
   ],
   "source": [
    "mesh.to_json(FILE_O1)\n",
    "scaled_mesh.to_json(FILE_O2)\n",
    "\n",
    "print(mesh)"
   ]
  },
  {
   "cell_type": "code",
   "execution_count": 6,
   "metadata": {},
   "outputs": [
    {
     "name": "stdout",
     "output_type": "stream",
     "text": [
      "[[-4.223588094538546, -2.049343512703559, 11.75487914807182], [3.3168890776086184, -0.29503424492501495, 14.727819542584887], [-4.305358833080639, 8.309585822394906, 10.17640364037847], [-7.479312274451397, 6.859611040439988, 8.334298209825157], [-4.305358833080639, 8.309585822394906, 10.17640364037847], [-10.705645161290324, 15.92741935483871, 0.0], [-11.9007168252293, 15.10626581888064, 0.0], [-7.479312274451397, 6.859611040439988, 8.334298209825157], [-11.9007168252293, 15.10626581888064, 0.0], [-13.095788489168275, 14.285112282922572, 0.0], [-9.487585344957099, 6.071936033187963, 5.364442791079558], [-7.479312274451397, 6.859611040439988, 8.334298209825157], [-9.487585344957099, 6.071936033187963, 5.364442791079558], [-7.348177668464897, -2.7173239661514548, 7.5029938028193035], [-4.223588094538546, -2.049343512703559, 11.75487914807182], [-7.479312274451397, 6.859611040439988, 8.334298209825157], [5.99353911452859, 6.19208075151476, 11.503994506875527], [3.3168890776086184, -0.29503424492501495, 14.727819542584887], [16.207620220466968, 3.4433146390599068, 10.547679138694978], [16.325436936214732, 6.403473868581464, 8.344654638991253], [16.207620220466968, 3.4433146390599068, 10.547679138694978], [27.31854838709678, 7.056451612903227, 0.0], [26.73106786848563, 8.382104679062955, 0.0], [16.325436936214732, 6.403473868581464, 8.344654638991253], [26.73106786848563, 8.382104679062955, 0.0], [26.143587349874483, 9.707757745222683, 0.0], [16.369520541377753, 7.596395404688231, 6.665962599718423], [16.325436936214732, 6.403473868581464, 8.344654638991253], [16.369520541377753, 7.596395404688231, 6.665962599718423], [6.685197418480475, 7.913536243176651, 9.37090383117994], [5.99353911452859, 6.19208075151476, 11.503994506875527], [16.325436936214732, 6.403473868581464, 8.344654638991253], [8.158548979430396, -5.420329682885874, 13.257094068175222], [3.3168890776086184, -0.29503424492501495, 14.727819542584887], [-1.9294269211550636, -12.245513486930228, 10.50843944668955], [0.9418966861015068, -14.102070241972992, 9.432166081597474], [-1.9294269211550636, -12.245513486930228, 10.50843944668955], [-6.59274193548387, -22.540322580645164, 0.0], [-5.297501359829306, -23.192121063877785, 0.0], [0.9418966861015068, -14.102070241972992, 9.432166081597474], [-5.297501359829306, -23.192121063877785, 0.0], [-4.002260784174742, -23.843919547110403, 0.0], [2.8359660459600002, -15.550316734198093, 5.254973820898563], [0.9418966861015068, -14.102070241972992, 9.432166081597474], [2.8359660459600002, -15.550316734198093, 5.254973820898563], [10.505803673063719, -7.892581564325436, 7.361776481406822], [8.158548979430396, -5.420329682885874, 13.257094068175222], [0.9418966861015068, -14.102070241972992, 9.432166081597474], [-9.510573497351348, 16.74857289079678, 0.0], [-10.705645161290324, 15.92741935483871, 0.0], [-4.305358833080639, 8.309585822394906, 10.17640364037847], [-2.35336697418946, 10.74634713922594, 8.215366394202327], [-4.305358833080639, 8.309585822394906, 10.17640364037847], [3.3168890776086184, -0.29503424492501495, 14.727819542584887], [5.99353911452859, 6.19208075151476, 11.503994506875527], [-2.35336697418946, 10.74634713922594, 8.215366394202327], [5.99353911452859, 6.19208075151476, 11.503994506875527], [6.685197418480475, 7.913536243176651, 9.37090383117994], [-1.5910746808544416, 11.735149092197313, 6.6341145665105286], [-2.35336697418946, 10.74634713922594, 8.215366394202327], [-1.5910746808544416, 11.735149092197313, 6.6341145665105286], [-8.315501833412373, 17.569726426754848, 0.0], [-9.510573497351348, 16.74857289079678, 0.0], [-2.35336697418946, 10.74634713922594, 8.215366394202327], [27.906028905707927, 5.730798546743499, 0.0], [27.31854838709678, 7.056451612903227, 0.0], [16.207620220466968, 3.4433146390599068, 10.547679138694978], [17.869606480947738, 0.6083673196799507, 9.367713345164582], [16.207620220466968, 3.4433146390599068, 10.547679138694978], [3.3168890776086184, -0.29503424492501495, 14.727819542584887], [8.158548979430396, -5.420329682885874, 13.257094068175222], [17.869606480947738, 0.6083673196799507, 9.367713345164582], [8.158548979430396, -5.420329682885874, 13.257094068175222], [10.505803673063719, -7.892581564325436, 7.361776481406822], [19.206227818185663, -1.320314224197729, 5.270032040832946], [17.869606480947738, 0.6083673196799507, 9.367713345164582], [19.206227818185663, -1.320314224197729, 5.270032040832946], [28.493509424319075, 4.405145480583772, 0.0], [27.906028905707927, 5.730798546743499, 0.0], [17.869606480947738, 0.6083673196799507, 9.367713345164582], [-7.887982511138435, -21.888524097412542, 0.0], [-6.59274193548387, -22.540322580645164, 0.0], [-1.9294269211550636, -12.245513486930228, 10.50843944668955], [-5.38375151284651, -12.044626880177754, 8.469455382504629], [-1.9294269211550636, -12.245513486930228, 10.50843944668955], [3.3168890776086184, -0.29503424492501495, 14.727819542584887], [-4.223588094538546, -2.049343512703559, 11.75487914807182], [-5.38375151284651, -12.044626880177754, 8.469455382504629], [-4.223588094538546, -2.049343512703559, 11.75487914807182], [-7.348177668464897, -2.7173239661514548, 7.5029938028193035], [-7.494008524553994, -11.995126423664688, 5.330874543648329], [-5.38375151284651, -12.044626880177754, 8.469455382504629], [-7.494008524553994, -11.995126423664688, 5.330874543648329], [-9.183223086793, -21.236725614179925, 0.0], [-7.887982511138435, -21.888524097412542, 0.0], [-5.38375151284651, -12.044626880177754, 8.469455382504629]]\n"
     ]
    }
   ],
   "source": [
    "from pythreejs import *\n",
    "import numpy as np\n",
    "from IPython.display import display\n",
    "\n",
    "vertices = []\n",
    "for face in mesh.faces():\n",
    "    for v in mesh.face_vertices(face):\n",
    "        xyz = mesh.vertex_attributes(v, \"xyz\")\n",
    "        vertices.append(xyz)\n",
    "\n",
    "print(vertices)"
   ]
  },
  {
   "cell_type": "code",
   "execution_count": 7,
   "metadata": {},
   "outputs": [],
   "source": [
    "vertices = BufferAttribute(\n",
    "    array = np.array(vertices,dtype=np.float32),\n",
    "    normalized = False)\n",
    "\n",
    "geometry = BufferGeometry(\n",
    "    attribute={'position': vertices})\n",
    "\n",
    "geometry.exec_three_obj_method('computeVertexNormals')\n",
    "\n",
    "mesh_3j = Mesh(geometry=geometry,\n",
    "           material=MeshPhongMaterial(color='#0092D2'),\n",
    "           position=[0,0,0])"
   ]
  },
  {
   "cell_type": "code",
   "execution_count": 8,
   "metadata": {},
   "outputs": [
    {
     "data": {
      "application/vnd.jupyter.widget-view+json": {
       "model_id": "1522e62f24ac44e181490427208de987",
       "version_major": 2,
       "version_minor": 0
      },
      "text/plain": [
       "Renderer(camera=PerspectiveCamera(children=(DirectionalLight(color='white', intensity=0.5, position=(3.0, 5.0,…"
      ]
     },
     "metadata": {},
     "output_type": "display_data"
    },
    {
     "name": "stdout",
     "output_type": "stream",
     "text": [
      "BufferGeometry()\n"
     ]
    }
   ],
   "source": [
    "c = PerspectiveCamera(position = [0, 5, 5], up = [0, 1, 0],\n",
    "                     children=[DirectionalLight(color='white', position=[3,5,1], intensity=0.5)])\n",
    "\n",
    "scene=Scene(children=[mesh_3j,c, AmbientLight(color='#777777')])\n",
    "\n",
    "renderer = Renderer(camera=c, scene=scene, controls=[OrbitControls(controlling=c)],\n",
    "                   width=800, height=600)\n",
    "display(renderer)\n",
    "\n",
    "print(geometry)"
   ]
  },
  {
   "cell_type": "code",
   "execution_count": 10,
   "metadata": {},
   "outputs": [
    {
     "data": {
      "application/vnd.jupyter.widget-view+json": {
       "model_id": "pythree_example_model_002",
       "version_major": 2,
       "version_minor": 0
      },
      "text/plain": [
       "Preview(child=BoxGeometry(depth=15.0, depthSegments=15, height=10.0, heightSegments=10, width=5.0, widthSegmen…"
      ]
     },
     "metadata": {},
     "output_type": "display_data"
    }
   ],
   "source": [
    "from pythreejs._example_helper import use_example_model_ids\n",
    "use_example_model_ids()\n",
    "BoxGeometry(\n",
    "    width=5,\n",
    "    height=10,\n",
    "    depth=15,\n",
    "    widthSegments=5,\n",
    "    heightSegments=10,\n",
    "    depthSegments=15)"
   ]
  },
  {
   "cell_type": "code",
   "execution_count": null,
   "metadata": {},
   "outputs": [],
   "source": []
  }
 ],
 "metadata": {
  "interpreter": {
   "hash": "767b8e31c1eec9ef327cc27a2a5d7df98b41c7cbc989a566ef8d39dcc483faec"
  },
  "kernelspec": {
   "display_name": "Python 3.9.9 64-bit ('csd2': conda)",
   "language": "python",
   "name": "python399jvsc74a57bd05e897d0e4e978ef05e1a63d69df614a45a680d18e8ec0fd527b8776f3a2cd736"
  },
  "language_info": {
   "codemirror_mode": {
    "name": "ipython",
    "version": 3
   },
   "file_extension": ".py",
   "mimetype": "text/x-python",
   "name": "python",
   "nbconvert_exporter": "python",
   "pygments_lexer": "ipython3",
   "version": "3.9.9"
  }
 },
 "nbformat": 4,
 "nbformat_minor": 2
}
