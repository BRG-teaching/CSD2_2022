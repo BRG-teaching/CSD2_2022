{
 "cells": [
  {
   "cell_type": "markdown",
   "metadata": {},
   "source": [
    "# Computational Structural Design II - Materialisation\n",
    "\n",
    "### Learning Goal: \n",
    "- \n",
    "\n",
    "\n",
    "### Content:\n",
    "- 00. Load Thrustdiagram\n",
    "- 01. Triangulation\n",
    "- 02. Remesh\n",
    "- 03. Dual\n",
    "- 04. Boundary Dual Faces\n",
    "- 05. Offsets\n",
    "- 06. Blocks\n",
    "- 07. Flat Top\n",
    "\n",
    "### Google Colab: \n",
    "\n",
    "\n",
    "\n",
    "---\n"
   ]
  },
  {
   "cell_type": "code",
   "execution_count": 6,
   "metadata": {},
   "outputs": [],
   "source": [
    "# % pip install compas_notebook"
   ]
  },
  {
   "cell_type": "markdown",
   "metadata": {},
   "source": [
    "---\n",
    "# 0. Load Thrustdiagram"
   ]
  },
  {
   "cell_type": "code",
   "execution_count": 7,
   "metadata": {},
   "outputs": [
    {
     "ename": "ModuleNotFoundError",
     "evalue": "No module named 'google'",
     "output_type": "error",
     "traceback": [
      "\u001b[0;31m---------------------------------------------------------------------------\u001b[0m",
      "\u001b[0;31mModuleNotFoundError\u001b[0m                       Traceback (most recent call last)",
      "\u001b[0;32m<ipython-input-7-fc1db268906c>\u001b[0m in \u001b[0;36m<module>\u001b[0;34m\u001b[0m\n\u001b[1;32m      1\u001b[0m \u001b[0;32mimport\u001b[0m \u001b[0mos\u001b[0m\u001b[0;34m\u001b[0m\u001b[0;34m\u001b[0m\u001b[0m\n\u001b[1;32m      2\u001b[0m \u001b[0;32mimport\u001b[0m \u001b[0mcompas\u001b[0m\u001b[0;34m\u001b[0m\u001b[0;34m\u001b[0m\u001b[0m\n\u001b[0;32m----> 3\u001b[0;31m \u001b[0;32mfrom\u001b[0m \u001b[0mgoogle\u001b[0m\u001b[0;34m.\u001b[0m\u001b[0mcolab\u001b[0m \u001b[0;32mimport\u001b[0m \u001b[0mdrive\u001b[0m\u001b[0;34m\u001b[0m\u001b[0;34m\u001b[0m\u001b[0m\n\u001b[0m\u001b[1;32m      4\u001b[0m \u001b[0;34m\u001b[0m\u001b[0m\n\u001b[1;32m      5\u001b[0m \u001b[0;32mfrom\u001b[0m \u001b[0mcompas\u001b[0m\u001b[0;34m.\u001b[0m\u001b[0mdatastructures\u001b[0m  \u001b[0;32mimport\u001b[0m \u001b[0mMesh\u001b[0m\u001b[0;34m\u001b[0m\u001b[0;34m\u001b[0m\u001b[0m\n",
      "\u001b[0;31mModuleNotFoundError\u001b[0m: No module named 'google'"
     ]
    }
   ],
   "source": [
    "import os\n",
    "import compas\n",
    "from google.colab import drive\n",
    "from google.colab import files\n",
    "\n",
    "from compas.datastructures  import Mesh\n",
    "from compas_notebook.app import App\n",
    "\n",
    "\n",
    "# 1. load thrust json from rv2\n",
    "thrust_from_rv2 = \"https://raw.githubusercontent.com/BlockResearchGroup/CSD2_2022/main/3_Materialization/Tutorial7/scripts/data/square_base_thrust.json\"\n",
    "thrustdiagram_from_rv2 = compas.json_load(thrust_from_rv2)\n",
    "\n",
    "\n",
    "# 2. extract thrustdiagram data\n",
    "thrust_data = thrustdiagram_from_rv2['data']['thrust']\n",
    "\n",
    "\n",
    "# 3. recreate thrustdiagram as a mesh from thrustdiagram data\n",
    "thrust_mesh = Mesh.from_data(thrust_data)\n",
    "\n",
    "\n",
    "# 4. export mesh data to a new file in google drive\n",
    "\n",
    "filename = '00_thrust_mesh.json'\n",
    "\n",
    "# saving to google drive\n",
    "drive.mount('/content/drive')\n",
    "dirname = '/content/drive/My Drive/Colab Notebooks'\n",
    "googledrive_path = os.path.join(dirname, filename)\n",
    "compas.json_dump(thrust_mesh, googledrive_path, pretty=True)\n",
    "\n",
    "# # saving to local\n",
    "# compas.json_dump(thrust_mesh, filename, pretty=True)\n",
    "# files.download(filename)\n",
    "\n",
    "\n",
    "# 5. visualise the mesh\n",
    "viewer = App()\n",
    "viewer.add(thrust_mesh)\n",
    "viewer.show()"
   ]
  },
  {
   "cell_type": "markdown",
   "metadata": {},
   "source": [
    "---\n",
    "# 1. Triangulation"
   ]
  },
  {
   "cell_type": "code",
   "execution_count": null,
   "metadata": {},
   "outputs": [],
   "source": [
    "import os\n",
    "import compas\n",
    "from google.colab import files\n",
    "\n",
    "from compas.datastructures  import Mesh\n",
    "from compas_notebook.app import App\n",
    "\n",
    "\n",
    "# folder location\n",
    "dirname = '/content/drive/My Drive/Colab Notebooks'\n",
    "\n",
    "\n",
    "# 1. load thrust_mesh from step 0\n",
    "file_in_name = '00_thrust_mesh.json'\n",
    "file_in_path = os.path.join(dirname, file_in_name)\n",
    "thrust_mesh: Mesh = compas.json_load(file_in_path)\n",
    "\n",
    "\n",
    "# 2. triangulate the quad faces of the thrust_mesh\n",
    "tri_mesh = thrust_mesh.copy()\n",
    "tri_mesh.quads_to_triangles()\n",
    "\n",
    "\n",
    "# 3. export triangulated mesh data to a new file\n",
    "file_out_name = '01_triangulated_mesh.json'\n",
    "file_out_path = os.path.join(dirname, file_out_name)\n",
    "compas.json_dump(tri_mesh, file_out_path, pretty=True)\n",
    "\n",
    "\n",
    "# 4. visualise the mesh\n",
    "viewer = App()\n",
    "viewer.add(thrust_mesh)\n",
    "viewer.add(tri_mesh)\n",
    "viewer.show()"
   ]
  },
  {
   "cell_type": "markdown",
   "metadata": {},
   "source": [
    "---\n",
    "# 2. Remesh"
   ]
  },
  {
   "cell_type": "code",
   "execution_count": null,
   "metadata": {},
   "outputs": [],
   "source": [
    "import os\n",
    "import compas\n",
    "\n",
    "from compas.datastructures  import Mesh\n",
    "from compas_notebook.app import App\n",
    "\n",
    "from compas.datastructures import trimesh_remesh\n",
    "from compas.datastructures import trimesh_pull_points_numpy\n",
    "\n",
    "\n",
    "# folder location\n",
    "dirname = '/content/drive/My Drive/Colab Notebooks'\n",
    "\n",
    "\n",
    "# 1. load triangulated mesh from step 1\n",
    "file_in_name = '01_triangulated_mesh.json'\n",
    "file_in_path = os.path.join(dirname, file_in_name)\n",
    "trimesh: Mesh = compas.json_load(file_in_path)\n",
    "\n",
    "\n",
    "# 2. remesh the triangulated mesh\n",
    "\n",
    "# function for projecting back to the original mesh\n",
    "def project(k, callback_args=None):\n",
    "    xyz = remeshed.vertices_attributes(\"xyz\")\n",
    "    xyz = trimesh_pull_points_numpy(trimesh, xyz)\n",
    "    for index, vertex in enumerate(remeshed.vertices()):\n",
    "        remeshed.vertex_attributes(vertex, \"xyz\", xyz[index])\n",
    "\n",
    "# remeshing\n",
    "remeshed = trimesh.copy()\n",
    "lengths = [trimesh.edge_length(*edge) for edge in trimesh.edges()]\n",
    "length = sum(lengths) / trimesh.number_of_edges()\n",
    "\n",
    "for i in range(5):\n",
    "    trimesh_remesh(\n",
    "        remeshed,\n",
    "        kmax=30,\n",
    "        target=0.3 * length,\n",
    "        allow_boundary_split=True,\n",
    "        allow_boundary_swap=True,\n",
    "        allow_boundary_collapse=True,\n",
    "    )\n",
    "    project(i)\n",
    "\n",
    "\n",
    "# 3. smooth and project to original triangulated mesh\n",
    "remeshed.smooth_area(fixed=remeshed.vertices_on_boundary(), kmax=50, callback=project)\n",
    "\n",
    "\n",
    "# 4. export remshed mesh data to a new file\n",
    "file_out_name = '02_remeshed_mesh.json'\n",
    "file_out_path = os.path.join(dirname, file_out_name)\n",
    "compas.json_dump(remeshed, file_out_path, pretty=True)\n",
    "\n",
    "\n",
    "# 5. visualise the mesh\n",
    "viewer = App()\n",
    "viewer.add(remeshed)\n",
    "viewer.show()"
   ]
  },
  {
   "cell_type": "markdown",
   "metadata": {},
   "source": [
    "---\n",
    "# 3. Dual"
   ]
  },
  {
   "cell_type": "code",
   "execution_count": null,
   "metadata": {},
   "outputs": [],
   "source": [
    "import os\n",
    "import compas\n",
    "\n",
    "from compas.datastructures  import Mesh\n",
    "from compas_notebook.app import App\n",
    "\n",
    "\n",
    "# folder location\n",
    "dirname = '/content/drive/My Drive/Colab Notebooks'\n",
    "\n",
    "\n",
    "# 1. load remeshed_mesh from step 2\n",
    "file_in_name = '02_remeshed_mesh.json'\n",
    "file_in_path = os.path.join(dirname, file_in_name)\n",
    "remeshed: Mesh = compas.json_load(file_in_path)\n",
    "\n",
    "\n",
    "# 2. make dual mesh\n",
    "dual_mesh: Mesh = remeshed.dual()\n",
    "\n",
    "\n",
    "# 3. export dual mesh data to a new file\n",
    "file_out_name = '03_dual_mesh.json'\n",
    "file_out_path = os.path.join(dirname, file_out_name)\n",
    "compas.json_dump(dual_mesh, file_out_path, pretty=True)\n",
    "\n",
    "\n",
    "# 4. visualise the mesh3\n",
    "viewer = App()\n",
    "viewer.add(dual_mesh)\n",
    "viewer.show()"
   ]
  },
  {
   "cell_type": "markdown",
   "metadata": {},
   "source": [
    "--- \n",
    "# 4. Boundary Dual Faces"
   ]
  },
  {
   "cell_type": "code",
   "execution_count": null,
   "metadata": {},
   "outputs": [],
   "source": []
  },
  {
   "cell_type": "markdown",
   "metadata": {},
   "source": [
    "---\n",
    "# 5. Offsets "
   ]
  },
  {
   "cell_type": "code",
   "execution_count": null,
   "metadata": {},
   "outputs": [],
   "source": []
  },
  {
   "cell_type": "markdown",
   "metadata": {},
   "source": [
    "---\n",
    "# 6. Blocks"
   ]
  },
  {
   "cell_type": "code",
   "execution_count": null,
   "metadata": {},
   "outputs": [],
   "source": []
  },
  {
   "cell_type": "markdown",
   "metadata": {},
   "source": [
    "---\n",
    "# 7. Flat Tops"
   ]
  },
  {
   "cell_type": "code",
   "execution_count": null,
   "metadata": {},
   "outputs": [],
   "source": []
  }
 ],
 "metadata": {
  "interpreter": {
   "hash": "767b8e31c1eec9ef327cc27a2a5d7df98b41c7cbc989a566ef8d39dcc483faec"
  },
  "kernelspec": {
   "display_name": "Python 3",
   "language": "python",
   "name": "python3"
  },
  "language_info": {
   "codemirror_mode": {
    "name": "ipython",
    "version": 3
   },
   "file_extension": ".py",
   "mimetype": "text/x-python",
   "name": "python",
   "nbconvert_exporter": "python",
   "pygments_lexer": "ipython3",
   "version": "3.9.10"
  }
 },
 "nbformat": 4,
 "nbformat_minor": 4
}
