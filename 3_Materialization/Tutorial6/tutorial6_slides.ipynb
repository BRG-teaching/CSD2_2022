{
 "cells": [
  {
   "cell_type": "markdown",
   "metadata": {
    "slideshow": {
     "slide_type": "slide"
    }
   },
   "source": [
    "# Computational Structural Design II - Mesh Datastructure II\n",
    "\n",
    "### Learning Goal: \n",
    "- Mesh and half-edge data structure\n",
    "- How to solve topological questions\n",
    "- Mesh Attributes\n",
    "\n",
    "\n",
    "### Content:\n",
    "- A. Half-edge Datastucture\n",
    "- B. Topology: Vertex, Face, Edge\n",
    "- C. Mesh Attributes\n",
    "- D. Exercise: Running Bond Barrel Vault\n",
    "\n",
    "---\n"
   ]
  },
  {
   "cell_type": "code",
   "execution_count": null,
   "metadata": {
    "slideshow": {
     "slide_type": "slide"
    }
   },
   "outputs": [],
   "source": [
    "# ! pip install compas_notebook"
   ]
  },
  {
   "cell_type": "markdown",
   "metadata": {
    "slideshow": {
     "slide_type": "slide"
    }
   },
   "source": [
    "# A. Mesh and Half-Edge Datastructure\n",
    "\n",
    "## A_1. COMPAS Mesh and Half-edge Datastructure\n",
    "A mesh can be constructed from vertex and face information. However, how can we answer the **topological questions**? </br>\n",
    "e.g. Which vertices are connected with vertex 4? Which faces are surrounding vertex 4? \n",
    "\n",
    "<img src=\"../Tutorial5/img/week5_2.png\" width=\"500\" style=\"margin-left:auto; margin-right:auto\"/>\n",
    "</br>\n",
    "\n"
   ]
  },
  {
   "cell_type": "code",
   "execution_count": null,
   "metadata": {
    "slideshow": {
     "slide_type": "slide"
    }
   },
   "outputs": [],
   "source": [
    "from compas.datastructures import Mesh\n",
    "from compas_plotters import Plotter\n",
    "\n",
    "vertices = [[0, 0, 0], [2.5, 0, 0], [4, 0, 0],\n",
    "         [0, 2, 0], [1.5, 2, 0], [4, 2, 0],\n",
    "         [0, 4, 0], [2.5, 4, 0], [4, 4, 0]]\n",
    "\n",
    "faces = [[0, 1, 4, 3], [1, 2, 5, 4], [3, 4, 7, 6], [4, 5, 8, 7]]\n",
    "\n",
    "mesh = Mesh.from_vertices_and_faces(vertices, faces)\n",
    "\n",
    "vertex_color = {4: (1.0, 0.0, 0.0)}\n",
    "\n",
    "plotter = Plotter()\n",
    "\n",
    "meshartist = plotter.add(mesh, vertexsize=1, vertexcolor=vertex_color)\n",
    "meshartist.draw_vertexlabels() # show vertex labels\n",
    "meshartist.draw_edgelabels() # show edge labels\n",
    "meshartist.draw_facelabels() # show face labels\n",
    "\n",
    "plotter.zoom_extents()\n",
    "plotter.show()"
   ]
  },
  {
   "cell_type": "markdown",
   "metadata": {
    "slideshow": {
     "slide_type": "slide"
    }
   },
   "source": [
    "In COMPAS, meshes are presented using a half-edge data structure. In a half-edge data structure, each **edge** is composed of **a pair of half-edge twins** that point at opposite orientations. "
   ]
  },
  {
   "cell_type": "code",
   "execution_count": null,
   "metadata": {
    "slideshow": {
     "slide_type": "slide"
    }
   },
   "outputs": [],
   "source": [
    "from compas.datastructures import Mesh\n",
    "from compas_plotters import Plotter\n",
    "\n",
    "vertices = [[0, 0, 0], [2.5, 0, 0], [4, 0, 0],\n",
    "         [0, 2, 0], [1.5, 2, 0], [4, 2, 0],\n",
    "         [0, 4, 0], [2.5, 4, 0], [4, 4, 0]]\n",
    "\n",
    "faces = [[0, 1, 4, 3], [1, 2, 5, 4], [3, 4, 7, 6], [4, 5, 8, 7]]\n",
    "\n",
    "mesh = Mesh.from_vertices_and_faces(vertices, faces)\n",
    "\n",
    "vertex_color = {4: (1.0, 0.0, 0.0)}\n",
    "\n",
    "plotter = Plotter()\n",
    "\n",
    "meshartist = plotter.add(mesh, vertexsize=1, vertexcolor=vertex_color)\n",
    "meshartist.draw_vertexlabels()\n",
    "meshartist.draw_edgelabels()\n",
    "meshartist.draw_facelabels()\n",
    "# show halfedges\n",
    "\n",
    "plotter.zoom_extents()\n",
    "plotter.show()"
   ]
  },
  {
   "cell_type": "markdown",
   "metadata": {
    "slideshow": {
     "slide_type": "slide"
    }
   },
   "source": [
    "`mesh.half_edge` tells the half edge information. A vertex stores a reference to a half-edge that originates from that vertex, and the face that half-edge belongs to. For an edge on the boundary, one of the half-edge pairs belongs to an non-existing `None` face.\n",
    "\n",
    "| u | v | fkey |\n",
    "| :---: | :---: | :---: |\n",
    "| 0 | 1 | 0 |\n",
    "|   | 3 | None |\n",
    "| 1 | 0 | None |\n",
    "|   | 4 | 0 |\n",
    "|   | 2 | 1 |\n",
    "| 2 | 1 | None |\n",
    "|   | 5 | 1 |\n",
    "| 3 | 4 | 2 |\n",
    "|   | 0 | 0 |\n",
    "|   | 6 | None |\n",
    "| 4 | 1 | 1 |\n",
    "|   | 3 | 0 |\n",
    "|   | 5 | 3 |\n",
    "|   | 7 | 2 |\n",
    "| 5 | 2 | None |\n",
    "|   | 4 | 1 |\n",
    "|   | 8 | 3 |\n",
    "| 6 | 7 | None |\n",
    "|   | 3 | 2 |\n",
    "| 7 | 4 | 3 |\n",
    "|   | 6 | 2 |\n",
    "|   | 8 | None |\n",
    "| 8 | 5 | None |\n",
    "|   | 7 | 3 |"
   ]
  },
  {
   "cell_type": "code",
   "execution_count": null,
   "metadata": {
    "slideshow": {
     "slide_type": "slide"
    }
   },
   "outputs": [],
   "source": [
    "print(mesh.halfedge) # get halfedge information\n"
   ]
  },
  {
   "cell_type": "markdown",
   "metadata": {
    "slideshow": {
     "slide_type": "slide"
    }
   },
   "source": [
    "Find the half-edges whose corresponding faces are `None` and not `None`. Assign different colors to them. "
   ]
  },
  {
   "cell_type": "code",
   "execution_count": null,
   "metadata": {
    "slideshow": {
     "slide_type": "slide"
    }
   },
   "outputs": [],
   "source": [
    "from compas.datastructures import Mesh\n",
    "from compas_plotters import Plotter\n",
    "\n",
    "vertices = [[0, 0, 0], [2.5, 0, 0], [4, 0, 0],\n",
    "         [0, 2, 0], [1.5, 2, 0], [4, 2, 0],\n",
    "         [0, 4, 0], [2.5, 4, 0], [4, 4, 0]]\n",
    "\n",
    "faces = [[0, 1, 4, 3], [1, 2, 5, 4], [3, 4, 7, 6], [4, 5, 8, 7]]\n",
    "\n",
    "mesh = Mesh.from_vertices_and_faces(vertices, faces)\n",
    "\n",
    "vertex_color = {4: (1.0, 0.0, 0.0)}\n",
    "halfedge_color = {}\n",
    "\n",
    "for u, v in mesh.edges():\n",
    "    # add your code here\n",
    "    pass\n",
    "\n",
    "plotter = Plotter()\n",
    "meshartist = plotter.add(mesh, vertexsize=1, vertexcolor=vertex_color)\n",
    "meshartist.draw_vertexlabels()\n",
    "meshartist.draw_edgelabels()\n",
    "meshartist.draw_facelabels()\n",
    "meshartist.draw_halfedges(color=halfedge_color)\n",
    "plotter.zoom_extents()\n",
    "plotter.show()"
   ]
  },
  {
   "cell_type": "markdown",
   "metadata": {
    "slideshow": {
     "slide_type": "slide"
    }
   },
   "source": [
    "## A_2. Twin, Next, and Previous Half-edges"
   ]
  },
  {
   "cell_type": "markdown",
   "metadata": {},
   "source": [
    "In the Polygon, the line segments form a continuous cycle, connecting the vertices in order. These directed line segments are called half-edge. If an edge is shared by two faces, it can be decomposed into 2 twin half-edges, which have the opposite directions and each face can have a half-edge. The half-edge adjacencies define the connectivity of faces. \n",
    "\n",
    "\n",
    "<img src=\"https://files.gitbook.com/v0/b/gitbook-legacy-files/o/assets%2F-M730QpQnbAMvz44bqhc%2F-MOH3yDnBEO8NEXs8leP%2F-MOHIkRqhipSVWxsGy4m%2Fimage.png?alt=media&token=b585d605-e4c7-4689-935d-5b6623fe679d\" width=\"500\" style=\"margin-left:auto; margin-right:auto\"/>\n",
    "</br>\n"
   ]
  },
  {
   "cell_type": "markdown",
   "metadata": {
    "slideshow": {
     "slide_type": "slide"
    }
   },
   "source": [
    "### A_2a. Twin Half-Edges\n",
    "With a pair of twin half-edges, the two faces share the edge can be found.\n",
    "\n",
    "Find the twin half-edges between vertex `4` and vertex `7`, and the faces."
   ]
  },
  {
   "cell_type": "code",
   "execution_count": null,
   "metadata": {
    "slideshow": {
     "slide_type": "slide"
    }
   },
   "outputs": [],
   "source": [
    "from compas.datastructures import Mesh\n",
    "from compas_plotters import Plotter\n",
    "\n",
    "vertices = [[0, 0, 0], [2.5, 0, 0], [4, 0, 0],\n",
    "         [0, 2, 0], [1.5, 2, 0], [4, 2, 0],\n",
    "         [0, 4, 0], [2.5, 4, 0], [4, 4, 0]]\n",
    "\n",
    "faces = [[0, 1, 4, 3], [1, 2, 5, 4], [3, 4, 7, 6], [4, 5, 8, 7]]\n",
    "\n",
    "mesh = Mesh.from_vertices_and_faces(vertices, faces)\n",
    "\n",
    "u, v = 4, 7\n",
    "vertex_color = {u: (1.0, 0.0, 0.0), v: (0.0, 0.0, 1.0)}\n",
    "\n",
    "halfedges = []\n",
    "face_color = {}\n",
    "halfedge_color = {}\n",
    "\n",
    "\n",
    "plotter = Plotter()\n",
    "meshartist = plotter.add(mesh, vertexsize=1, vertexcolor=vertex_color, facecolor=face_color)\n",
    "meshartist.draw_vertexlabels()\n",
    "meshartist.draw_facelabels()\n",
    "# meshartist.draw_halfedges(halfedges=halfedges, color=halfedge_color)\n",
    "plotter.zoom_extents()\n",
    "plotter.show()"
   ]
  },
  {
   "cell_type": "markdown",
   "metadata": {
    "slideshow": {
     "slide_type": "slide"
    }
   },
   "source": [
    "### A_2a. Next Half-Edges\n",
    "Using the half-edges, we can easily find the vertices that are connected with the current half edges. However, the half-edge uses a dictionary to store the information, these neighbouring vertices are not in the cycling order of the faces. "
   ]
  },
  {
   "cell_type": "code",
   "execution_count": null,
   "metadata": {
    "slideshow": {
     "slide_type": "slide"
    }
   },
   "outputs": [],
   "source": [
    "from compas.datastructures import Mesh\n",
    "from compas_plotters import Plotter\n",
    "\n",
    "vertices = [[0, 0, 0], [2.5, 0, 0], [4, 0, 0],\n",
    "         [0, 2, 0], [1.5, 2, 0], [4, 2, 0],\n",
    "         [0, 4, 0], [2.5, 4, 0], [4, 4, 0]]\n",
    "\n",
    "faces = [[0, 1, 4, 3], [1, 2, 5, 4], [3, 4, 7, 6], [4, 5, 8, 7]]\n",
    "\n",
    "mesh = Mesh.from_vertices_and_faces(vertices, faces)\n",
    "\n",
    "vkey = 4\n",
    "\n",
    "vertex_color = {vkey: (1.0, 0.0, 0.0)}\n",
    "edge_color = {}\n",
    "edge_width = {}\n",
    "\n",
    "# find neighbour of a vertex\n",
    "\n",
    "plotter = Plotter()\n",
    "meshartist = plotter.add(mesh, vertexsize=1, vertexcolor=vertex_color, edgecolor=edge_color, edgewidth=edge_width)\n",
    "meshartist.draw_vertexlabels()\n",
    "meshartist.draw_facelabels()\n",
    "plotter.zoom_extents()\n",
    "plotter.show()"
   ]
  },
  {
   "cell_type": "code",
   "execution_count": null,
   "metadata": {
    "slideshow": {
     "slide_type": "slide"
    }
   },
   "outputs": [],
   "source": [
    "from compas.datastructures import Mesh\n",
    "from compas_plotters import Plotter\n",
    "\n",
    "vertices = [[0, 0, 0], [2.5, 0, 0], [4, 0, 0],\n",
    "         [0, 2, 0], [1.5, 2, 0], [4, 2, 0],\n",
    "         [0, 4, 0], [2.5, 4, 0], [4, 4, 0]]\n",
    "\n",
    "faces = [[0, 1, 4, 3], [1, 2, 5, 4], [3, 4, 7, 6], [4, 5, 8, 7]]\n",
    "\n",
    "mesh = Mesh.from_vertices_and_faces(vertices, faces)\n",
    "\n",
    "vkey = 4\n",
    "\n",
    "vertex_color = {vkey: (1.0, 0.0, 0.0)}\n",
    "\n",
    "halfedges = []\n",
    "\n",
    "# your code here...\n",
    "\n",
    "plotter = Plotter()\n",
    "meshartist = plotter.add(mesh, vertexsize=1, vertexcolor=vertex_color)\n",
    "meshartist.draw_vertexlabels()\n",
    "meshartist.draw_facelabels()\n",
    "# meshartist.draw_halfedges(halfedges=halfedges, color=(1.0, 0.0, 0.0))\n",
    "plotter.zoom_extents()\n",
    "plotter.show()"
   ]
  },
  {
   "cell_type": "markdown",
   "metadata": {
    "slideshow": {
     "slide_type": "slide"
    }
   },
   "source": [
    "---\n",
    "\n",
    "# B. Topology\n",
    "Mesh API reference: https://compas.dev/compas/latest/api/generated/compas.datastructures.Mesh.html#compas.datastructures.Mesh\n",
    "## B1. Vertex\n",
    "### B1_a. Vertex Neighbours"
   ]
  },
  {
   "cell_type": "code",
   "execution_count": null,
   "metadata": {
    "slideshow": {
     "slide_type": "slide"
    }
   },
   "outputs": [],
   "source": [
    "from compas.datastructures import Mesh\n",
    "from compas_plotters import Plotter\n",
    "\n",
    "# create mesh grid\n",
    "mesh = Mesh.from_meshgrid(dx=5, nx=5)\n",
    "\n",
    "# find vertex neighbours\n",
    "# vkey = 20\n",
    "vkey = mesh.get_any_vertex()\n",
    "# YOUR CODE HERE\n",
    "\n",
    "# # visualization\n",
    "# vertex_color = {vkey: (1.0, 0.0, 0.0)}\n",
    "# edge_color = {}\n",
    "# edge_width = {}\n",
    "\n",
    "# for v_nbr in v_nbrs:\n",
    "#     vertex_color[v_nbr] = (1.0, 0.9, 0.9)\n",
    "#     edge_color[(vkey, v_nbr)] = (1.0, 0.0, 0.0)\n",
    "#     edge_width[(vkey, v_nbr)] = 2.0\n",
    "\n",
    "# plotter\n",
    "plotter = Plotter(figsize=(8, 8))\n",
    "meshartist = plotter.add(mesh, vertexsize=3.5, vertexcolor=vertex_color, edgecolor=edge_color, edgewidth=edge_width)\n",
    "meshartist.draw_vertexlabels()\n",
    "meshartist.draw_facelabels()\n",
    "plotter.zoom_extents()\n",
    "plotter.show()"
   ]
  },
  {
   "cell_type": "markdown",
   "metadata": {
    "slideshow": {
     "slide_type": "slide"
    }
   },
   "source": [
    "### B1_b. Vertex Degree\n",
    "In mesh, the degree (or valency) of a vertex is the number of edges that are incident to the vertex.  The maximum degree of a mesh, and the minimum degree of a mesh, are the maximum and minimum of its vertices' degrees. "
   ]
  },
  {
   "cell_type": "code",
   "execution_count": null,
   "metadata": {
    "slideshow": {
     "slide_type": "-"
    }
   },
   "outputs": [],
   "source": [
    "from compas.datastructures import Mesh\n",
    "\n",
    "# create mesh grid\n",
    "mesh = Mesh.from_meshgrid(dx=5, nx=5)\n",
    "\n",
    "vkey = mesh.get_any_vertex()\n",
    "\n",
    "# vertex degree\n",
    "# YOUR CODE HERE"
   ]
  },
  {
   "cell_type": "markdown",
   "metadata": {
    "slideshow": {
     "slide_type": "slide"
    }
   },
   "source": [
    "Color the vertices based on its vertex degree. The vertex with the highest degree should be red, while the vertex with the lowest degree should be white. "
   ]
  },
  {
   "cell_type": "code",
   "execution_count": null,
   "metadata": {
    "slideshow": {
     "slide_type": "slide"
    }
   },
   "outputs": [],
   "source": [
    "from compas.datastructures import Mesh\n",
    "from compas_plotters import Plotter\n",
    "from compas.utilities import i_to_red\n",
    "\n",
    "# create mesh grid\n",
    "mesh = Mesh.from_meshgrid(dx=5, nx=5)\n",
    "\n",
    "# visualization\n",
    "vertex_text = {}\n",
    "vertex_color = {}\n",
    "\n",
    "\n",
    "max_vertex_degree = ... # YOUR CODE HERE\n",
    "min_vertex_degree = ... # YOUR CODE HERE\n",
    "\n",
    "for vkey in mesh.vertices():\n",
    "    vertex_degree = mesh.vertex_degree(vkey)\n",
    "    vertex_text[vkey] = str(vertex_degree)\n",
    "    vertex_color[vkey] = i_to_red(float((vertex_degree - min_vertex_degree) / (max_vertex_degree - min_vertex_degree)), normalize=True)\n",
    "\n",
    "\n",
    "# plotter\n",
    "plotter = Plotter(figsize=(8, 8))\n",
    "meshartist = plotter.add(mesh, vertexsize=3.5, vertexcolor=vertex_color)\n",
    "meshartist.draw_vertexlabels(text=vertex_text)\n",
    "# meshartist.draw_facelabels()\n",
    "plotter.zoom_extents()\n",
    "plotter.show()"
   ]
  },
  {
   "cell_type": "markdown",
   "metadata": {
    "slideshow": {
     "slide_type": "slide"
    }
   },
   "source": [
    "The vertex degrees can be used to find supports."
   ]
  },
  {
   "cell_type": "code",
   "execution_count": null,
   "metadata": {
    "slideshow": {
     "slide_type": "slide"
    }
   },
   "outputs": [],
   "source": [
    "from compas.datastructures import Mesh\n",
    "from compas.geometry import Sphere\n",
    "from compas_notebook.app import App\n",
    "\n",
    "mesh = Mesh.from_json(\"https://raw.githubusercontent.com/BlockResearchGroup/CSD2_2022/main/3_Materialization/Tutorial5/data/simple_dome.json\")\n",
    "\n",
    "viewer = App()\n",
    "\n",
    "for vkey in mesh.vertices():\n",
    "    # check the vertex degree... \n",
    "    pass\n",
    "\n",
    "viewer.add(mesh)\n",
    "viewer.show()"
   ]
  },
  {
   "cell_type": "markdown",
   "metadata": {
    "slideshow": {
     "slide_type": "slide"
    }
   },
   "source": [
    "### B1_c. Vertex Faces"
   ]
  },
  {
   "cell_type": "code",
   "execution_count": null,
   "metadata": {},
   "outputs": [],
   "source": [
    "from compas.datastructures import Mesh\n",
    "from compas_plotters import Plotter\n",
    "\n",
    "# create mesh grid\n",
    "mesh = Mesh.from_meshgrid(dx=5, nx=5)\n",
    "\n",
    "# find vertex faces\n",
    "# vkey = 20\n",
    "vkey = mesh.get_any_vertex()\n",
    "# YOUR CODE HERE\n",
    "\n",
    "# # visualization\n",
    "# vertex_color = {vkey: (1.0, 0.0, 0.0)}\n",
    "# face_color = {f_nbr: (0.7, 0.7, 1.0) for f_nbr in f_nbrs}\n",
    "\n",
    "# plotter\n",
    "plotter = Plotter(figsize=(8, 8))\n",
    "meshartist = plotter.add(mesh, vertexsize=3.5, vertexcolor=vertex_color, facecolor=face_color)\n",
    "meshartist.draw_vertexlabels()\n",
    "meshartist.draw_facelabels()\n",
    "plotter.zoom_extents()\n",
    "plotter.show()"
   ]
  },
  {
   "cell_type": "markdown",
   "metadata": {
    "slideshow": {
     "slide_type": "slide"
    }
   },
   "source": [
    "### B1_d. Vertex Area\n",
    "Compute the tributary area of a vertex. Tributary area is often used to estimate design loads of structural elements subjected to vertical surface loading. "
   ]
  },
  {
   "cell_type": "code",
   "execution_count": null,
   "metadata": {},
   "outputs": [],
   "source": [
    "from compas.datastructures import Mesh\n",
    "\n",
    "# create mesh grid\n",
    "mesh = Mesh.from_meshgrid(dx=5, nx=5)\n",
    "\n",
    "# find vertex tributary area"
   ]
  },
  {
   "cell_type": "markdown",
   "metadata": {
    "slideshow": {
     "slide_type": "slide"
    }
   },
   "source": [
    "## B2. Face\n",
    "### B2_a. Face Neighbours¶"
   ]
  },
  {
   "cell_type": "code",
   "execution_count": null,
   "metadata": {
    "slideshow": {
     "slide_type": "slide"
    }
   },
   "outputs": [],
   "source": [
    "from compas.datastructures import Mesh\n",
    "from compas_plotters import Plotter\n",
    "\n",
    "# create mesh grid\n",
    "mesh = Mesh.from_meshgrid(dx=5, nx=5)\n",
    "\n",
    "# find face neighbours\n",
    "# fkey = 15\n",
    "fkey = mesh.get_any_face()\n",
    "# ADD YOUR CODE HERE...\n",
    "\n",
    "# # visualization\n",
    "# face_color = {}\n",
    "# face_color[fkey] = (1.0, 0.7, 0.7)\n",
    "# for f_nbr in f_nbrs:\n",
    "#     face_color[f_nbr] = (0.7, 0.7, 1.0)\n",
    "\n",
    "# plotter\n",
    "plotter = Plotter(figsize=(8, 8))\n",
    "meshartist = plotter.add(mesh, vertexsize=3.5, facecolor=face_color)\n",
    "meshartist.draw_vertexlabels()\n",
    "meshartist.draw_facelabels()\n",
    "plotter.zoom_extents()\n",
    "plotter.show()"
   ]
  },
  {
   "cell_type": "markdown",
   "metadata": {
    "slideshow": {
     "slide_type": "slide"
    }
   },
   "source": [
    "### B2_b. Face Degree\n",
    "\n",
    "Color the face based on its face degree. The face with the highest degree should be green, while the one with the lowest degree should be white.\n"
   ]
  },
  {
   "cell_type": "code",
   "execution_count": null,
   "metadata": {
    "slideshow": {
     "slide_type": "slide"
    }
   },
   "outputs": [],
   "source": [
    "from compas.datastructures import Mesh\n",
    "from compas_plotters import Plotter\n",
    "from compas.utilities import i_to_green\n",
    "\n",
    "# create mesh grid\n",
    "mesh = Mesh.from_meshgrid(dx=5, nx=5)\n",
    "\n",
    "# visualization\n",
    "face_text = {}\n",
    "face_color = {}\n",
    "max_face_degree = ... # YOUR CODE HERE\n",
    "min_face_degree = ... # YOUR CODE HERE\n",
    "\n",
    "for fkey in mesh.faces():\n",
    "    face_degree = mesh.face_degree(fkey)\n",
    "    face_text[fkey] = str(face_degree)\n",
    "    face_color[fkey] = i_to_green(float((face_degree - min_face_degree) / (max_face_degree - min_face_degree)), normalize=True)\n",
    "\n",
    "\n",
    "# plotter\n",
    "plotter = Plotter(figsize=(8, 8))\n",
    "meshartist = plotter.add(mesh, vertexsize=3.5, facecolor=face_color)\n",
    "# meshartist.draw_vertexlabels()\n",
    "meshartist.draw_facelabels(text=face_text)\n",
    "plotter.zoom_extents()\n",
    "plotter.show()"
   ]
  },
  {
   "cell_type": "markdown",
   "metadata": {
    "slideshow": {
     "slide_type": "slide"
    }
   },
   "source": [
    "## B3. Edges\n",
    "The edge-related topological questions are prone to certain mesh topology. In this chapter we use only quad mesh. "
   ]
  },
  {
   "cell_type": "markdown",
   "metadata": {},
   "source": [
    "### B3_a. Edge Loop"
   ]
  },
  {
   "cell_type": "code",
   "execution_count": null,
   "metadata": {
    "slideshow": {
     "slide_type": "slide"
    }
   },
   "outputs": [],
   "source": [
    "from compas.datastructures import Mesh\n",
    "from compas_plotters import Plotter\n",
    "\n",
    "# create mesh grid\n",
    "mesh = Mesh.from_meshgrid(dx=5, nx=5)\n",
    "\n",
    "# find edge loop\n",
    "# start_edge = 21, 27\n",
    "vkey = mesh.get_any_vertex()\n",
    "vkey_nbr = mesh.vertex_neighbors(vkey)[0]\n",
    "start_edge = vkey, vkey_nbr\n",
    "# YOUR CODE HERE\n",
    "\n",
    "# visualization\n",
    "edge_color = {}\n",
    "edge_width = {}\n",
    "\n",
    "# for edge in loop: \n",
    "#     edge_color[edge] = (1.0, 0.7, 0.7)\n",
    "#     edge_width[edge] = 2.0\n",
    "\n",
    "edge_color[start_edge] = (1.0, 0.0, 0.0)\n",
    "edge_width[start_edge] = 3.0\n",
    "    \n",
    "# plotter\n",
    "plotter = Plotter(figsize=(8, 8))\n",
    "meshartist = plotter.add(mesh, vertexsize=3.5, edgecolor=edge_color, edgewidth=edge_width)\n",
    "meshartist.draw_vertexlabels()\n",
    "meshartist.draw_facelabels()\n",
    "plotter.zoom_extents()\n",
    "plotter.show()"
   ]
  },
  {
   "cell_type": "code",
   "execution_count": null,
   "metadata": {},
   "outputs": [],
   "source": [
    "from compas.geometry import Point, Line\n",
    "from compas.datastructures import Mesh\n",
    "from compas_notebook.app import App\n",
    "\n",
    "mesh = Mesh.from_obj('data/tubemesh.obj')\n",
    "mesh.flip_cycles()\n",
    "\n",
    "viewer = App()\n",
    "viewer.add(mesh) # add the mesh before lines\n",
    "\n",
    "vkey = mesh.get_any_vertex()\n",
    "vkey_nbr = mesh.vertex_neighbors(vkey)[0]\n",
    "start_edge = vkey, vkey_nbr\n",
    "# YOUR CODE HERE \n",
    "\n",
    "# for edge in loop:\n",
    "#     a, b = mesh.edge_coordinates(*edge)\n",
    "#     line = Line(a, b)\n",
    "#     viewer.add(line, linecolor=(0, 1.0, 0))\n",
    "\n",
    "viewer.show()"
   ]
  },
  {
   "cell_type": "markdown",
   "metadata": {
    "slideshow": {
     "slide_type": "slide"
    }
   },
   "source": [
    "### B3_b. Edge Strip"
   ]
  },
  {
   "cell_type": "code",
   "execution_count": null,
   "metadata": {},
   "outputs": [],
   "source": [
    "from compas.datastructures import Mesh\n",
    "from compas_plotters import Plotter\n",
    "\n",
    "# create mesh grid\n",
    "mesh = Mesh.from_meshgrid(dx=5, nx=5)\n",
    "\n",
    "# find edge loop\n",
    "# start_edge = 21, 27\n",
    "vkey = mesh.get_any_vertex()\n",
    "vkey_nbr = mesh.vertex_neighbors(vkey)[0]\n",
    "start_edge = vkey, vkey_nbr\n",
    "# YOUR CODE HERE...\n",
    "\n",
    "# visualization\n",
    "edge_color = {}\n",
    "edge_width = {}\n",
    "\n",
    "# for edge in strip: \n",
    "#     edge_color[edge] = (1.0, 0.7, 0.7)\n",
    "#     edge_width[edge] = 2.0\n",
    "\n",
    "edge_color[start_edge] = (1.0, 0.0, 0.0)\n",
    "edge_width[start_edge] = 3.0\n",
    "    \n",
    "# plotter\n",
    "plotter = Plotter(figsize=(8, 8))\n",
    "meshartist = plotter.add(mesh, vertexsize=3.5, edgecolor=edge_color, edgewidth=edge_width)\n",
    "meshartist.draw_vertexlabels()\n",
    "meshartist.draw_facelabels()\n",
    "plotter.zoom_extents()\n",
    "plotter.show()"
   ]
  },
  {
   "cell_type": "code",
   "execution_count": null,
   "metadata": {
    "slideshow": {
     "slide_type": "slide"
    }
   },
   "outputs": [],
   "source": [
    "from compas.geometry import Point, Line\n",
    "from compas.datastructures import Mesh\n",
    "from compas_notebook.app import App\n",
    "\n",
    "mesh = Mesh.from_obj('data/tubemesh.obj')\n",
    "mesh.flip_cycles()\n",
    "\n",
    "viewer = App()\n",
    "viewer.add(mesh) # add the mesh before lines\n",
    "\n",
    "vkey = mesh.get_any_vertex()\n",
    "vkey_nbr = mesh.vertex_neighbors(vkey)[0]\n",
    "start_edge = vkey, vkey_nbr\n",
    "# YOUR CODE HERE...\n",
    "\n",
    "# for edge in strip:\n",
    "#     a, b = mesh.edge_coordinates(*edge)\n",
    "#     line = Line(a, b)\n",
    "#     viewer.add(line, linecolor=(0, 1.0, 0))\n",
    "\n",
    "viewer.show()"
   ]
  },
  {
   "cell_type": "markdown",
   "metadata": {
    "slideshow": {
     "slide_type": "slide"
    }
   },
   "source": [
    "### B3_c. Half-Edge Strip"
   ]
  },
  {
   "cell_type": "code",
   "execution_count": null,
   "metadata": {
    "slideshow": {
     "slide_type": "-"
    }
   },
   "outputs": [],
   "source": [
    "from compas.datastructures import Mesh\n",
    "from compas_plotters import Plotter\n",
    "\n",
    "# create mesh grid\n",
    "mesh = Mesh.from_meshgrid(dx=5, nx=5)\n",
    "\n",
    "# find edge loop\n",
    "# start_edge = 21, 27\n",
    "vkey = mesh.get_any_vertex()\n",
    "vkey_nbr = mesh.vertex_neighbors(vkey)[0]\n",
    "start_edge = vkey, vkey_nbr\n",
    "# YOUR CODE HERE...\n",
    "\n",
    "# visualization\n",
    "edge_color = {}\n",
    "edge_width = {}\n",
    "\n",
    "# for edge in strip: \n",
    "#     edge_color[edge] = (1.0, 0.7, 0.7)\n",
    "#     edge_width[edge] = 2.0\n",
    "\n",
    "edge_color[start_edge] = (1.0, 0.0, 0.0)\n",
    "edge_width[start_edge] = 3.0\n",
    "    \n",
    "# plotter\n",
    "plotter = Plotter(figsize=(8, 8))\n",
    "meshartist = plotter.add(mesh, vertexsize=3.5, edgecolor=edge_color, edgewidth=edge_width)\n",
    "meshartist.draw_vertexlabels()\n",
    "meshartist.draw_facelabels()\n",
    "meshartist.draw_halfedges(halfedges=[start_edge])\n",
    "plotter.zoom_extents()\n",
    "plotter.show()"
   ]
  },
  {
   "cell_type": "markdown",
   "metadata": {
    "slideshow": {
     "slide_type": "slide"
    }
   },
   "source": [
    "### B3_c. Color Quadmesh Stripes\n",
    "Along the edge loop, color the staggered stripes."
   ]
  },
  {
   "cell_type": "code",
   "execution_count": null,
   "metadata": {
    "slideshow": {
     "slide_type": "slide"
    }
   },
   "outputs": [],
   "source": [
    "from math import radians\n",
    "import compas\n",
    "from compas.geometry import Point, Line\n",
    "from compas.datastructures import Mesh\n",
    "\n",
    "from compas_notebook.app import App\n",
    "\n",
    "mesh = Mesh.from_obj('data/tubemesh.obj')\n",
    "mesh.flip_cycles()\n",
    "\n",
    "viewer = App()\n",
    "viewer.add(mesh) # add the mesh before lines\n",
    "\n",
    "# find edge loop\n",
    "# start_edge = 21, 27\n",
    "vkey = mesh.get_any_vertex()\n",
    "vkey_nbr = mesh.vertex_neighbors(vkey)[0]\n",
    "start_edge = vkey, vkey_nbr\n",
    "loop = mesh.edge_loop(start_edge)\n",
    "\n",
    "for edge in loop:\n",
    "    a, b = mesh.edge_coordinates(*edge)\n",
    "    line = Line(a, b)\n",
    "    viewer.add(line, linecolor=(0, 1.0, 0))\n",
    "\n",
    "facecolors = {face: (0.7, 0.7, 0.7) for face in mesh.faces()}\n",
    "\n",
    "# YOUR CODE HERE...\n",
    "\n",
    "viewer.add(mesh, facecolor=facecolors)\n",
    "\n",
    "viewer.show()\n"
   ]
  },
  {
   "cell_type": "markdown",
   "metadata": {
    "slideshow": {
     "slide_type": "slide"
    }
   },
   "source": [
    "---\n",
    "# C. Attributes\n",
    "\n"
   ]
  },
  {
   "cell_type": "markdown",
   "metadata": {
    "slideshow": {
     "slide_type": "slide"
    }
   },
   "source": [
    "## C_1. Extract Attributes"
   ]
  },
  {
   "cell_type": "code",
   "execution_count": null,
   "metadata": {
    "slideshow": {
     "slide_type": "-"
    }
   },
   "outputs": [],
   "source": [
    "from compas.datastructures import Mesh\n",
    "\n",
    "vertices = [[0, 0, 0], [2.5, 0, 0], [4, 0, 0],\n",
    "         [0, 2, 0], [1.5, 2, 0], [4, 2, 0],\n",
    "         [0, 4, 0], [2.5, 4, 0], [4, 4, 0]]\n",
    "\n",
    "faces = [[0, 1, 4, 3], [1, 2, 5, 4], [3, 4, 7, 6], [4, 5, 8, 7]]\n",
    "\n",
    "mesh = Mesh.from_vertices_and_faces(vertices, faces)\n",
    "\n",
    "for vkey in mesh.vertices():\n",
    "    print(vkey)\n",
    "    \n",
    "for fkey in mesh.faces():\n",
    "    print(fkey)\n",
    "    \n",
    "for edge in mesh.edges():\n",
    "    print(edge)"
   ]
  },
  {
   "cell_type": "markdown",
   "metadata": {
    "slideshow": {
     "slide_type": "slide"
    }
   },
   "source": [
    "`Mesh.vertices_where`, `Mesh.faces_where` and `Mesh.edges_where` can find elements of the mesh under a specific or a set of conditions."
   ]
  },
  {
   "cell_type": "code",
   "execution_count": null,
   "metadata": {},
   "outputs": [],
   "source": [
    "from compas.datastructures import Mesh\n",
    "from compas_plotters import Plotter\n",
    "\n",
    "vertices = [[0, 0, 0], [2.5, 0, 0], [4, 0, 0],\n",
    "         [0, 2, 0], [1.5, 2, 0], [4, 2, 0],\n",
    "         [0, 4, 0], [2.5, 4, 0], [4, 4, 0]]\n",
    "\n",
    "faces = [[0, 1, 4, 3], [1, 2, 5, 4], [3, 4, 7, 6], [4, 5, 8, 7]]\n",
    "\n",
    "mesh = Mesh.from_vertices_and_faces(vertices, faces)\n",
    "\n",
    "# find vertices\n",
    "# YOUR CODE HERE...\n",
    "\n",
    "plotter = Plotter()\n",
    "\n",
    "meshartist = plotter.add(mesh, vertexsize=1, vertexcolor=vertex_color)\n",
    "meshartist.draw_vertexlabels()\n",
    "meshartist.draw_facelabels()\n",
    "\n",
    "plotter.zoom_extents()\n",
    "plotter.show()"
   ]
  },
  {
   "cell_type": "markdown",
   "metadata": {
    "slideshow": {
     "slide_type": "slide"
    }
   },
   "source": [
    "## C_2. Modify Attributes"
   ]
  },
  {
   "cell_type": "code",
   "execution_count": null,
   "metadata": {},
   "outputs": [],
   "source": [
    "from compas.datastructures import Mesh\n",
    "from compas_plotters import Plotter\n",
    "\n",
    "vertices = [[0, 0, 0], [2.5, 0, 0], [4, 0, 0],\n",
    "         [0, 2, 0], [1.5, 2, 0], [4, 2, 0],\n",
    "         [0, 4, 0], [2.5, 4, 0], [4, 4, 0]]\n",
    "\n",
    "faces = [[0, 1, 4, 3], [1, 2, 5, 4], [3, 4, 7, 6], [4, 5, 8, 7]]\n",
    "\n",
    "mesh = Mesh.from_vertices_and_faces(vertices, faces)\n",
    "\n",
    "vkey = mesh.get_any_vertex()\n",
    "\n",
    "# modify x, y coordinates\n",
    "# YOUR CODE HERE...\n",
    "\n",
    "vertex_color = {vkey: (1.0, 0.0, 0.0)}\n",
    "\n",
    "plotter = Plotter()\n",
    "\n",
    "meshartist = plotter.add(mesh, vertexsize=1, vertexcolor=vertex_color)\n",
    "meshartist.draw_vertexlabels()\n",
    "meshartist.draw_facelabels()\n",
    "\n",
    "plotter.zoom_extents()\n",
    "plotter.show()"
   ]
  },
  {
   "cell_type": "markdown",
   "metadata": {
    "slideshow": {
     "slide_type": "slide"
    }
   },
   "source": [
    "## C3. Update Attributes"
   ]
  },
  {
   "cell_type": "code",
   "execution_count": null,
   "metadata": {},
   "outputs": [],
   "source": [
    "from compas.datastructures import Mesh\n",
    "\n",
    "vertices = [[0, 0, 0], [2.5, 0, 0], [4, 0, 0],\n",
    "         [0, 2, 0], [1.5, 2, 0], [4, 2, 0],\n",
    "         [0, 4, 0], [2.5, 4, 0], [4, 4, 0]]\n",
    "\n",
    "faces = [[0, 1, 4, 3], [1, 2, 5, 4], [3, 4, 7, 6], [4, 5, 8, 7]]\n",
    "\n",
    "mesh = Mesh.from_vertices_and_faces(vertices, faces)\n",
    "\n",
    "# update attributes\n",
    "# YOUR CODE HERE...\n",
    "\n",
    "for vkey, attr in mesh.vertices(data=True):\n",
    "    print(vkey, attr)\n",
    "    \n",
    "for fkey, attr in mesh.faces(data=True):\n",
    "    print(fkey, attr)\n",
    "    \n",
    "for edge, attr in mesh.edges(data=True):\n",
    "    print(edge, attr)"
   ]
  },
  {
   "cell_type": "code",
   "execution_count": null,
   "metadata": {
    "slideshow": {
     "slide_type": "slide"
    }
   },
   "outputs": [],
   "source": [
    "from compas.datastructures import Mesh\n",
    "from compas_plotters import Plotter\n",
    "\n",
    "# create mesh grid\n",
    "mesh = Mesh.from_meshgrid(dx=5, nx=5)\n",
    "\n",
    "mesh.update_default_vertex_attributes({\"fixed\": False})\n",
    "\n",
    "for vkey in mesh.vertices():\n",
    "    vertex_degree = mesh.vertex_degree(vkey)\n",
    "    if vertex_degree == 2:\n",
    "        mesh.vertex_attribute(vkey, 'fixed', True)\n",
    "\n",
    "fixed_vertices = list(mesh.vertices_where({'fixed': True}))\n",
    "# mesh.smooth_centroid(fixed=fixed_vertices)\n",
    "\n",
    "vertex_color = {vkey: (1.0, 0.0, 0.0) for vkey in fixed_vertices}\n",
    "\n",
    "plotter = Plotter(figsize=(8, 8)) \n",
    "\n",
    "meshartist = plotter.add(mesh, vertexsize=3.5, vertexcolor=vertex_color)\n",
    "meshartist.draw_vertexlabels()\n",
    "meshartist.draw_facelabels()\n",
    "\n",
    "plotter.zoom_extents()\n",
    "plotter.show()"
   ]
  },
  {
   "cell_type": "markdown",
   "metadata": {
    "slideshow": {
     "slide_type": "slide"
    }
   },
   "source": [
    "# D. Exercise: Running Bund Barrel Vault\n",
    "![img](https://files.gitbook.com/v0/b/gitbook-x-prod.appspot.com/o/spaces%2FpAmgeCNAHLJ2Kiaxbyko%2Fuploads%2FPpDFJUlZiUo9MRawB3e1%2Fimage.png?alt=media&token=c08cbb96-d0f6-4806-8842-813abdd41226)"
   ]
  },
  {
   "cell_type": "code",
   "execution_count": null,
   "metadata": {},
   "outputs": [],
   "source": [
    "from compas.datastructures import Mesh\n",
    "from compas.geometry import Line\n",
    "from compas_notebook.app import App\n",
    "\n",
    "mesh= Mesh.from_obj(\"data/barrel_vault.obj\")\n",
    "mesh = mesh.subdivide(scheme='quad')\n",
    "\n",
    "viewer=App()\n",
    "viewer.add(mesh)\n",
    "\n",
    "# find a corner vertex\n",
    "\n",
    "\n",
    "# find vertex neighbours\n",
    "\n",
    "\n",
    "# find two boundary loops\n",
    "\n",
    "\n",
    "# find the shorter boundary loop\n",
    "\n",
    "\n",
    "viewer.show()\n"
   ]
  },
  {
   "cell_type": "code",
   "execution_count": null,
   "metadata": {},
   "outputs": [],
   "source": []
  }
 ],
 "metadata": {
  "celltoolbar": "Slideshow",
  "interpreter": {
   "hash": "767b8e31c1eec9ef327cc27a2a5d7df98b41c7cbc989a566ef8d39dcc483faec"
  },
  "kernelspec": {
   "display_name": "Python 3.9.9 64-bit ('csd2': conda)",
   "language": "python",
   "name": "python399jvsc74a57bd05e897d0e4e978ef05e1a63d69df614a45a680d18e8ec0fd527b8776f3a2cd736"
  },
  "language_info": {
   "codemirror_mode": {
    "name": "ipython",
    "version": 3
   },
   "file_extension": ".py",
   "mimetype": "text/x-python",
   "name": "python",
   "nbconvert_exporter": "python",
   "pygments_lexer": "ipython3",
   "version": "3.9.10"
  }
 },
 "nbformat": 4,
 "nbformat_minor": 4
}
