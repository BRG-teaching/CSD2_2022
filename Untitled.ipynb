{
 "cells": [
  {
   "cell_type": "code",
   "execution_count": null,
   "id": "5030af99-c836-455f-8631-3d5618fe2ccc",
   "metadata": {},
   "outputs": [],
   "source": []
  }
 ],
 "metadata": {
  "kernelspec": {
   "display_name": "Python 3.8.12 64-bit ('brg': conda)",
   "language": "python",
   "name": "python3812jvsc74a57bd04660e017fe583de81ac72b41cd0367138abbb38b850ef3671e77c7ef0042ac47"
  },
  "language_info": {
   "codemirror_mode": {
    "name": "ipython",
    "version": 3
   },
   "file_extension": ".py",
   "mimetype": "text/x-python",
   "name": "python",
   "nbconvert_exporter": "python",
   "pygments_lexer": "ipython3",
   "version": "3.8.12"
  }
 },
 "nbformat": 4,
 "nbformat_minor": 5
}
