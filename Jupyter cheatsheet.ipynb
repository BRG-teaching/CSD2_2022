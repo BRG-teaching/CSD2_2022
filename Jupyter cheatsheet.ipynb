{
 "cells": [
  {
   "cell_type": "markdown",
   "id": "7dbb2f05-af63-42c1-b7fd-014f29097f6b",
   "metadata": {},
   "source": [
    "# Jupyter CheatSheet"
   ]
  },
  {
   "cell_type": "code",
   "execution_count": 8,
   "id": "10a80c46-8f53-4a23-acc8-d1eaf9b2a5f9",
   "metadata": {},
   "outputs": [
    {
     "data": {
      "text/plain": [
       "7"
      ]
     },
     "execution_count": 8,
     "metadata": {},
     "output_type": "execute_result"
    }
   ],
   "source": [
    "# Code\n",
    "a, b = 3, 4\n",
    "a + b\n",
    "# print(\"a+b\", a+b)"
   ]
  },
  {
   "cell_type": "markdown",
   "id": "028fa105-b0ee-491f-86cf-277377bfab12",
   "metadata": {},
   "source": [
    "<br/>\n",
    "<br/>\n",
    "<br/>"
   ]
  },
  {
   "cell_type": "markdown",
   "id": "8bdad7ee-fba1-4184-a773-f4b75e26b684",
   "metadata": {},
   "source": [
    "[Markdown basic syntax](https://www.markdownguide.org/basic-syntax/)\n",
    "\n",
    "# Markdown Heading 1\n",
    "## Heading 1.1\n",
    "### Heading 1.1.1\n",
    "\n",
    "Bold text: **Bold Text**\n",
    "\n",
    "Italic text: *Italic Text*"
   ]
  },
  {
   "cell_type": "markdown",
   "id": "648e1f04-facd-4553-a3e1-41fb490f2849",
   "metadata": {},
   "source": [
    "\n",
    "## LaTex Equations\n",
    "\\begin{equation}\n",
    "e^x=\\sum_{i=0}^\\infty \\frac{1}{i!}x^i\n",
    "\\end{equation}"
   ]
  },
  {
   "cell_type": "markdown",
   "id": "27b790a4-1459-429f-bd17-d7110e102ace",
   "metadata": {},
   "source": [
    "## HTML Table\n",
    "| index | number |\n",
    "|------|------|\n",
    "| 0 | 11.2 |\n",
    "| 1 | 36.8 |\n"
   ]
  },
  {
   "cell_type": "markdown",
   "id": "1dd6b455-11ba-44ed-b350-c912ce223044",
   "metadata": {},
   "source": [
    "# Image\n",
    "<img src=\"img/statrius_1.jpeg\" />\n",
    "\n",
    "<a id='another_cell'></a>"
   ]
  },
  {
   "cell_type": "markdown",
   "id": "75f10bb3-5e9e-4859-83f3-db2345ddbdd3",
   "metadata": {},
   "source": [
    "# Link Cells\n",
    "Firstly, define the destination in the cell you want to link with a `HTML` anchor tag and give it an `Id`.\n",
    "For exmaple, I have added ```<a id='another_cell'></a>``` in the cell above.\n",
    "\n",
    "Secondly, create the internal hyperlink to the destination created above using Markdown syntax in another cell and run it.\n",
    "\n",
    "[Image Cell](#another_cell)"
   ]
  },
  {
   "cell_type": "markdown",
   "id": "c1df57bf-7d56-4577-a1f9-4b7056537be9",
   "metadata": {},
   "source": [
    "# Lists\n",
    "- item1\n",
    "- itme2\n",
    "- itme3\n",
    "\n",
    "1. item1\n",
    "2. item2\n",
    "3. item3"
   ]
  },
  {
   "cell_type": "markdown",
   "id": "6c726abc-4daf-4021-9ed6-5d4b330935e2",
   "metadata": {},
   "source": [
    "<br/>\n",
    "<br/>\n",
    "<br/>"
   ]
  },
  {
   "cell_type": "code",
   "execution_count": 10,
   "id": "1a2275f9-fdf5-4b21-abb0-6b3243e6d8ef",
   "metadata": {},
   "outputs": [
    {
     "data": {
      "text/plain": [
       "16"
      ]
     },
     "execution_count": 10,
     "metadata": {},
     "output_type": "execute_result"
    }
   ],
   "source": [
    "def f(x):\n",
    "    \"\"\"a docstring\"\"\"\n",
    "    return x**2\n",
    "\n",
    "f(4)"
   ]
  },
  {
   "cell_type": "raw",
   "id": "5899902a-dd20-45d0-9506-709cdfd16036",
   "metadata": {},
   "source": [
    "def f(x):\n",
    "    \"\"\"a docstring\"\"\"\n",
    "    return x**2"
   ]
  },
  {
   "cell_type": "markdown",
   "id": "53bbb682-68ee-4aa6-bda2-2a3801336f3a",
   "metadata": {
    "tags": []
   },
   "source": [
    "# Blockquotes\n",
    "\n",
    "\n",
    "> This is a quotation....\n",
    "\n"
   ]
  },
  {
   "cell_type": "markdown",
   "id": "c9bdccb4-7dfe-40d2-b2f3-900854addbf6",
   "metadata": {},
   "source": [
    "<br/>\n",
    "<br/>\n",
    "<br/>\n",
    "\n",
    "# jupyter notebook to Gitbook\n",
    "\n",
    "gitbook also supports Markdown syntax. we can use export jupyter notebook to `.md` and add it to gitbook to avoid duplicated work and the user-unfriendly UI. \n",
    "\n",
    "`$ jupyter nbconvert py_examples.ipynb --to md`"
   ]
  },
  {
   "cell_type": "code",
   "execution_count": null,
   "id": "feac62d0-a2e5-431d-9ef8-9d6dcbff13fd",
   "metadata": {},
   "outputs": [],
   "source": []
  }
 ],
 "metadata": {
  "kernelspec": {
   "display_name": "Python 3.8.12 64-bit ('brg': conda)",
   "language": "python",
   "name": "python3812jvsc74a57bd04660e017fe583de81ac72b41cd0367138abbb38b850ef3671e77c7ef0042ac47"
  },
  "language_info": {
   "codemirror_mode": {
    "name": "ipython",
    "version": 3
   },
   "file_extension": ".py",
   "mimetype": "text/x-python",
   "name": "python",
   "nbconvert_exporter": "python",
   "pygments_lexer": "ipython3",
   "version": "3.8.12"
  }
 },
 "nbformat": 4,
 "nbformat_minor": 5
}
