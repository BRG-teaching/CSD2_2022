{
 "cells": [
  {
   "cell_type": "markdown",
   "id": "edb9ef6c-9d3c-4f35-b107-d5e84524dff6",
   "metadata": {},
   "source": [
    "# Computational Structural Design II\n",
    "\n",
    "### Learning Goal: \n",
    "- TEST: VIEWER"
   ]
  },
  {
   "cell_type": "code",
   "execution_count": 3,
   "id": "3bfd724a-faf8-4db9-ac83-4ee0c6d5466e",
   "metadata": {},
   "outputs": [],
   "source": [
    "# ==============================================================================\n",
    "# Import\n",
    "# ==============================================================================\n",
    "import os\n",
    "from compas.datastructures import Mesh\n",
    "\n",
    "# ==============================================================================\n",
    "# Unserialization\n",
    "# ==============================================================================\n",
    "HERE = os.getcwd()\n",
    "FILE = os.path.join(HERE, 'data', 'cablenet.json')\n",
    "cablenet_mesh = Mesh.from_json(FILE)\n",
    "\n",
    "# ==============================================================================\n",
    "# Update Vertex Attribute\n",
    "# ==============================================================================\n",
    "for vkey in cablenet_mesh.vertices_where({'x': 10}):\n",
    "    if cablenet_mesh.is_vertex_on_boundary(vkey) is False:\n",
    "        cablenet_mesh.vertex_attribute(vkey, 'z', 10)"
   ]
  },
  {
   "cell_type": "code",
   "execution_count": 4,
   "id": "12e1ad12-dabd-4f4a-b8ea-47babcc9d9a3",
   "metadata": {},
   "outputs": [
    {
     "name": "stdout",
     "output_type": "stream",
     "text": [
      "<Mesh with 36 vertices, 25 faces, 60 edges>\n"
     ]
    }
   ],
   "source": [
    "print(cablenet_mesh)"
   ]
  },
  {
   "cell_type": "code",
   "execution_count": 5,
   "id": "ce427254-fec6-4426-ad17-63e559e1e3a5",
   "metadata": {},
   "outputs": [
    {
     "ename": "ModuleNotFoundError",
     "evalue": "No module named 'compas_view2'",
     "output_type": "error",
     "traceback": [
      "\u001b[1;31m---------------------------------------------------------------------------\u001b[0m",
      "\u001b[1;31mModuleNotFoundError\u001b[0m                       Traceback (most recent call last)",
      "Input \u001b[1;32mIn [5]\u001b[0m, in \u001b[0;36m<module>\u001b[1;34m\u001b[0m\n\u001b[1;32m----> 1\u001b[0m \u001b[38;5;28;01mfrom\u001b[39;00m \u001b[38;5;21;01mcompas_view2\u001b[39;00m\u001b[38;5;21;01m.\u001b[39;00m\u001b[38;5;21;01mapp\u001b[39;00m \u001b[38;5;28;01mimport\u001b[39;00m App\n\u001b[0;32m      2\u001b[0m viewer \u001b[38;5;241m=\u001b[39m App()\n\u001b[0;32m      3\u001b[0m viewer\u001b[38;5;241m.\u001b[39madd(cablenet_mesh)\n",
      "\u001b[1;31mModuleNotFoundError\u001b[0m: No module named 'compas_view2'"
     ]
    }
   ],
   "source": [
    "from compas_view2.app import App\n",
    "viewer = App()\n",
    "viewer.add(cablenet_mesh)\n",
    "viewer.run()"
   ]
  },
  {
   "cell_type": "code",
   "execution_count": null,
   "id": "5d1d8756-11da-4450-9418-e887606fcbbe",
   "metadata": {},
   "outputs": [],
   "source": []
  }
 ],
 "metadata": {
  "kernelspec": {
   "display_name": "Python 3 (ipykernel)",
   "language": "python",
   "name": "python3"
  },
  "language_info": {
   "codemirror_mode": {
    "name": "ipython",
    "version": 3
   },
   "file_extension": ".py",
   "mimetype": "text/x-python",
   "name": "python",
   "nbconvert_exporter": "python",
   "pygments_lexer": "ipython3",
   "version": "3.10.2"
  }
 },
 "nbformat": 4,
 "nbformat_minor": 5
}
