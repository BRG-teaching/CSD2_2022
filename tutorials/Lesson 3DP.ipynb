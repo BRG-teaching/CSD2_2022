{
 "cells": [
  {
   "cell_type": "code",
   "execution_count": null,
   "id": "ae385c94",
   "metadata": {},
   "outputs": [],
   "source": []
  },
  {
   "cell_type": "markdown",
   "id": "d08a3547-e1ca-405e-ac25-a7456ff74301",
   "metadata": {},
   "source": [
    "# Computational Structural Design II <br/> Applications of Additive Manufacturing in AEC\n",
    "\n",
    "### Learning Goal: <br/> \n",
    "- Understand 3DP technologies,its pros and cons\n",
    "- generate volume from a 2D form find mesh\n",
    "- seperate blocks\n",
    "- check printibility\n",
    "- generate print path\n",
    "  \n",
    "### Content\n",
    "- Case Study: Statrius\n",
    "- Tutorial:\n",
    "  - A. Generae Blocks\n",
    "  - B. Prepare Printing Bed\n",
    "  - C. Generate Print Path\n",
    "  \n",
    "### Exercise"
   ]
  },
  {
   "cell_type": "markdown",
   "id": "92417dd8",
   "metadata": {},
   "source": [
    "# Case Study: Statrius\n",
    "![statrius_1](img/statrius_1.jpeg) <br/>\n",
    "Stratius – Credit: blockresearchgroup and zhcode"
   ]
  },
  {
   "cell_type": "markdown",
   "id": "43d779bc",
   "metadata": {},
   "source": [
    "# A. Generating Blocks\n",
    "- [A0. RV2 Pattern from Skeleton](#A0)\n",
    "- "
   ]
  },
  {
   "cell_type": "markdown",
   "id": "d5ea3491",
   "metadata": {},
   "source": [
    "## A0. RV2 Pattern from Skeleton\n",
    "<a id='A0'></a>\n",
    "Form finding in RV2, load mesh <br/>\n",
    "\n",
    "![000](img/3dp_000.png) ![001](img/3dp_001.png)"
   ]
  },
  {
   "cell_type": "code",
   "execution_count": null,
   "id": "72c15a92",
   "metadata": {},
   "outputs": [],
   "source": [
    "# placeholder"
   ]
  },
  {
   "cell_type": "markdown",
   "id": "62dfe6f0",
   "metadata": {},
   "source": [
    "## A1. Identity and Parts\n",
    "Seperate blocks\n",
    "\n",
    "![002](img/3dp_002.png) "
   ]
  },
  {
   "cell_type": "code",
   "execution_count": null,
   "id": "ac44cfca",
   "metadata": {},
   "outputs": [],
   "source": [
    "# placeholder"
   ]
  },
  {
   "cell_type": "markdown",
   "id": "e273d604",
   "metadata": {},
   "source": [
    "## A2. Gennerate Volumes\n",
    "![003](img/3dp_003.png)"
   ]
  },
  {
   "cell_type": "code",
   "execution_count": null,
   "id": "75463b91",
   "metadata": {},
   "outputs": [],
   "source": [
    "# placeholder"
   ]
  },
  {
   "cell_type": "markdown",
   "id": "682e1d30",
   "metadata": {},
   "source": [
    "## A3. Planarization and smoothing"
   ]
  },
  {
   "cell_type": "code",
   "execution_count": 16,
   "id": "1aaee913",
   "metadata": {},
   "outputs": [],
   "source": [
    "# placeholder"
   ]
  },
  {
   "cell_type": "markdown",
   "id": "8b1be972",
   "metadata": {},
   "source": [
    "## A4. Serialization Blocks"
   ]
  },
  {
   "cell_type": "code",
   "execution_count": null,
   "id": "87fc421c",
   "metadata": {},
   "outputs": [],
   "source": [
    "# placeholder"
   ]
  },
  {
   "cell_type": "markdown",
   "id": "7fab3324",
   "metadata": {},
   "source": [
    "# B. Preparing Printing Bed\n",
    "- "
   ]
  },
  {
   "cell_type": "markdown",
   "id": "8068e7c9",
   "metadata": {},
   "source": [
    "## B0. Load Block"
   ]
  },
  {
   "cell_type": "code",
   "execution_count": 1,
   "id": "2ad5079b",
   "metadata": {},
   "outputs": [
    {
     "name": "stdout",
     "output_type": "stream",
     "text": [
      "block info: <Mesh with 50 vertices, 48 faces, 96 edges>\n"
     ]
    }
   ],
   "source": [
    "import os\n",
    "from compas.datastructures import Mesh\n",
    "from compas_view2.app import App\n",
    "\n",
    "# import\n",
    "HERE = os.getcwd()\n",
    "FILE = os.path.join(HERE, 'data', 'block_singularity.json')\n",
    "block = Mesh.from_json(FILE)\n",
    "print(\"block info:\", block)\n",
    "\n",
    "# visualization\n",
    "viewer = App()\n",
    "viewer.add(block)\n",
    "viewer.run()"
   ]
  },
  {
   "cell_type": "markdown",
   "id": "4eefff76",
   "metadata": {},
   "source": [
    "## B1. Select Print Planes"
   ]
  },
  {
   "cell_type": "code",
   "execution_count": 11,
   "id": "9e109556",
   "metadata": {},
   "outputs": [],
   "source": [
    "from compas_view2.shapes import Text\n",
    "\n",
    "# show face keys\n",
    "for face in block.faces():\n",
    "    t = Text(\"{}\".format(face), block.face_centroid(face), height=1000)\n",
    "    viewer.add(t)\n",
    "viewer.show()\n",
    "\n",
    "# print interfaces: 1096, 1095, 1094, 1093"
   ]
  },
  {
   "cell_type": "code",
   "execution_count": 33,
   "id": "bc2ad9ce",
   "metadata": {},
   "outputs": [],
   "source": [
    "facecolors = {fkey: [0.8, 0.8, 0.8] for fkey in block.faces()}\n",
    "print_faces = [1096, 1095, 1094, 1093]\n",
    "for face in print_faces:\n",
    "    facecolors[face] = [1, 0, 0]\n",
    "\n",
    "viewer = App()\n",
    "block_obj = viewer.add(block, facecolors=facecolors)\n",
    "viewer.run()\n",
    "\n",
    "# viewer.add(mesh, name=\"mesh1\", show_points=True, facecolors=facecolors, linecolors=linecolors, pointcolors=pointcolors)"
   ]
  },
  {
   "cell_type": "markdown",
   "id": "09a2ce20",
   "metadata": {},
   "source": [
    "## B2. Transform to Print Bed"
   ]
  },
  {
   "cell_type": "code",
   "execution_count": 35,
   "id": "3e2ad853",
   "metadata": {},
   "outputs": [],
   "source": [
    "from compas.geometry import Transformation, Frame\n",
    "from compas.geometry import bestfit_frame_numpy, dot_vectors\n",
    "\n",
    "# compute local frame\n",
    "print_facevkeys = []\n",
    "for face in print_faces:\n",
    "    print_facevkeys.extend(block.face_vertices(face))\n",
    "print_facevkeys = list(set(print_facevkeys))\n",
    "print_facepoints = [block.vertex_coordinates(vkey) for vkey in print_facevkeys]\n",
    "\n",
    "local_frame = Frame(*bestfit_frame_numpy(print_facepoints))\n",
    "\n",
    "# check whether the frame is flipped\n",
    "block_center = block.centroid()\n",
    "vec_frame_cen_block_cen = local_frame.point - block_center\n",
    "if dot_vectors(vec_frame_cen_block_cen, local_frame.normal) > 0: \n",
    "    local_frame.yaxis = local_frame.yaxis * -1\n",
    "\n",
    "# transformation matrix\n",
    "world_frame = Frame.worldXY()\n",
    "T = Transformation.from_frame_to_frame(local_frame, world_frame)\n",
    "\n",
    "block_T = block.transformed(T)\n",
    "viewer.add(block_T)\n",
    "viewer.show()"
   ]
  },
  {
   "cell_type": "markdown",
   "id": "334868c9",
   "metadata": {},
   "source": [
    "# C. Generate Print Paths"
   ]
  },
  {
   "cell_type": "markdown",
   "id": "c8789eb1",
   "metadata": {},
   "source": [
    "## C1. Evaluate Mesh Edges\n",
    "![3dp_c1](img/3dp_c1.png)"
   ]
  },
  {
   "cell_type": "code",
   "execution_count": 15,
   "id": "22e78b2e",
   "metadata": {},
   "outputs": [],
   "source": [
    "# placeholder"
   ]
  },
  {
   "cell_type": "markdown",
   "id": "a4ccb8ce",
   "metadata": {},
   "source": [
    "## C2. Subdivide Edges\n",
    "![3dp_c2](img/3dp_c2.png)"
   ]
  },
  {
   "cell_type": "code",
   "execution_count": null,
   "id": "ce3ef37d",
   "metadata": {},
   "outputs": [],
   "source": [
    "# placeholder"
   ]
  },
  {
   "cell_type": "markdown",
   "id": "21197ce0",
   "metadata": {},
   "source": [
    "## C3. Interpolate Points\n",
    "![3dp_c3](img/3dp_c3.png)"
   ]
  },
  {
   "cell_type": "code",
   "execution_count": null,
   "id": "ebc0e933",
   "metadata": {},
   "outputs": [],
   "source": [
    "# placeholder"
   ]
  },
  {
   "cell_type": "markdown",
   "id": "291408e7",
   "metadata": {},
   "source": [
    "## C4. Visualize Print Path"
   ]
  },
  {
   "cell_type": "markdown",
   "id": "a672b651",
   "metadata": {},
   "source": []
  }
 ],
 "metadata": {
  "kernelspec": {
   "display_name": "Python 3",
   "language": "python",
   "name": "python3"
  },
  "language_info": {
   "codemirror_mode": {
    "name": "ipython",
    "version": 3
   },
   "file_extension": ".py",
   "mimetype": "text/x-python",
   "name": "python",
   "nbconvert_exporter": "python",
   "pygments_lexer": "ipython3",
   "version": "3.8.12"
  }
 },
 "nbformat": 4,
 "nbformat_minor": 5
}
