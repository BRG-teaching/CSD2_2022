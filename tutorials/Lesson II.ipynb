{
 "cells": [
  {
   "cell_type": "markdown",
   "id": "dfa6ab74",
   "metadata": {},
   "source": [
    "# Computational Structural Design II - Geometry, Data and Visualization\n",
    "\n",
    "### Learning Goal: \n",
    "- Geometries\n",
    "- data\n",
    "- visualization\n",
    "\n",
    "### Content:\n",
    "- Geometry Data"
   ]
  },
  {
   "cell_type": "markdown",
   "id": "95d49bad",
   "metadata": {},
   "source": [
    "## Geometry Data\n",
    "\n",
    "### Describe a point in Rhinoceros Grasshopper\n",
    "A point in 3D Cartesian coordinate system is represented by 3 numbers, which represents values along x, y and z axis. If you are familiar with Rhino and Grasshopper, a point can be created numerically by inputing 3 values. \n",
    "\n",
    "</br>\n",
    "<img src = \"img/geo_pt_gh.png\" width=\"500\" style=\"margin-left:auto; margin-right:auto\"/>\n",
    "<center>create a point in Rhinoceros Grasshopper 3D</center>\n",
    "</br>\n",
    "\n",
    "### Describe a Point by Python list\n",
    "Similarly the point can be referred to as a list `[x, y, z]` in Python. The three numbers represent the xyz coordinates of the point. Since a point is described as a list, the value in the list can be retrieved, modified, and updated by accessing the corresponding index of the list. \n",
    "Here we create a point `x=0, y=1, z=1` and change the coordinate `y=5`. \n"
   ]
  },
  {
   "cell_type": "code",
   "execution_count": 17,
   "id": "9b3fd05f-0131-4541-8055-c7442f784c59",
   "metadata": {},
   "outputs": [
    {
     "name": "stdout",
     "output_type": "stream",
     "text": [
      "y coordinate of my_point is 1\n",
      "xyz coordinates of my_point are [0, 5, 1]\n"
     ]
    }
   ],
   "source": [
    "# xyz coordinates of the point\n",
    "my_point = [0, 1, 1]  \n",
    "print(\"y coordinate of my_point is\", my_point[1])\n",
    "\n",
    "# re-assign the y coordinates 5\n",
    "my_point[1] = 5  \n",
    "print(\"xyz coordinates of my_point are\", my_point)"
   ]
  },
  {
   "cell_type": "markdown",
   "id": "ddad704a-c432-4068-ba64-eb6cd9efe669",
   "metadata": {},
   "source": [
    "### Geometry Data Summary\n",
    "Besides point, basic geometry types - such as vector, line, plane - can be described numerically in Python by **lists of values**. The length of the list corresponds with the number of dimensions of the space the geometry resides in. In 3D space, the list contains 3 elements. The following table demonstrates the data used to describe 3D geometries numerically. \n",
    "\n",
    "\n",
    "<table style='float:center;'>\n",
    "    <tr>\n",
    "        <th style='text-align: center'>Geometry</th>\n",
    "        <th style='text-align: center'>Data</th>\n",
    "        <th style='text-align: center'>Description</th>\n",
    "    </tr>\n",
    "    <tr>\n",
    "        <td style='text-align: center'>point</td>\n",
    "        <td style='text-align: center'>[x, y, z]</td>\n",
    "        <td style='text-align: center'> </td>\n",
    "    </tr>\n",
    "    <tr>\n",
    "        <td style='text-align: center'>vector</td>\n",
    "        <td style='text-align: center'>[x, y, z]</td>\n",
    "        <td style='text-align: center'> </td>\n",
    "    </tr>\n",
    "    <tr>\n",
    "        <td style='text-align: center'>line</td>\n",
    "        <td style='text-align: center'>([x<sub>1</sub>, y<sub>1</sub>, z<sub>1</sub>], [x<sub>2</sub>, y<sub>2</sub>, z<sub>2</sub>])</td>\n",
    "        <td style='text-align: center'>(start point, end point)</td>\n",
    "    </tr>\n",
    "    <tr>\n",
    "        <td style='text-align: center'>plane</td>\n",
    "        <td style='text-align: center'>([x<sub>0</sub>, y<sub>0</sub>, z<sub>0</sub>], [x<sub>n</sub>, y<sub>n</sub>, z<sub>n</sub>])</td>\n",
    "        <td style='text-align: center'>(origin, normal)</td>\n",
    "    </tr>\n",
    "    <tr>\n",
    "        <td style='text-align: center'>circle</td>\n",
    "        <td style='text-align: center'>[([x<sub>0</sub>, y<sub>0</sub>, z<sub>0</sub>], [x<sub>n</sub>, y<sub>n</sub>, z<sub>n</sub>]), r]</td>\n",
    "        <td style='text-align: center'>[(origin, normal), radius]</td>\n",
    "    </tr>\n",
    "    <tr>\n",
    "        <td style='text-align: center'>polyline</td>\n",
    "        <td style='text-align: center'>([x<sub>1</sub>, y<sub>1</sub>, z<sub>1</sub>], [x<sub>2</sub>, y<sub>2</sub>, z<sub>2</sub>], [x<sub>3</sub>, y<sub>3</sub>, z<sub>3</sub>, ...])</td>\n",
    "         <td style='text-align: center'>collection of points</td>\n",
    "    </tr>\n",
    "</table> \n",
    "    \n",
    "</br>"
   ]
  },
  {
   "cell_type": "markdown",
   "id": "dc2f590b-4e32-418e-a436-0935f61699d1",
   "metadata": {},
   "source": [
    "## Geometry Class\n",
    "A geometry type can be described by data. We can use a **Class** as a constructor, a template, or a \"blueprint\" to create **Objects** of a certain geometry type. An **Object** is an instance of a **Class** and it shares all attributes and the behavior of the Class. Classes are used frequently in Python scripting. A class can not only store data, but also define methods (a object-oriented programming term for functions) alongside the data that they operate on and produce. \n",
    "\n",
    "In the following session, we will learn Python Class by creating our own **Point class**. Then we will use the class to create a **Point object**, which represents the point `x=0, y=1, z=1`. \n",
    "\n",
    "### Create Point Class\n",
    "Class definition cannot be empty. Put the `pass` statement to avoid getting an error. "
   ]
  },
  {
   "cell_type": "code",
   "execution_count": 27,
   "id": "0ea6ddce-7f42-4896-b794-69072c9e0e0b",
   "metadata": {},
   "outputs": [
    {
     "name": "stdout",
     "output_type": "stream",
     "text": [
      "<__main__.Point object at 0x7fb6c808a0a0>\n"
     ]
    }
   ],
   "source": [
    "class Point:\n",
    "    \"\"\" Point class\"\"\"\n",
    "    pass\n",
    "\n",
    "pt = Point()  # instantiate an object of Point\n",
    "print(pt) # by default, print the name of the object’s class and the address of the object. "
   ]
  },
  {
   "cell_type": "markdown",
   "id": "b2e4dba2-7b5b-4db8-9866-123e0f9bc476",
   "metadata": {},
   "source": [
    "### `__init__()` function\n",
    "All classes have a function called `__init__()`, which is always executed when the class is being initiated. We can pass some initial values to the class by calling the `__init__()` function. Before the parameters `x`, `y`, `z`, there is a `self`, which refers to the object itself. Then, we need to create new fields also called `x`, `y`, `z`. Notice `self.x` and `x` are two different variables even though they are both called `x`. You can view the dotted notation `self.x` as the attribute of your Point object, and the other x is a local variable. "
   ]
  },
  {
   "cell_type": "code",
   "execution_count": 31,
   "id": "725eac23-6c64-4baa-8aa5-cb99cb9620de",
   "metadata": {},
   "outputs": [
    {
     "name": "stdout",
     "output_type": "stream",
     "text": [
      "xyz coordinates are: 1 1 0\n"
     ]
    }
   ],
   "source": [
    "class Point:\n",
    "    \"\"\" Point class\"\"\"\n",
    "    \n",
    "    def __init__(self, x, y, z):\n",
    "        self.x = x\n",
    "        self.y = y\n",
    "        self.z = z\n",
    "\n",
    "pt = Point(1, 1, 0) # create a point object\n",
    "print(\"xyz coordinates are:\", pt.x, pt.y, pt.z)"
   ]
  },
  {
   "cell_type": "markdown",
   "id": "370ad928-e57a-4040-8411-e85432382c44",
   "metadata": {},
   "source": [
    "### Object Method\n",
    "Now let's add a method to Point class to translate the point. It modifies the object attribute `self.x`, `self.y`, `self.z` by adding the translation distance along the corresponding axis.  "
   ]
  },
  {
   "cell_type": "code",
   "execution_count": 35,
   "id": "84165596-9eda-4921-afbd-db71990bdaac",
   "metadata": {},
   "outputs": [
    {
     "name": "stdout",
     "output_type": "stream",
     "text": [
      "xyz coordinates before translation are: 1 1 0\n",
      "xyz coordinates after translation are: 2 4 1\n"
     ]
    }
   ],
   "source": [
    "class Point:\n",
    "    \"\"\" Point class\"\"\"\n",
    "    \n",
    "    def __init__(self, x, y, z):\n",
    "        self.x = x\n",
    "        self.y = y\n",
    "        self.z = z\n",
    "    \n",
    "    def translate(self, vec_x, vec_y, vec_z):\n",
    "        \"\"\"Translate this point along a 3d vector\"\"\"\n",
    "        self.x += vec_x\n",
    "        self.y += vec_y\n",
    "        self.z += vec_z\n",
    "\n",
    "pt = Point(1, 1, 0) # create a point object\n",
    "print(\"xyz coordinates before translation are:\", pt.x, pt.y, pt.z) \n",
    "pt.translate(1,3,1) \n",
    "print(\"xyz coordinates after translation are:\", pt.x, pt.y, pt.z) "
   ]
  },
  {
   "cell_type": "markdown",
   "id": "13a8488f-409b-40b3-a5c0-adcdaa103a03",
   "metadata": {},
   "source": [
    "## Modify Object Properties\n",
    "Properties on objects can be modified."
   ]
  },
  {
   "cell_type": "code",
   "execution_count": 36,
   "id": "a895c7a4-d728-4037-82f5-bd40b657d90c",
   "metadata": {},
   "outputs": [
    {
     "name": "stdout",
     "output_type": "stream",
     "text": [
      "xyz coordinates after modification are: 3 4 1\n"
     ]
    }
   ],
   "source": [
    "pt.x = 3\n",
    "print(\"xyz coordinates after modification are:\", pt.x, pt.y, pt.z) "
   ]
  },
  {
   "cell_type": "markdown",
   "id": "8c80792e-eb4d-4a6c-a84c-1045190cd4ea",
   "metadata": {},
   "source": [
    "### Use the Point Class from COMPAS\n",
    "COMPAS contains a [Point](https://compas.dev/compas/latest/api/generated/compas.geometry.Point.html?highlight=point#compas.geometry.Point) class which is similar to the one we have created. However, it contains more object methods which have already been developed. In a COMPAS Point class, a Point has three parameters, `x`, `y`, `z`. They could be accessed through indexing as well as through `.x`, `.y`, and `.z` attributes. \n",
    "\n",
    "\n",
    "<img src = \"https://files.gitbook.com/v0/b/gitbook-28427.appspot.com/o/assets%2F-M730QpQnbAMvz44bqhc%2F-MMzyUtFsDByqwGgOo8D%2F-MN-4caIa6sDF5e1YGok%2Fimage.png?alt=media&token=2c8d3140-e57b-49a2-8f16-d89ba351319c\" width=\"700\" style=\"margin-left:auto; margin-right:auto\"/>\n"
   ]
  },
  {
   "cell_type": "code",
   "execution_count": 41,
   "id": "857d4822-e4ed-4585-9af5-2ed098d180a3",
   "metadata": {},
   "outputs": [
    {
     "name": "stdout",
     "output_type": "stream",
     "text": [
      "1.0\n",
      "True\n",
      "Point(0.000, 5.000, 1.000)\n"
     ]
    }
   ],
   "source": [
    "from compas.geometry import Point\n",
    "\n",
    "my_point = Point(0, 1, 1)  # create a point object\n",
    "print(my_point.y)  # attribute y of point\n",
    "print(my_point[1] == my_point.y)\n",
    "\n",
    "my_point.y = 5  # reassign the attribute y\n",
    "print(my_point) # Point class contains a class function that prints the summary of the object"
   ]
  },
  {
   "cell_type": "markdown",
   "id": "cc7392d7-f79b-44b7-8dd3-8bac7d2920f7",
   "metadata": {},
   "source": [
    "### Geometry Classes in COMPAS\n",
    "\n",
    "\n",
    "<table style='float:center;'>\n",
    "    <tr>\n",
    "        <th style='text-align: center'>Geometry</th>\n",
    "        <th style='text-align: center'>Data</th>\n",
    "        <th style='text-align: center'>Description</th>\n",
    "    </tr>\n",
    "    <tr>\n",
    "        <td style='text-align: center'>point</td>\n",
    "        <td style='text-align: center'>[x, y, z]</td>\n",
    "        <td style='text-align: center'> </td>\n",
    "    </tr>\n",
    "    <tr>\n",
    "        <td style='text-align: center'>vector</td>\n",
    "        <td style='text-align: center'>[x, y, z]</td>\n",
    "        <td style='text-align: center'> </td>\n",
    "    </tr>\n",
    "    <tr>\n",
    "        <td style='text-align: center'>line</td>\n",
    "        <td style='text-align: center'>([x<sub>1</sub>, y<sub>1</sub>, z<sub>1</sub>], [x<sub>2</sub>, y<sub>2</sub>, z<sub>2</sub>])</td>\n",
    "        <td style='text-align: center'>(start point, end point)</td>\n",
    "    </tr>\n",
    "    <tr>\n",
    "        <td style='text-align: center'>plane</td>\n",
    "        <td style='text-align: center'>([x<sub>0</sub>, y<sub>0</sub>, z<sub>0</sub>], [x<sub>n</sub>, y<sub>n</sub>, z<sub>n</sub>])</td>\n",
    "        <td style='text-align: center'>(origin, normal)</td>\n",
    "    </tr>\n",
    "    <tr>\n",
    "        <td style='text-align: center'>circle</td>\n",
    "        <td style='text-align: center'>[([x<sub>0</sub>, y<sub>0</sub>, z<sub>0</sub>], [x<sub>n</sub>, y<sub>n</sub>, z<sub>n</sub>]), r]</td>\n",
    "        <td style='text-align: center'>[(origin, normal), radius]</td>\n",
    "    </tr>\n",
    "    <tr>\n",
    "        <td style='text-align: center'>polyline</td>\n",
    "        <td style='text-align: center'>([x<sub>1</sub>, y<sub>1</sub>, z<sub>1</sub>], [x<sub>2</sub>, y<sub>2</sub>, z<sub>2</sub>], [x<sub>3</sub>, y<sub>3</sub>, z<sub>3</sub>, ...])</td>\n",
    "         <td style='text-align: center'>collection of points</td>\n",
    "    </tr>\n",
    "</table> "
   ]
  },
  {
   "cell_type": "markdown",
   "id": "6cc1baba",
   "metadata": {},
   "source": [
    "## Data and Visualization\n",
    "to visualize the data, we need a plotter / viewer"
   ]
  },
  {
   "cell_type": "markdown",
   "id": "53986f56",
   "metadata": {},
   "source": [
    "## Tutorials\n",
    "a series of tutorials, how to visualize the geometries"
   ]
  },
  {
   "cell_type": "markdown",
   "id": "a4f721b5",
   "metadata": {},
   "source": [
    "## Geometry Operations\n",
    "transformation, cross product"
   ]
  },
  {
   "cell_type": "code",
   "execution_count": null,
   "id": "74eaf300",
   "metadata": {},
   "outputs": [],
   "source": []
  },
  {
   "cell_type": "code",
   "execution_count": null,
   "id": "a9259be7",
   "metadata": {},
   "outputs": [],
   "source": []
  },
  {
   "cell_type": "code",
   "execution_count": null,
   "id": "90b802e8",
   "metadata": {},
   "outputs": [],
   "source": []
  },
  {
   "cell_type": "code",
   "execution_count": null,
   "id": "e5047db9",
   "metadata": {},
   "outputs": [],
   "source": []
  },
  {
   "cell_type": "code",
   "execution_count": null,
   "id": "e728be38",
   "metadata": {},
   "outputs": [],
   "source": []
  },
  {
   "cell_type": "code",
   "execution_count": 1,
   "id": "6a783cbc",
   "metadata": {},
   "outputs": [],
   "source": [
    "from compas.geometry import Point\n",
    "\n",
    "point1 = Point(0, 0, 0)\n",
    "point2 = Point(0, 1, 0)\n",
    "point3 = Point(3, 2, 0)\n"
   ]
  },
  {
   "cell_type": "code",
   "execution_count": 2,
   "id": "a5ebfd16",
   "metadata": {
    "tags": []
   },
   "outputs": [],
   "source": [
    "from random import random\n",
    "\n",
    "from compas.geometry import Pointcloud\n",
    "from compas.utilities import i_to_rgb\n",
    "from compas_plotters import Plotter"
   ]
  },
  {
   "cell_type": "code",
   "execution_count": 4,
   "id": "45d55a49",
   "metadata": {
    "tags": []
   },
   "outputs": [
    {
     "data": {
      "image/png": "[encoded data removed]",
      "text/plain": [
       "<Figure size 800x500 with 1 Axes>"
      ]
     },
     "metadata": {},
     "output_type": "display_data"
    }
   ],
   "source": [
    "import matplotlib\n",
    "matplotlib.pyplot.ion()\n",
    "\n",
    "# Pointcloud Geometry\n",
    "pcl = Pointcloud.from_bounds(10, 5, 0, 100)\n",
    "\n",
    "# Plotter\n",
    "plotter = Plotter(show_axes=True)\n",
    "\n",
    "# TODO: How to clear the plotter?!\n",
    "\n",
    "for point in pcl.points:\n",
    "    plotter.add(point, facecolor=i_to_rgb(random(), normalize=True))\n",
    "\n",
    "# plotter.zoom_extents()\n",
    "from IPython.display import display\n",
    "fig = plotter.figure\n",
    "display(fig)"
   ]
  },
  {
   "cell_type": "code",
   "execution_count": null,
   "id": "17c9a6c0-315c-44e7-8c3a-02f75d9ac9cc",
   "metadata": {},
   "outputs": [],
   "source": []
  },
  {
   "cell_type": "code",
   "execution_count": null,
   "id": "7d6bd949-c4f3-48e7-8650-65d1e6c08b19",
   "metadata": {},
   "outputs": [],
   "source": []
  },
  {
   "cell_type": "code",
   "execution_count": null,
   "id": "ccedd0c8-56e3-46d7-bf16-205982da6cf0",
   "metadata": {},
   "outputs": [],
   "source": []
  },
  {
   "cell_type": "code",
   "execution_count": null,
   "id": "bf9b91f5-e37a-4bbb-9217-f0e664d01f54",
   "metadata": {},
   "outputs": [],
   "source": []
  },
  {
   "cell_type": "code",
   "execution_count": null,
   "id": "3fb7075a-795b-4ed7-b470-1ab2410d34be",
   "metadata": {},
   "outputs": [],
   "source": []
  }
 ],
 "metadata": {
  "interpreter": {
   "hash": "5e897d0e4e978ef05e1a63d69df614a45a680d18e8ec0fd527b8776f3a2cd736"
  },
  "kernelspec": {
   "display_name": "Python 3",
   "language": "python",
   "name": "python3"
  },
  "language_info": {
   "codemirror_mode": {
    "name": "ipython",
    "version": 3
   },
   "file_extension": ".py",
   "mimetype": "text/x-python",
   "name": "python",
   "nbconvert_exporter": "python",
   "pygments_lexer": "ipython3",
   "version": "3.8.8"
  }
 },
 "nbformat": 4,
 "nbformat_minor": 5
}
