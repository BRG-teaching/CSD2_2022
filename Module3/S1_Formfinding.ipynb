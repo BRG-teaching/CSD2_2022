{
 "cells": [
  {
   "cell_type": "markdown",
   "metadata": {},
   "source": [
    "## From Syllabus:\n",
    "\n",
    "Workflow for subtractive manufacturing:\n",
    " -Setting up the print area \n",
    " -Milling contours on the blocks\n",
    " -Milling feasibility: \n",
    "    Curvature analysis - milling check check check and \n",
    "    Mitigation strategies\n",
    "\n",
    "Milling data protocol: Preparing the Milling data set for 1 block\n",
    "\n",
    "File-to-Factory: Digital Simulation of 3/5-axis milling for one block \n",
    "\n",
    "\n",
    "-----"
   ]
  },
  {
   "cell_type": "markdown",
   "metadata": {},
   "source": [
    "# Introduction to Subtractive Manufacturing Workflows\n",
    "\n",
    "### Lesson 1: Workflow Design & Setup\n",
    "\n",
    "In this lesson we will do a number of things. To begin, we will take the output of RV2 and make further modifications to create some discretized version of the form that can be manufactured using a **4-axis CNC machine**.\n",
    "\n",
    "The first step in any process is to have an overview of the steps required in the process."
   ]
  },
  {
   "cell_type": "markdown",
   "metadata": {},
   "source": [
    "<figure>\n",
    "    <img src=\"../img/S_workflowoverview_1.png\"\n",
    "         alt=\"Flowchart of the Basic Subtractive Workflow\"\n",
    "         width=\"1200px\">\n",
    "</figure>\n",
    "\n",
    "**Flowchart of the Basic Subtractive Workflow**"
   ]
  },
  {
   "cell_type": "markdown",
   "metadata": {},
   "source": [
    "From here, we can develop the workflow for the first portion of the process, which is the formfinding and discretization steps."
   ]
  },
  {
   "cell_type": "markdown",
   "metadata": {},
   "source": [
    "<figure>\n",
    "    <img src=\"../img/S1_workflow.png\"\n",
    "         alt=\"Flowchart of the Basic Subtractive Workflow\"\n",
    "         width=\"750px\">\n",
    "</figure>\n",
    "\n",
    "**Flowchart of the Basic Subtractive Workflow**"
   ]
  },
  {
   "cell_type": "markdown",
   "metadata": {},
   "source": [
    "The steps to initialize are therefore to have some background information on what material we intend to use. For this exercise, we will focus on using something standard. \n",
    "\n",
    "### Step #0 Material Selection & Input Data\n",
    "\n",
    "The material we will focus on is Medium Density Fibreboard (MDF). After some brief research, we know that these panels come in thicknesses of **XX to XX mm**, with basic widthxheight dimensions of **XX-XX mm x XX-XX mm**. \n",
    "\n",
    "These values will be important to keep in mind throughout the process to assess for feasibility.\n",
    "\n",
    "For now we will take our .json file from RV2 and approximate a thickness of **XX mm**, per our findings, to officially initialize the workflow.\n",
    "\n"
   ]
  },
  {
   "cell_type": "markdown",
   "metadata": {},
   "source": [
    "--------\n",
    "\n",
    "#### Importing relevant libraries\n",
    "\n",
    "As in the Additive workflow, step one is to always import the libraries needed in the following code. \n",
    "\n",
    "For reference, here are the API references for the imported libraries, so you can look at the all the commands:\n",
    "- [compas](https://compas.dev/compas/latest/api.html)\n",
    "- [compas_view2](https://compas.dev/compas_view2/latest/api.html)\n"
   ]
  },
  {
   "cell_type": "code",
   "execution_count": 1,
   "metadata": {},
   "outputs": [],
   "source": [
    "import compas\n",
    "from compas.datastructures import Mesh\n",
    "from compas_view2.app import App"
   ]
  },
  {
   "cell_type": "markdown",
   "metadata": {},
   "source": [
    "#### Input Data\n",
    "\n",
    "First we load our .json with the file, then set some variable equal to the part of that file with the information for the form.\n",
    "\n",
    "Second, we will set a variable named **thickness** to **XX mm** as we already decided."
   ]
  },
  {
   "cell_type": "code",
   "execution_count": 2,
   "metadata": {},
   "outputs": [],
   "source": [
    "data = compas.json_load('input/rv2_thrust.json')\n",
    "\n",
    "form = data['data']['thrust']\n",
    "thickness = 200"
   ]
  },
  {
   "cell_type": "markdown",
   "metadata": {},
   "source": [
    "#### Create a Mesh\n",
    "\n",
    "From our form data, it is possible to create a mesh object that we can use in the subsequent steps of the workflow."
   ]
  },
  {
   "cell_type": "code",
   "execution_count": 3,
   "metadata": {},
   "outputs": [],
   "source": [
    "mesh = Mesh.from_data(form)"
   ]
  },
  {
   "cell_type": "markdown",
   "metadata": {},
   "source": [
    "#### Visualization\n",
    "\n",
    "It is good to first confirm our mesh is properly importing. Therefore, we will set up our viewer and visualize the mesh and confirm that it is ready for the following steps. \n",
    "\n",
    "The viewer from `compas_view2` has many settings, and it can be helpful to standardize the way the viewer loads to more quickly assess your work.\n",
    "\n",
    "Set the App to some size that works for your computer (width and height in pixels) and then play around with the camera settings."
   ]
  },
  {
   "cell_type": "code",
   "execution_count": 5,
   "metadata": {},
   "outputs": [],
   "source": [
    "viewer = App(width=1200, height=750)\n",
    "viewer.view.camera.rz = 115\n",
    "viewer.view.camera.rx = -72\n",
    "viewer.view.camera.tx = 0\n",
    "viewer.view.camera.ty = -1\n",
    "viewer.view.camera.distance = 55"
   ]
  },
  {
   "cell_type": "markdown",
   "metadata": {},
   "source": [
    "\n",
    "\n",
    "#### Add your Mesh object to the viewer"
   ]
  },
  {
   "cell_type": "code",
   "execution_count": 6,
   "metadata": {},
   "outputs": [
    {
     "data": {
      "text/plain": [
       "<compas_view2.objects.meshobject.MeshObject at 0x16a625d90>"
      ]
     },
     "execution_count": 6,
     "metadata": {},
     "output_type": "execute_result"
    }
   ],
   "source": [
    "viewer.add(mesh)"
   ]
  },
  {
   "cell_type": "markdown",
   "metadata": {},
   "source": [
    "\n",
    "\n",
    "#### Launch the Viewer"
   ]
  },
  {
   "cell_type": "code",
   "execution_count": 7,
   "metadata": {},
   "outputs": [],
   "source": [
    "viewer.show()"
   ]
  },
  {
   "cell_type": "markdown",
   "metadata": {},
   "source": [
    "## Evaluate Existing Mesh\n",
    "\n",
    "First we need to evaluate the mesh and "
   ]
  },
  {
   "cell_type": "code",
   "execution_count": null,
   "metadata": {},
   "outputs": [],
   "source": []
  },
  {
   "cell_type": "markdown",
   "metadata": {},
   "source": [
    "\n",
    "\n",
    "### Step #1 Mesh Thickness\n",
    "\n",
    "The next step is to actually add thickness to the mesh shape, using our `thickness` variable."
   ]
  },
  {
   "cell_type": "code",
   "execution_count": null,
   "metadata": {},
   "outputs": [],
   "source": [
    "# Use Mesh to create a thickness"
   ]
  },
  {
   "cell_type": "markdown",
   "metadata": {},
   "source": [
    "#### Etc. Etc. ...\n",
    "..."
   ]
  },
  {
   "cell_type": "code",
   "execution_count": null,
   "metadata": {},
   "outputs": [],
   "source": []
  },
  {
   "cell_type": "markdown",
   "metadata": {},
   "source": [
    "<span style=\"color:white; font-size: 150%; background-color:#0092d2\">  Output #1: *Mesh*  </span>."
   ]
  },
  {
   "cell_type": "code",
   "execution_count": null,
   "metadata": {},
   "outputs": [],
   "source": []
  },
  {
   "cell_type": "code",
   "execution_count": null,
   "metadata": {},
   "outputs": [],
   "source": []
  }
 ],
 "metadata": {
  "interpreter": {
   "hash": "63fd85dfb4936940784d2f65806e398c40e310594de4f1d16dcf9dc75bad7692"
  },
  "kernelspec": {
   "display_name": "Python 3.9.9 64-bit ('csd2': conda)",
   "language": "python",
   "name": "python399jvsc74a57bd063fd85dfb4936940784d2f65806e398c40e310594de4f1d16dcf9dc75bad7692"
  },
  "language_info": {
   "codemirror_mode": {
    "name": "ipython",
    "version": 3
   },
   "file_extension": ".py",
   "mimetype": "text/x-python",
   "name": "python",
   "nbconvert_exporter": "python",
   "pygments_lexer": "ipython3",
   "version": "3.9.9"
  }
 },
 "nbformat": 4,
 "nbformat_minor": 2
}
