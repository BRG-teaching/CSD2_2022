{
 "cells": [
  {
   "cell_type": "markdown",
   "id": "666a918b",
   "metadata": {
    "slideshow": {
     "slide_type": "slide"
    }
   },
   "source": [
    "# Computational Structural Design II <br/> Intro to Abrasive Wire Cutting I\n",
    "\n",
    "### Learning Goal: \n",
    "- orient block on machine bed\n",
    "- determine cutting paths\n",
    "- output machining datasets"
   ]
  },
  {
   "cell_type": "markdown",
   "id": "c8b3a403",
   "metadata": {
    "slideshow": {
     "slide_type": "slide"
    }
   },
   "source": [
    "## First, a brief overview...\n",
    "\n",
    "\n",
    "### In this lesson we will use:\n",
    "- Co-ordinate Systems\n",
    "- Frames\n",
    "- Translations\n",
    "- Meshes"
   ]
  },
  {
   "cell_type": "markdown",
   "id": "b13bc9f9",
   "metadata": {
    "slideshow": {
     "slide_type": "slide"
    }
   },
   "source": [
    "### Step One is to Plan\n"
   ]
  },
  {
   "cell_type": "markdown",
   "id": "45031dd4",
   "metadata": {
    "slideshow": {
     "slide_type": "fragment"
    }
   },
   "source": [
    "<!-- ![Wirecutting Flowchart](img/wirecutting_flowchart.png) -->\n",
    "<img src=\"img/wirecutting_flowchart.png\" width=\"500\">"
   ]
  },
  {
   "cell_type": "markdown",
   "id": "3318f554",
   "metadata": {
    "slideshow": {
     "slide_type": "slide"
    }
   },
   "source": [
    "### Content:\n",
    "- [Determine Machine](#1)\n",
    "- [Import Blocks](#a)\n",
    "- [Generate Blanks](#b)\n",
    "- [Orient on Machining Table](#c)\n",
    "- [Prepare for Wire Path](#d)\n",
    "- [Generate Wire Path](#e)\n",
    "\n",
    "\n",
    "### Exercise:\n",
    "- Ex. 9.1  Orient Block for Cutting\n",
    "- Ex. 9.2  Add Geometry of Cutting Material\n",
    "- Ex. 9.3  Place Block w/ Cutting Material on Machine Bed\n",
    "- Ex. 9.4  Generate Wire Cutter Path & Output\n",
    "</br>\n",
    "---"
   ]
  },
  {
   "cell_type": "markdown",
   "id": "593bead6",
   "metadata": {
    "slideshow": {
     "slide_type": "slide"
    }
   },
   "source": [
    "### Determine a Machine\n",
    "\n",
    "There are many types of wire-cutting machines, but it is also helpful to instead consider any machine which can cut the geometry we have produced. Therefore, additional machines which do not rely on a wire but cut the same geometries are included for comparison in the following table."
   ]
  },
  {
   "cell_type": "markdown",
   "id": "4e064bff",
   "metadata": {
    "slideshow": {
     "slide_type": "subslide"
    }
   },
   "source": [
    "# Possible Types of Machines\n",
    "\n",
    "| Wirecutting Type     | Image                                                     | Possible Materials                    |\n",
    "| :--------------------: | :---------------------------------------------------------: | :-------------------------------------: |\n",
    "| Hot Wirecutting      | <img src=\"img/foam_robotic_wirecutting.jpeg\" width=\"800\"> | Foam                                  |\n",
    "| Abrasive Wirecutting | <img src=\"img/robottic-wire-cutting-1.jpeg\" width=\"800\">  | Wood, Plastic, Rubber, </br> Mycelium, Etc. |\n",
    "| Diamond Wirecutting  | <img src=\"img/curved-wave-jointed-arch.jpeg\" width=\"800\">                                                          | Stone, Marble, Etc.                   |\n",
    "\n",
    " \n",
    "  \n",
    "   \n",
    "   \n",
    "| Non-Wire Cutting Type  |    Image | Possible Materials |\n",
    "| :----------------------: | :---: | :------------------: |\n",
    "| 3D Waterjet Cutting    |  <img src=\"img/3d-water-jet-cutting2.jpeg\" width=\"800\">   | Metal              |\n",
    "| 6-axis Robotic Bandsaw |  <img src=\"img/6axis_bandsaw_actual.jpeg\" width=\"800\">   | Wood, Etc.         |\n",
    "\n"
   ]
  },
  {
   "cell_type": "markdown",
   "id": "ad0ef207",
   "metadata": {
    "slideshow": {
     "slide_type": "slide"
    }
   },
   "source": [
    "**Abrasive Wirecutting** is the machine which can handle the geometries which we are generating as well as open the possible material choices to some which are more sustainable than polystyrene foams. \n",
    "\n",
    "It is worth noting that this is not an industry-standard production method and so while it is suitable for this case, we are working in the assumption that we are prototyping which makes this a more competitive option."
   ]
  },
  {
   "cell_type": "markdown",
   "id": "b3b34112",
   "metadata": {
    "slideshow": {
     "slide_type": "slide"
    }
   },
   "source": [
    "According to [odico.dk](https://odico.dk/en/processesmethods/#), a company which uses abrasive wirecutting, their standard workpiece dimensions are **2400 x 1200 x 1550 mm**. We will use this as our guide.\n",
    "\n",
    "So we can already set our `machine_dim` variable for the rest of the workflow."
   ]
  },
  {
   "cell_type": "code",
   "execution_count": 7,
   "id": "58801f73",
   "metadata": {},
   "outputs": [],
   "source": [
    "machine_dim = [2400, 1200, 1550]"
   ]
  },
  {
   "cell_type": "markdown",
   "id": "b6c86a70",
   "metadata": {
    "slideshow": {
     "slide_type": "slide"
    }
   },
   "source": [
    "## Let's begin the workflow..."
   ]
  },
  {
   "cell_type": "markdown",
   "id": "3cea469e",
   "metadata": {
    "slideshow": {
     "slide_type": "fragment"
    }
   },
   "source": [
    "<a id='a'></a>\n",
    "# Importing Blocks <br/>\n",
    "## Preparation:\n",
    "Locate the `.json` file with the exported discretized blocks.\n",
    "\n",
    "## Step 1: Import the file and turn it into a usable format\n"
   ]
  },
  {
   "cell_type": "code",
   "execution_count": 8,
   "id": "e7c62071",
   "metadata": {
    "slideshow": {
     "slide_type": "slide"
    }
   },
   "outputs": [],
   "source": [
    "#import the relavant libraries\n",
    "import compas\n",
    "from compas.datastructures import Mesh\n",
    "\n",
    "#read the data\n",
    "data = compas.json_load(\"placeholder.json\")\n",
    "# grab the Mesh from the data by reading it and automatically defining it as a Mesh\n",
    "mesh: Mesh = data['mesh']"
   ]
  },
  {
   "cell_type": "markdown",
   "id": "8553a5a1",
   "metadata": {},
   "source": [
    "## Step 2: Re-orient the Blocks\n",
    "\n",
    "This next step requires us to first give some local xyz orientation to the blocks themselves, and then align that orientation to the world xyz. we use the datatype of frames in order to do define these axes, then use different frames to compare them to each other and define translations. Think of it this way...\n",
    "\n",
    "Frame Translations???\n",
    "\n"
   ]
  },
  {
   "cell_type": "code",
   "execution_count": 12,
   "id": "e258ab89",
   "metadata": {},
   "outputs": [],
   "source": [
    "from compas.geometry import Frame, Rotation, Transformation"
   ]
  },
  {
   "cell_type": "code",
   "execution_count": 13,
   "id": "5b4ad30c",
   "metadata": {},
   "outputs": [],
   "source": [
    "# First, reset the orientation which is defined in the json\n",
    "\n",
    "mesh.update_default_face_attributes(left=False)\n",
    "mesh.update_default_face_attributes(top=False)\n",
    "mesh.update_default_face_attributes(front=False)"
   ]
  },
  {
   "cell_type": "code",
   "execution_count": 14,
   "id": "7e387972",
   "metadata": {},
   "outputs": [],
   "source": [
    "# find faces furthest in each direction\n",
    "# color-code these faces"
   ]
  },
  {
   "cell_type": "code",
   "execution_count": null,
   "id": "77e1e8f9",
   "metadata": {},
   "outputs": [],
   "source": [
    "# define a world coordinate system\n",
    "world = Frame.worldXY()"
   ]
  },
  {
   "cell_type": "code",
   "execution_count": null,
   "id": "5795214d",
   "metadata": {},
   "outputs": [],
   "source": [
    "# build a transformation between the local xyz and the world xy\n",
    "X = Transformation.from_frame_to_frame(new_frame, world)"
   ]
  },
  {
   "cell_type": "markdown",
   "id": "c4ceaafa",
   "metadata": {},
   "source": [
    "## Step 3: Blank Material\n",
    "\n",
    "Now we will generate the blank material from which the block is going to be cut. This step entails finding the `oriented bounding box` of our block which we are cutting."
   ]
  },
  {
   "cell_type": "code",
   "execution_count": 15,
   "id": "ac574e72",
   "metadata": {},
   "outputs": [],
   "source": [
    "# get all the vertices of the mesh\n",
    "# use the oriented_bounding_box_numpy command to find the blank which concompases all the vertices\n",
    "# scale up the box for tolerance"
   ]
  }
 ],
 "metadata": {
  "celltoolbar": "Slideshow",
  "kernelspec": {
   "display_name": "Python 3 (ipykernel)",
   "language": "python",
   "name": "python3"
  },
  "language_info": {
   "codemirror_mode": {
    "name": "ipython",
    "version": 3
   },
   "file_extension": ".py",
   "mimetype": "text/x-python",
   "name": "python",
   "nbconvert_exporter": "python",
   "pygments_lexer": "ipython3",
   "version": "3.9.10"
  }
 },
 "nbformat": 4,
 "nbformat_minor": 5
}
