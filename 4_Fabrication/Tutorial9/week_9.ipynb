{
 "cells": [
  {
   "cell_type": "markdown",
   "id": "666a918b",
   "metadata": {
    "slideshow": {
     "slide_type": "slide"
    }
   },
   "source": [
    "# Computational Structural Design II <br/> Intro to Abrasive Wire Cutting I\n",
    "\n",
    "### Learning Goal: \n",
    "- orient block on machine bed\n",
    "- determine cutting paths\n",
    "- output machining datasets"
   ]
  },
  {
   "cell_type": "markdown",
   "id": "c8b3a403",
   "metadata": {
    "slideshow": {
     "slide_type": "slide"
    }
   },
   "source": [
    "## First, a brief overview...\n",
    "\n",
    "\n",
    "### In this lesson we will use:\n",
    "- Co-ordinate Systems\n",
    "- Frames\n",
    "- Translations\n",
    "- Meshes"
   ]
  },
  {
   "cell_type": "markdown",
   "id": "b13bc9f9",
   "metadata": {
    "slideshow": {
     "slide_type": "slide"
    }
   },
   "source": [
    "### Step One is to Plan\n"
   ]
  },
  {
   "cell_type": "markdown",
   "id": "45031dd4",
   "metadata": {
    "slideshow": {
     "slide_type": "fragment"
    }
   },
   "source": [
    "<!-- ![Wirecutting Flowchart](img/wirecutting_flowchart.png) -->\n",
    "<img src=\"img/wirecutting_flowchart.png\" width=\"500\">"
   ]
  },
  {
   "cell_type": "markdown",
   "id": "3318f554",
   "metadata": {
    "slideshow": {
     "slide_type": "slide"
    }
   },
   "source": [
    "### Content:\n",
    "- [Determine Machine](#1)\n",
    "- [Import Blocks](#a)\n",
    "- [Generate Blanks](#b)\n",
    "- [Orient on Machining Table](#c)\n",
    "- [Prepare for Wire Path](#d)\n",
    "- [Generate Wire Path](#e)\n",
    "\n",
    "\n",
    "### Exercise:\n",
    "- Ex. 9.1  Orient Block for Cutting\n",
    "- Ex. 9.2  Add Geometry of Cutting Material\n",
    "- Ex. 9.3  Place Block w/ Cutting Material on Machine Bed\n",
    "- Ex. 9.4  Generate Wire Cutter Path & Output\n",
    "</br>\n",
    "---"
   ]
  },
  {
   "cell_type": "markdown",
   "id": "593bead6",
   "metadata": {
    "slideshow": {
     "slide_type": "slide"
    }
   },
   "source": [
    "### Determine a Machine\n",
    "\n",
    "There are many types of wire-cutting machines, but it is also helpful to instead consider any machine which can cut the geometry we have produced. Therefore, additional machines which do not rely on a wire but cut the same geometries are included for comparison in the following table."
   ]
  },
  {
   "cell_type": "markdown",
   "id": "4e064bff",
   "metadata": {
    "slideshow": {
     "slide_type": "subslide"
    }
   },
   "source": [
    "# Possible Types of Machines\n",
    "\n",
    "| Wirecutting Type     | Image                                                     | Possible Materials                    |\n",
    "| :--------------------: | :---------------------------------------------------------: | :-------------------------------------: |\n",
    "| Hot Wirecutting      | <img src=\"img/foam_robotic_wirecutting.jpeg\" width=\"800\"> | Foam                                  |\n",
    "| Abrasive Wirecutting | <img src=\"img/robottic-wire-cutting-1.jpeg\" width=\"800\">  | Wood, Plastic, Rubber, </br> Mycelium, Etc. |\n",
    "| Diamond Wirecutting  | <img src=\"img/curved-wave-jointed-arch.jpeg\" width=\"800\">                                                          | Stone, Marble, Etc.                   |\n",
    "\n",
    " \n",
    "  \n",
    "   \n",
    "   \n",
    "| Non-Wire Cutting Type  |    Image | Possible Materials |\n",
    "| :----------------------: | :---: | :------------------: |\n",
    "| 3D Waterjet Cutting    |  <img src=\"img/3d-water-jet-cutting2.jpeg\" width=\"800\">   | Metal              |\n",
    "| 6-axis Robotic Bandsaw |  <img src=\"img/6axis_bandsaw_actual.jpeg\" width=\"800\">   | Wood, Etc.         |\n",
    "\n"
   ]
  },
  {
   "cell_type": "markdown",
   "id": "ad0ef207",
   "metadata": {
    "slideshow": {
     "slide_type": "slide"
    }
   },
   "source": [
    "**Abrasive Wirecutting** is the machine which can handle the geometries which we are generating as well as open the possible material choices to some which are more sustainable than polystyrene foams. \n",
    "\n",
    "It is worth noting that this is not an industry-standard production method and so while it is suitable for this case, we are working in the assumption that we are prototyping which makes this a more competitive option."
   ]
  },
  {
   "cell_type": "markdown",
   "id": "b3b34112",
   "metadata": {
    "slideshow": {
     "slide_type": "slide"
    }
   },
   "source": [
    "According to [odico.dk](https://odico.dk/en/processesmethods/#), a company which uses abrasive wirecutting, their standard workpiece dimensions are **2400 x 1200 x 1550 mm**. We will use this as our guide.\n",
    "\n",
    "So we can already set our `machine_dim` variable for the rest of the workflow."
   ]
  },
  {
   "cell_type": "code",
   "execution_count": 7,
   "id": "4b911e28",
   "metadata": {},
   "outputs": [],
   "source": [
    "machine_dim = [2400, 1200, 1550]"
   ]
  },
  {
   "cell_type": "markdown",
   "id": "b6c86a70",
   "metadata": {
    "slideshow": {
     "slide_type": "slide"
    }
   },
   "source": [
    "## Let's begin the workflow..."
   ]
  },
  {
   "cell_type": "markdown",
   "id": "3cea469e",
   "metadata": {
    "slideshow": {
     "slide_type": "fragment"
    }
   },
   "source": [
    "<a id='a'></a>\n",
    "# Importing Blocks <br/>\n",
    "## Preparation:\n",
    "Locate the `.json` file with the exported discretized blocks.\n",
    "\n",
    "## Step 1: Import the file and turn it into a usable format\n"
   ]
  },
  {
   "cell_type": "code",
   "execution_count": 8,
   "id": "1b23bf26",
   "metadata": {
    "slideshow": {
     "slide_type": "slide"
    }
   },
   "outputs": [],
   "source": [
    "#import the relavant libraries\n",
    "import compas\n",
    "from compas.datastructures import Mesh\n",
    "\n",
    "#read the data\n",
    "data = compas.json_load(\"placeholder.json\")\n",
    "# grab the Mesh from the data by reading it and automatically defining it as a Mesh\n",
    "mesh: Mesh = data['mesh']"
   ]
  },
  {
   "cell_type": "markdown",
   "id": "1bf14f45",
   "metadata": {},
   "source": [
    "## Step 2: Re-orient the Blocks\n",
    "\n",
    "This next step requires us to first give some local xyz orientation to the blocks themselves, and then align that orientation to the world xyz. we use the datatype of frames in order to do define these axes, then use different frames to compare them to each other and define translations. Think of it this way...\n",
    "\n",
    "Frame Translations???\n",
    "\n"
   ]
  },
  {
   "cell_type": "code",
   "execution_count": 12,
   "id": "1d08146e",
   "metadata": {},
   "outputs": [],
   "source": [
    "from compas.geometry import Frame, Rotation, Transformation"
   ]
  },
  {
   "cell_type": "code",
   "execution_count": 13,
   "id": "8c3d9919",
   "metadata": {},
   "outputs": [],
   "source": [
    "# First, reset the orientation which is defined in the json\n",
    "\n",
    "mesh.update_default_face_attributes(left=False)\n",
    "mesh.update_default_face_attributes(top=False)\n",
    "mesh.update_default_face_attributes(front=False)"
   ]
  },
  {
   "cell_type": "code",
   "execution_count": 14,
   "id": "cebbbd27",
   "metadata": {},
   "outputs": [],
   "source": [
    "# find faces furthest in each direction\n",
    "# color-code these faces"
   ]
  },
  {
   "cell_type": "code",
   "execution_count": null,
   "id": "db256397",
   "metadata": {},
   "outputs": [],
   "source": [
    "# define a world coordinate system\n",
    "world = Frame.worldXY()"
   ]
  },
  {
   "cell_type": "code",
   "execution_count": null,
   "id": "8aedf2f8",
   "metadata": {},
   "outputs": [],
   "source": [
    "# build a transformation between the local xyz and the world xy\n",
    "X = Transformation.from_frame_to_frame(new_frame, world)"
   ]
  },
  {
   "cell_type": "markdown",
   "id": "c4ceaafa",
   "metadata": {},
   "source": [
    "## Step 3: Blank Material\n",
    "\n",
    "Now we will generate the blank material from which the block is going to be cut. This step entails finding the `oriented bounding box` of our block which we are cutting."
   ]
  },
  {
   "cell_type": "code",
   "execution_count": 15,
   "id": "ac574e72",
   "metadata": {},
   "outputs": [],
   "source": [
    "# get all the vertices of the mesh\n",
    "# use the oriented_bounding_box_numpy command to find the blank which concompases all the vertices\n",
    "# scale up the box for tolerance"
   ]
  },
  {
   "cell_type": "markdown",
   "id": "2c5f0902-08e1-4a01-a92c-53bd9b887398",
   "metadata": {},
   "source": [
    "## Part B: Check Length of All Bars\n",
    "\n",
    "Let's complete the program. You need to repeat the whole process of checking the bar length until you have classified all the bars. You could use another condition in your flowchart for the repetition instructions. After you have checked all the bar in your gridshell, you could count the amount in two length types and calculate the total cost. "
   ]
  },
  {
   "cell_type": "markdown",
   "id": "4cf3c3c4-4fc6-437c-a766-29c66ed1b083",
   "metadata": {},
   "source": [
    "### B_1. Draw Flowchart\n",
    "\n",
    "<img src=\"https://github.com/BlockResearchGroup/CSD2_2022/blob/75a96a6722bcc51b90424947811f8bd725eb24b7/2_Geometry/Tutorial2/img/week1_ex1_2.jpg?raw=true\" style=\"margin-left:auto; margin-right:auto\"/>\n",
    "\n",
    "<br/>"
   ]
  },
  {
   "cell_type": "markdown",
   "id": "193a2a0e-27e9-45cb-b9df-4bf5136db305",
   "metadata": {},
   "source": [
    "### B_2. Write pseudocode"
   ]
  },
  {
   "cell_type": "raw",
   "id": "573cc73f-03ae-4da2-b296-47873732111a",
   "metadata": {},
   "source": [
    "# pick one bar in the gridshell\n",
    "#     if length larger than 3?\n",
    "#         long bar amount + 1\n",
    "#     else\n",
    "#         short bar amount + 1\n",
    "# repeat until the all the bars are checked\n",
    "# calculate total cost"
   ]
  },
  {
   "cell_type": "markdown",
   "id": "41c63a6c-30e5-40b7-9cf5-f1ec93eca056",
   "metadata": {},
   "source": [
    "### B_3. Write the code\n",
    "Here we need to input all the lengths of our bars. Instead of multiple length variables, we could store them in a collection - a [**list**](https://app.gitbook.com/o/-M57B1lKy7REE1wfeNSt/s/-M730QpQnbAMvz44bqhc/learn-to-code/i.-my-first-python-script/cheat-sheet#list). List items are ordered, or in other words, indexed, the first item has index ``0``, the second item has index ``1`` etc."
   ]
  },
  {
   "cell_type": "code",
   "execution_count": 53,
   "id": "0584e6e6-6690-426e-ae80-41567f8f5548",
   "metadata": {},
   "outputs": [
    {
     "name": "stdout",
     "output_type": "stream",
     "text": [
      "1.6\n",
      "3.6\n",
      "2.6\n"
     ]
    }
   ],
   "source": [
    "gridshell = [1.6, 3.6, 2.4, 3.4, 2.7, 2.8, 3.3, 3.1, 3.7, 1.8, 1.8, 2.6]\n",
    "print(gridshell[0])  # 1.6\n",
    "print(gridshell[1])  # 3.6\n",
    "print(gridshell[-1])  # 2.6"
   ]
  },
  {
   "cell_type": "markdown",
   "id": "adb7f6dc-e696-4475-9c9b-083d4ed5de59",
   "metadata": {},
   "source": [
    "To iterate over a list, we could use a [**``for``**](https://app.gitbook.com/o/-M57B1lKy7REE1wfeNSt/s/-M730QpQnbAMvz44bqhc/learn-to-code/i.-my-first-python-script/cheat-sheet#for-loop-and-while-loop) loop. "
   ]
  },
  {
   "cell_type": "code",
   "execution_count": 54,
   "id": "92235e96-9d19-410e-a1ef-56a29798496f",
   "metadata": {},
   "outputs": [
    {
     "name": "stdout",
     "output_type": "stream",
     "text": [
      "1.6\n",
      "3.6\n",
      "2.4\n",
      "3.4\n",
      "2.7\n",
      "2.8\n",
      "3.3\n",
      "3.1\n",
      "3.7\n",
      "1.8\n",
      "1.8\n",
      "2.6\n"
     ]
    }
   ],
   "source": [
    "for bar in gridshell:\n",
    "    print(bar)"
   ]
  },
  {
   "cell_type": "markdown",
   "id": "d15dc3a2-5a8c-42a3-a0f2-7cb0a4e16b3e",
   "metadata": {},
   "source": [
    "Now we go through the list, check the bar length one by one, and count the number of the corresponding type. Thus, we need to initiate the counter of two types at the beginning of our code. Here, we create two new variables: ``long_bar_count``, ``short_bar_count``, and set their initial value to ``0``. "
   ]
  },
  {
   "cell_type": "code",
   "execution_count": 55,
   "id": "cf58ccf5-40b7-46b3-aecd-90364905e6ea",
   "metadata": {},
   "outputs": [
    {
     "name": "stdout",
     "output_type": "stream",
     "text": [
      "Total cost is 46 CHF\n"
     ]
    }
   ],
   "source": [
    "# Input\n",
    "gridshell = [1.6, 3.6, 2.4, 3.4, 2.7, 2.8, 3.3, 3.1, 3.7, 1.8, 1.8, 2.6]\n",
    "long_bar_count = 0\n",
    "short_bar_count = 0\n",
    "long_bar_price = 5\n",
    "short_bar_price = 3\n",
    "\n",
    "# pick one bar in the gridshell, check its length\n",
    "# repeat until the all the bars are checked\n",
    "for bar in gridshell:\n",
    "    # if length bigger than 3?\n",
    "    if bar > 3:\n",
    "        # long bar amount + 1\n",
    "        long_bar_count += 1\n",
    "    # else\n",
    "    else:\n",
    "        # short bar amount + 1\n",
    "        short_bar_count += 1\n",
    "# calculate total cost\n",
    "total_cost = long_bar_count * long_bar_price + short_bar_count * short_bar_price\n",
    "\n",
    "# Output\n",
    "print(\"Total cost is\", total_cost, \"CHF\")"
   ]
  },
  {
   "cell_type": "markdown",
   "id": "dd2cc282-4f40-48ac-9dd3-02efec64b404",
   "metadata": {},
   "source": [
    "## Part C: Modify Bar Length\n",
    "\n",
    "Oh, No!... You realize that you have measured the length of a bars wrongly. Don't worry. The cabarble length list we use as input can be modified because list items are changeable. You could also modify a value in the ``gridshell`` list by referring to the item's **index**. Note that the index always starts from **``0``**! \n",
    "\n",
    "| Bar No. | Index | Length (m) |\n",
    "| :---: | :---: | :---: |\n",
    "| 1 | 0 | 1.6 |\n",
    "| 2 | 1 | 3.6 |\n",
    "| 3 | 2 | 2.4 |\n",
    "| 4 | 3 | 3.4 |\n",
    "| 5 | 4 | 2.7 |\n",
    "| 6 | 5 | 2.8 |\n",
    "| 7 | 6 | 3.3 |\n",
    "| 8 | 7 | 3.1 |\n",
    "| 9 | 8 | 3.7 |\n",
    "| 10 | 9 | 1.8 |\n",
    "| 11 | 10 | 1.8 | \n",
    "| 12 | 11 | 2.6 | \n",
    "\n",
    "For example, we find out the **3<sup>rd</sup>**  bar has the wrong length, whose corresponding index is ``2`` in the list. Find it, and change its value. "
   ]
  },
  {
   "cell_type": "code",
   "execution_count": 56,
   "id": "03c38bad-0e13-48ea-8ca1-93020c80de7f",
   "metadata": {},
   "outputs": [
    {
     "name": "stdout",
     "output_type": "stream",
     "text": [
      "[1.6, 3.6, 2.5, 3.4, 2.7, 2.8, 3.3, 3.1, 3.7, 1.8, 1.8, 2.6]\n"
     ]
    }
   ],
   "source": [
    "gridshell[2] = 2.5\n",
    "print(gridshell)"
   ]
  },
  {
   "cell_type": "markdown",
   "id": "f4de7f41-313b-411a-82b2-4e482ee2f397",
   "metadata": {},
   "source": [
    "If we realize that we have omitted one bar that is 4 m, we could use ``append`` to add it at the end of our list. "
   ]
  },
  {
   "cell_type": "code",
   "execution_count": 57,
   "id": "20299974-77c2-48b9-81cb-f696d0420feb",
   "metadata": {},
   "outputs": [
    {
     "name": "stdout",
     "output_type": "stream",
     "text": [
      "We have 12 bars.\n",
      "[1.6, 3.6, 2.5, 3.4, 2.7, 2.8, 3.3, 3.1, 3.7, 1.8, 1.8, 2.6]\n",
      "After adding the new bar, we have 13 bars.\n",
      "[1.6, 3.6, 2.5, 3.4, 2.7, 2.8, 3.3, 3.1, 3.7, 1.8, 1.8, 2.6, 4.0]\n"
     ]
    }
   ],
   "source": [
    "print(\"We have\", len(gridshell), \"bars.\")\n",
    "print(gridshell)\n",
    "gridshell.append(4.0)\n",
    "print(\"After adding the new bar, we have\", len(gridshell), \"bars.\")\n",
    "print(gridshell)"
   ]
  },
  {
   "cell_type": "markdown",
   "id": "dea76f56-ff48-4b06-9400-59209e02c7c8",
   "metadata": {},
   "source": [
    "If you need to delete a bar you could either delete it by its index. For example, we want to delete the 4<sup>th</sup> bar in the list, whose index is ``3``. "
   ]
  },
  {
   "cell_type": "code",
   "execution_count": 58,
   "id": "6ea834fd-691b-4869-9478-ba61560a611f",
   "metadata": {},
   "outputs": [
    {
     "name": "stdout",
     "output_type": "stream",
     "text": [
      "[1.6, 3.6, 2.5, 2.7, 2.8, 3.3, 3.1, 3.7, 1.8, 1.8, 2.6, 4.0]\n"
     ]
    }
   ],
   "source": [
    "gridshell.pop(3)\n",
    "print(gridshell)"
   ]
  },
  {
   "cell_type": "markdown",
   "id": "81f5364e-7bd3-4625-97f6-e78c1e899b13",
   "metadata": {},
   "source": [
    "The bar can also be deleted by its value. If there are duplicated values, this method only removes the first matching element."
   ]
  },
  {
   "cell_type": "code",
   "execution_count": 59,
   "id": "94cf7638-9f81-48f6-87b0-b9dc294568d3",
   "metadata": {},
   "outputs": [
    {
     "name": "stdout",
     "output_type": "stream",
     "text": [
      "[1.6, 3.6, 2.5, 2.7, 2.8, 3.3, 3.7, 1.8, 1.8, 2.6, 4.0]\n"
     ]
    }
   ],
   "source": [
    "gridshell.remove(3.1)\n",
    "print(gridshell)"
   ]
  },
  {
   "cell_type": "markdown",
   "id": "0085c0e6-9ffb-4152-89d4-5de30db3e453",
   "metadata": {},
   "source": [
    "<a id='tut1_ex'></a>\n",
    "## Exercise: Bars of 3 different Lengths \n",
    "Suppose there are three different prices for the bars: 2 Fr. for bars shorter than 2 m; 3 Fr. for bars between 2 m and 3 m; 5 Fr. for bars longer than 3 m. Could you modify your code and calculate the total cost?\n",
    "\n",
    "Hint: <br/>\n",
    "You need to classify 3 types of bars. When you run into a situation where you have several conditions, you can place as many elif conditions as necessary between the if condition and the else condition."
   ]
  },
  {
   "cell_type": "code",
   "execution_count": 60,
   "id": "6a26e91d-7bc2-487a-a37d-524e365e8d0c",
   "metadata": {},
   "outputs": [],
   "source": [
    "# Input\n",
    "# bar length of the gridshell\n",
    "gridshell = [1.6, 3.6, 2.4, 3.4, 2.7, 2.8, 3.3, 3.1, 3.7, 1.8, 1.8, 2.6]\n",
    "\n",
    "# please write down your answer here"
   ]
  },
  {
   "cell_type": "markdown",
   "id": "cf6184c6",
   "metadata": {},
   "source": [
    "---"
   ]
  },
  {
   "cell_type": "markdown",
   "id": "face9ed6",
   "metadata": {},
   "source": [
    "<a id='ex2'></a>\n",
    "# Check Voussoir Weight <br/>\n",
    "## Question A: \n",
    "You have designed a freeform masonry vault and all the stone pieces are unique. You want to assemble the vault manually. However, on the construction site, the manual handling weight limit is 25 kg. Thus, you have to find the pieces that are too heavy and export their index. \n",
    "\n",
    "| CabVoussoirle No. | Weight (kg) |\n",
    "| :---: | :---: |\n",
    "| 1 | 15|\n",
    "| 2 | 20 |\n",
    "| 3 | 54 |\n",
    "| 4 | 18 |\n",
    "| 5 | 26 |\n",
    "| 6 | 18 |\n",
    "\n",
    "</br>"
   ]
  },
  {
   "cell_type": "markdown",
   "id": "073fc34a",
   "metadata": {},
   "source": [
    "### A_1. Draw Flowchart\n",
    "\n",
    "<img src=\"https://github.com/BlockResearchGroup/CSD2_2022/blob/75a96a6722bcc51b90424947811f8bd725eb24b7/2_Geometry/Tutorial2/img/week1_ex2.png?raw=true\" style=\"margin-left:auto; margin-right:auto\"/>\n",
    "\n",
    "</br>"
   ]
  },
  {
   "cell_type": "markdown",
   "id": "c0f61380",
   "metadata": {},
   "source": [
    "### A_2. Write pseudocode"
   ]
  },
  {
   "cell_type": "raw",
   "id": "8156913b-7507-490b-9dcb-292ca544a5bb",
   "metadata": {},
   "source": [
    "# pick one voussoir in the vault\n",
    "#     if weight heavier than 25\n",
    "#         mark it as problematic voussoir\n",
    "# repeat until all the voussoirs are checked\n",
    "# output the problmatic voussoirs"
   ]
  },
  {
   "cell_type": "markdown",
   "id": "6b530be9",
   "metadata": {},
   "source": [
    "### A_3. Write your code\n",
    "Here, we will use the `enumerate` method of a list, which adds a counter when we iterate over the list.\n",
    "\n",
    "TODO: Explain the enumeration.... "
   ]
  },
  {
   "cell_type": "code",
   "execution_count": 61,
   "id": "018fc5be",
   "metadata": {},
   "outputs": [
    {
     "name": "stdout",
     "output_type": "stream",
     "text": [
      "index 0 value 15\n",
      "index 1 value 20\n",
      "index 2 value 34\n",
      "index 3 value 18\n",
      "index 4 value 26\n",
      "index 5 value 18\n"
     ]
    }
   ],
   "source": [
    "voussoir_weight_list = [15, 20, 34, 18, 26, 18]\n",
    "for i, voussoir in enumerate(voussoir_weight_list):\n",
    "    print(\"index\", i, \"value\", voussoir)"
   ]
  },
  {
   "cell_type": "markdown",
   "id": "8642d5e3",
   "metadata": {},
   "source": [
    "We can create an empty list and add the index of the problematic voussoir in the list during our iteration. In the end, we can export the list.  The `*` operator unpacks the list.  "
   ]
  },
  {
   "cell_type": "code",
   "execution_count": 62,
   "id": "f2dff2ac",
   "metadata": {},
   "outputs": [
    {
     "name": "stdout",
     "output_type": "stream",
     "text": [
      "Voussoir  2 4 are too heavy.\n"
     ]
    }
   ],
   "source": [
    "voussoir_weight_list = [15, 20, 34, 18, 26, 18]\n",
    "problem_index = []\n",
    "\n",
    "# enumerate voussoirs in the vault:\n",
    "for i, voussoir in enumerate(voussoir_weight_list):\n",
    "    # check whether the weight is bigger than 25 kg\n",
    "    if voussoir >= 25:\n",
    "        problem_index.append(i)\n",
    "\n",
    "print(\"Voussoir \", *problem_index, \"are too heavy.\")"
   ]
  },
  {
   "cell_type": "markdown",
   "id": "62e999fc-5561-4e0c-9d28-c4030548ec2f",
   "metadata": {},
   "source": [
    "## Question B: Optimize Voussoir Weight\n",
    "Now you would optimize all the voussoirs that are too heavy by cutting them into two pieces while keeping the sequence of the voussoirs. "
   ]
  },
  {
   "cell_type": "markdown",
   "id": "c5b77df8-8a86-4e45-bedc-64ceb2f2ed62",
   "metadata": {},
   "source": [
    "### B_1. Draw Flowchart\n",
    "We can continue from the last example. When the voussoir is too heavy, we need to first cut it in half, then check the weight of the half one. If the new weight is still too heavy, keep cutting. After cutting, we need to add the new cut stones back, so the sequence of the original voussoirs will not change. \n",
    "\n",
    "<img src=\"https://github.com/BlockResearchGroup/CSD2_2022/blob/75a96a6722bcc51b90424947811f8bd725eb24b7/2_Geometry/Tutorial2/img/week1_ex2_2.png?raw=true\" style=\"margin-left:auto; margin-right:auto\"/>\n",
    "\n",
    "</br>"
   ]
  },
  {
   "cell_type": "markdown",
   "id": "87f57952-6682-4195-88f5-b539639f87e5",
   "metadata": {},
   "source": [
    "### B_2. Write pseudocode"
   ]
  },
  {
   "cell_type": "raw",
   "id": "09f5e03d-153a-4e27-9416-d671f2eddb54",
   "metadata": {},
   "source": [
    "# pick one voussoir in the vault\n",
    "#     if weight heavier than 25\n",
    "#         cut it the voussoir in half until the weight is below 25\n",
    "#         replace the problematic voussoir with the new ones\n",
    "# repeat until all the voussoirs are checked\n",
    "# output the problmatic voussoirs"
   ]
  },
  {
   "cell_type": "markdown",
   "id": "8d3cd73c-05de-4884-8f74-d19150bda61e",
   "metadata": {},
   "source": [
    "### B_3. Write your code\n",
    "Here, we will use a **``while``** loop,  which keeps executing the code inside if the condition is True. The loop will stop when the condition is not fulfilled any more. For example, here we pick a voussoir that is 54 kg and the count is 1. The weight is too heavy. In the first iteration of the while loop, the voussoir will be cut in half, so the weight is divided by 2 and the count is multiplied by 2. Now, the while loop checks the new voussoir weight, which is 54 / 2 = 27. 27 is still bigger than 25, so the loop will keep running. The 27 kg voussoir is further cut in half and the count is multiplied by 2. Now the new weight is 27 / 2 = 13.5, which is smaller than 25. Thus, the while loop stops. \n",
    "Inside the while loop, we redeclare the value of the variable voussoir, variable count in every iteration. So, we can print the final value. "
   ]
  },
  {
   "cell_type": "code",
   "execution_count": 63,
   "id": "ba6f0818-d7c5-4055-8eb9-c4b0f8252372",
   "metadata": {},
   "outputs": [
    {
     "name": "stdout",
     "output_type": "stream",
     "text": [
      "Weight of the voussoir is 13.5 and the total number of voussoirs is 4\n"
     ]
    }
   ],
   "source": [
    "voussoir = 54\n",
    "count = 1\n",
    "while voussoir >= 25:\n",
    "    voussoir /= 2\n",
    "    count *= 2\n",
    "print(\"Weight of the voussoir is\", voussoir, \n",
    "      \"and the total number of voussoirs is\", count)"
   ]
  },
  {
   "cell_type": "markdown",
   "id": "0512d5e9-d230-494d-a6c0-c34023d4ab1e",
   "metadata": {},
   "source": [
    "Now let's solve the problem. To notice that, when we iterate over the list, the items of the list cannot be modified. Thus, we create a new empty list: ``new_voussoir_weights``. After checking each voussoir, we can add the original voussoir or the processed smaller ones to the list. "
   ]
  },
  {
   "cell_type": "code",
   "execution_count": 64,
   "id": "3d560407-c6be-4bd5-9ff6-d10a7b67403f",
   "metadata": {},
   "outputs": [
    {
     "name": "stdout",
     "output_type": "stream",
     "text": [
      "[15, 20, 13.5, 13.5, 13.5, 13.5, 18, 13.0, 13.0, 18]\n"
     ]
    }
   ],
   "source": [
    "# Input\n",
    "voussoir_weight_list = [15, 20, 54, 18, 26, 18]\n",
    "new_voussoir_weights = []\n",
    "\n",
    "# enumerate voussoirs in the vault:\n",
    "for i, voussoir in enumerate(voussoir_weight_list):\n",
    "    # check whether the weight is bigger than 25 kg\n",
    "    if voussoir >= 25:\n",
    "        count = 1\n",
    "        # cut the voussoir by half until it it less than 25 kg\n",
    "        while voussoir >= 25:\n",
    "            voussoir /= 2\n",
    "            count *= 2\n",
    "        new_voussoir_weights.extend([voussoir] * count)\n",
    "    else:\n",
    "        new_voussoir_weights.append(voussoir)\n",
    "\n",
    "# Output\n",
    "print(new_voussoir_weights)"
   ]
  },
  {
   "cell_type": "markdown",
   "id": "c359b491",
   "metadata": {},
   "source": [
    "### Working with Functions\n",
    "\n",
    "In computer programming, a function is a named section of a code that performs a specific task. This typically involves taking some input, manipulating the input and returning an output. Next, we will define a simple python function and use it to extract some information from our fabrication data on the gridshell. "
   ]
  },
  {
   "cell_type": "code",
   "execution_count": 67,
   "id": "be7a5bc8",
   "metadata": {},
   "outputs": [],
   "source": [
    "def visualize_bar_lengths(bars):\n",
    "    \"\"\"\n",
    "    visulalizes the list of bars\n",
    "\n",
    "    Parameters\n",
    "    ----------\n",
    "    bars: list\n",
    "        A list containing the bar length of the gridshell\n",
    "\n",
    "    Returns\n",
    "    -------\n",
    "    prints the contents of the list: print output\n",
    "       A human-readable rendition of the contents of the list\n",
    "    \n",
    "    \"\"\"\n",
    "    # print the gridshell bars list\n",
    "\n",
    "    print(bars, 'information on the fabrication data')\n",
    "    #return bars\n",
    "\n",
    "# call the function\n",
    "\n",
    "gridshell = [1.6, 3.6, 2.4, 3.4, 2.7, 2.8, 3.3, 3.1, 3.7, 1.8, 1.8, 2.6]\n",
    "voussoir_weight_list = [15, 20, 54, 18, 26, 18]\n",
    "\n",
    "visualization = visualize_bar_lengths(voussoir_weight_list)"
   ]
  },
  {
   "cell_type": "markdown",
   "id": "b3c6ee7c",
   "metadata": {},
   "source": [
    "---"
   ]
  },
  {
   "cell_type": "markdown",
   "id": "6b01f498-ab0f-471e-bdbd-750e0a918810",
   "metadata": {},
   "source": [
    "## Answer to Bar Cost Exercise:"
   ]
  },
  {
   "cell_type": "code",
   "execution_count": 66,
   "id": "adf394d4-41a6-46ae-aecb-9105fa1608e1",
   "metadata": {},
   "outputs": [
    {
     "name": "stdout",
     "output_type": "stream",
     "text": [
      "Total cost of the gridshell is 43 CHF\n"
     ]
    }
   ],
   "source": [
    "# Input\n",
    "# bar length of the gridshell\n",
    "gridshell = [1.6, 3.6, 2.4, 3.4, 2.7, 2.8, 3.3, 3.1, 3.7, 1.8, 1.8, 2.6]\n",
    "\n",
    "\n",
    "# initiate the bar amount\n",
    "long_bar_amount = 0\n",
    "mid_bar_amount = 0\n",
    "short_bar_amount = 0\n",
    "\n",
    "# price of bar\n",
    "short_bar_price = 2\n",
    "mid_bar_price = 3\n",
    "long_bar_price = 5\n",
    "\n",
    "\n",
    "# check length of the bar\n",
    "for bar in gridshell:\n",
    "    if bar < 2:\n",
    "        short_bar_amount += 1\n",
    "    elif 2 <= bar <= 3:\n",
    "        mid_bar_amount += 1\n",
    "    else:\n",
    "        long_bar_amount += 1\n",
    "\n",
    "# calculate total cost\n",
    "total_cost = long_bar_amount * long_bar_price + mid_bar_amount * mid_bar_price + short_bar_amount * short_bar_price\n",
    "\n",
    "# Output\n",
    "print(\"Total cost of the gridshell is\", total_cost, \"CHF\")"
   ]
  }
 ],
 "metadata": {
  "celltoolbar": "Slideshow",
  "kernelspec": {
   "display_name": "Python 3 (ipykernel)",
   "language": "python",
   "name": "python3"
  },
  "language_info": {
   "codemirror_mode": {
    "name": "ipython",
    "version": 3
   },
   "file_extension": ".py",
   "mimetype": "text/x-python",
   "name": "python",
   "nbconvert_exporter": "python",
   "pygments_lexer": "ipython3",
   "version": "3.9.10"
  }
 },
 "nbformat": 4,
 "nbformat_minor": 5
}
