{
 "cells": [
  {
   "cell_type": "markdown",
   "id": "666a918b",
   "metadata": {},
   "source": [
    "# Computational Structural Design II <br/> Intro to coding in Python and the Jupyter notebook\n",
    "\n",
    "### Learning Goal: \n",
    "- how to draw a flowchart\n",
    "- how to translate a flowchart to pseudocode using **comments** in Python\n",
    "- how to write basic Python script, including variable, object type, `if` condition, `print`, list, `for` loop, mathematical operators\n",
    "\n",
    "### Content:\n",
    "- [Cablenet Cost](#ex1)\n",
    "- [Check Voussoir Weight](#ex2)\n",
    "\n",
    "### Exercise:\n",
    "- "
   ]
  },
  {
   "cell_type": "markdown",
   "id": "3cea469e",
   "metadata": {},
   "source": [
    "<a id='ex1'></a>\n",
    "# Cablenet Cost <br/>\n",
    "Suppose you have designed a cable-net made from steel cables. You are going to fabricate them and estimate the total cost. There are 2 different prices for cables longer than 3 meters and shorter than 3 meters, 5 Fr and 3 Fr correspondingly. Now you need to count how many cables are above 3 meters and how many are below, to calculate the cost. \n",
    "\n",
    "| Cable No. | Length (m) |\n",
    "| :---: | :---: |\n",
    "| 1 | 1.6 |\n",
    "| 2 | 3.6 |\n",
    "| 3 | 2.4 |\n",
    "| 4 | 3.4 |\n",
    "| 5 | 2.7 |\n",
    "| 6 | 2.8 |\n",
    "| 7 | 3.3 |\n",
    "| 8 | 3.1 |\n",
    "| 9 | 3.7 |\n",
    "| 10 | 1.8 |\n",
    "| 11 | 1.8 | \n",
    "| 12 | 2.6 | "
   ]
  },
  {
   "cell_type": "markdown",
   "id": "c1a6b01e",
   "metadata": {},
   "source": [
    "## Solution Part 1: check the length of one cable\n",
    "Let's first break this problem down into small steps. Firstly, you could pick one cable and check whether its length is larger than 3 m. Secondly, you could repeat the first step to check all the cables, and then multiply the number of cables with the cost."
   ]
  },
  {
   "cell_type": "markdown",
   "id": "7dc27f27",
   "metadata": {},
   "source": [
    "### 1. Draw Flowchart\n",
    "Firstly, we can draw a [**flowchart**](https://app.gitbook.com/o/-M57B1lKy7REE1wfeNSt/s/-M730QpQnbAMvz44bqhc/learn-to-code/i.-my-first-python-script/cheat-sheet#flowchart). \n",
    "\n",
    "![flowchart](img/week1_ex1.png)\n",
    "\n"
   ]
  },
  {
   "cell_type": "markdown",
   "id": "f070d8fa",
   "metadata": {},
   "source": [
    "### 2. Write pseudocode\n",
    "Firstly, we could convert our flowchart to [**pseudocode**](https://en.wikipedia.org/wiki/Pseudocode#:~:text=In%20computer%20science%2C%20pseudocode%20is,reading%20rather%20than%20machine%20reading.), a plain-English version of the flowchart. \n",
    "\n",
    "The pseudocode are written in Python [**comments**](https://www.w3schools.com/python/python_comments.asp), which starts with a `#` and will not be excuated when we run the code. Comments help us to organize the logic when we start to write code, as well as in the future to keep track of and to understand the code. You can type `#` in front of the line you want to comment out. If you want to comment several lines, you can select the lines that need to be commented out, and press `ctrl + /`. "
   ]
  },
  {
   "cell_type": "code",
   "execution_count": 1,
   "id": "ac764efb",
   "metadata": {},
   "outputs": [],
   "source": [
    "# pick one cable\n",
    "# if length larger than 3?\n",
    "    # long cable \n",
    "# else\n",
    "#     short cable"
   ]
  },
  {
   "cell_type": "markdown",
   "id": "c4ceaafa",
   "metadata": {},
   "source": [
    "### 3. Write your code\n",
    "We could turn the pseudocode line by line into code. "
   ]
  },
  {
   "cell_type": "code",
   "execution_count": 2,
   "id": "ac574e72",
   "metadata": {},
   "outputs": [
    {
     "name": "stdout",
     "output_type": "stream",
     "text": [
      "This is a short cable.\n"
     ]
    }
   ],
   "source": [
    "# pick one cable\n",
    "cable_length = 1.6\n",
    "# if length bigger than 3?\n",
    "if cable_length > 3:\n",
    "    # long cable \n",
    "    print(\"This is a long cable.\")\n",
    "# else\n",
    "else:\n",
    "    # short cable\n",
    "    print(\"This is a short cable.\")"
   ]
  },
  {
   "cell_type": "code",
   "execution_count": null,
   "id": "2902e48a",
   "metadata": {},
   "outputs": [],
   "source": []
  },
  {
   "cell_type": "markdown",
   "id": "face9ed6",
   "metadata": {},
   "source": [
    "<a id='ex2'></a>\n",
    "# Check Voussoir Weight <br/>\n",
    "\n",
    "You have designed a freeform masonry vault and all the stone pieces are unique. You want to assemble the vault manually. However, on the construction site, the manual handling weight limit is 25 kg. Thus, you have to find the pieces that are too heavy and export their index. \n",
    "\n",
    "| CabVoussoirle No. | Weight (kg) |\n",
    "| :---: | :---: |\n",
    "| 1 | 15|\n",
    "| 2 | 20 |\n",
    "| 3 | 54 |\n",
    "| 4 | 18 |\n",
    "| 5 | 26 |\n",
    "| 6 | 18 |"
   ]
  },
  {
   "cell_type": "markdown",
   "id": "073fc34a",
   "metadata": {},
   "source": [
    "### 1. Draw Flowchart\n",
    "![flowchart](img/week1_ex2.png)"
   ]
  },
  {
   "cell_type": "markdown",
   "id": "c0f61380",
   "metadata": {},
   "source": [
    "### 2. Write pseudocode"
   ]
  },
  {
   "cell_type": "code",
   "execution_count": null,
   "id": "9ef65c5e",
   "metadata": {},
   "outputs": [],
   "source": [
    "# pick one voussoir in the vault\n",
    "#     if weight heavier than 25\n",
    "#         mark it as problematic voussoir\n",
    "# repeat until all the voussoirs are checked\n",
    "# output the problmatic voussoirs"
   ]
  },
  {
   "cell_type": "markdown",
   "id": "6b530be9",
   "metadata": {},
   "source": [
    "### 3. Write your code\n",
    "Here, we will use the `enumerate` method of a list, which adds a counter when we iterate over the list."
   ]
  },
  {
   "cell_type": "code",
   "execution_count": null,
   "id": "018fc5be",
   "metadata": {},
   "outputs": [],
   "source": [
    "voussoir_weight_list = [15, 20, 34, 18, 26, 18]\n",
    "for i, voussoir in enumerate(voussoir_weight_list):\n",
    "    print(i, voussoir)"
   ]
  },
  {
   "cell_type": "markdown",
   "id": "8642d5e3",
   "metadata": {},
   "source": [
    "We can create an empty list and add the index of the problematic voussoir in the list during our iteration. In the end, we can export the list.  The `*` operator unpacks the list. "
   ]
  },
  {
   "cell_type": "code",
   "execution_count": 1,
   "id": "f2dff2ac",
   "metadata": {},
   "outputs": [
    {
     "name": "stdout",
     "output_type": "stream",
     "text": [
      "Voussoir  2 4 are too heavy.\n"
     ]
    }
   ],
   "source": [
    "voussoir_weight_list = [15, 20, 34, 18, 26, 18]\n",
    "problem_index = []\n",
    "\n",
    "# enumerate voussoirs in the vault:\n",
    "for i, voussoir in enumerate(voussoir_weight_list):\n",
    "    # check whether the weight is bigger than 25 kg\n",
    "    if voussoir >= 25:\n",
    "        problem_index.append(i)\n",
    "\n",
    "print(\"Voussoir \", *problem_index, \"are too heavy.\")"
   ]
  },
  {
   "cell_type": "code",
   "execution_count": null,
   "id": "0d0eac09",
   "metadata": {},
   "outputs": [],
   "source": []
  },
  {
   "cell_type": "markdown",
   "id": "65212350",
   "metadata": {},
   "source": [
    "<a id='ex3'></a>\n",
    "# Exercise 1: Cables of 3 different length type\n",
    "Suppose there are three different prices for the cables: 2 Fr. for cables shorter than 2 m; 3 Fr. for cables between 2 m and 3 m; 5 Fr. for cables longer than 3 m. Could you modify your code and calculate the total cost?\n",
    "\n",
    "Hint: <br/>\n",
    "You need to classify 3 types of cables. When you run into a situation where you have several conditions, you can place as many elif conditions as necessary between the if condition and the else condition."
   ]
  },
  {
   "cell_type": "code",
   "execution_count": 2,
   "id": "a2256ec4",
   "metadata": {},
   "outputs": [],
   "source": [
    "# please write down your answer here"
   ]
  },
  {
   "cell_type": "markdown",
   "id": "acbf1afb",
   "metadata": {},
   "source": [
    "<a id='ex4'></a>\n",
    "# Exercise 2: Optimize Voussoir Weight\n",
    "Now you would optimize all the voussoirs that are too heavy by cutting them into two pieces while keeping the sequence of the voussoirs. "
   ]
  },
  {
   "cell_type": "code",
   "execution_count": null,
   "id": "ff909b6e",
   "metadata": {},
   "outputs": [],
   "source": [
    "# please write down your answer here"
   ]
  },
  {
   "cell_type": "code",
   "execution_count": null,
   "id": "ebcbf485",
   "metadata": {},
   "outputs": [],
   "source": []
  }
 ],
 "metadata": {
  "kernelspec": {
   "display_name": "Python 3 (ipykernel)",
   "language": "python",
   "name": "python3"
  },
  "language_info": {
   "codemirror_mode": {
    "name": "ipython",
    "version": 3
   },
   "file_extension": ".py",
   "mimetype": "text/x-python",
   "name": "python",
   "nbconvert_exporter": "python",
   "pygments_lexer": "ipython3",
   "version": "3.8.12"
  }
 },
 "nbformat": 4,
 "nbformat_minor": 5
}
